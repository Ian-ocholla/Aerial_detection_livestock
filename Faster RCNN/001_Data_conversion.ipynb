{
 "cells": [
  {
   "cell_type": "code",
   "execution_count": 15,
   "id": "c1c34286-13a1-4be2-909c-7b3df57ed156",
   "metadata": {},
   "outputs": [
    {
     "name": "stdout",
     "output_type": "stream",
     "text": [
      "/projappl/project_2006327/Detectron/datasets/2024\n"
     ]
    }
   ],
   "source": [
    "%cd /projappl/project_2006327/Detectron/datasets/2024"
   ]
  },
  {
   "cell_type": "code",
   "execution_count": 16,
   "id": "3aa7f9ea-dc37-440a-9956-236e506eced8",
   "metadata": {},
   "outputs": [],
   "source": [
    "import os\n",
    "import shutil\n",
    "from glob import glob\n",
    "from tqdm import tqdm\n",
    "from pylabel import importer"
   ]
  },
  {
   "cell_type": "markdown",
   "id": "2c4d8ee8-8948-409a-bf50-fd40caac3218",
   "metadata": {},
   "source": [
    "### Train dataset"
   ]
  },
  {
   "cell_type": "code",
   "execution_count": 17,
   "id": "6a0f84d7-bbb5-4088-ba99-b92a47035f7d",
   "metadata": {},
   "outputs": [
    {
     "name": "stderr",
     "output_type": "stream",
     "text": [
      "100%|██████████| 6417/6417 [03:34<00:00, 29.90it/s] \n",
      "100%|██████████| 6417/6417 [02:32<00:00, 42.15it/s] \n"
     ]
    }
   ],
   "source": [
    "annotations_path = \"yolo_data/labels/train\"\n",
    "images_path = \"yolo_data/images/train\"\n",
    "coco_dir = 'coco_data/train'\n",
    "os.makedirs(coco_dir, exist_ok=True)\n",
    "\n",
    "txt_files = glob(os.path.join(annotations_path, \"*.txt\"))\n",
    "img_files = glob(os.path.join(images_path, \"*.jpg\"))\n",
    "# copy annotations\n",
    "for f in tqdm(txt_files):\n",
    "  shutil.copy(f, coco_dir)\n",
    "# copy images\n",
    "for f in tqdm(img_files):\n",
    "  shutil.copy(f, coco_dir)"
   ]
  },
  {
   "cell_type": "code",
   "execution_count": 18,
   "id": "1c9aa725-dbd0-4124-9d6a-87ac8703c124",
   "metadata": {},
   "outputs": [
    {
     "name": "stderr",
     "output_type": "stream",
     "text": [
      "Importing YOLO files...: 100%|██████████| 12834/12834 [02:45<00:00, 77.42it/s] \n"
     ]
    }
   ],
   "source": [
    "from pylabel import importer\n",
    "# get the classes\n",
    "with open(\"yolo_data/classes.txt\", \"r\") as f:\n",
    "  classes = f.read().split(\"\\n\")\n",
    "# load dataset\n",
    "dataset = importer.ImportYoloV5(path=coco_dir, cat_names=classes, name=\"C\")"
   ]
  },
  {
   "cell_type": "code",
   "execution_count": 19,
   "id": "de39c073-4c21-4bd5-808a-c6c0e1fce9b8",
   "metadata": {},
   "outputs": [
    {
     "name": "stderr",
     "output_type": "stream",
     "text": [
      "Exporting to COCO file...: 100%|██████████| 59962/59962 [00:56<00:00, 1054.41it/s]\n"
     ]
    },
    {
     "data": {
      "text/plain": [
       "['coco_data/train/_annotations.coco.json']"
      ]
     },
     "execution_count": 19,
     "metadata": {},
     "output_type": "execute_result"
    }
   ],
   "source": [
    "# export\n",
    "coco_file = os.path.join(coco_dir, \"_annotations.coco.json\")\n",
    "# Detectron requires starting index from 1\n",
    "dataset.export.ExportToCoco(coco_file, cat_id_index=1)"
   ]
  },
  {
   "cell_type": "code",
   "execution_count": 20,
   "id": "41fd352a-d5c3-4020-a9a6-a9d08e761b28",
   "metadata": {},
   "outputs": [],
   "source": [
    "# now delete yolo annotations in coco set\n",
    "for f in txt_files:\n",
    "  os.remove(f.replace(annotations_path, coco_dir))"
   ]
  },
  {
   "cell_type": "markdown",
   "id": "69722222-3df2-477b-ad04-d1f73d9c1b12",
   "metadata": {},
   "source": [
    "### Test dataset"
   ]
  },
  {
   "cell_type": "code",
   "execution_count": 21,
   "id": "a9af4bc6-acb5-4036-9f8d-d89c7b0e7b43",
   "metadata": {},
   "outputs": [
    {
     "name": "stderr",
     "output_type": "stream",
     "text": [
      "100%|██████████| 277/277 [00:08<00:00, 33.80it/s]\n",
      "100%|██████████| 277/277 [00:11<00:00, 24.49it/s]\n"
     ]
    }
   ],
   "source": [
    "annotations_path = \"yolo_data/labels/test\"\n",
    "images_path = \"yolo_data/images/test\"\n",
    "coco_dir = 'coco_data/test'\n",
    "os.makedirs(coco_dir, exist_ok=True)\n",
    "\n",
    "txt_files = glob(os.path.join(annotations_path, \"*.txt\"))\n",
    "img_files = glob(os.path.join(images_path, \"*.jpg\"))\n",
    "# copy annotations\n",
    "for f in tqdm(txt_files):\n",
    "  shutil.copy(f, coco_dir)\n",
    "# copy images\n",
    "for f in tqdm(img_files):\n",
    "  shutil.copy(f, coco_dir)"
   ]
  },
  {
   "cell_type": "code",
   "execution_count": 22,
   "id": "1cbc10d5-84a6-42e5-81a0-1bbefcf6b9a4",
   "metadata": {},
   "outputs": [
    {
     "name": "stderr",
     "output_type": "stream",
     "text": [
      "Importing YOLO files...: 100%|██████████| 554/554 [00:12<00:00, 45.58it/s] \n"
     ]
    }
   ],
   "source": [
    "from pylabel import importer\n",
    "# get the classes\n",
    "with open(\"yolo_data/classes.txt\", \"r\") as f:\n",
    "  classes = f.read().split(\"\\n\")\n",
    "# load dataset\n",
    "dataset = importer.ImportYoloV5(path=coco_dir, cat_names=classes, name=\"C\")"
   ]
  },
  {
   "cell_type": "code",
   "execution_count": 23,
   "id": "3e9e4c81-1726-4012-a1c6-2bf04cd474a0",
   "metadata": {},
   "outputs": [
    {
     "name": "stderr",
     "output_type": "stream",
     "text": [
      "Exporting to COCO file...: 100%|██████████| 2642/2642 [00:00<00:00, 3376.14it/s]\n"
     ]
    },
    {
     "data": {
      "text/plain": [
       "['coco_data/test/_annotations.coco.json']"
      ]
     },
     "execution_count": 23,
     "metadata": {},
     "output_type": "execute_result"
    }
   ],
   "source": [
    "# export\n",
    "coco_file = os.path.join(coco_dir, \"_annotations.coco.json\")\n",
    "# Detectron requires starting index from 1\n",
    "dataset.export.ExportToCoco(coco_file, cat_id_index=1)"
   ]
  },
  {
   "cell_type": "code",
   "execution_count": 24,
   "id": "31e20dae-3bc8-4872-a9d5-6c30267bfebb",
   "metadata": {},
   "outputs": [],
   "source": [
    "# now delete yolo annotations in coco set\n",
    "for f in txt_files:\n",
    "  os.remove(f.replace(annotations_path, coco_dir))"
   ]
  },
  {
   "cell_type": "markdown",
   "id": "1789ff6c-5f9a-4710-9c17-304451526e3c",
   "metadata": {},
   "source": [
    "### Validation dataset"
   ]
  },
  {
   "cell_type": "code",
   "execution_count": 25,
   "id": "b1f0c391-2b3a-4270-ace7-4d0f6924ec4f",
   "metadata": {},
   "outputs": [
    {
     "name": "stderr",
     "output_type": "stream",
     "text": [
      "100%|██████████| 1604/1604 [00:43<00:00, 37.01it/s]\n",
      "100%|██████████| 1604/1604 [00:43<00:00, 36.74it/s] \n"
     ]
    }
   ],
   "source": [
    "annotations_path = \"yolo_data/labels/val\"\n",
    "images_path = \"yolo_data/images/val\"\n",
    "coco_dir = 'coco_data/val'\n",
    "os.makedirs(coco_dir, exist_ok=True)\n",
    "\n",
    "txt_files = glob(os.path.join(annotations_path, \"*.txt\"))\n",
    "img_files = glob(os.path.join(images_path, \"*.jpg\"))\n",
    "# copy annotations\n",
    "for f in tqdm(txt_files):\n",
    "  shutil.copy(f, coco_dir)\n",
    "# copy images\n",
    "for f in tqdm(img_files):\n",
    "  shutil.copy(f, coco_dir)"
   ]
  },
  {
   "cell_type": "code",
   "execution_count": 26,
   "id": "04da951d-ddeb-44d0-a3b1-e561a7826bfa",
   "metadata": {},
   "outputs": [
    {
     "name": "stderr",
     "output_type": "stream",
     "text": [
      "Importing YOLO files...: 100%|██████████| 3208/3208 [00:50<00:00, 63.26it/s] \n"
     ]
    }
   ],
   "source": [
    "from pylabel import importer\n",
    "# get the classes\n",
    "with open(\"yolo_data/classes.txt\", \"r\") as f:\n",
    "  classes = f.read().split(\"\\n\")\n",
    "# load dataset\n",
    "dataset = importer.ImportYoloV5(path=coco_dir, cat_names=classes, name=\"C\")"
   ]
  },
  {
   "cell_type": "code",
   "execution_count": 27,
   "id": "be734b1b-85a1-480b-8f35-19f31b2ed2ad",
   "metadata": {},
   "outputs": [
    {
     "name": "stderr",
     "output_type": "stream",
     "text": [
      "Exporting to COCO file...: 100%|██████████| 15091/15091 [00:07<00:00, 2051.93it/s]\n"
     ]
    },
    {
     "data": {
      "text/plain": [
       "['coco_data/val/_annotations.coco.json']"
      ]
     },
     "execution_count": 27,
     "metadata": {},
     "output_type": "execute_result"
    }
   ],
   "source": [
    "# export\n",
    "coco_file = os.path.join(coco_dir, \"_annotations.coco.json\")\n",
    "# Detectron requires starting index from 1\n",
    "dataset.export.ExportToCoco(coco_file, cat_id_index=1)"
   ]
  },
  {
   "cell_type": "code",
   "execution_count": 28,
   "id": "c7767cf3-4387-4d26-b4c0-2f9818ae98dd",
   "metadata": {},
   "outputs": [],
   "source": [
    "# now delete yolo annotations in coco set\n",
    "for f in txt_files:\n",
    "  os.remove(f.replace(annotations_path, coco_dir))"
   ]
  },
  {
   "cell_type": "code",
   "execution_count": null,
   "id": "43113d41-6b14-4d10-bba0-d50379ccffba",
   "metadata": {},
   "outputs": [],
   "source": []
  }
 ],
 "metadata": {
  "kernelspec": {
   "display_name": "Python 3 (ipykernel)",
   "language": "python",
   "name": "python3"
  },
  "language_info": {
   "codemirror_mode": {
    "name": "ipython",
    "version": 3
   },
   "file_extension": ".py",
   "mimetype": "text/x-python",
   "name": "python",
   "nbconvert_exporter": "python",
   "pygments_lexer": "ipython3",
   "version": "3.10.0"
  }
 },
 "nbformat": 4,
 "nbformat_minor": 5
}
