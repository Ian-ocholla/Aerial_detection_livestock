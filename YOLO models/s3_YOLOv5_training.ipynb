{
 "cells": [
  {
   "cell_type": "markdown",
   "id": "731ef507-f453-4597-921d-6c54f406f73f",
   "metadata": {},
   "source": [
    "## Data preparation\n",
    "\n",
    "THWS used for inference"
   ]
  },
  {
   "cell_type": "code",
   "execution_count": 1,
   "id": "ba48799e",
   "metadata": {},
   "outputs": [
    {
     "name": "stdout",
     "output_type": "stream",
     "text": [
      "/scratch/project_2006327/YOLOv5\n"
     ]
    }
   ],
   "source": [
    "#set the working folder \n",
    "%cd /scratch/project_2006327/YOLOv5"
   ]
  },
  {
   "cell_type": "code",
   "execution_count": null,
   "id": "8792f625-cb30-4b38-8420-954e2bd91cd6",
   "metadata": {},
   "outputs": [],
   "source": [
    "#count the number of files in the training and validation set\n",
    "import os\n",
    "\n",
    "def count_files_in_folder(folder_path):\n",
    "    # Get a list of all filenames in the folder\n",
    "    filenames = os.listdir(folder_path)\n",
    "\n",
    "    # Count the number of files in the folder\n",
    "    num_files = len(filenames)\n",
    "\n",
    "    return num_files\n",
    "\n",
    "if __name__ == \"__main__\":\n",
    "    # Replace 'folder_path' with the path to the folder you want to count files in\n",
    "    folder_path = 'datasets/Combined_training_02/labels/train'\n",
    "\n",
    "    num_files = count_files_in_folder(folder_path)\n",
    "    print(f\"Number of files in the folder: {num_files}\")"
   ]
  },
  {
   "cell_type": "code",
   "execution_count": null,
   "id": "295a84d6-54b6-44c4-a506-4fc4e9844420",
   "metadata": {},
   "outputs": [],
   "source": [
    "#count the number of labelled targets used in the training\n",
    "import os\n",
    "\n",
    "# Replace \"/path/to/your/dataset\" with the path to your dataset directory\n",
    "dataset_dir = \"datasets/Combined_training_02/labels/train\"\n",
    "\n",
    "# Initialize a variable to store the total count\n",
    "total_labeled_targets_count = 0\n",
    "\n",
    "# Iterate through all files in the dataset directory\n",
    "for filename in os.listdir(dataset_dir):\n",
    "    if filename.endswith(\".txt\"):  # Assuming annotation files have a .txt extension\n",
    "        annotation_file = os.path.join(dataset_dir, filename)\n",
    "        \n",
    "        with open(annotation_file, \"r\") as f:\n",
    "            labeled_targets_count = len(f.readlines())\n",
    "        \n",
    "        total_labeled_targets_count += labeled_targets_count\n",
    "\n",
    "print(f\"Total number of labeled targets across all images: {total_labeled_targets_count}\")"
   ]
  },
  {
   "cell_type": "code",
   "execution_count": 2,
   "id": "91759aa8",
   "metadata": {},
   "outputs": [
    {
     "name": "stdout",
     "output_type": "stream",
     "text": [
      "/scratch/project_2006327/YOLOv5\n"
     ]
    }
   ],
   "source": [
    "#confirm the working directory\n",
    "!pwd"
   ]
  },
  {
   "cell_type": "code",
   "execution_count": 3,
   "id": "d528458e",
   "metadata": {},
   "outputs": [
    {
     "name": "stdout",
     "output_type": "stream",
     "text": [
      "/scratch/project_2006327/YOLOv5/yolov5\n"
     ]
    }
   ],
   "source": [
    "# specifcy the YOLOv5 folder\n",
    "%cd yolov5"
   ]
  },
  {
   "cell_type": "code",
   "execution_count": 4,
   "id": "46ec566b",
   "metadata": {
    "scrolled": true
   },
   "outputs": [],
   "source": [
    "#!pip install -r requirements.txt"
   ]
  },
  {
   "cell_type": "code",
   "execution_count": 5,
   "id": "aec21600-b0fd-4e95-9107-95c1edd1dc3d",
   "metadata": {},
   "outputs": [
    {
     "name": "stderr",
     "output_type": "stream",
     "text": [
      "YOLOv5 🚀 2023-9-23 Python-3.10.0 torch-2.0.1+cu117 CUDA:0 (Tesla V100-SXM2-32GB, 32501MiB)\n"
     ]
    },
    {
     "name": "stdout",
     "output_type": "stream",
     "text": [
      "Setup complete ✅ (40 CPUs, 376.1 GB RAM, 0.0/0.0 GB disk)\n"
     ]
    }
   ],
   "source": [
    "# YOLOv5 implemented using pytorch\n",
    "import torch \n",
    "import os\n",
    "from random import choice\n",
    "import shutil\n",
    "import utils\n",
    "#this is to render predictions\n",
    "from IPython.display import Image \n",
    "display = utils.notebook_init()  # checks"
   ]
  },
  {
   "cell_type": "code",
   "execution_count": 6,
   "id": "335f2d56-67d7-499c-80ca-5966b1abf344",
   "metadata": {},
   "outputs": [],
   "source": [
    "import os\n",
    "os.environ[\"GIT_PYTHON_REFRESH\"] = \"quiet\"\n",
    "import git\n",
    "#export GIT_PYTHON_REFRESH=quiet"
   ]
  },
  {
   "cell_type": "markdown",
   "id": "e9abbf74-dcc0-436c-99f0-ac9a46f7fe60",
   "metadata": {},
   "source": [
    "Set the directory pathways"
   ]
  },
  {
   "cell_type": "markdown",
   "id": "c0e6a11d-0f5b-4aba-a039-408c3dc384c3",
   "metadata": {
    "tags": []
   },
   "source": [
    "## YOLOv5_s"
   ]
  },
  {
   "cell_type": "markdown",
   "id": "49a5532e-e274-431c-86aa-c69cac48f33f",
   "metadata": {
    "tags": []
   },
   "source": [
    "### Validation"
   ]
  },
  {
   "cell_type": "code",
   "execution_count": 6,
   "id": "e0ccc9e2",
   "metadata": {},
   "outputs": [
    {
     "name": "stdout",
     "output_type": "stream",
     "text": [
      "\u001b[34m\u001b[1mval: \u001b[0mdata=/scratch/project_2006327/YOLOv5/yolov5/data/s3_v5_train.yaml, weights=['runs/train/2024/s3/yolov5_s/weights/best.pt'], batch_size=32, imgsz=640, conf_thres=0.001, iou_thres=0.5, max_det=300, task=val, device=, workers=8, single_cls=False, augment=False, verbose=False, save_txt=False, save_hybrid=False, save_conf=False, save_json=False, project=runs/val, name=exp, exist_ok=False, half=False, dnn=False\n",
      "WARNING ⚠️ invalid check_version(5.9.5, ) requested, please check values.\n",
      "YOLOv5 🚀 2023-9-23 Python-3.10.0 torch-2.0.1+cu117 CUDA:0 (Tesla V100-SXM2-32GB, 32501MiB)\n",
      "\n",
      "Fusing layers... \n",
      "Model summary: 157 layers, 7023610 parameters, 0 gradients, 15.8 GFLOPs\n",
      "\u001b[34m\u001b[1mval: \u001b[0mScanning /scratch/project_2006327/YOLOv5/datasets/2024_datasets/scenario_3/\u001b[0m\n",
      "                 Class     Images  Instances          P          R      mAP50   \n",
      "                   all       1604      15091      0.917      0.887      0.934      0.457\n",
      "Speed: 0.2ms pre-process, 2.2ms inference, 1.0ms NMS per image at shape (32, 3, 640, 640)\n",
      "Results saved to \u001b[1mruns/val/exp42\u001b[0m\n"
     ]
    }
   ],
   "source": [
    "!python val.py --data s3_v5_train.yaml --weights runs/train/2024/s3/yolov5_s/weights/best.pt --iou 0.5 --img 640 "
   ]
  },
  {
   "cell_type": "markdown",
   "id": "bd84e8c2-a64d-4aa9-a388-60d2046bf7e9",
   "metadata": {},
   "source": [
    "Plot the F1-score"
   ]
  },
  {
   "cell_type": "code",
   "execution_count": null,
   "id": "ba6bfd60-eb13-47d4-bcbc-686558177b3b",
   "metadata": {},
   "outputs": [],
   "source": [
    "Image(filename = 'runs/val/exp42/F1_curve.png', width =640)"
   ]
  },
  {
   "cell_type": "markdown",
   "id": "705c0512-676c-4954-965c-fadc20126dc7",
   "metadata": {},
   "source": [
    "### Inference"
   ]
  },
  {
   "cell_type": "code",
   "execution_count": 7,
   "id": "80e9d6fd",
   "metadata": {},
   "outputs": [
    {
     "name": "stdout",
     "output_type": "stream",
     "text": [
      "\u001b[34m\u001b[1mval: \u001b[0mdata=/scratch/project_2006327/YOLOv5/yolov5/data/s3_v5_test.yaml, weights=['runs/train/2024/s3/yolov5_s/weights/best.pt'], batch_size=32, imgsz=640, conf_thres=0.25, iou_thres=0.5, max_det=300, task=test, device=, workers=8, single_cls=False, augment=False, verbose=False, save_txt=False, save_hybrid=False, save_conf=False, save_json=False, project=Inference/2024/scenario_3/metrics, name=yolov5_s, exist_ok=False, half=False, dnn=False\n",
      "WARNING ⚠️ invalid check_version(5.9.5, ) requested, please check values.\n",
      "WARNING ⚠️ confidence threshold 0.25 > 0.001 produces invalid results\n",
      "YOLOv5 🚀 2023-9-23 Python-3.10.0 torch-2.0.1+cu117 CUDA:0 (Tesla V100-SXM2-32GB, 32501MiB)\n",
      "\n",
      "Fusing layers... \n",
      "Model summary: 157 layers, 7023610 parameters, 0 gradients, 15.8 GFLOPs\n",
      "\u001b[34m\u001b[1mtest: \u001b[0mScanning /scratch/project_2006327/YOLOv5/datasets/2024_datasets/scenario_3\u001b[0m\n",
      "\u001b[34m\u001b[1mtest: \u001b[0mNew cache created: /scratch/project_2006327/YOLOv5/datasets/2024_datasets/scenario_3/test_data/labels/test.cache\n",
      "                 Class     Images  Instances          P          R      mAP50   \n",
      "                   all        277       2642      0.909      0.819      0.886       0.39\n",
      "Speed: 0.1ms pre-process, 2.9ms inference, 0.8ms NMS per image at shape (32, 3, 640, 640)\n",
      "Results saved to \u001b[1mInference/2024/scenario_3/metrics/yolov5_s\u001b[0m\n"
     ]
    }
   ],
   "source": [
    "!python val.py --data s3_v5_test.yaml --weights runs/train/2024/s3/yolov5_s/weights/best.pt --img 640 --conf-thres 0.25 --iou 0.5 --task test --project Inference/2024/scenario_3/metrics --name yolov5_s"
   ]
  },
  {
   "cell_type": "code",
   "execution_count": 7,
   "id": "28ca0d33",
   "metadata": {
    "scrolled": true
   },
   "outputs": [
    {
     "name": "stdout",
     "output_type": "stream",
     "text": [
      "\u001b[34m\u001b[1mdetect: \u001b[0mweights=['runs/train/2024/s3/yolov5_s/weights/best.pt'], source=/scratch/project_2006327/YOLOv5/datasets/2024_datasets/scenario_3/test_data/images/test, data=data/coco128.yaml, imgsz=[640, 640], conf_thres=0.25, iou_thres=0.5, max_det=1000, device=, view_img=False, save_txt=False, save_csv=False, save_conf=False, save_crop=False, nosave=False, classes=None, agnostic_nms=False, augment=False, visualize=False, update=False, project=Inference/2024/scenario_3/counts, name=yolov5_s, exist_ok=False, line_thickness=2, hide_labels=True, hide_conf=True, half=False, dnn=False, vid_stride=1\n",
      "WARNING ⚠️ invalid check_version(5.9.5, ) requested, please check values.\n",
      "YOLOv5 🚀 2023-9-23 Python-3.10.0 torch-2.0.1+cu117 CUDA:0 (Tesla V100-SXM2-32GB, 32501MiB)\n",
      "\n",
      "Fusing layers... \n",
      "Model summary: 157 layers, 7023610 parameters, 0 gradients, 15.8 GFLOPs\n",
      "image 1/277 /scratch/project_2006327/YOLOv5/datasets/2024_datasets/scenario_3/test_data/images/test/Choke_113_4451.jpg: 640x640 1 C, 17.3ms\n",
      "image 2/277 /scratch/project_2006327/YOLOv5/datasets/2024_datasets/scenario_3/test_data/images/test/Choke_113_4452.jpg: 640x640 18 Cs, 9.5ms\n",
      "image 3/277 /scratch/project_2006327/YOLOv5/datasets/2024_datasets/scenario_3/test_data/images/test/Choke_113_4453.jpg: 640x640 16 Cs, 17.2ms\n",
      "image 4/277 /scratch/project_2006327/YOLOv5/datasets/2024_datasets/scenario_3/test_data/images/test/Choke_113_4454.jpg: 640x640 15 Cs, 7.9ms\n",
      "image 5/277 /scratch/project_2006327/YOLOv5/datasets/2024_datasets/scenario_3/test_data/images/test/Choke_113_4552.jpg: 640x640 1 C, 4.2ms\n",
      "image 6/277 /scratch/project_2006327/YOLOv5/datasets/2024_datasets/scenario_3/test_data/images/test/Choke_113_4553.jpg: 640x640 12 Cs, 4.6ms\n",
      "image 7/277 /scratch/project_2006327/YOLOv5/datasets/2024_datasets/scenario_3/test_data/images/test/Choke_113_4554.jpg: 640x640 44 Cs, 8.2ms\n",
      "image 8/277 /scratch/project_2006327/YOLOv5/datasets/2024_datasets/scenario_3/test_data/images/test/Choke_113_4555.jpg: 640x640 19 Cs, 26.0ms\n",
      "image 9/277 /scratch/project_2006327/YOLOv5/datasets/2024_datasets/scenario_3/test_data/images/test/Choke_113_4654.jpg: 640x640 11 Cs, 45.9ms\n",
      "image 10/277 /scratch/project_2006327/YOLOv5/datasets/2024_datasets/scenario_3/test_data/images/test/Choke_113_4655.jpg: 640x640 10 Cs, 4.6ms\n",
      "image 11/277 /scratch/project_2006327/YOLOv5/datasets/2024_datasets/scenario_3/test_data/images/test/Choke_113_4856.jpg: 640x640 12 Cs, 19.6ms\n",
      "image 12/277 /scratch/project_2006327/YOLOv5/datasets/2024_datasets/scenario_3/test_data/images/test/Choke_113_4857.jpg: 640x640 10 Cs, 23.1ms\n",
      "image 13/277 /scratch/project_2006327/YOLOv5/datasets/2024_datasets/scenario_3/test_data/images/test/Choke_113_4956.jpg: 640x640 8 Cs, 18.7ms\n",
      "image 14/277 /scratch/project_2006327/YOLOv5/datasets/2024_datasets/scenario_3/test_data/images/test/Choke_113_4957.jpg: 640x640 31 Cs, 4.5ms\n",
      "image 15/277 /scratch/project_2006327/YOLOv5/datasets/2024_datasets/scenario_3/test_data/images/test/Choke_113_4958.jpg: 640x640 14 Cs, 28.7ms\n",
      "image 16/277 /scratch/project_2006327/YOLOv5/datasets/2024_datasets/scenario_3/test_data/images/test/Choke_113_5056.jpg: 640x640 6 Cs, 10.9ms\n",
      "image 17/277 /scratch/project_2006327/YOLOv5/datasets/2024_datasets/scenario_3/test_data/images/test/Choke_113_5057.jpg: 640x640 25 Cs, 20.6ms\n",
      "image 18/277 /scratch/project_2006327/YOLOv5/datasets/2024_datasets/scenario_3/test_data/images/test/Choke_113_5058.jpg: 640x640 20 Cs, 4.7ms\n",
      "image 19/277 /scratch/project_2006327/YOLOv5/datasets/2024_datasets/scenario_3/test_data/images/test/Choke_113_5157.jpg: 640x640 1 C, 4.6ms\n",
      "image 20/277 /scratch/project_2006327/YOLOv5/datasets/2024_datasets/scenario_3/test_data/images/test/Choke_113_5158.jpg: 640x640 12 Cs, 4.6ms\n",
      "image 21/277 /scratch/project_2006327/YOLOv5/datasets/2024_datasets/scenario_3/test_data/images/test/Choke_113_5159.jpg: 640x640 6 Cs, 22.6ms\n",
      "image 22/277 /scratch/project_2006327/YOLOv5/datasets/2024_datasets/scenario_3/test_data/images/test/Choke_123_1525.jpg: 640x640 9 Cs, 18.0ms\n",
      "image 23/277 /scratch/project_2006327/YOLOv5/datasets/2024_datasets/scenario_3/test_data/images/test/Choke_123_1526.jpg: 640x640 4 Cs, 4.3ms\n",
      "image 24/277 /scratch/project_2006327/YOLOv5/datasets/2024_datasets/scenario_3/test_data/images/test/Choke_123_1626.jpg: 640x640 6 Cs, 4.2ms\n",
      "image 25/277 /scratch/project_2006327/YOLOv5/datasets/2024_datasets/scenario_3/test_data/images/test/Choke_123_1627.jpg: 640x640 23 Cs, 10.6ms\n",
      "image 26/277 /scratch/project_2006327/YOLOv5/datasets/2024_datasets/scenario_3/test_data/images/test/Choke_123_1724.jpg: 640x640 2 Cs, 8.0ms\n",
      "image 27/277 /scratch/project_2006327/YOLOv5/datasets/2024_datasets/scenario_3/test_data/images/test/Choke_123_1725.jpg: 640x640 4 Cs, 17.7ms\n",
      "image 28/277 /scratch/project_2006327/YOLOv5/datasets/2024_datasets/scenario_3/test_data/images/test/Choke_123_1728.jpg: 640x640 2 Cs, 23.4ms\n",
      "image 29/277 /scratch/project_2006327/YOLOv5/datasets/2024_datasets/scenario_3/test_data/images/test/Choke_123_1820.jpg: 640x640 1 C, 4.7ms\n",
      "image 30/277 /scratch/project_2006327/YOLOv5/datasets/2024_datasets/scenario_3/test_data/images/test/Choke_123_1821.jpg: 640x640 10 Cs, 4.8ms\n",
      "image 31/277 /scratch/project_2006327/YOLOv5/datasets/2024_datasets/scenario_3/test_data/images/test/Choke_123_1826.jpg: 640x640 11 Cs, 4.6ms\n",
      "image 32/277 /scratch/project_2006327/YOLOv5/datasets/2024_datasets/scenario_3/test_data/images/test/Choke_123_1827.jpg: 640x640 2 Cs, 4.6ms\n",
      "image 33/277 /scratch/project_2006327/YOLOv5/datasets/2024_datasets/scenario_3/test_data/images/test/Choke_123_1828.jpg: 640x640 1 C, 4.6ms\n",
      "image 34/277 /scratch/project_2006327/YOLOv5/datasets/2024_datasets/scenario_3/test_data/images/test/Choke_123_1880.jpg: 640x640 3 Cs, 4.4ms\n",
      "image 35/277 /scratch/project_2006327/YOLOv5/datasets/2024_datasets/scenario_3/test_data/images/test/Choke_123_1882.jpg: 640x640 8 Cs, 4.6ms\n",
      "image 36/277 /scratch/project_2006327/YOLOv5/datasets/2024_datasets/scenario_3/test_data/images/test/Choke_123_1921.jpg: 640x640 2 Cs, 4.2ms\n",
      "image 37/277 /scratch/project_2006327/YOLOv5/datasets/2024_datasets/scenario_3/test_data/images/test/Choke_123_1922.jpg: 640x640 11 Cs, 4.2ms\n",
      "image 38/277 /scratch/project_2006327/YOLOv5/datasets/2024_datasets/scenario_3/test_data/images/test/Choke_123_1923.jpg: 640x640 1 C, 4.1ms\n",
      "image 39/277 /scratch/project_2006327/YOLOv5/datasets/2024_datasets/scenario_3/test_data/images/test/Choke_123_1926.jpg: 640x640 1 C, 4.1ms\n",
      "image 40/277 /scratch/project_2006327/YOLOv5/datasets/2024_datasets/scenario_3/test_data/images/test/Choke_123_1927.jpg: 640x640 5 Cs, 4.7ms\n",
      "image 41/277 /scratch/project_2006327/YOLOv5/datasets/2024_datasets/scenario_3/test_data/images/test/Choke_123_1928.jpg: 640x640 26 Cs, 4.2ms\n",
      "image 42/277 /scratch/project_2006327/YOLOv5/datasets/2024_datasets/scenario_3/test_data/images/test/Choke_123_1929.jpg: 640x640 17 Cs, 4.1ms\n",
      "image 43/277 /scratch/project_2006327/YOLOv5/datasets/2024_datasets/scenario_3/test_data/images/test/Choke_123_1981.jpg: 640x640 8 Cs, 4.2ms\n",
      "image 44/277 /scratch/project_2006327/YOLOv5/datasets/2024_datasets/scenario_3/test_data/images/test/Choke_123_1982.jpg: 640x640 8 Cs, 5.0ms\n",
      "image 45/277 /scratch/project_2006327/YOLOv5/datasets/2024_datasets/scenario_3/test_data/images/test/Choke_123_1983.jpg: 640x640 10 Cs, 4.6ms\n",
      "image 46/277 /scratch/project_2006327/YOLOv5/datasets/2024_datasets/scenario_3/test_data/images/test/Choke_123_2030.jpg: 640x640 9 Cs, 4.2ms\n",
      "image 47/277 /scratch/project_2006327/YOLOv5/datasets/2024_datasets/scenario_3/test_data/images/test/Choke_123_2082.jpg: 640x640 9 Cs, 4.2ms\n",
      "image 48/277 /scratch/project_2006327/YOLOv5/datasets/2024_datasets/scenario_3/test_data/images/test/Choke_123_2083.jpg: 640x640 8 Cs, 4.1ms\n",
      "image 49/277 /scratch/project_2006327/YOLOv5/datasets/2024_datasets/scenario_3/test_data/images/test/Choke_123_2084.jpg: 640x640 5 Cs, 4.1ms\n",
      "image 50/277 /scratch/project_2006327/YOLOv5/datasets/2024_datasets/scenario_3/test_data/images/test/Choke_123_2183.jpg: 640x640 6 Cs, 4.6ms\n",
      "image 51/277 /scratch/project_2006327/YOLOv5/datasets/2024_datasets/scenario_3/test_data/images/test/Choke_123_2184.jpg: 640x640 3 Cs, 4.6ms\n",
      "image 52/277 /scratch/project_2006327/YOLOv5/datasets/2024_datasets/scenario_3/test_data/images/test/Choke_123_2185.jpg: 640x640 7 Cs, 4.6ms\n",
      "image 53/277 /scratch/project_2006327/YOLOv5/datasets/2024_datasets/scenario_3/test_data/images/test/Choke_123_3499.jpg: 640x640 14 Cs, 4.7ms\n",
      "image 54/277 /scratch/project_2006327/YOLOv5/datasets/2024_datasets/scenario_3/test_data/images/test/Choke_123_3500.jpg: 640x640 23 Cs, 4.7ms\n",
      "image 55/277 /scratch/project_2006327/YOLOv5/datasets/2024_datasets/scenario_3/test_data/images/test/Choke_123_3600.jpg: 640x640 10 Cs, 4.7ms\n",
      "image 56/277 /scratch/project_2006327/YOLOv5/datasets/2024_datasets/scenario_3/test_data/images/test/Choke_123_3601.jpg: 640x640 20 Cs, 4.7ms\n",
      "image 57/277 /scratch/project_2006327/YOLOv5/datasets/2024_datasets/scenario_3/test_data/images/test/Choke_123_3701.jpg: 640x640 2 Cs, 4.4ms\n",
      "image 58/277 /scratch/project_2006327/YOLOv5/datasets/2024_datasets/scenario_3/test_data/images/test/Choke_123_3702.jpg: 640x640 1 C, 4.3ms\n",
      "image 59/277 /scratch/project_2006327/YOLOv5/datasets/2024_datasets/scenario_3/test_data/images/test/Choke_123_3703.jpg: 640x640 4 Cs, 4.3ms\n",
      "image 60/277 /scratch/project_2006327/YOLOv5/datasets/2024_datasets/scenario_3/test_data/images/test/Choke_123_3802.jpg: 640x640 3 Cs, 4.2ms\n",
      "image 61/277 /scratch/project_2006327/YOLOv5/datasets/2024_datasets/scenario_3/test_data/images/test/Choke_123_3803.jpg: 640x640 3 Cs, 4.2ms\n",
      "image 62/277 /scratch/project_2006327/YOLOv5/datasets/2024_datasets/scenario_3/test_data/images/test/Choke_123_393.jpg: 640x640 11 Cs, 4.7ms\n",
      "image 63/277 /scratch/project_2006327/YOLOv5/datasets/2024_datasets/scenario_3/test_data/images/test/Choke_123_394.jpg: 640x640 1 C, 4.0ms\n",
      "image 64/277 /scratch/project_2006327/YOLOv5/datasets/2024_datasets/scenario_3/test_data/images/test/Choke_123_493.jpg: 640x640 6 Cs, 4.0ms\n",
      "image 65/277 /scratch/project_2006327/YOLOv5/datasets/2024_datasets/scenario_3/test_data/images/test/Choke_123_494.jpg: 640x640 22 Cs, 4.1ms\n",
      "image 66/277 /scratch/project_2006327/YOLOv5/datasets/2024_datasets/scenario_3/test_data/images/test/Choke_123_495.jpg: 640x640 3 Cs, 4.2ms\n",
      "image 67/277 /scratch/project_2006327/YOLOv5/datasets/2024_datasets/scenario_3/test_data/images/test/Choke_123_5089.jpg: 640x640 3 Cs, 4.6ms\n",
      "image 68/277 /scratch/project_2006327/YOLOv5/datasets/2024_datasets/scenario_3/test_data/images/test/Choke_123_594.jpg: 640x640 1 C, 4.5ms\n",
      "image 69/277 /scratch/project_2006327/YOLOv5/datasets/2024_datasets/scenario_3/test_data/images/test/Choke_123_595.jpg: 640x640 9 Cs, 4.4ms\n",
      "image 70/277 /scratch/project_2006327/YOLOv5/datasets/2024_datasets/scenario_3/test_data/images/test/Choke_123_596.jpg: 640x640 2 Cs, 4.6ms\n",
      "image 71/277 /scratch/project_2006327/YOLOv5/datasets/2024_datasets/scenario_3/test_data/images/test/Choke_123_695.jpg: 640x640 2 Cs, 4.4ms\n",
      "image 72/277 /scratch/project_2006327/YOLOv5/datasets/2024_datasets/scenario_3/test_data/images/test/Choke_123_696.jpg: 640x640 7 Cs, 4.6ms\n",
      "image 73/277 /scratch/project_2006327/YOLOv5/datasets/2024_datasets/scenario_3/test_data/images/test/Choke_123_697.jpg: 640x640 3 Cs, 4.5ms\n",
      "image 74/277 /scratch/project_2006327/YOLOv5/datasets/2024_datasets/scenario_3/test_data/images/test/Choke_123_698.jpg: 640x640 2 Cs, 4.4ms\n",
      "image 75/277 /scratch/project_2006327/YOLOv5/datasets/2024_datasets/scenario_3/test_data/images/test/Choke_143_2035.jpg: 640x640 1 C, 4.6ms\n",
      "image 76/277 /scratch/project_2006327/YOLOv5/datasets/2024_datasets/scenario_3/test_data/images/test/Choke_143_2036.jpg: 640x640 2 Cs, 4.6ms\n",
      "image 77/277 /scratch/project_2006327/YOLOv5/datasets/2024_datasets/scenario_3/test_data/images/test/Choke_143_2037.jpg: 640x640 4 Cs, 4.6ms\n",
      "image 78/277 /scratch/project_2006327/YOLOv5/datasets/2024_datasets/scenario_3/test_data/images/test/Choke_143_2038.jpg: 640x640 9 Cs, 4.6ms\n",
      "image 79/277 /scratch/project_2006327/YOLOv5/datasets/2024_datasets/scenario_3/test_data/images/test/Choke_143_2039.jpg: 640x640 5 Cs, 4.3ms\n",
      "image 80/277 /scratch/project_2006327/YOLOv5/datasets/2024_datasets/scenario_3/test_data/images/test/Choke_143_2040.jpg: 640x640 2 Cs, 4.0ms\n",
      "image 81/277 /scratch/project_2006327/YOLOv5/datasets/2024_datasets/scenario_3/test_data/images/test/Choke_143_2136.jpg: 640x640 4 Cs, 4.1ms\n",
      "image 82/277 /scratch/project_2006327/YOLOv5/datasets/2024_datasets/scenario_3/test_data/images/test/Choke_143_2137.jpg: 640x640 7 Cs, 4.2ms\n",
      "image 83/277 /scratch/project_2006327/YOLOv5/datasets/2024_datasets/scenario_3/test_data/images/test/Choke_143_2138.jpg: 640x640 6 Cs, 4.0ms\n",
      "image 84/277 /scratch/project_2006327/YOLOv5/datasets/2024_datasets/scenario_3/test_data/images/test/Choke_143_2139.jpg: 640x640 5 Cs, 3.9ms\n",
      "image 85/277 /scratch/project_2006327/YOLOv5/datasets/2024_datasets/scenario_3/test_data/images/test/Choke_143_2140.jpg: 640x640 1 C, 4.0ms\n",
      "image 86/277 /scratch/project_2006327/YOLOv5/datasets/2024_datasets/scenario_3/test_data/images/test/Choke_143_2141.jpg: 640x640 4 Cs, 4.1ms\n",
      "image 87/277 /scratch/project_2006327/YOLOv5/datasets/2024_datasets/scenario_3/test_data/images/test/Choke_143_2237.jpg: 640x640 1 C, 4.3ms\n",
      "image 88/277 /scratch/project_2006327/YOLOv5/datasets/2024_datasets/scenario_3/test_data/images/test/Choke_143_2239.jpg: 640x640 1 C, 4.1ms\n",
      "image 89/277 /scratch/project_2006327/YOLOv5/datasets/2024_datasets/scenario_3/test_data/images/test/Choke_143_2240.jpg: 640x640 2 Cs, 4.1ms\n",
      "image 90/277 /scratch/project_2006327/YOLOv5/datasets/2024_datasets/scenario_3/test_data/images/test/Choke_143_2338.jpg: 640x640 11 Cs, 4.0ms\n",
      "image 91/277 /scratch/project_2006327/YOLOv5/datasets/2024_datasets/scenario_3/test_data/images/test/Choke_143_2339.jpg: 640x640 2 Cs, 3.9ms\n",
      "image 92/277 /scratch/project_2006327/YOLOv5/datasets/2024_datasets/scenario_3/test_data/images/test/Choke_143_2439.jpg: 640x640 12 Cs, 3.9ms\n",
      "image 93/277 /scratch/project_2006327/YOLOv5/datasets/2024_datasets/scenario_3/test_data/images/test/Choke_143_2633.jpg: 640x640 4 Cs, 3.9ms\n",
      "image 94/277 /scratch/project_2006327/YOLOv5/datasets/2024_datasets/scenario_3/test_data/images/test/Choke_143_4445.jpg: 640x640 5 Cs, 3.9ms\n",
      "image 95/277 /scratch/project_2006327/YOLOv5/datasets/2024_datasets/scenario_3/test_data/images/test/Choke_143_4446.jpg: 640x640 1 C, 4.0ms\n",
      "image 96/277 /scratch/project_2006327/YOLOv5/datasets/2024_datasets/scenario_3/test_data/images/test/Choke_143_4546.jpg: 640x640 8 Cs, 3.9ms\n",
      "image 97/277 /scratch/project_2006327/YOLOv5/datasets/2024_datasets/scenario_3/test_data/images/test/Choke_143_4547.jpg: 640x640 12 Cs, 4.1ms\n",
      "image 98/277 /scratch/project_2006327/YOLOv5/datasets/2024_datasets/scenario_3/test_data/images/test/Choke_143_4548.jpg: 640x640 3 Cs, 4.1ms\n",
      "image 99/277 /scratch/project_2006327/YOLOv5/datasets/2024_datasets/scenario_3/test_data/images/test/Choke_143_4647.jpg: 640x640 2 Cs, 3.9ms\n",
      "image 100/277 /scratch/project_2006327/YOLOv5/datasets/2024_datasets/scenario_3/test_data/images/test/Choke_143_4648.jpg: 640x640 6 Cs, 4.2ms\n",
      "image 101/277 /scratch/project_2006327/YOLOv5/datasets/2024_datasets/scenario_3/test_data/images/test/Choke_143_4649.jpg: 640x640 5 Cs, 3.9ms\n",
      "image 102/277 /scratch/project_2006327/YOLOv5/datasets/2024_datasets/scenario_3/test_data/images/test/Choke_143_4750.jpg: 640x640 7 Cs, 4.0ms\n",
      "image 103/277 /scratch/project_2006327/YOLOv5/datasets/2024_datasets/scenario_3/test_data/images/test/Choke_143_4751.jpg: 640x640 3 Cs, 3.9ms\n",
      "image 104/277 /scratch/project_2006327/YOLOv5/datasets/2024_datasets/scenario_3/test_data/images/test/Choke_143_5535.jpg: 640x640 1 C, 4.0ms\n",
      "image 105/277 /scratch/project_2006327/YOLOv5/datasets/2024_datasets/scenario_3/test_data/images/test/Lumo_032_4621.jpg: 640x640 3 Cs, 4.0ms\n",
      "image 106/277 /scratch/project_2006327/YOLOv5/datasets/2024_datasets/scenario_3/test_data/images/test/Lumo_032_4622.jpg: 640x640 2 Cs, 3.9ms\n",
      "image 107/277 /scratch/project_2006327/YOLOv5/datasets/2024_datasets/scenario_3/test_data/images/test/Lumo_032_4623.jpg: 640x640 1 C, 4.1ms\n",
      "image 108/277 /scratch/project_2006327/YOLOv5/datasets/2024_datasets/scenario_3/test_data/images/test/Lumo_032_4723.jpg: 640x640 22 Cs, 4.0ms\n",
      "image 109/277 /scratch/project_2006327/YOLOv5/datasets/2024_datasets/scenario_3/test_data/images/test/Lumo_032_4724.jpg: 640x640 4 Cs, 5.3ms\n",
      "image 110/277 /scratch/project_2006327/YOLOv5/datasets/2024_datasets/scenario_3/test_data/images/test/Lumo_032_4725.jpg: 640x640 26 Cs, 4.0ms\n",
      "image 111/277 /scratch/project_2006327/YOLOv5/datasets/2024_datasets/scenario_3/test_data/images/test/Lumo_032_4824.jpg: 640x640 6 Cs, 3.9ms\n",
      "image 112/277 /scratch/project_2006327/YOLOv5/datasets/2024_datasets/scenario_3/test_data/images/test/Lumo_032_4825.jpg: 640x640 38 Cs, 4.0ms\n",
      "image 113/277 /scratch/project_2006327/YOLOv5/datasets/2024_datasets/scenario_3/test_data/images/test/Lumo_032_4826.jpg: 640x640 50 Cs, 4.1ms\n",
      "image 114/277 /scratch/project_2006327/YOLOv5/datasets/2024_datasets/scenario_3/test_data/images/test/Lumo_032_4925.jpg: 640x640 1 C, 4.0ms\n",
      "image 115/277 /scratch/project_2006327/YOLOv5/datasets/2024_datasets/scenario_3/test_data/images/test/Lumo_032_4926.jpg: 640x640 5 Cs, 3.9ms\n",
      "image 116/277 /scratch/project_2006327/YOLOv5/datasets/2024_datasets/scenario_3/test_data/images/test/Lumo_032_4927.jpg: 640x640 9 Cs, 4.0ms\n",
      "image 117/277 /scratch/project_2006327/YOLOv5/datasets/2024_datasets/scenario_3/test_data/images/test/Lumo_032_5855.jpg: 640x640 2 Cs, 4.0ms\n",
      "image 118/277 /scratch/project_2006327/YOLOv5/datasets/2024_datasets/scenario_3/test_data/images/test/Lumo_032_5856.jpg: 640x640 9 Cs, 3.9ms\n",
      "image 119/277 /scratch/project_2006327/YOLOv5/datasets/2024_datasets/scenario_3/test_data/images/test/Lumo_032_5955.jpg: 640x640 2 Cs, 3.9ms\n",
      "image 120/277 /scratch/project_2006327/YOLOv5/datasets/2024_datasets/scenario_3/test_data/images/test/Lumo_032_5956.jpg: 640x640 21 Cs, 3.9ms\n",
      "image 121/277 /scratch/project_2006327/YOLOv5/datasets/2024_datasets/scenario_3/test_data/images/test/Lumo_032_5957.jpg: 640x640 12 Cs, 4.0ms\n",
      "image 122/277 /scratch/project_2006327/YOLOv5/datasets/2024_datasets/scenario_3/test_data/images/test/Lumo_032_5958.jpg: 640x640 10 Cs, 4.0ms\n",
      "image 123/277 /scratch/project_2006327/YOLOv5/datasets/2024_datasets/scenario_3/test_data/images/test/Lumo_032_6056.jpg: 640x640 3 Cs, 4.1ms\n",
      "image 124/277 /scratch/project_2006327/YOLOv5/datasets/2024_datasets/scenario_3/test_data/images/test/Lumo_032_6057.jpg: 640x640 6 Cs, 4.0ms\n",
      "image 125/277 /scratch/project_2006327/YOLOv5/datasets/2024_datasets/scenario_3/test_data/images/test/Lumo_032_6058.jpg: 640x640 14 Cs, 4.0ms\n",
      "image 126/277 /scratch/project_2006327/YOLOv5/datasets/2024_datasets/scenario_3/test_data/images/test/Lumo_032_6059.jpg: 640x640 35 Cs, 4.0ms\n",
      "image 127/277 /scratch/project_2006327/YOLOv5/datasets/2024_datasets/scenario_3/test_data/images/test/Lumo_032_6157.jpg: 640x640 2 Cs, 3.9ms\n",
      "image 128/277 /scratch/project_2006327/YOLOv5/datasets/2024_datasets/scenario_3/test_data/images/test/Lumo_032_6158.jpg: 640x640 7 Cs, 4.0ms\n",
      "image 129/277 /scratch/project_2006327/YOLOv5/datasets/2024_datasets/scenario_3/test_data/images/test/Lumo_032_6159.jpg: 640x640 16 Cs, 4.0ms\n",
      "image 130/277 /scratch/project_2006327/YOLOv5/datasets/2024_datasets/scenario_3/test_data/images/test/Lumo_032_6160.jpg: 640x640 24 Cs, 4.1ms\n",
      "image 131/277 /scratch/project_2006327/YOLOv5/datasets/2024_datasets/scenario_3/test_data/images/test/Lumo_032_6259.jpg: 640x640 3 Cs, 4.3ms\n",
      "image 132/277 /scratch/project_2006327/YOLOv5/datasets/2024_datasets/scenario_3/test_data/images/test/Lumo_032_6260.jpg: 640x640 10 Cs, 4.0ms\n",
      "image 133/277 /scratch/project_2006327/YOLOv5/datasets/2024_datasets/scenario_3/test_data/images/test/Lumo_049_115.jpg: 640x640 2 Cs, 4.0ms\n",
      "image 134/277 /scratch/project_2006327/YOLOv5/datasets/2024_datasets/scenario_3/test_data/images/test/Lumo_049_117.jpg: 640x640 7 Cs, 3.9ms\n",
      "image 135/277 /scratch/project_2006327/YOLOv5/datasets/2024_datasets/scenario_3/test_data/images/test/Lumo_049_118.jpg: 640x640 16 Cs, 3.9ms\n",
      "image 136/277 /scratch/project_2006327/YOLOv5/datasets/2024_datasets/scenario_3/test_data/images/test/Lumo_049_119.jpg: 640x640 34 Cs, 4.0ms\n",
      "image 137/277 /scratch/project_2006327/YOLOv5/datasets/2024_datasets/scenario_3/test_data/images/test/Lumo_049_1416.jpg: 640x640 4 Cs, 4.0ms\n",
      "image 138/277 /scratch/project_2006327/YOLOv5/datasets/2024_datasets/scenario_3/test_data/images/test/Lumo_049_1417.jpg: 640x640 4 Cs, 4.0ms\n",
      "image 139/277 /scratch/project_2006327/YOLOv5/datasets/2024_datasets/scenario_3/test_data/images/test/Lumo_049_1517.jpg: 640x640 10 Cs, 3.9ms\n",
      "image 140/277 /scratch/project_2006327/YOLOv5/datasets/2024_datasets/scenario_3/test_data/images/test/Lumo_049_1518.jpg: 640x640 62 Cs, 3.9ms\n",
      "image 141/277 /scratch/project_2006327/YOLOv5/datasets/2024_datasets/scenario_3/test_data/images/test/Lumo_049_1519.jpg: 640x640 1 C, 4.2ms\n",
      "image 142/277 /scratch/project_2006327/YOLOv5/datasets/2024_datasets/scenario_3/test_data/images/test/Lumo_049_1618.jpg: 640x640 18 Cs, 4.1ms\n",
      "image 143/277 /scratch/project_2006327/YOLOv5/datasets/2024_datasets/scenario_3/test_data/images/test/Lumo_049_1619.jpg: 640x640 6 Cs, 4.0ms\n",
      "image 144/277 /scratch/project_2006327/YOLOv5/datasets/2024_datasets/scenario_3/test_data/images/test/Lumo_049_1620.jpg: 640x640 1 C, 3.9ms\n",
      "image 145/277 /scratch/project_2006327/YOLOv5/datasets/2024_datasets/scenario_3/test_data/images/test/Lumo_049_1826.jpg: 640x640 10 Cs, 4.0ms\n",
      "image 146/277 /scratch/project_2006327/YOLOv5/datasets/2024_datasets/scenario_3/test_data/images/test/Lumo_049_1827.jpg: 640x640 27 Cs, 4.1ms\n",
      "image 147/277 /scratch/project_2006327/YOLOv5/datasets/2024_datasets/scenario_3/test_data/images/test/Lumo_049_1927.jpg: 640x640 7 Cs, 4.0ms\n",
      "image 148/277 /scratch/project_2006327/YOLOv5/datasets/2024_datasets/scenario_3/test_data/images/test/Lumo_049_1928.jpg: 640x640 11 Cs, 4.0ms\n",
      "image 149/277 /scratch/project_2006327/YOLOv5/datasets/2024_datasets/scenario_3/test_data/images/test/Lumo_049_2029.jpg: 640x640 18 Cs, 3.9ms\n",
      "image 150/277 /scratch/project_2006327/YOLOv5/datasets/2024_datasets/scenario_3/test_data/images/test/Lumo_049_2030.jpg: 640x640 5 Cs, 4.0ms\n",
      "image 151/277 /scratch/project_2006327/YOLOv5/datasets/2024_datasets/scenario_3/test_data/images/test/Lumo_049_218.jpg: 640x640 1 C, 4.1ms\n",
      "image 152/277 /scratch/project_2006327/YOLOv5/datasets/2024_datasets/scenario_3/test_data/images/test/Lumo_049_220.jpg: 640x640 3 Cs, 3.9ms\n",
      "image 153/277 /scratch/project_2006327/YOLOv5/datasets/2024_datasets/scenario_3/test_data/images/test/Lumo_069_1049.jpg: 640x640 5 Cs, 4.0ms\n",
      "image 154/277 /scratch/project_2006327/YOLOv5/datasets/2024_datasets/scenario_3/test_data/images/test/Lumo_069_1050.jpg: 640x640 8 Cs, 4.0ms\n",
      "image 155/277 /scratch/project_2006327/YOLOv5/datasets/2024_datasets/scenario_3/test_data/images/test/Lumo_069_543.jpg: 640x640 12 Cs, 4.0ms\n",
      "image 156/277 /scratch/project_2006327/YOLOv5/datasets/2024_datasets/scenario_3/test_data/images/test/Lumo_069_644.jpg: 640x640 29 Cs, 4.1ms\n",
      "image 157/277 /scratch/project_2006327/YOLOv5/datasets/2024_datasets/scenario_3/test_data/images/test/Lumo_069_744.jpg: 640x640 10 Cs, 4.0ms\n",
      "image 158/277 /scratch/project_2006327/YOLOv5/datasets/2024_datasets/scenario_3/test_data/images/test/Lumo_069_745.jpg: 640x640 14 Cs, 4.1ms\n",
      "image 159/277 /scratch/project_2006327/YOLOv5/datasets/2024_datasets/scenario_3/test_data/images/test/Lumo_069_746.jpg: 640x640 14 Cs, 4.1ms\n",
      "image 160/277 /scratch/project_2006327/YOLOv5/datasets/2024_datasets/scenario_3/test_data/images/test/Lumo_069_844.jpg: 640x640 4 Cs, 4.0ms\n",
      "image 161/277 /scratch/project_2006327/YOLOv5/datasets/2024_datasets/scenario_3/test_data/images/test/Lumo_069_845.jpg: 640x640 9 Cs, 4.1ms\n",
      "image 162/277 /scratch/project_2006327/YOLOv5/datasets/2024_datasets/scenario_3/test_data/images/test/Lumo_069_846.jpg: 640x640 27 Cs, 3.9ms\n",
      "image 163/277 /scratch/project_2006327/YOLOv5/datasets/2024_datasets/scenario_3/test_data/images/test/Lumo_069_847.jpg: 640x640 13 Cs, 4.0ms\n",
      "image 164/277 /scratch/project_2006327/YOLOv5/datasets/2024_datasets/scenario_3/test_data/images/test/Lumo_069_848.jpg: 640x640 2 Cs, 4.0ms\n",
      "image 165/277 /scratch/project_2006327/YOLOv5/datasets/2024_datasets/scenario_3/test_data/images/test/Lumo_069_946.jpg: 640x640 10 Cs, 3.9ms\n",
      "image 166/277 /scratch/project_2006327/YOLOv5/datasets/2024_datasets/scenario_3/test_data/images/test/Lumo_069_947.jpg: 640x640 16 Cs, 4.0ms\n",
      "image 167/277 /scratch/project_2006327/YOLOv5/datasets/2024_datasets/scenario_3/test_data/images/test/Lumo_069_948.jpg: 640x640 37 Cs, 4.1ms\n",
      "image 168/277 /scratch/project_2006327/YOLOv5/datasets/2024_datasets/scenario_3/test_data/images/test/Lumo_069_949.jpg: 640x640 25 Cs, 4.0ms\n",
      "image 169/277 /scratch/project_2006327/YOLOv5/datasets/2024_datasets/scenario_3/test_data/images/test/Lumo_091_1117.jpg: 640x640 4 Cs, 4.0ms\n",
      "image 170/277 /scratch/project_2006327/YOLOv5/datasets/2024_datasets/scenario_3/test_data/images/test/Lumo_091_1216.jpg: 640x640 3 Cs, 4.0ms\n",
      "image 171/277 /scratch/project_2006327/YOLOv5/datasets/2024_datasets/scenario_3/test_data/images/test/Lumo_091_1217.jpg: 640x640 9 Cs, 4.2ms\n",
      "image 172/277 /scratch/project_2006327/YOLOv5/datasets/2024_datasets/scenario_3/test_data/images/test/Lumo_091_1218.jpg: 640x640 17 Cs, 4.0ms\n",
      "image 173/277 /scratch/project_2006327/YOLOv5/datasets/2024_datasets/scenario_3/test_data/images/test/Lumo_091_127.jpg: 640x640 19 Cs, 4.0ms\n",
      "image 174/277 /scratch/project_2006327/YOLOv5/datasets/2024_datasets/scenario_3/test_data/images/test/Lumo_091_128.jpg: 640x640 10 Cs, 4.0ms\n",
      "image 175/277 /scratch/project_2006327/YOLOv5/datasets/2024_datasets/scenario_3/test_data/images/test/Lumo_091_1314.jpg: 640x640 1 C, 4.4ms\n",
      "image 176/277 /scratch/project_2006327/YOLOv5/datasets/2024_datasets/scenario_3/test_data/images/test/Lumo_091_1317.jpg: 640x640 5 Cs, 3.9ms\n",
      "image 177/277 /scratch/project_2006327/YOLOv5/datasets/2024_datasets/scenario_3/test_data/images/test/Lumo_091_1318.jpg: 640x640 6 Cs, 4.1ms\n",
      "image 178/277 /scratch/project_2006327/YOLOv5/datasets/2024_datasets/scenario_3/test_data/images/test/Lumo_091_1319.jpg: 640x640 3 Cs, 4.0ms\n",
      "image 179/277 /scratch/project_2006327/YOLOv5/datasets/2024_datasets/scenario_3/test_data/images/test/Lumo_091_227.jpg: 640x640 14 Cs, 4.0ms\n",
      "image 180/277 /scratch/project_2006327/YOLOv5/datasets/2024_datasets/scenario_3/test_data/images/test/Lumo_091_228.jpg: 640x640 41 Cs, 4.1ms\n",
      "image 181/277 /scratch/project_2006327/YOLOv5/datasets/2024_datasets/scenario_3/test_data/images/test/Lumo_091_229.jpg: 640x640 7 Cs, 4.0ms\n",
      "image 182/277 /scratch/project_2006327/YOLOv5/datasets/2024_datasets/scenario_3/test_data/images/test/Lumo_091_327.jpg: 640x640 3 Cs, 4.2ms\n",
      "image 183/277 /scratch/project_2006327/YOLOv5/datasets/2024_datasets/scenario_3/test_data/images/test/Lumo_091_328.jpg: 640x640 4 Cs, 4.0ms\n",
      "image 184/277 /scratch/project_2006327/YOLOv5/datasets/2024_datasets/scenario_3/test_data/images/test/Lumo_091_427.jpg: 640x640 6 Cs, 4.0ms\n",
      "image 185/277 /scratch/project_2006327/YOLOv5/datasets/2024_datasets/scenario_3/test_data/images/test/Lumo_091_428.jpg: 640x640 10 Cs, 3.9ms\n",
      "image 186/277 /scratch/project_2006327/YOLOv5/datasets/2024_datasets/scenario_3/test_data/images/test/Lumo_091_528.jpg: 640x640 15 Cs, 4.1ms\n",
      "image 187/277 /scratch/project_2006327/YOLOv5/datasets/2024_datasets/scenario_3/test_data/images/test/THW_097_3559.jpg: 640x640 4 Cs, 4.2ms\n",
      "image 188/277 /scratch/project_2006327/YOLOv5/datasets/2024_datasets/scenario_3/test_data/images/test/THW_097_3560.jpg: 640x640 24 Cs, 4.6ms\n",
      "image 189/277 /scratch/project_2006327/YOLOv5/datasets/2024_datasets/scenario_3/test_data/images/test/THW_097_3561.jpg: 640x640 7 Cs, 4.5ms\n",
      "image 190/277 /scratch/project_2006327/YOLOv5/datasets/2024_datasets/scenario_3/test_data/images/test/THW_097_3562.jpg: 640x640 2 Cs, 4.3ms\n",
      "image 191/277 /scratch/project_2006327/YOLOv5/datasets/2024_datasets/scenario_3/test_data/images/test/THW_097_3659.jpg: 640x640 12 Cs, 4.3ms\n",
      "image 192/277 /scratch/project_2006327/YOLOv5/datasets/2024_datasets/scenario_3/test_data/images/test/THW_097_3660.jpg: 640x640 4 Cs, 4.6ms\n",
      "image 193/277 /scratch/project_2006327/YOLOv5/datasets/2024_datasets/scenario_3/test_data/images/test/THW_097_3661.jpg: 640x640 12 Cs, 4.3ms\n",
      "image 194/277 /scratch/project_2006327/YOLOv5/datasets/2024_datasets/scenario_3/test_data/images/test/THW_097_3662.jpg: 640x640 22 Cs, 4.4ms\n",
      "image 195/277 /scratch/project_2006327/YOLOv5/datasets/2024_datasets/scenario_3/test_data/images/test/THW_097_3663.jpg: 640x640 10 Cs, 4.5ms\n",
      "image 196/277 /scratch/project_2006327/YOLOv5/datasets/2024_datasets/scenario_3/test_data/images/test/THW_097_3758.jpg: 640x640 2 Cs, 4.7ms\n",
      "image 197/277 /scratch/project_2006327/YOLOv5/datasets/2024_datasets/scenario_3/test_data/images/test/THW_097_3759.jpg: 640x640 11 Cs, 4.6ms\n",
      "image 198/277 /scratch/project_2006327/YOLOv5/datasets/2024_datasets/scenario_3/test_data/images/test/THW_097_3760.jpg: 640x640 3 Cs, 4.6ms\n",
      "image 199/277 /scratch/project_2006327/YOLOv5/datasets/2024_datasets/scenario_3/test_data/images/test/THW_097_3761.jpg: 640x640 5 Cs, 4.6ms\n",
      "image 200/277 /scratch/project_2006327/YOLOv5/datasets/2024_datasets/scenario_3/test_data/images/test/THW_097_3763.jpg: 640x640 2 Cs, 4.6ms\n",
      "image 201/277 /scratch/project_2006327/YOLOv5/datasets/2024_datasets/scenario_3/test_data/images/test/THW_097_3860.jpg: 640x640 2 Cs, 4.7ms\n",
      "image 202/277 /scratch/project_2006327/YOLOv5/datasets/2024_datasets/scenario_3/test_data/images/test/THW_097_3962.jpg: 640x640 1 C, 4.7ms\n",
      "image 203/277 /scratch/project_2006327/YOLOv5/datasets/2024_datasets/scenario_3/test_data/images/test/THW_097_3987.jpg: 640x640 7 Cs, 4.7ms\n",
      "image 204/277 /scratch/project_2006327/YOLOv5/datasets/2024_datasets/scenario_3/test_data/images/test/THW_097_3988.jpg: 640x640 12 Cs, 4.6ms\n",
      "image 205/277 /scratch/project_2006327/YOLOv5/datasets/2024_datasets/scenario_3/test_data/images/test/THW_097_4063.jpg: 640x640 2 Cs, 4.6ms\n",
      "image 206/277 /scratch/project_2006327/YOLOv5/datasets/2024_datasets/scenario_3/test_data/images/test/THW_097_4064.jpg: 640x640 2 Cs, 4.4ms\n",
      "image 207/277 /scratch/project_2006327/YOLOv5/datasets/2024_datasets/scenario_3/test_data/images/test/THW_097_4088.jpg: 640x640 32 Cs, 4.3ms\n",
      "image 208/277 /scratch/project_2006327/YOLOv5/datasets/2024_datasets/scenario_3/test_data/images/test/THW_097_4089.jpg: 640x640 33 Cs, 4.3ms\n",
      "image 209/277 /scratch/project_2006327/YOLOv5/datasets/2024_datasets/scenario_3/test_data/images/test/THW_097_4188.jpg: 640x640 1 C, 4.6ms\n",
      "image 210/277 /scratch/project_2006327/YOLOv5/datasets/2024_datasets/scenario_3/test_data/images/test/THW_097_4189.jpg: 640x640 13 Cs, 4.7ms\n",
      "image 211/277 /scratch/project_2006327/YOLOv5/datasets/2024_datasets/scenario_3/test_data/images/test/THW_097_4190.jpg: 640x640 10 Cs, 4.6ms\n",
      "image 212/277 /scratch/project_2006327/YOLOv5/datasets/2024_datasets/scenario_3/test_data/images/test/THW_097_4290.jpg: 640x640 2 Cs, 4.3ms\n",
      "image 213/277 /scratch/project_2006327/YOLOv5/datasets/2024_datasets/scenario_3/test_data/images/test/THW_097_4292.jpg: 640x640 5 Cs, 4.2ms\n",
      "image 214/277 /scratch/project_2006327/YOLOv5/datasets/2024_datasets/scenario_3/test_data/images/test/THW_097_4393.jpg: 640x640 2 Cs, 4.2ms\n",
      "image 215/277 /scratch/project_2006327/YOLOv5/datasets/2024_datasets/scenario_3/test_data/images/test/THW_097_5078.jpg: 640x640 17 Cs, 4.1ms\n",
      "image 216/277 /scratch/project_2006327/YOLOv5/datasets/2024_datasets/scenario_3/test_data/images/test/THW_097_5079.jpg: 640x640 17 Cs, 4.0ms\n",
      "image 217/277 /scratch/project_2006327/YOLOv5/datasets/2024_datasets/scenario_3/test_data/images/test/THW_097_5179.jpg: 640x640 7 Cs, 4.0ms\n",
      "image 218/277 /scratch/project_2006327/YOLOv5/datasets/2024_datasets/scenario_3/test_data/images/test/THW_097_5180.jpg: 640x640 6 Cs, 4.0ms\n",
      "image 219/277 /scratch/project_2006327/YOLOv5/datasets/2024_datasets/scenario_3/test_data/images/test/THW_097_5181.jpg: 640x640 1 C, 4.0ms\n",
      "image 220/277 /scratch/project_2006327/YOLOv5/datasets/2024_datasets/scenario_3/test_data/images/test/THW_097_5280.jpg: 640x640 4 Cs, 4.0ms\n",
      "image 221/277 /scratch/project_2006327/YOLOv5/datasets/2024_datasets/scenario_3/test_data/images/test/THW_097_5281.jpg: 640x640 12 Cs, 4.4ms\n",
      "image 222/277 /scratch/project_2006327/YOLOv5/datasets/2024_datasets/scenario_3/test_data/images/test/THW_097_5382.jpg: 640x640 12 Cs, 4.0ms\n",
      "image 223/277 /scratch/project_2006327/YOLOv5/datasets/2024_datasets/scenario_3/test_data/images/test/THW_097_5383.jpg: 640x640 10 Cs, 4.1ms\n",
      "image 224/277 /scratch/project_2006327/YOLOv5/datasets/2024_datasets/scenario_3/test_data/images/test/THW_097_5483.jpg: 640x640 16 Cs, 4.0ms\n",
      "image 225/277 /scratch/project_2006327/YOLOv5/datasets/2024_datasets/scenario_3/test_data/images/test/THW_097_5484.jpg: 640x640 22 Cs, 4.0ms\n",
      "image 226/277 /scratch/project_2006327/YOLOv5/datasets/2024_datasets/scenario_3/test_data/images/test/THW_097_5485.jpg: 640x640 4 Cs, 4.0ms\n",
      "image 227/277 /scratch/project_2006327/YOLOv5/datasets/2024_datasets/scenario_3/test_data/images/test/THW_097_5584.jpg: 640x640 6 Cs, 4.0ms\n",
      "image 228/277 /scratch/project_2006327/YOLOv5/datasets/2024_datasets/scenario_3/test_data/images/test/THW_097_5585.jpg: 640x640 4 Cs, 3.9ms\n",
      "image 229/277 /scratch/project_2006327/YOLOv5/datasets/2024_datasets/scenario_3/test_data/images/test/THW_097_8272.jpg: 640x640 1 C, 4.1ms\n",
      "image 230/277 /scratch/project_2006327/YOLOv5/datasets/2024_datasets/scenario_3/test_data/images/test/THW_097_8273.jpg: 640x640 12 Cs, 4.0ms\n",
      "image 231/277 /scratch/project_2006327/YOLOv5/datasets/2024_datasets/scenario_3/test_data/images/test/THW_097_8274.jpg: 640x640 14 Cs, 4.0ms\n",
      "image 232/277 /scratch/project_2006327/YOLOv5/datasets/2024_datasets/scenario_3/test_data/images/test/THW_097_8303.jpg: 640x640 3 Cs, 3.9ms\n",
      "image 233/277 /scratch/project_2006327/YOLOv5/datasets/2024_datasets/scenario_3/test_data/images/test/THW_097_8304.jpg: 640x640 22 Cs, 4.9ms\n",
      "image 234/277 /scratch/project_2006327/YOLOv5/datasets/2024_datasets/scenario_3/test_data/images/test/THW_097_8305.jpg: 640x640 16 Cs, 4.2ms\n",
      "image 235/277 /scratch/project_2006327/YOLOv5/datasets/2024_datasets/scenario_3/test_data/images/test/THW_097_8404.jpg: 640x640 8 Cs, 4.4ms\n",
      "image 236/277 /scratch/project_2006327/YOLOv5/datasets/2024_datasets/scenario_3/test_data/images/test/THW_097_8405.jpg: 640x640 16 Cs, 4.5ms\n",
      "image 237/277 /scratch/project_2006327/YOLOv5/datasets/2024_datasets/scenario_3/test_data/images/test/THW_097_8406.jpg: 640x640 2 Cs, 5.6ms\n",
      "image 238/277 /scratch/project_2006327/YOLOv5/datasets/2024_datasets/scenario_3/test_data/images/test/THW_097_8506.jpg: 640x640 7 Cs, 4.3ms\n",
      "image 239/277 /scratch/project_2006327/YOLOv5/datasets/2024_datasets/scenario_3/test_data/images/test/THW_097_8607.jpg: 640x640 12 Cs, 4.4ms\n",
      "image 240/277 /scratch/project_2006327/YOLOv5/datasets/2024_datasets/scenario_3/test_data/images/test/THW_097_9307.jpg: 640x640 1 C, 4.5ms\n",
      "image 241/277 /scratch/project_2006327/YOLOv5/datasets/2024_datasets/scenario_3/test_data/images/test/THW_097_9689.jpg: 640x640 8 Cs, 4.2ms\n",
      "image 242/277 /scratch/project_2006327/YOLOv5/datasets/2024_datasets/scenario_3/test_data/images/test/THW_113_10028.jpg: 640x640 14 Cs, 5.2ms\n",
      "image 243/277 /scratch/project_2006327/YOLOv5/datasets/2024_datasets/scenario_3/test_data/images/test/THW_113_4618.jpg: 640x640 7 Cs, 5.4ms\n",
      "image 244/277 /scratch/project_2006327/YOLOv5/datasets/2024_datasets/scenario_3/test_data/images/test/THW_113_4619.jpg: 640x640 2 Cs, 5.1ms\n",
      "image 245/277 /scratch/project_2006327/YOLOv5/datasets/2024_datasets/scenario_3/test_data/images/test/THW_113_4720.jpg: 640x640 1 C, 4.3ms\n",
      "image 246/277 /scratch/project_2006327/YOLOv5/datasets/2024_datasets/scenario_3/test_data/images/test/THW_113_4721.jpg: 640x640 1 C, 4.3ms\n",
      "image 247/277 /scratch/project_2006327/YOLOv5/datasets/2024_datasets/scenario_3/test_data/images/test/THW_113_5852.jpg: 640x640 5 Cs, 4.3ms\n",
      "image 248/277 /scratch/project_2006327/YOLOv5/datasets/2024_datasets/scenario_3/test_data/images/test/THW_113_5853.jpg: 640x640 11 Cs, 5.2ms\n",
      "image 249/277 /scratch/project_2006327/YOLOv5/datasets/2024_datasets/scenario_3/test_data/images/test/THW_113_5854.jpg: 640x640 1 C, 4.5ms\n",
      "image 250/277 /scratch/project_2006327/YOLOv5/datasets/2024_datasets/scenario_3/test_data/images/test/THW_113_5952.jpg: 640x640 12 Cs, 4.2ms\n",
      "image 251/277 /scratch/project_2006327/YOLOv5/datasets/2024_datasets/scenario_3/test_data/images/test/THW_113_5953.jpg: 640x640 12 Cs, 5.0ms\n",
      "image 252/277 /scratch/project_2006327/YOLOv5/datasets/2024_datasets/scenario_3/test_data/images/test/THW_113_5954.jpg: 640x640 7 Cs, 4.6ms\n",
      "image 253/277 /scratch/project_2006327/YOLOv5/datasets/2024_datasets/scenario_3/test_data/images/test/THW_113_5955.jpg: 640x640 4 Cs, 5.2ms\n",
      "image 254/277 /scratch/project_2006327/YOLOv5/datasets/2024_datasets/scenario_3/test_data/images/test/THW_113_5956.jpg: 640x640 2 Cs, 5.5ms\n",
      "image 255/277 /scratch/project_2006327/YOLOv5/datasets/2024_datasets/scenario_3/test_data/images/test/THW_113_6052.jpg: 640x640 2 Cs, 4.2ms\n",
      "image 256/277 /scratch/project_2006327/YOLOv5/datasets/2024_datasets/scenario_3/test_data/images/test/THW_113_6053.jpg: 640x640 12 Cs, 4.0ms\n",
      "image 257/277 /scratch/project_2006327/YOLOv5/datasets/2024_datasets/scenario_3/test_data/images/test/THW_113_6054.jpg: 640x640 3 Cs, 4.0ms\n",
      "image 258/277 /scratch/project_2006327/YOLOv5/datasets/2024_datasets/scenario_3/test_data/images/test/THW_113_6153.jpg: 640x640 8 Cs, 4.0ms\n",
      "image 259/277 /scratch/project_2006327/YOLOv5/datasets/2024_datasets/scenario_3/test_data/images/test/THW_113_6154.jpg: 640x640 12 Cs, 4.1ms\n",
      "image 260/277 /scratch/project_2006327/YOLOv5/datasets/2024_datasets/scenario_3/test_data/images/test/THW_113_6155.jpg: 640x640 4 Cs, 4.0ms\n",
      "image 261/277 /scratch/project_2006327/YOLOv5/datasets/2024_datasets/scenario_3/test_data/images/test/THW_113_6253.jpg: 640x640 5 Cs, 4.0ms\n",
      "image 262/277 /scratch/project_2006327/YOLOv5/datasets/2024_datasets/scenario_3/test_data/images/test/THW_113_6254.jpg: 640x640 4 Cs, 3.9ms\n",
      "image 263/277 /scratch/project_2006327/YOLOv5/datasets/2024_datasets/scenario_3/test_data/images/test/THW_113_6255.jpg: 640x640 3 Cs, 3.9ms\n",
      "image 264/277 /scratch/project_2006327/YOLOv5/datasets/2024_datasets/scenario_3/test_data/images/test/THW_113_6256.jpg: 640x640 3 Cs, 3.9ms\n",
      "image 265/277 /scratch/project_2006327/YOLOv5/datasets/2024_datasets/scenario_3/test_data/images/test/THW_113_6257.jpg: 640x640 1 C, 4.0ms\n",
      "image 266/277 /scratch/project_2006327/YOLOv5/datasets/2024_datasets/scenario_3/test_data/images/test/THW_113_6355.jpg: 640x640 4 Cs, 3.9ms\n",
      "image 267/277 /scratch/project_2006327/YOLOv5/datasets/2024_datasets/scenario_3/test_data/images/test/THW_113_6356.jpg: 640x640 2 Cs, 4.0ms\n",
      "image 268/277 /scratch/project_2006327/YOLOv5/datasets/2024_datasets/scenario_3/test_data/images/test/THW_113_6357.jpg: 640x640 2 Cs, 3.9ms\n",
      "image 269/277 /scratch/project_2006327/YOLOv5/datasets/2024_datasets/scenario_3/test_data/images/test/THW_113_9625.jpg: 640x640 2 Cs, 3.9ms\n",
      "image 270/277 /scratch/project_2006327/YOLOv5/datasets/2024_datasets/scenario_3/test_data/images/test/THW_120_8924.jpg: 640x640 5 Cs, 4.0ms\n",
      "image 271/277 /scratch/project_2006327/YOLOv5/datasets/2024_datasets/scenario_3/test_data/images/test/THW_120_8925.jpg: 640x640 4 Cs, 4.0ms\n",
      "image 272/277 /scratch/project_2006327/YOLOv5/datasets/2024_datasets/scenario_3/test_data/images/test/THW_120_9024.jpg: 640x640 1 C, 3.9ms\n",
      "image 273/277 /scratch/project_2006327/YOLOv5/datasets/2024_datasets/scenario_3/test_data/images/test/THW_120_9025.jpg: 640x640 22 Cs, 3.9ms\n",
      "image 274/277 /scratch/project_2006327/YOLOv5/datasets/2024_datasets/scenario_3/test_data/images/test/THW_120_9026.jpg: 640x640 20 Cs, 4.0ms\n",
      "image 275/277 /scratch/project_2006327/YOLOv5/datasets/2024_datasets/scenario_3/test_data/images/test/THW_120_9126.jpg: 640x640 18 Cs, 4.1ms\n",
      "image 276/277 /scratch/project_2006327/YOLOv5/datasets/2024_datasets/scenario_3/test_data/images/test/THW_120_9127.jpg: 640x640 10 Cs, 4.2ms\n",
      "image 277/277 /scratch/project_2006327/YOLOv5/datasets/2024_datasets/scenario_3/test_data/images/test/THW_120_9227.jpg: 640x640 1 C, 4.1ms\n",
      "Speed: 0.5ms pre-process, 5.2ms inference, 1.8ms NMS per image at shape (1, 3, 640, 640)\n",
      "Results saved to \u001b[1mInference/2024/scenario_3/counts/yolov5_s\u001b[0m\n"
     ]
    }
   ],
   "source": [
    "!python detect.py --source /scratch/project_2006327/YOLOv5/datasets/2024_datasets/scenario_3/test_data/images/test --weights runs/train/2024/s3/yolov5_s/weights/best.pt --conf-thres 0.25 --iou 0.5 --project Inference/2024/scenario_3/counts --name yolov5_s"
   ]
  },
  {
   "cell_type": "markdown",
   "id": "47e2ee32",
   "metadata": {
    "tags": []
   },
   "source": [
    "##  YOLOv5_m"
   ]
  },
  {
   "cell_type": "markdown",
   "id": "b0bcd8ed-5747-4031-b774-838ccc07c41b",
   "metadata": {
    "tags": []
   },
   "source": [
    "### Validation"
   ]
  },
  {
   "cell_type": "code",
   "execution_count": 8,
   "id": "4619b94f-b47d-4a47-8227-2bec11b38e74",
   "metadata": {},
   "outputs": [
    {
     "name": "stdout",
     "output_type": "stream",
     "text": [
      "\u001b[34m\u001b[1mval: \u001b[0mdata=/scratch/project_2006327/YOLOv5/yolov5/data/s3_v5_train.yaml, weights=['runs/train/2024/s3/yolov5_m/weights/best.pt'], batch_size=32, imgsz=640, conf_thres=0.001, iou_thres=0.6, max_det=300, task=val, device=, workers=8, single_cls=False, augment=False, verbose=False, save_txt=False, save_hybrid=False, save_conf=False, save_json=False, project=runs/val, name=exp, exist_ok=False, half=False, dnn=False\n",
      "WARNING ⚠️ invalid check_version(5.9.5, ) requested, please check values.\n",
      "YOLOv5 🚀 2023-9-23 Python-3.10.0 torch-2.0.1+cu117 CUDA:0 (Tesla V100-SXM2-32GB, 32501MiB)\n",
      "\n",
      "Fusing layers... \n",
      "Model summary: 212 layers, 20869098 parameters, 0 gradients, 47.9 GFLOPs\n",
      "\u001b[34m\u001b[1mval: \u001b[0mScanning /scratch/project_2006327/YOLOv5/datasets/2024_datasets/scenario_3/\u001b[0m\n",
      "                 Class     Images  Instances          P          R      mAP50   \n",
      "                   all       1604      15091      0.915      0.881       0.93      0.456\n",
      "Speed: 0.1ms pre-process, 5.2ms inference, 1.0ms NMS per image at shape (32, 3, 640, 640)\n",
      "Results saved to \u001b[1mruns/val/exp43\u001b[0m\n"
     ]
    }
   ],
   "source": [
    "!python val.py --data s3_v5_train.yaml --weights runs/train/2024/s3/yolov5_m/weights/best.pt --img 640 "
   ]
  },
  {
   "cell_type": "markdown",
   "id": "998a59e2-fc33-41b4-907d-13477babf652",
   "metadata": {},
   "source": [
    "### Display the prediction"
   ]
  },
  {
   "cell_type": "code",
   "execution_count": null,
   "id": "f22a3585",
   "metadata": {
    "scrolled": true
   },
   "outputs": [],
   "source": [
    "Image(filename = 'runs/val/exp28/F1_curve.png', width =640)"
   ]
  },
  {
   "cell_type": "markdown",
   "id": "6b0e6882-db1f-40d6-9aca-386dccfc3c89",
   "metadata": {},
   "source": [
    "### Inference"
   ]
  },
  {
   "cell_type": "code",
   "execution_count": 9,
   "id": "227a4f47",
   "metadata": {},
   "outputs": [
    {
     "name": "stdout",
     "output_type": "stream",
     "text": [
      "\u001b[34m\u001b[1mval: \u001b[0mdata=/scratch/project_2006327/YOLOv5/yolov5/data/s3_v5_test.yaml, weights=['runs/train/2024/s3/yolov5_m/weights/best.pt'], batch_size=32, imgsz=640, conf_thres=0.25, iou_thres=0.5, max_det=300, task=test, device=, workers=8, single_cls=False, augment=False, verbose=False, save_txt=False, save_hybrid=False, save_conf=False, save_json=False, project=Inference/2024/scenario_3/metrics, name=yolov5_m, exist_ok=False, half=False, dnn=False\n",
      "WARNING ⚠️ invalid check_version(5.9.5, ) requested, please check values.\n",
      "WARNING ⚠️ confidence threshold 0.25 > 0.001 produces invalid results\n",
      "YOLOv5 🚀 2023-9-23 Python-3.10.0 torch-2.0.1+cu117 CUDA:0 (Tesla V100-SXM2-32GB, 32501MiB)\n",
      "\n",
      "Fusing layers... \n",
      "Model summary: 212 layers, 20869098 parameters, 0 gradients, 47.9 GFLOPs\n",
      "\u001b[34m\u001b[1mtest: \u001b[0mScanning /scratch/project_2006327/YOLOv5/datasets/2024_datasets/scenario_3\u001b[0m\n",
      "                 Class     Images  Instances          P          R      mAP50   \n",
      "                   all        277       2642      0.904      0.832      0.888      0.393\n",
      "Speed: 0.1ms pre-process, 5.3ms inference, 1.0ms NMS per image at shape (32, 3, 640, 640)\n",
      "Results saved to \u001b[1mInference/2024/scenario_3/metrics/yolov5_m\u001b[0m\n"
     ]
    }
   ],
   "source": [
    "#test with hyper paramter weights and F1 score\n",
    "!python val.py --data s3_v5_test.yaml --weights runs/train/2024/s3/yolov5_m/weights/best.pt --img 640 --task test --conf-thres 0.25 --iou 0.5 --project Inference/2024/scenario_3/metrics --name yolov5_m"
   ]
  },
  {
   "cell_type": "code",
   "execution_count": 8,
   "id": "5fec54d2",
   "metadata": {
    "scrolled": true
   },
   "outputs": [
    {
     "name": "stdout",
     "output_type": "stream",
     "text": [
      "\u001b[34m\u001b[1mdetect: \u001b[0mweights=['runs/train/2024/s3/yolov5_m/weights/best.pt'], source=/scratch/project_2006327/YOLOv5/datasets/2024_datasets/scenario_3/test_data/images/test, data=data/coco128.yaml, imgsz=[640, 640], conf_thres=0.25, iou_thres=0.5, max_det=1000, device=, view_img=False, save_txt=False, save_csv=False, save_conf=False, save_crop=False, nosave=False, classes=None, agnostic_nms=False, augment=False, visualize=False, update=False, project=Inference/2024/scenario_3/counts, name=yolov5_m, exist_ok=False, line_thickness=2, hide_labels=True, hide_conf=True, half=False, dnn=False, vid_stride=1\n",
      "WARNING ⚠️ invalid check_version(5.9.5, ) requested, please check values.\n",
      "YOLOv5 🚀 2023-9-23 Python-3.10.0 torch-2.0.1+cu117 CUDA:0 (Tesla V100-SXM2-32GB, 32501MiB)\n",
      "\n",
      "Fusing layers... \n",
      "Model summary: 212 layers, 20869098 parameters, 0 gradients, 47.9 GFLOPs\n",
      "image 1/277 /scratch/project_2006327/YOLOv5/datasets/2024_datasets/scenario_3/test_data/images/test/Choke_113_4451.jpg: 640x640 1 C, 6.6ms\n",
      "image 2/277 /scratch/project_2006327/YOLOv5/datasets/2024_datasets/scenario_3/test_data/images/test/Choke_113_4452.jpg: 640x640 16 Cs, 6.6ms\n",
      "image 3/277 /scratch/project_2006327/YOLOv5/datasets/2024_datasets/scenario_3/test_data/images/test/Choke_113_4453.jpg: 640x640 16 Cs, 6.7ms\n",
      "image 4/277 /scratch/project_2006327/YOLOv5/datasets/2024_datasets/scenario_3/test_data/images/test/Choke_113_4454.jpg: 640x640 14 Cs, 6.6ms\n",
      "image 5/277 /scratch/project_2006327/YOLOv5/datasets/2024_datasets/scenario_3/test_data/images/test/Choke_113_4552.jpg: 640x640 1 C, 6.6ms\n",
      "image 6/277 /scratch/project_2006327/YOLOv5/datasets/2024_datasets/scenario_3/test_data/images/test/Choke_113_4553.jpg: 640x640 14 Cs, 6.6ms\n",
      "image 7/277 /scratch/project_2006327/YOLOv5/datasets/2024_datasets/scenario_3/test_data/images/test/Choke_113_4554.jpg: 640x640 42 Cs, 6.7ms\n",
      "image 8/277 /scratch/project_2006327/YOLOv5/datasets/2024_datasets/scenario_3/test_data/images/test/Choke_113_4555.jpg: 640x640 20 Cs, 6.6ms\n",
      "image 9/277 /scratch/project_2006327/YOLOv5/datasets/2024_datasets/scenario_3/test_data/images/test/Choke_113_4654.jpg: 640x640 11 Cs, 6.6ms\n",
      "image 10/277 /scratch/project_2006327/YOLOv5/datasets/2024_datasets/scenario_3/test_data/images/test/Choke_113_4655.jpg: 640x640 10 Cs, 6.7ms\n",
      "image 11/277 /scratch/project_2006327/YOLOv5/datasets/2024_datasets/scenario_3/test_data/images/test/Choke_113_4856.jpg: 640x640 14 Cs, 6.6ms\n",
      "image 12/277 /scratch/project_2006327/YOLOv5/datasets/2024_datasets/scenario_3/test_data/images/test/Choke_113_4857.jpg: 640x640 10 Cs, 6.6ms\n",
      "image 13/277 /scratch/project_2006327/YOLOv5/datasets/2024_datasets/scenario_3/test_data/images/test/Choke_113_4956.jpg: 640x640 8 Cs, 6.6ms\n",
      "image 14/277 /scratch/project_2006327/YOLOv5/datasets/2024_datasets/scenario_3/test_data/images/test/Choke_113_4957.jpg: 640x640 30 Cs, 6.6ms\n",
      "image 15/277 /scratch/project_2006327/YOLOv5/datasets/2024_datasets/scenario_3/test_data/images/test/Choke_113_4958.jpg: 640x640 13 Cs, 6.6ms\n",
      "image 16/277 /scratch/project_2006327/YOLOv5/datasets/2024_datasets/scenario_3/test_data/images/test/Choke_113_5056.jpg: 640x640 7 Cs, 34.4ms\n",
      "image 17/277 /scratch/project_2006327/YOLOv5/datasets/2024_datasets/scenario_3/test_data/images/test/Choke_113_5057.jpg: 640x640 24 Cs, 20.4ms\n",
      "image 18/277 /scratch/project_2006327/YOLOv5/datasets/2024_datasets/scenario_3/test_data/images/test/Choke_113_5058.jpg: 640x640 21 Cs, 6.7ms\n",
      "image 19/277 /scratch/project_2006327/YOLOv5/datasets/2024_datasets/scenario_3/test_data/images/test/Choke_113_5157.jpg: 640x640 1 C, 21.7ms\n",
      "image 20/277 /scratch/project_2006327/YOLOv5/datasets/2024_datasets/scenario_3/test_data/images/test/Choke_113_5158.jpg: 640x640 12 Cs, 6.7ms\n",
      "image 21/277 /scratch/project_2006327/YOLOv5/datasets/2024_datasets/scenario_3/test_data/images/test/Choke_113_5159.jpg: 640x640 6 Cs, 6.7ms\n",
      "image 22/277 /scratch/project_2006327/YOLOv5/datasets/2024_datasets/scenario_3/test_data/images/test/Choke_123_1525.jpg: 640x640 9 Cs, 6.7ms\n",
      "image 23/277 /scratch/project_2006327/YOLOv5/datasets/2024_datasets/scenario_3/test_data/images/test/Choke_123_1526.jpg: 640x640 4 Cs, 6.7ms\n",
      "image 24/277 /scratch/project_2006327/YOLOv5/datasets/2024_datasets/scenario_3/test_data/images/test/Choke_123_1626.jpg: 640x640 7 Cs, 6.7ms\n",
      "image 25/277 /scratch/project_2006327/YOLOv5/datasets/2024_datasets/scenario_3/test_data/images/test/Choke_123_1627.jpg: 640x640 23 Cs, 6.7ms\n",
      "image 26/277 /scratch/project_2006327/YOLOv5/datasets/2024_datasets/scenario_3/test_data/images/test/Choke_123_1724.jpg: 640x640 2 Cs, 6.7ms\n",
      "image 27/277 /scratch/project_2006327/YOLOv5/datasets/2024_datasets/scenario_3/test_data/images/test/Choke_123_1725.jpg: 640x640 4 Cs, 6.6ms\n",
      "image 28/277 /scratch/project_2006327/YOLOv5/datasets/2024_datasets/scenario_3/test_data/images/test/Choke_123_1728.jpg: 640x640 5 Cs, 6.6ms\n",
      "image 29/277 /scratch/project_2006327/YOLOv5/datasets/2024_datasets/scenario_3/test_data/images/test/Choke_123_1820.jpg: 640x640 1 C, 6.7ms\n",
      "image 30/277 /scratch/project_2006327/YOLOv5/datasets/2024_datasets/scenario_3/test_data/images/test/Choke_123_1821.jpg: 640x640 11 Cs, 6.6ms\n",
      "image 31/277 /scratch/project_2006327/YOLOv5/datasets/2024_datasets/scenario_3/test_data/images/test/Choke_123_1826.jpg: 640x640 11 Cs, 6.7ms\n",
      "image 32/277 /scratch/project_2006327/YOLOv5/datasets/2024_datasets/scenario_3/test_data/images/test/Choke_123_1827.jpg: 640x640 2 Cs, 12.8ms\n",
      "image 33/277 /scratch/project_2006327/YOLOv5/datasets/2024_datasets/scenario_3/test_data/images/test/Choke_123_1828.jpg: 640x640 2 Cs, 6.7ms\n",
      "image 34/277 /scratch/project_2006327/YOLOv5/datasets/2024_datasets/scenario_3/test_data/images/test/Choke_123_1880.jpg: 640x640 3 Cs, 9.0ms\n",
      "image 35/277 /scratch/project_2006327/YOLOv5/datasets/2024_datasets/scenario_3/test_data/images/test/Choke_123_1882.jpg: 640x640 8 Cs, 20.2ms\n",
      "image 36/277 /scratch/project_2006327/YOLOv5/datasets/2024_datasets/scenario_3/test_data/images/test/Choke_123_1921.jpg: 640x640 2 Cs, 20.5ms\n",
      "image 37/277 /scratch/project_2006327/YOLOv5/datasets/2024_datasets/scenario_3/test_data/images/test/Choke_123_1922.jpg: 640x640 11 Cs, 6.6ms\n",
      "image 38/277 /scratch/project_2006327/YOLOv5/datasets/2024_datasets/scenario_3/test_data/images/test/Choke_123_1923.jpg: 640x640 1 C, 33.5ms\n",
      "image 39/277 /scratch/project_2006327/YOLOv5/datasets/2024_datasets/scenario_3/test_data/images/test/Choke_123_1926.jpg: 640x640 1 C, 6.7ms\n",
      "image 40/277 /scratch/project_2006327/YOLOv5/datasets/2024_datasets/scenario_3/test_data/images/test/Choke_123_1927.jpg: 640x640 6 Cs, 6.6ms\n",
      "image 41/277 /scratch/project_2006327/YOLOv5/datasets/2024_datasets/scenario_3/test_data/images/test/Choke_123_1928.jpg: 640x640 25 Cs, 6.7ms\n",
      "image 42/277 /scratch/project_2006327/YOLOv5/datasets/2024_datasets/scenario_3/test_data/images/test/Choke_123_1929.jpg: 640x640 24 Cs, 6.7ms\n",
      "image 43/277 /scratch/project_2006327/YOLOv5/datasets/2024_datasets/scenario_3/test_data/images/test/Choke_123_1981.jpg: 640x640 8 Cs, 6.7ms\n",
      "image 44/277 /scratch/project_2006327/YOLOv5/datasets/2024_datasets/scenario_3/test_data/images/test/Choke_123_1982.jpg: 640x640 10 Cs, 6.7ms\n",
      "image 45/277 /scratch/project_2006327/YOLOv5/datasets/2024_datasets/scenario_3/test_data/images/test/Choke_123_1983.jpg: 640x640 10 Cs, 6.7ms\n",
      "image 46/277 /scratch/project_2006327/YOLOv5/datasets/2024_datasets/scenario_3/test_data/images/test/Choke_123_2030.jpg: 640x640 10 Cs, 7.1ms\n",
      "image 47/277 /scratch/project_2006327/YOLOv5/datasets/2024_datasets/scenario_3/test_data/images/test/Choke_123_2082.jpg: 640x640 9 Cs, 6.7ms\n",
      "image 48/277 /scratch/project_2006327/YOLOv5/datasets/2024_datasets/scenario_3/test_data/images/test/Choke_123_2083.jpg: 640x640 8 Cs, 6.7ms\n",
      "image 49/277 /scratch/project_2006327/YOLOv5/datasets/2024_datasets/scenario_3/test_data/images/test/Choke_123_2084.jpg: 640x640 5 Cs, 35.0ms\n",
      "image 50/277 /scratch/project_2006327/YOLOv5/datasets/2024_datasets/scenario_3/test_data/images/test/Choke_123_2183.jpg: 640x640 6 Cs, 6.7ms\n",
      "image 51/277 /scratch/project_2006327/YOLOv5/datasets/2024_datasets/scenario_3/test_data/images/test/Choke_123_2184.jpg: 640x640 6 Cs, 8.3ms\n",
      "image 52/277 /scratch/project_2006327/YOLOv5/datasets/2024_datasets/scenario_3/test_data/images/test/Choke_123_2185.jpg: 640x640 8 Cs, 6.7ms\n",
      "image 53/277 /scratch/project_2006327/YOLOv5/datasets/2024_datasets/scenario_3/test_data/images/test/Choke_123_3499.jpg: 640x640 15 Cs, 6.7ms\n",
      "image 54/277 /scratch/project_2006327/YOLOv5/datasets/2024_datasets/scenario_3/test_data/images/test/Choke_123_3500.jpg: 640x640 21 Cs, 6.6ms\n",
      "image 55/277 /scratch/project_2006327/YOLOv5/datasets/2024_datasets/scenario_3/test_data/images/test/Choke_123_3600.jpg: 640x640 10 Cs, 6.6ms\n",
      "image 56/277 /scratch/project_2006327/YOLOv5/datasets/2024_datasets/scenario_3/test_data/images/test/Choke_123_3601.jpg: 640x640 20 Cs, 7.6ms\n",
      "image 57/277 /scratch/project_2006327/YOLOv5/datasets/2024_datasets/scenario_3/test_data/images/test/Choke_123_3701.jpg: 640x640 2 Cs, 6.6ms\n",
      "image 58/277 /scratch/project_2006327/YOLOv5/datasets/2024_datasets/scenario_3/test_data/images/test/Choke_123_3702.jpg: 640x640 1 C, 6.7ms\n",
      "image 59/277 /scratch/project_2006327/YOLOv5/datasets/2024_datasets/scenario_3/test_data/images/test/Choke_123_3703.jpg: 640x640 4 Cs, 6.6ms\n",
      "image 60/277 /scratch/project_2006327/YOLOv5/datasets/2024_datasets/scenario_3/test_data/images/test/Choke_123_3802.jpg: 640x640 4 Cs, 8.9ms\n",
      "image 61/277 /scratch/project_2006327/YOLOv5/datasets/2024_datasets/scenario_3/test_data/images/test/Choke_123_3803.jpg: 640x640 2 Cs, 6.7ms\n",
      "image 62/277 /scratch/project_2006327/YOLOv5/datasets/2024_datasets/scenario_3/test_data/images/test/Choke_123_393.jpg: 640x640 11 Cs, 6.7ms\n",
      "image 63/277 /scratch/project_2006327/YOLOv5/datasets/2024_datasets/scenario_3/test_data/images/test/Choke_123_394.jpg: 640x640 1 C, 6.7ms\n",
      "image 64/277 /scratch/project_2006327/YOLOv5/datasets/2024_datasets/scenario_3/test_data/images/test/Choke_123_493.jpg: 640x640 8 Cs, 6.6ms\n",
      "image 65/277 /scratch/project_2006327/YOLOv5/datasets/2024_datasets/scenario_3/test_data/images/test/Choke_123_494.jpg: 640x640 22 Cs, 6.6ms\n",
      "image 66/277 /scratch/project_2006327/YOLOv5/datasets/2024_datasets/scenario_3/test_data/images/test/Choke_123_495.jpg: 640x640 3 Cs, 6.6ms\n",
      "image 67/277 /scratch/project_2006327/YOLOv5/datasets/2024_datasets/scenario_3/test_data/images/test/Choke_123_5089.jpg: 640x640 7 Cs, 6.7ms\n",
      "image 68/277 /scratch/project_2006327/YOLOv5/datasets/2024_datasets/scenario_3/test_data/images/test/Choke_123_594.jpg: 640x640 1 C, 6.7ms\n",
      "image 69/277 /scratch/project_2006327/YOLOv5/datasets/2024_datasets/scenario_3/test_data/images/test/Choke_123_595.jpg: 640x640 9 Cs, 16.6ms\n",
      "image 70/277 /scratch/project_2006327/YOLOv5/datasets/2024_datasets/scenario_3/test_data/images/test/Choke_123_596.jpg: 640x640 2 Cs, 24.6ms\n",
      "image 71/277 /scratch/project_2006327/YOLOv5/datasets/2024_datasets/scenario_3/test_data/images/test/Choke_123_695.jpg: 640x640 2 Cs, 16.0ms\n",
      "image 72/277 /scratch/project_2006327/YOLOv5/datasets/2024_datasets/scenario_3/test_data/images/test/Choke_123_696.jpg: 640x640 7 Cs, 18.2ms\n",
      "image 73/277 /scratch/project_2006327/YOLOv5/datasets/2024_datasets/scenario_3/test_data/images/test/Choke_123_697.jpg: 640x640 3 Cs, 16.7ms\n",
      "image 74/277 /scratch/project_2006327/YOLOv5/datasets/2024_datasets/scenario_3/test_data/images/test/Choke_123_698.jpg: 640x640 2 Cs, 6.5ms\n",
      "image 75/277 /scratch/project_2006327/YOLOv5/datasets/2024_datasets/scenario_3/test_data/images/test/Choke_143_2035.jpg: 640x640 1 C, 6.5ms\n",
      "image 76/277 /scratch/project_2006327/YOLOv5/datasets/2024_datasets/scenario_3/test_data/images/test/Choke_143_2036.jpg: 640x640 2 Cs, 6.5ms\n",
      "image 77/277 /scratch/project_2006327/YOLOv5/datasets/2024_datasets/scenario_3/test_data/images/test/Choke_143_2037.jpg: 640x640 4 Cs, 6.5ms\n",
      "image 78/277 /scratch/project_2006327/YOLOv5/datasets/2024_datasets/scenario_3/test_data/images/test/Choke_143_2038.jpg: 640x640 7 Cs, 6.5ms\n",
      "image 79/277 /scratch/project_2006327/YOLOv5/datasets/2024_datasets/scenario_3/test_data/images/test/Choke_143_2039.jpg: 640x640 5 Cs, 6.4ms\n",
      "image 80/277 /scratch/project_2006327/YOLOv5/datasets/2024_datasets/scenario_3/test_data/images/test/Choke_143_2040.jpg: 640x640 2 Cs, 6.5ms\n",
      "image 81/277 /scratch/project_2006327/YOLOv5/datasets/2024_datasets/scenario_3/test_data/images/test/Choke_143_2136.jpg: 640x640 5 Cs, 6.5ms\n",
      "image 82/277 /scratch/project_2006327/YOLOv5/datasets/2024_datasets/scenario_3/test_data/images/test/Choke_143_2137.jpg: 640x640 10 Cs, 31.6ms\n",
      "image 83/277 /scratch/project_2006327/YOLOv5/datasets/2024_datasets/scenario_3/test_data/images/test/Choke_143_2138.jpg: 640x640 8 Cs, 21.0ms\n",
      "image 84/277 /scratch/project_2006327/YOLOv5/datasets/2024_datasets/scenario_3/test_data/images/test/Choke_143_2139.jpg: 640x640 4 Cs, 43.4ms\n",
      "image 85/277 /scratch/project_2006327/YOLOv5/datasets/2024_datasets/scenario_3/test_data/images/test/Choke_143_2140.jpg: 640x640 1 C, 72.8ms\n",
      "image 86/277 /scratch/project_2006327/YOLOv5/datasets/2024_datasets/scenario_3/test_data/images/test/Choke_143_2141.jpg: 640x640 4 Cs, 32.6ms\n",
      "image 87/277 /scratch/project_2006327/YOLOv5/datasets/2024_datasets/scenario_3/test_data/images/test/Choke_143_2237.jpg: 640x640 1 C, 6.6ms\n",
      "image 88/277 /scratch/project_2006327/YOLOv5/datasets/2024_datasets/scenario_3/test_data/images/test/Choke_143_2239.jpg: 640x640 2 Cs, 6.6ms\n",
      "image 89/277 /scratch/project_2006327/YOLOv5/datasets/2024_datasets/scenario_3/test_data/images/test/Choke_143_2240.jpg: 640x640 2 Cs, 6.5ms\n",
      "image 90/277 /scratch/project_2006327/YOLOv5/datasets/2024_datasets/scenario_3/test_data/images/test/Choke_143_2338.jpg: 640x640 10 Cs, 6.5ms\n",
      "image 91/277 /scratch/project_2006327/YOLOv5/datasets/2024_datasets/scenario_3/test_data/images/test/Choke_143_2339.jpg: 640x640 2 Cs, 6.6ms\n",
      "image 92/277 /scratch/project_2006327/YOLOv5/datasets/2024_datasets/scenario_3/test_data/images/test/Choke_143_2439.jpg: 640x640 12 Cs, 6.5ms\n",
      "image 93/277 /scratch/project_2006327/YOLOv5/datasets/2024_datasets/scenario_3/test_data/images/test/Choke_143_2633.jpg: 640x640 4 Cs, 6.5ms\n",
      "image 94/277 /scratch/project_2006327/YOLOv5/datasets/2024_datasets/scenario_3/test_data/images/test/Choke_143_4445.jpg: 640x640 4 Cs, 6.5ms\n",
      "image 95/277 /scratch/project_2006327/YOLOv5/datasets/2024_datasets/scenario_3/test_data/images/test/Choke_143_4446.jpg: 640x640 1 C, 6.5ms\n",
      "image 96/277 /scratch/project_2006327/YOLOv5/datasets/2024_datasets/scenario_3/test_data/images/test/Choke_143_4546.jpg: 640x640 8 Cs, 6.6ms\n",
      "image 97/277 /scratch/project_2006327/YOLOv5/datasets/2024_datasets/scenario_3/test_data/images/test/Choke_143_4547.jpg: 640x640 12 Cs, 6.6ms\n",
      "image 98/277 /scratch/project_2006327/YOLOv5/datasets/2024_datasets/scenario_3/test_data/images/test/Choke_143_4548.jpg: 640x640 3 Cs, 16.0ms\n",
      "image 99/277 /scratch/project_2006327/YOLOv5/datasets/2024_datasets/scenario_3/test_data/images/test/Choke_143_4647.jpg: 640x640 3 Cs, 18.1ms\n",
      "image 100/277 /scratch/project_2006327/YOLOv5/datasets/2024_datasets/scenario_3/test_data/images/test/Choke_143_4648.jpg: 640x640 5 Cs, 56.2ms\n",
      "image 101/277 /scratch/project_2006327/YOLOv5/datasets/2024_datasets/scenario_3/test_data/images/test/Choke_143_4649.jpg: 640x640 6 Cs, 6.5ms\n",
      "image 102/277 /scratch/project_2006327/YOLOv5/datasets/2024_datasets/scenario_3/test_data/images/test/Choke_143_4750.jpg: 640x640 5 Cs, 6.6ms\n",
      "image 103/277 /scratch/project_2006327/YOLOv5/datasets/2024_datasets/scenario_3/test_data/images/test/Choke_143_4751.jpg: 640x640 3 Cs, 6.6ms\n",
      "image 104/277 /scratch/project_2006327/YOLOv5/datasets/2024_datasets/scenario_3/test_data/images/test/Choke_143_5535.jpg: 640x640 1 C, 6.5ms\n",
      "image 105/277 /scratch/project_2006327/YOLOv5/datasets/2024_datasets/scenario_3/test_data/images/test/Lumo_032_4621.jpg: 640x640 3 Cs, 6.5ms\n",
      "image 106/277 /scratch/project_2006327/YOLOv5/datasets/2024_datasets/scenario_3/test_data/images/test/Lumo_032_4622.jpg: 640x640 2 Cs, 6.5ms\n",
      "image 107/277 /scratch/project_2006327/YOLOv5/datasets/2024_datasets/scenario_3/test_data/images/test/Lumo_032_4623.jpg: 640x640 1 C, 6.5ms\n",
      "image 108/277 /scratch/project_2006327/YOLOv5/datasets/2024_datasets/scenario_3/test_data/images/test/Lumo_032_4723.jpg: 640x640 23 Cs, 19.0ms\n",
      "image 109/277 /scratch/project_2006327/YOLOv5/datasets/2024_datasets/scenario_3/test_data/images/test/Lumo_032_4724.jpg: 640x640 3 Cs, 6.5ms\n",
      "image 110/277 /scratch/project_2006327/YOLOv5/datasets/2024_datasets/scenario_3/test_data/images/test/Lumo_032_4725.jpg: 640x640 25 Cs, 6.5ms\n",
      "image 111/277 /scratch/project_2006327/YOLOv5/datasets/2024_datasets/scenario_3/test_data/images/test/Lumo_032_4824.jpg: 640x640 6 Cs, 36.4ms\n",
      "image 112/277 /scratch/project_2006327/YOLOv5/datasets/2024_datasets/scenario_3/test_data/images/test/Lumo_032_4825.jpg: 640x640 37 Cs, 30.7ms\n",
      "image 113/277 /scratch/project_2006327/YOLOv5/datasets/2024_datasets/scenario_3/test_data/images/test/Lumo_032_4826.jpg: 640x640 53 Cs, 33.4ms\n",
      "image 114/277 /scratch/project_2006327/YOLOv5/datasets/2024_datasets/scenario_3/test_data/images/test/Lumo_032_4925.jpg: 640x640 1 C, 32.4ms\n",
      "image 115/277 /scratch/project_2006327/YOLOv5/datasets/2024_datasets/scenario_3/test_data/images/test/Lumo_032_4926.jpg: 640x640 5 Cs, 6.4ms\n",
      "image 116/277 /scratch/project_2006327/YOLOv5/datasets/2024_datasets/scenario_3/test_data/images/test/Lumo_032_4927.jpg: 640x640 8 Cs, 6.3ms\n",
      "image 117/277 /scratch/project_2006327/YOLOv5/datasets/2024_datasets/scenario_3/test_data/images/test/Lumo_032_5855.jpg: 640x640 3 Cs, 6.3ms\n",
      "image 118/277 /scratch/project_2006327/YOLOv5/datasets/2024_datasets/scenario_3/test_data/images/test/Lumo_032_5856.jpg: 640x640 10 Cs, 6.3ms\n",
      "image 119/277 /scratch/project_2006327/YOLOv5/datasets/2024_datasets/scenario_3/test_data/images/test/Lumo_032_5955.jpg: 640x640 2 Cs, 6.3ms\n",
      "image 120/277 /scratch/project_2006327/YOLOv5/datasets/2024_datasets/scenario_3/test_data/images/test/Lumo_032_5956.jpg: 640x640 22 Cs, 22.8ms\n",
      "image 121/277 /scratch/project_2006327/YOLOv5/datasets/2024_datasets/scenario_3/test_data/images/test/Lumo_032_5957.jpg: 640x640 12 Cs, 16.2ms\n",
      "image 122/277 /scratch/project_2006327/YOLOv5/datasets/2024_datasets/scenario_3/test_data/images/test/Lumo_032_5958.jpg: 640x640 12 Cs, 21.9ms\n",
      "image 123/277 /scratch/project_2006327/YOLOv5/datasets/2024_datasets/scenario_3/test_data/images/test/Lumo_032_6056.jpg: 640x640 3 Cs, 16.0ms\n",
      "image 124/277 /scratch/project_2006327/YOLOv5/datasets/2024_datasets/scenario_3/test_data/images/test/Lumo_032_6057.jpg: 640x640 6 Cs, 6.6ms\n",
      "image 125/277 /scratch/project_2006327/YOLOv5/datasets/2024_datasets/scenario_3/test_data/images/test/Lumo_032_6058.jpg: 640x640 13 Cs, 6.4ms\n",
      "image 126/277 /scratch/project_2006327/YOLOv5/datasets/2024_datasets/scenario_3/test_data/images/test/Lumo_032_6059.jpg: 640x640 33 Cs, 6.3ms\n",
      "image 127/277 /scratch/project_2006327/YOLOv5/datasets/2024_datasets/scenario_3/test_data/images/test/Lumo_032_6157.jpg: 640x640 2 Cs, 22.9ms\n",
      "image 128/277 /scratch/project_2006327/YOLOv5/datasets/2024_datasets/scenario_3/test_data/images/test/Lumo_032_6158.jpg: 640x640 7 Cs, 22.0ms\n",
      "image 129/277 /scratch/project_2006327/YOLOv5/datasets/2024_datasets/scenario_3/test_data/images/test/Lumo_032_6159.jpg: 640x640 16 Cs, 19.0ms\n",
      "image 130/277 /scratch/project_2006327/YOLOv5/datasets/2024_datasets/scenario_3/test_data/images/test/Lumo_032_6160.jpg: 640x640 24 Cs, 19.3ms\n",
      "image 131/277 /scratch/project_2006327/YOLOv5/datasets/2024_datasets/scenario_3/test_data/images/test/Lumo_032_6259.jpg: 640x640 3 Cs, 35.0ms\n",
      "image 132/277 /scratch/project_2006327/YOLOv5/datasets/2024_datasets/scenario_3/test_data/images/test/Lumo_032_6260.jpg: 640x640 12 Cs, 6.4ms\n",
      "image 133/277 /scratch/project_2006327/YOLOv5/datasets/2024_datasets/scenario_3/test_data/images/test/Lumo_049_115.jpg: 640x640 2 Cs, 23.5ms\n",
      "image 134/277 /scratch/project_2006327/YOLOv5/datasets/2024_datasets/scenario_3/test_data/images/test/Lumo_049_117.jpg: 640x640 7 Cs, 16.0ms\n",
      "image 135/277 /scratch/project_2006327/YOLOv5/datasets/2024_datasets/scenario_3/test_data/images/test/Lumo_049_118.jpg: 640x640 17 Cs, 24.1ms\n",
      "image 136/277 /scratch/project_2006327/YOLOv5/datasets/2024_datasets/scenario_3/test_data/images/test/Lumo_049_119.jpg: 640x640 32 Cs, 19.6ms\n",
      "image 137/277 /scratch/project_2006327/YOLOv5/datasets/2024_datasets/scenario_3/test_data/images/test/Lumo_049_1416.jpg: 640x640 3 Cs, 8.6ms\n",
      "image 138/277 /scratch/project_2006327/YOLOv5/datasets/2024_datasets/scenario_3/test_data/images/test/Lumo_049_1417.jpg: 640x640 5 Cs, 6.4ms\n",
      "image 139/277 /scratch/project_2006327/YOLOv5/datasets/2024_datasets/scenario_3/test_data/images/test/Lumo_049_1517.jpg: 640x640 12 Cs, 17.4ms\n",
      "image 140/277 /scratch/project_2006327/YOLOv5/datasets/2024_datasets/scenario_3/test_data/images/test/Lumo_049_1518.jpg: 640x640 68 Cs, 27.0ms\n",
      "image 141/277 /scratch/project_2006327/YOLOv5/datasets/2024_datasets/scenario_3/test_data/images/test/Lumo_049_1519.jpg: 640x640 1 C, 18.1ms\n",
      "image 142/277 /scratch/project_2006327/YOLOv5/datasets/2024_datasets/scenario_3/test_data/images/test/Lumo_049_1618.jpg: 640x640 19 Cs, 21.9ms\n",
      "image 143/277 /scratch/project_2006327/YOLOv5/datasets/2024_datasets/scenario_3/test_data/images/test/Lumo_049_1619.jpg: 640x640 6 Cs, 27.0ms\n",
      "image 144/277 /scratch/project_2006327/YOLOv5/datasets/2024_datasets/scenario_3/test_data/images/test/Lumo_049_1620.jpg: 640x640 2 Cs, 24.9ms\n",
      "image 145/277 /scratch/project_2006327/YOLOv5/datasets/2024_datasets/scenario_3/test_data/images/test/Lumo_049_1826.jpg: 640x640 12 Cs, 6.5ms\n",
      "image 146/277 /scratch/project_2006327/YOLOv5/datasets/2024_datasets/scenario_3/test_data/images/test/Lumo_049_1827.jpg: 640x640 28 Cs, 6.3ms\n",
      "image 147/277 /scratch/project_2006327/YOLOv5/datasets/2024_datasets/scenario_3/test_data/images/test/Lumo_049_1927.jpg: 640x640 7 Cs, 6.4ms\n",
      "image 148/277 /scratch/project_2006327/YOLOv5/datasets/2024_datasets/scenario_3/test_data/images/test/Lumo_049_1928.jpg: 640x640 13 Cs, 18.7ms\n",
      "image 149/277 /scratch/project_2006327/YOLOv5/datasets/2024_datasets/scenario_3/test_data/images/test/Lumo_049_2029.jpg: 640x640 17 Cs, 16.7ms\n",
      "image 150/277 /scratch/project_2006327/YOLOv5/datasets/2024_datasets/scenario_3/test_data/images/test/Lumo_049_2030.jpg: 640x640 5 Cs, 16.5ms\n",
      "image 151/277 /scratch/project_2006327/YOLOv5/datasets/2024_datasets/scenario_3/test_data/images/test/Lumo_049_218.jpg: 640x640 1 C, 16.4ms\n",
      "image 152/277 /scratch/project_2006327/YOLOv5/datasets/2024_datasets/scenario_3/test_data/images/test/Lumo_049_220.jpg: 640x640 3 Cs, 6.5ms\n",
      "image 153/277 /scratch/project_2006327/YOLOv5/datasets/2024_datasets/scenario_3/test_data/images/test/Lumo_069_1049.jpg: 640x640 5 Cs, 6.3ms\n",
      "image 154/277 /scratch/project_2006327/YOLOv5/datasets/2024_datasets/scenario_3/test_data/images/test/Lumo_069_1050.jpg: 640x640 7 Cs, 19.7ms\n",
      "image 155/277 /scratch/project_2006327/YOLOv5/datasets/2024_datasets/scenario_3/test_data/images/test/Lumo_069_543.jpg: 640x640 13 Cs, 18.5ms\n",
      "image 156/277 /scratch/project_2006327/YOLOv5/datasets/2024_datasets/scenario_3/test_data/images/test/Lumo_069_644.jpg: 640x640 25 Cs, 17.5ms\n",
      "image 157/277 /scratch/project_2006327/YOLOv5/datasets/2024_datasets/scenario_3/test_data/images/test/Lumo_069_744.jpg: 640x640 10 Cs, 18.6ms\n",
      "image 158/277 /scratch/project_2006327/YOLOv5/datasets/2024_datasets/scenario_3/test_data/images/test/Lumo_069_745.jpg: 640x640 13 Cs, 17.0ms\n",
      "image 159/277 /scratch/project_2006327/YOLOv5/datasets/2024_datasets/scenario_3/test_data/images/test/Lumo_069_746.jpg: 640x640 14 Cs, 6.3ms\n",
      "image 160/277 /scratch/project_2006327/YOLOv5/datasets/2024_datasets/scenario_3/test_data/images/test/Lumo_069_844.jpg: 640x640 4 Cs, 6.4ms\n",
      "image 161/277 /scratch/project_2006327/YOLOv5/datasets/2024_datasets/scenario_3/test_data/images/test/Lumo_069_845.jpg: 640x640 10 Cs, 15.9ms\n",
      "image 162/277 /scratch/project_2006327/YOLOv5/datasets/2024_datasets/scenario_3/test_data/images/test/Lumo_069_846.jpg: 640x640 31 Cs, 22.5ms\n",
      "image 163/277 /scratch/project_2006327/YOLOv5/datasets/2024_datasets/scenario_3/test_data/images/test/Lumo_069_847.jpg: 640x640 11 Cs, 28.8ms\n",
      "image 164/277 /scratch/project_2006327/YOLOv5/datasets/2024_datasets/scenario_3/test_data/images/test/Lumo_069_848.jpg: 640x640 3 Cs, 6.6ms\n",
      "image 165/277 /scratch/project_2006327/YOLOv5/datasets/2024_datasets/scenario_3/test_data/images/test/Lumo_069_946.jpg: 640x640 11 Cs, 17.3ms\n",
      "image 166/277 /scratch/project_2006327/YOLOv5/datasets/2024_datasets/scenario_3/test_data/images/test/Lumo_069_947.jpg: 640x640 14 Cs, 6.3ms\n",
      "image 167/277 /scratch/project_2006327/YOLOv5/datasets/2024_datasets/scenario_3/test_data/images/test/Lumo_069_948.jpg: 640x640 36 Cs, 16.5ms\n",
      "image 168/277 /scratch/project_2006327/YOLOv5/datasets/2024_datasets/scenario_3/test_data/images/test/Lumo_069_949.jpg: 640x640 20 Cs, 18.4ms\n",
      "image 169/277 /scratch/project_2006327/YOLOv5/datasets/2024_datasets/scenario_3/test_data/images/test/Lumo_091_1117.jpg: 640x640 4 Cs, 16.7ms\n",
      "image 170/277 /scratch/project_2006327/YOLOv5/datasets/2024_datasets/scenario_3/test_data/images/test/Lumo_091_1216.jpg: 640x640 3 Cs, 18.6ms\n",
      "image 171/277 /scratch/project_2006327/YOLOv5/datasets/2024_datasets/scenario_3/test_data/images/test/Lumo_091_1217.jpg: 640x640 10 Cs, 17.7ms\n",
      "image 172/277 /scratch/project_2006327/YOLOv5/datasets/2024_datasets/scenario_3/test_data/images/test/Lumo_091_1218.jpg: 640x640 15 Cs, 6.5ms\n",
      "image 173/277 /scratch/project_2006327/YOLOv5/datasets/2024_datasets/scenario_3/test_data/images/test/Lumo_091_127.jpg: 640x640 21 Cs, 6.3ms\n",
      "image 174/277 /scratch/project_2006327/YOLOv5/datasets/2024_datasets/scenario_3/test_data/images/test/Lumo_091_128.jpg: 640x640 11 Cs, 6.3ms\n",
      "image 175/277 /scratch/project_2006327/YOLOv5/datasets/2024_datasets/scenario_3/test_data/images/test/Lumo_091_1314.jpg: 640x640 1 C, 23.4ms\n",
      "image 176/277 /scratch/project_2006327/YOLOv5/datasets/2024_datasets/scenario_3/test_data/images/test/Lumo_091_1317.jpg: 640x640 4 Cs, 16.4ms\n",
      "image 177/277 /scratch/project_2006327/YOLOv5/datasets/2024_datasets/scenario_3/test_data/images/test/Lumo_091_1318.jpg: 640x640 5 Cs, 22.3ms\n",
      "image 178/277 /scratch/project_2006327/YOLOv5/datasets/2024_datasets/scenario_3/test_data/images/test/Lumo_091_1319.jpg: 640x640 4 Cs, 22.9ms\n",
      "image 179/277 /scratch/project_2006327/YOLOv5/datasets/2024_datasets/scenario_3/test_data/images/test/Lumo_091_227.jpg: 640x640 14 Cs, 6.6ms\n",
      "image 180/277 /scratch/project_2006327/YOLOv5/datasets/2024_datasets/scenario_3/test_data/images/test/Lumo_091_228.jpg: 640x640 42 Cs, 6.5ms\n",
      "image 181/277 /scratch/project_2006327/YOLOv5/datasets/2024_datasets/scenario_3/test_data/images/test/Lumo_091_229.jpg: 640x640 7 Cs, 16.4ms\n",
      "image 182/277 /scratch/project_2006327/YOLOv5/datasets/2024_datasets/scenario_3/test_data/images/test/Lumo_091_327.jpg: 640x640 3 Cs, 18.2ms\n",
      "image 183/277 /scratch/project_2006327/YOLOv5/datasets/2024_datasets/scenario_3/test_data/images/test/Lumo_091_328.jpg: 640x640 4 Cs, 20.5ms\n",
      "image 184/277 /scratch/project_2006327/YOLOv5/datasets/2024_datasets/scenario_3/test_data/images/test/Lumo_091_427.jpg: 640x640 6 Cs, 22.4ms\n",
      "image 185/277 /scratch/project_2006327/YOLOv5/datasets/2024_datasets/scenario_3/test_data/images/test/Lumo_091_428.jpg: 640x640 9 Cs, 20.8ms\n",
      "image 186/277 /scratch/project_2006327/YOLOv5/datasets/2024_datasets/scenario_3/test_data/images/test/Lumo_091_528.jpg: 640x640 16 Cs, 6.4ms\n",
      "image 187/277 /scratch/project_2006327/YOLOv5/datasets/2024_datasets/scenario_3/test_data/images/test/THW_097_3559.jpg: 640x640 4 Cs, 6.3ms\n",
      "image 188/277 /scratch/project_2006327/YOLOv5/datasets/2024_datasets/scenario_3/test_data/images/test/THW_097_3560.jpg: 640x640 25 Cs, 6.3ms\n",
      "image 189/277 /scratch/project_2006327/YOLOv5/datasets/2024_datasets/scenario_3/test_data/images/test/THW_097_3561.jpg: 640x640 7 Cs, 16.5ms\n",
      "image 190/277 /scratch/project_2006327/YOLOv5/datasets/2024_datasets/scenario_3/test_data/images/test/THW_097_3562.jpg: 640x640 2 Cs, 23.1ms\n",
      "image 191/277 /scratch/project_2006327/YOLOv5/datasets/2024_datasets/scenario_3/test_data/images/test/THW_097_3659.jpg: 640x640 12 Cs, 42.6ms\n",
      "image 192/277 /scratch/project_2006327/YOLOv5/datasets/2024_datasets/scenario_3/test_data/images/test/THW_097_3660.jpg: 640x640 4 Cs, 17.2ms\n",
      "image 193/277 /scratch/project_2006327/YOLOv5/datasets/2024_datasets/scenario_3/test_data/images/test/THW_097_3661.jpg: 640x640 13 Cs, 6.4ms\n",
      "image 194/277 /scratch/project_2006327/YOLOv5/datasets/2024_datasets/scenario_3/test_data/images/test/THW_097_3662.jpg: 640x640 22 Cs, 6.4ms\n",
      "image 195/277 /scratch/project_2006327/YOLOv5/datasets/2024_datasets/scenario_3/test_data/images/test/THW_097_3663.jpg: 640x640 10 Cs, 22.0ms\n",
      "image 196/277 /scratch/project_2006327/YOLOv5/datasets/2024_datasets/scenario_3/test_data/images/test/THW_097_3758.jpg: 640x640 4 Cs, 25.9ms\n",
      "image 197/277 /scratch/project_2006327/YOLOv5/datasets/2024_datasets/scenario_3/test_data/images/test/THW_097_3759.jpg: 640x640 12 Cs, 16.5ms\n",
      "image 198/277 /scratch/project_2006327/YOLOv5/datasets/2024_datasets/scenario_3/test_data/images/test/THW_097_3760.jpg: 640x640 3 Cs, 16.8ms\n",
      "image 199/277 /scratch/project_2006327/YOLOv5/datasets/2024_datasets/scenario_3/test_data/images/test/THW_097_3761.jpg: 640x640 6 Cs, 6.6ms\n",
      "image 200/277 /scratch/project_2006327/YOLOv5/datasets/2024_datasets/scenario_3/test_data/images/test/THW_097_3763.jpg: 640x640 2 Cs, 6.6ms\n",
      "image 201/277 /scratch/project_2006327/YOLOv5/datasets/2024_datasets/scenario_3/test_data/images/test/THW_097_3860.jpg: 640x640 1 C, 6.5ms\n",
      "image 202/277 /scratch/project_2006327/YOLOv5/datasets/2024_datasets/scenario_3/test_data/images/test/THW_097_3962.jpg: 640x640 1 C, 22.1ms\n",
      "image 203/277 /scratch/project_2006327/YOLOv5/datasets/2024_datasets/scenario_3/test_data/images/test/THW_097_3987.jpg: 640x640 6 Cs, 16.0ms\n",
      "image 204/277 /scratch/project_2006327/YOLOv5/datasets/2024_datasets/scenario_3/test_data/images/test/THW_097_3988.jpg: 640x640 11 Cs, 16.5ms\n",
      "image 205/277 /scratch/project_2006327/YOLOv5/datasets/2024_datasets/scenario_3/test_data/images/test/THW_097_4063.jpg: 640x640 2 Cs, 19.5ms\n",
      "image 206/277 /scratch/project_2006327/YOLOv5/datasets/2024_datasets/scenario_3/test_data/images/test/THW_097_4064.jpg: 640x640 3 Cs, 6.4ms\n",
      "image 207/277 /scratch/project_2006327/YOLOv5/datasets/2024_datasets/scenario_3/test_data/images/test/THW_097_4088.jpg: 640x640 31 Cs, 6.4ms\n",
      "image 208/277 /scratch/project_2006327/YOLOv5/datasets/2024_datasets/scenario_3/test_data/images/test/THW_097_4089.jpg: 640x640 32 Cs, 6.3ms\n",
      "image 209/277 /scratch/project_2006327/YOLOv5/datasets/2024_datasets/scenario_3/test_data/images/test/THW_097_4188.jpg: 640x640 1 C, 6.4ms\n",
      "image 210/277 /scratch/project_2006327/YOLOv5/datasets/2024_datasets/scenario_3/test_data/images/test/THW_097_4189.jpg: 640x640 13 Cs, 6.3ms\n",
      "image 211/277 /scratch/project_2006327/YOLOv5/datasets/2024_datasets/scenario_3/test_data/images/test/THW_097_4190.jpg: 640x640 10 Cs, 6.4ms\n",
      "image 212/277 /scratch/project_2006327/YOLOv5/datasets/2024_datasets/scenario_3/test_data/images/test/THW_097_4290.jpg: 640x640 2 Cs, 6.3ms\n",
      "image 213/277 /scratch/project_2006327/YOLOv5/datasets/2024_datasets/scenario_3/test_data/images/test/THW_097_4292.jpg: 640x640 5 Cs, 6.3ms\n",
      "image 214/277 /scratch/project_2006327/YOLOv5/datasets/2024_datasets/scenario_3/test_data/images/test/THW_097_4393.jpg: 640x640 3 Cs, 6.3ms\n",
      "image 215/277 /scratch/project_2006327/YOLOv5/datasets/2024_datasets/scenario_3/test_data/images/test/THW_097_5078.jpg: 640x640 16 Cs, 6.4ms\n",
      "image 216/277 /scratch/project_2006327/YOLOv5/datasets/2024_datasets/scenario_3/test_data/images/test/THW_097_5079.jpg: 640x640 17 Cs, 6.3ms\n",
      "image 217/277 /scratch/project_2006327/YOLOv5/datasets/2024_datasets/scenario_3/test_data/images/test/THW_097_5179.jpg: 640x640 7 Cs, 6.3ms\n",
      "image 218/277 /scratch/project_2006327/YOLOv5/datasets/2024_datasets/scenario_3/test_data/images/test/THW_097_5180.jpg: 640x640 6 Cs, 6.3ms\n",
      "image 219/277 /scratch/project_2006327/YOLOv5/datasets/2024_datasets/scenario_3/test_data/images/test/THW_097_5181.jpg: 640x640 1 C, 6.4ms\n",
      "image 220/277 /scratch/project_2006327/YOLOv5/datasets/2024_datasets/scenario_3/test_data/images/test/THW_097_5280.jpg: 640x640 4 Cs, 6.4ms\n",
      "image 221/277 /scratch/project_2006327/YOLOv5/datasets/2024_datasets/scenario_3/test_data/images/test/THW_097_5281.jpg: 640x640 12 Cs, 6.4ms\n",
      "image 222/277 /scratch/project_2006327/YOLOv5/datasets/2024_datasets/scenario_3/test_data/images/test/THW_097_5382.jpg: 640x640 12 Cs, 6.3ms\n",
      "image 223/277 /scratch/project_2006327/YOLOv5/datasets/2024_datasets/scenario_3/test_data/images/test/THW_097_5383.jpg: 640x640 11 Cs, 6.3ms\n",
      "image 224/277 /scratch/project_2006327/YOLOv5/datasets/2024_datasets/scenario_3/test_data/images/test/THW_097_5483.jpg: 640x640 16 Cs, 6.3ms\n",
      "image 225/277 /scratch/project_2006327/YOLOv5/datasets/2024_datasets/scenario_3/test_data/images/test/THW_097_5484.jpg: 640x640 23 Cs, 6.3ms\n",
      "image 226/277 /scratch/project_2006327/YOLOv5/datasets/2024_datasets/scenario_3/test_data/images/test/THW_097_5485.jpg: 640x640 5 Cs, 6.3ms\n",
      "image 227/277 /scratch/project_2006327/YOLOv5/datasets/2024_datasets/scenario_3/test_data/images/test/THW_097_5584.jpg: 640x640 7 Cs, 6.3ms\n",
      "image 228/277 /scratch/project_2006327/YOLOv5/datasets/2024_datasets/scenario_3/test_data/images/test/THW_097_5585.jpg: 640x640 4 Cs, 6.4ms\n",
      "image 229/277 /scratch/project_2006327/YOLOv5/datasets/2024_datasets/scenario_3/test_data/images/test/THW_097_8272.jpg: 640x640 1 C, 6.3ms\n",
      "image 230/277 /scratch/project_2006327/YOLOv5/datasets/2024_datasets/scenario_3/test_data/images/test/THW_097_8273.jpg: 640x640 13 Cs, 6.3ms\n",
      "image 231/277 /scratch/project_2006327/YOLOv5/datasets/2024_datasets/scenario_3/test_data/images/test/THW_097_8274.jpg: 640x640 14 Cs, 6.3ms\n",
      "image 232/277 /scratch/project_2006327/YOLOv5/datasets/2024_datasets/scenario_3/test_data/images/test/THW_097_8303.jpg: 640x640 3 Cs, 6.4ms\n",
      "image 233/277 /scratch/project_2006327/YOLOv5/datasets/2024_datasets/scenario_3/test_data/images/test/THW_097_8304.jpg: 640x640 21 Cs, 6.4ms\n",
      "image 234/277 /scratch/project_2006327/YOLOv5/datasets/2024_datasets/scenario_3/test_data/images/test/THW_097_8305.jpg: 640x640 16 Cs, 6.4ms\n",
      "image 235/277 /scratch/project_2006327/YOLOv5/datasets/2024_datasets/scenario_3/test_data/images/test/THW_097_8404.jpg: 640x640 8 Cs, 6.4ms\n",
      "image 236/277 /scratch/project_2006327/YOLOv5/datasets/2024_datasets/scenario_3/test_data/images/test/THW_097_8405.jpg: 640x640 16 Cs, 6.4ms\n",
      "image 237/277 /scratch/project_2006327/YOLOv5/datasets/2024_datasets/scenario_3/test_data/images/test/THW_097_8406.jpg: 640x640 2 Cs, 6.4ms\n",
      "image 238/277 /scratch/project_2006327/YOLOv5/datasets/2024_datasets/scenario_3/test_data/images/test/THW_097_8506.jpg: 640x640 5 Cs, 6.4ms\n",
      "image 239/277 /scratch/project_2006327/YOLOv5/datasets/2024_datasets/scenario_3/test_data/images/test/THW_097_8607.jpg: 640x640 15 Cs, 6.4ms\n",
      "image 240/277 /scratch/project_2006327/YOLOv5/datasets/2024_datasets/scenario_3/test_data/images/test/THW_097_9307.jpg: 640x640 1 C, 6.4ms\n",
      "image 241/277 /scratch/project_2006327/YOLOv5/datasets/2024_datasets/scenario_3/test_data/images/test/THW_097_9689.jpg: 640x640 8 Cs, 7.3ms\n",
      "image 242/277 /scratch/project_2006327/YOLOv5/datasets/2024_datasets/scenario_3/test_data/images/test/THW_113_10028.jpg: 640x640 14 Cs, 7.5ms\n",
      "image 243/277 /scratch/project_2006327/YOLOv5/datasets/2024_datasets/scenario_3/test_data/images/test/THW_113_4618.jpg: 640x640 7 Cs, 7.2ms\n",
      "image 244/277 /scratch/project_2006327/YOLOv5/datasets/2024_datasets/scenario_3/test_data/images/test/THW_113_4619.jpg: 640x640 2 Cs, 7.5ms\n",
      "image 245/277 /scratch/project_2006327/YOLOv5/datasets/2024_datasets/scenario_3/test_data/images/test/THW_113_4720.jpg: 640x640 1 C, 6.8ms\n",
      "image 246/277 /scratch/project_2006327/YOLOv5/datasets/2024_datasets/scenario_3/test_data/images/test/THW_113_4721.jpg: 640x640 1 C, 6.3ms\n",
      "image 247/277 /scratch/project_2006327/YOLOv5/datasets/2024_datasets/scenario_3/test_data/images/test/THW_113_5852.jpg: 640x640 6 Cs, 6.3ms\n",
      "image 248/277 /scratch/project_2006327/YOLOv5/datasets/2024_datasets/scenario_3/test_data/images/test/THW_113_5853.jpg: 640x640 11 Cs, 6.3ms\n",
      "image 249/277 /scratch/project_2006327/YOLOv5/datasets/2024_datasets/scenario_3/test_data/images/test/THW_113_5854.jpg: 640x640 1 C, 6.3ms\n",
      "image 250/277 /scratch/project_2006327/YOLOv5/datasets/2024_datasets/scenario_3/test_data/images/test/THW_113_5952.jpg: 640x640 12 Cs, 6.3ms\n",
      "image 251/277 /scratch/project_2006327/YOLOv5/datasets/2024_datasets/scenario_3/test_data/images/test/THW_113_5953.jpg: 640x640 12 Cs, 6.3ms\n",
      "image 252/277 /scratch/project_2006327/YOLOv5/datasets/2024_datasets/scenario_3/test_data/images/test/THW_113_5954.jpg: 640x640 6 Cs, 6.3ms\n",
      "image 253/277 /scratch/project_2006327/YOLOv5/datasets/2024_datasets/scenario_3/test_data/images/test/THW_113_5955.jpg: 640x640 4 Cs, 6.3ms\n",
      "image 254/277 /scratch/project_2006327/YOLOv5/datasets/2024_datasets/scenario_3/test_data/images/test/THW_113_5956.jpg: 640x640 2 Cs, 6.3ms\n",
      "image 255/277 /scratch/project_2006327/YOLOv5/datasets/2024_datasets/scenario_3/test_data/images/test/THW_113_6052.jpg: 640x640 2 Cs, 6.3ms\n",
      "image 256/277 /scratch/project_2006327/YOLOv5/datasets/2024_datasets/scenario_3/test_data/images/test/THW_113_6053.jpg: 640x640 12 Cs, 6.2ms\n",
      "image 257/277 /scratch/project_2006327/YOLOv5/datasets/2024_datasets/scenario_3/test_data/images/test/THW_113_6054.jpg: 640x640 3 Cs, 6.2ms\n",
      "image 258/277 /scratch/project_2006327/YOLOv5/datasets/2024_datasets/scenario_3/test_data/images/test/THW_113_6153.jpg: 640x640 8 Cs, 6.3ms\n",
      "image 259/277 /scratch/project_2006327/YOLOv5/datasets/2024_datasets/scenario_3/test_data/images/test/THW_113_6154.jpg: 640x640 10 Cs, 6.3ms\n",
      "image 260/277 /scratch/project_2006327/YOLOv5/datasets/2024_datasets/scenario_3/test_data/images/test/THW_113_6155.jpg: 640x640 4 Cs, 6.2ms\n",
      "image 261/277 /scratch/project_2006327/YOLOv5/datasets/2024_datasets/scenario_3/test_data/images/test/THW_113_6253.jpg: 640x640 5 Cs, 6.3ms\n",
      "image 262/277 /scratch/project_2006327/YOLOv5/datasets/2024_datasets/scenario_3/test_data/images/test/THW_113_6254.jpg: 640x640 4 Cs, 6.3ms\n",
      "image 263/277 /scratch/project_2006327/YOLOv5/datasets/2024_datasets/scenario_3/test_data/images/test/THW_113_6255.jpg: 640x640 3 Cs, 6.3ms\n",
      "image 264/277 /scratch/project_2006327/YOLOv5/datasets/2024_datasets/scenario_3/test_data/images/test/THW_113_6256.jpg: 640x640 3 Cs, 6.3ms\n",
      "image 265/277 /scratch/project_2006327/YOLOv5/datasets/2024_datasets/scenario_3/test_data/images/test/THW_113_6257.jpg: 640x640 1 C, 6.2ms\n",
      "image 266/277 /scratch/project_2006327/YOLOv5/datasets/2024_datasets/scenario_3/test_data/images/test/THW_113_6355.jpg: 640x640 4 Cs, 6.3ms\n",
      "image 267/277 /scratch/project_2006327/YOLOv5/datasets/2024_datasets/scenario_3/test_data/images/test/THW_113_6356.jpg: 640x640 2 Cs, 6.3ms\n",
      "image 268/277 /scratch/project_2006327/YOLOv5/datasets/2024_datasets/scenario_3/test_data/images/test/THW_113_6357.jpg: 640x640 2 Cs, 6.3ms\n",
      "image 269/277 /scratch/project_2006327/YOLOv5/datasets/2024_datasets/scenario_3/test_data/images/test/THW_113_9625.jpg: 640x640 2 Cs, 6.3ms\n",
      "image 270/277 /scratch/project_2006327/YOLOv5/datasets/2024_datasets/scenario_3/test_data/images/test/THW_120_8924.jpg: 640x640 5 Cs, 6.3ms\n",
      "image 271/277 /scratch/project_2006327/YOLOv5/datasets/2024_datasets/scenario_3/test_data/images/test/THW_120_8925.jpg: 640x640 3 Cs, 6.3ms\n",
      "image 272/277 /scratch/project_2006327/YOLOv5/datasets/2024_datasets/scenario_3/test_data/images/test/THW_120_9024.jpg: 640x640 1 C, 6.3ms\n",
      "image 273/277 /scratch/project_2006327/YOLOv5/datasets/2024_datasets/scenario_3/test_data/images/test/THW_120_9025.jpg: 640x640 22 Cs, 6.3ms\n",
      "image 274/277 /scratch/project_2006327/YOLOv5/datasets/2024_datasets/scenario_3/test_data/images/test/THW_120_9026.jpg: 640x640 21 Cs, 6.3ms\n",
      "image 275/277 /scratch/project_2006327/YOLOv5/datasets/2024_datasets/scenario_3/test_data/images/test/THW_120_9126.jpg: 640x640 19 Cs, 6.3ms\n",
      "image 276/277 /scratch/project_2006327/YOLOv5/datasets/2024_datasets/scenario_3/test_data/images/test/THW_120_9127.jpg: 640x640 10 Cs, 6.3ms\n",
      "image 277/277 /scratch/project_2006327/YOLOv5/datasets/2024_datasets/scenario_3/test_data/images/test/THW_120_9227.jpg: 640x640 1 C, 6.3ms\n",
      "Speed: 0.8ms pre-process, 11.5ms inference, 4.7ms NMS per image at shape (1, 3, 640, 640)\n",
      "Results saved to \u001b[1mInference/2024/scenario_3/counts/yolov5_m\u001b[0m\n"
     ]
    }
   ],
   "source": [
    "!python detect.py --source /scratch/project_2006327/YOLOv5/datasets/2024_datasets/scenario_3/test_data/images/test --weights runs/train/2024/s3/yolov5_m/weights/best.pt --conf-thres 0.25 --iou 0.5 --project Inference/2024/scenario_3/counts --name yolov5_m"
   ]
  },
  {
   "cell_type": "markdown",
   "id": "871c27ca",
   "metadata": {
    "tags": []
   },
   "source": [
    "## YOLOv5_l"
   ]
  },
  {
   "cell_type": "markdown",
   "id": "f21fb09f-eb2a-4d57-8261-8d6048728b0a",
   "metadata": {
    "tags": []
   },
   "source": [
    "### Validation"
   ]
  },
  {
   "cell_type": "code",
   "execution_count": 10,
   "id": "c738370d-7dbe-4509-9b82-ca0244b49067",
   "metadata": {},
   "outputs": [
    {
     "name": "stdout",
     "output_type": "stream",
     "text": [
      "\u001b[34m\u001b[1mval: \u001b[0mdata=/scratch/project_2006327/YOLOv5/yolov5/data/s3_v5_train.yaml, weights=['runs/train/2024/s3/yolov5_l/weights/best.pt'], batch_size=32, imgsz=640, conf_thres=0.001, iou_thres=0.5, max_det=300, task=val, device=, workers=8, single_cls=False, augment=False, verbose=False, save_txt=False, save_hybrid=False, save_conf=False, save_json=False, project=runs/val, name=exp, exist_ok=False, half=False, dnn=False\n",
      "WARNING ⚠️ invalid check_version(5.9.5, ) requested, please check values.\n",
      "YOLOv5 🚀 2023-9-23 Python-3.10.0 torch-2.0.1+cu117 CUDA:0 (Tesla V100-SXM2-32GB, 32501MiB)\n",
      "\n",
      "Fusing layers... \n",
      "Model summary: 267 layers, 46129818 parameters, 0 gradients, 107.7 GFLOPs\n",
      "\u001b[34m\u001b[1mval: \u001b[0mScanning /scratch/project_2006327/YOLOv5/datasets/2024_datasets/scenario_3/\u001b[0m\n",
      "                 Class     Images  Instances          P          R      mAP50   \n",
      "                   all       1604      15091      0.916       0.88      0.931       0.45\n",
      "Speed: 0.2ms pre-process, 9.0ms inference, 1.0ms NMS per image at shape (32, 3, 640, 640)\n",
      "Results saved to \u001b[1mruns/val/exp44\u001b[0m\n"
     ]
    }
   ],
   "source": [
    "#using the default parameters\n",
    "!python val.py --data s3_v5_train.yaml --weights runs/train/2024/s3/yolov5_l/weights/best.pt --iou 0.5 --img 640 "
   ]
  },
  {
   "cell_type": "markdown",
   "id": "8242ab34-60d4-41fb-9798-ca16d31d2418",
   "metadata": {},
   "source": [
    "### F1 score"
   ]
  },
  {
   "cell_type": "code",
   "execution_count": null,
   "id": "b2dcd893",
   "metadata": {
    "scrolled": true,
    "tags": []
   },
   "outputs": [],
   "source": [
    "Image(filename = 'runs/val/exp29/F1_curve.png', width =640)"
   ]
  },
  {
   "cell_type": "markdown",
   "id": "142dacf8-c502-4f3f-95c5-981d0b309d6c",
   "metadata": {},
   "source": [
    "### Inference data"
   ]
  },
  {
   "cell_type": "code",
   "execution_count": 11,
   "id": "f6db8960",
   "metadata": {},
   "outputs": [
    {
     "name": "stdout",
     "output_type": "stream",
     "text": [
      "\u001b[34m\u001b[1mval: \u001b[0mdata=/scratch/project_2006327/YOLOv5/yolov5/data/s3_v5_test.yaml, weights=['runs/train/2024/s3/yolov5_l/weights/best.pt'], batch_size=32, imgsz=640, conf_thres=0.25, iou_thres=0.5, max_det=300, task=test, device=, workers=8, single_cls=False, augment=False, verbose=False, save_txt=False, save_hybrid=False, save_conf=False, save_json=False, project=Inference/2024/scenario_3/metrics, name=yolov5_l, exist_ok=False, half=False, dnn=False\n",
      "WARNING ⚠️ invalid check_version(5.9.5, ) requested, please check values.\n",
      "WARNING ⚠️ confidence threshold 0.25 > 0.001 produces invalid results\n",
      "YOLOv5 🚀 2023-9-23 Python-3.10.0 torch-2.0.1+cu117 CUDA:0 (Tesla V100-SXM2-32GB, 32501MiB)\n",
      "\n",
      "Fusing layers... \n",
      "Model summary: 267 layers, 46129818 parameters, 0 gradients, 107.7 GFLOPs\n",
      "\u001b[34m\u001b[1mtest: \u001b[0mScanning /scratch/project_2006327/YOLOv5/datasets/2024_datasets/scenario_3\u001b[0m\n",
      "                 Class     Images  Instances          P          R      mAP50   \n",
      "                   all        277       2642      0.895      0.826      0.881      0.381\n",
      "Speed: 0.1ms pre-process, 9.1ms inference, 1.1ms NMS per image at shape (32, 3, 640, 640)\n",
      "Results saved to \u001b[1mInference/2024/scenario_3/metrics/yolov5_l\u001b[0m\n"
     ]
    }
   ],
   "source": [
    "#test with the hyperparamter and F1 score\n",
    "!python val.py --data s3_v5_test.yaml --weights runs/train/2024/s3/yolov5_l/weights/best.pt --img 640 --task test --conf-thres 0.25 --iou 0.5 --project Inference/2024/scenario_3/metrics --name yolov5_l"
   ]
  },
  {
   "cell_type": "code",
   "execution_count": 9,
   "id": "0cd9b36c",
   "metadata": {
    "scrolled": true
   },
   "outputs": [
    {
     "name": "stdout",
     "output_type": "stream",
     "text": [
      "\u001b[34m\u001b[1mdetect: \u001b[0mweights=['runs/train/2024/s3/yolov5_l/weights/best.pt'], source=/scratch/project_2006327/YOLOv5/datasets/2024_datasets/scenario_3/test_data/images/test, data=data/coco128.yaml, imgsz=[640, 640], conf_thres=0.25, iou_thres=0.5, max_det=1000, device=, view_img=False, save_txt=False, save_csv=False, save_conf=False, save_crop=False, nosave=False, classes=None, agnostic_nms=False, augment=False, visualize=False, update=False, project=Inference/2024/scenario_3/counts, name=yolov5_l, exist_ok=False, line_thickness=2, hide_labels=True, hide_conf=True, half=False, dnn=False, vid_stride=1\n",
      "WARNING ⚠️ invalid check_version(5.9.5, ) requested, please check values.\n",
      "YOLOv5 🚀 2023-9-23 Python-3.10.0 torch-2.0.1+cu117 CUDA:0 (Tesla V100-SXM2-32GB, 32501MiB)\n",
      "\n",
      "Fusing layers... \n",
      "Model summary: 267 layers, 46129818 parameters, 0 gradients, 107.7 GFLOPs\n",
      "image 1/277 /scratch/project_2006327/YOLOv5/datasets/2024_datasets/scenario_3/test_data/images/test/Choke_113_4451.jpg: 640x640 1 C, 11.4ms\n",
      "image 2/277 /scratch/project_2006327/YOLOv5/datasets/2024_datasets/scenario_3/test_data/images/test/Choke_113_4452.jpg: 640x640 18 Cs, 11.4ms\n",
      "image 3/277 /scratch/project_2006327/YOLOv5/datasets/2024_datasets/scenario_3/test_data/images/test/Choke_113_4453.jpg: 640x640 12 Cs, 11.3ms\n",
      "image 4/277 /scratch/project_2006327/YOLOv5/datasets/2024_datasets/scenario_3/test_data/images/test/Choke_113_4454.jpg: 640x640 15 Cs, 11.4ms\n",
      "image 5/277 /scratch/project_2006327/YOLOv5/datasets/2024_datasets/scenario_3/test_data/images/test/Choke_113_4552.jpg: 640x640 1 C, 11.4ms\n",
      "image 6/277 /scratch/project_2006327/YOLOv5/datasets/2024_datasets/scenario_3/test_data/images/test/Choke_113_4553.jpg: 640x640 14 Cs, 11.4ms\n",
      "image 7/277 /scratch/project_2006327/YOLOv5/datasets/2024_datasets/scenario_3/test_data/images/test/Choke_113_4554.jpg: 640x640 44 Cs, 11.4ms\n",
      "image 8/277 /scratch/project_2006327/YOLOv5/datasets/2024_datasets/scenario_3/test_data/images/test/Choke_113_4555.jpg: 640x640 19 Cs, 11.4ms\n",
      "image 9/277 /scratch/project_2006327/YOLOv5/datasets/2024_datasets/scenario_3/test_data/images/test/Choke_113_4654.jpg: 640x640 10 Cs, 11.3ms\n",
      "image 10/277 /scratch/project_2006327/YOLOv5/datasets/2024_datasets/scenario_3/test_data/images/test/Choke_113_4655.jpg: 640x640 9 Cs, 11.3ms\n",
      "image 11/277 /scratch/project_2006327/YOLOv5/datasets/2024_datasets/scenario_3/test_data/images/test/Choke_113_4856.jpg: 640x640 15 Cs, 11.4ms\n",
      "image 12/277 /scratch/project_2006327/YOLOv5/datasets/2024_datasets/scenario_3/test_data/images/test/Choke_113_4857.jpg: 640x640 8 Cs, 11.4ms\n",
      "image 13/277 /scratch/project_2006327/YOLOv5/datasets/2024_datasets/scenario_3/test_data/images/test/Choke_113_4956.jpg: 640x640 8 Cs, 11.4ms\n",
      "image 14/277 /scratch/project_2006327/YOLOv5/datasets/2024_datasets/scenario_3/test_data/images/test/Choke_113_4957.jpg: 640x640 31 Cs, 11.4ms\n",
      "image 15/277 /scratch/project_2006327/YOLOv5/datasets/2024_datasets/scenario_3/test_data/images/test/Choke_113_4958.jpg: 640x640 14 Cs, 11.3ms\n",
      "image 16/277 /scratch/project_2006327/YOLOv5/datasets/2024_datasets/scenario_3/test_data/images/test/Choke_113_5056.jpg: 640x640 7 Cs, 11.4ms\n",
      "image 17/277 /scratch/project_2006327/YOLOv5/datasets/2024_datasets/scenario_3/test_data/images/test/Choke_113_5057.jpg: 640x640 25 Cs, 11.3ms\n",
      "image 18/277 /scratch/project_2006327/YOLOv5/datasets/2024_datasets/scenario_3/test_data/images/test/Choke_113_5058.jpg: 640x640 18 Cs, 11.3ms\n",
      "image 19/277 /scratch/project_2006327/YOLOv5/datasets/2024_datasets/scenario_3/test_data/images/test/Choke_113_5157.jpg: 640x640 (no detections), 11.4ms\n",
      "image 20/277 /scratch/project_2006327/YOLOv5/datasets/2024_datasets/scenario_3/test_data/images/test/Choke_113_5158.jpg: 640x640 12 Cs, 11.3ms\n",
      "image 21/277 /scratch/project_2006327/YOLOv5/datasets/2024_datasets/scenario_3/test_data/images/test/Choke_113_5159.jpg: 640x640 6 Cs, 11.3ms\n",
      "image 22/277 /scratch/project_2006327/YOLOv5/datasets/2024_datasets/scenario_3/test_data/images/test/Choke_123_1525.jpg: 640x640 10 Cs, 11.3ms\n",
      "image 23/277 /scratch/project_2006327/YOLOv5/datasets/2024_datasets/scenario_3/test_data/images/test/Choke_123_1526.jpg: 640x640 3 Cs, 11.4ms\n",
      "image 24/277 /scratch/project_2006327/YOLOv5/datasets/2024_datasets/scenario_3/test_data/images/test/Choke_123_1626.jpg: 640x640 8 Cs, 11.3ms\n",
      "image 25/277 /scratch/project_2006327/YOLOv5/datasets/2024_datasets/scenario_3/test_data/images/test/Choke_123_1627.jpg: 640x640 24 Cs, 11.3ms\n",
      "image 26/277 /scratch/project_2006327/YOLOv5/datasets/2024_datasets/scenario_3/test_data/images/test/Choke_123_1724.jpg: 640x640 2 Cs, 11.3ms\n",
      "image 27/277 /scratch/project_2006327/YOLOv5/datasets/2024_datasets/scenario_3/test_data/images/test/Choke_123_1725.jpg: 640x640 4 Cs, 11.4ms\n",
      "image 28/277 /scratch/project_2006327/YOLOv5/datasets/2024_datasets/scenario_3/test_data/images/test/Choke_123_1728.jpg: 640x640 4 Cs, 11.3ms\n",
      "image 29/277 /scratch/project_2006327/YOLOv5/datasets/2024_datasets/scenario_3/test_data/images/test/Choke_123_1820.jpg: 640x640 1 C, 11.4ms\n",
      "image 30/277 /scratch/project_2006327/YOLOv5/datasets/2024_datasets/scenario_3/test_data/images/test/Choke_123_1821.jpg: 640x640 10 Cs, 11.3ms\n",
      "image 31/277 /scratch/project_2006327/YOLOv5/datasets/2024_datasets/scenario_3/test_data/images/test/Choke_123_1826.jpg: 640x640 11 Cs, 11.3ms\n",
      "image 32/277 /scratch/project_2006327/YOLOv5/datasets/2024_datasets/scenario_3/test_data/images/test/Choke_123_1827.jpg: 640x640 2 Cs, 11.4ms\n",
      "image 33/277 /scratch/project_2006327/YOLOv5/datasets/2024_datasets/scenario_3/test_data/images/test/Choke_123_1828.jpg: 640x640 2 Cs, 11.4ms\n",
      "image 34/277 /scratch/project_2006327/YOLOv5/datasets/2024_datasets/scenario_3/test_data/images/test/Choke_123_1880.jpg: 640x640 2 Cs, 11.4ms\n",
      "image 35/277 /scratch/project_2006327/YOLOv5/datasets/2024_datasets/scenario_3/test_data/images/test/Choke_123_1882.jpg: 640x640 7 Cs, 11.4ms\n",
      "image 36/277 /scratch/project_2006327/YOLOv5/datasets/2024_datasets/scenario_3/test_data/images/test/Choke_123_1921.jpg: 640x640 2 Cs, 11.4ms\n",
      "image 37/277 /scratch/project_2006327/YOLOv5/datasets/2024_datasets/scenario_3/test_data/images/test/Choke_123_1922.jpg: 640x640 11 Cs, 11.3ms\n",
      "image 38/277 /scratch/project_2006327/YOLOv5/datasets/2024_datasets/scenario_3/test_data/images/test/Choke_123_1923.jpg: 640x640 1 C, 11.4ms\n",
      "image 39/277 /scratch/project_2006327/YOLOv5/datasets/2024_datasets/scenario_3/test_data/images/test/Choke_123_1926.jpg: 640x640 1 C, 11.3ms\n",
      "image 40/277 /scratch/project_2006327/YOLOv5/datasets/2024_datasets/scenario_3/test_data/images/test/Choke_123_1927.jpg: 640x640 5 Cs, 11.3ms\n",
      "image 41/277 /scratch/project_2006327/YOLOv5/datasets/2024_datasets/scenario_3/test_data/images/test/Choke_123_1928.jpg: 640x640 25 Cs, 11.4ms\n",
      "image 42/277 /scratch/project_2006327/YOLOv5/datasets/2024_datasets/scenario_3/test_data/images/test/Choke_123_1929.jpg: 640x640 20 Cs, 11.4ms\n",
      "image 43/277 /scratch/project_2006327/YOLOv5/datasets/2024_datasets/scenario_3/test_data/images/test/Choke_123_1981.jpg: 640x640 8 Cs, 11.4ms\n",
      "image 44/277 /scratch/project_2006327/YOLOv5/datasets/2024_datasets/scenario_3/test_data/images/test/Choke_123_1982.jpg: 640x640 8 Cs, 11.3ms\n",
      "image 45/277 /scratch/project_2006327/YOLOv5/datasets/2024_datasets/scenario_3/test_data/images/test/Choke_123_1983.jpg: 640x640 9 Cs, 11.4ms\n",
      "image 46/277 /scratch/project_2006327/YOLOv5/datasets/2024_datasets/scenario_3/test_data/images/test/Choke_123_2030.jpg: 640x640 8 Cs, 11.4ms\n",
      "image 47/277 /scratch/project_2006327/YOLOv5/datasets/2024_datasets/scenario_3/test_data/images/test/Choke_123_2082.jpg: 640x640 7 Cs, 11.3ms\n",
      "image 48/277 /scratch/project_2006327/YOLOv5/datasets/2024_datasets/scenario_3/test_data/images/test/Choke_123_2083.jpg: 640x640 9 Cs, 11.3ms\n",
      "image 49/277 /scratch/project_2006327/YOLOv5/datasets/2024_datasets/scenario_3/test_data/images/test/Choke_123_2084.jpg: 640x640 6 Cs, 11.3ms\n",
      "image 50/277 /scratch/project_2006327/YOLOv5/datasets/2024_datasets/scenario_3/test_data/images/test/Choke_123_2183.jpg: 640x640 7 Cs, 11.3ms\n",
      "image 51/277 /scratch/project_2006327/YOLOv5/datasets/2024_datasets/scenario_3/test_data/images/test/Choke_123_2184.jpg: 640x640 2 Cs, 11.3ms\n",
      "image 52/277 /scratch/project_2006327/YOLOv5/datasets/2024_datasets/scenario_3/test_data/images/test/Choke_123_2185.jpg: 640x640 8 Cs, 11.3ms\n",
      "image 53/277 /scratch/project_2006327/YOLOv5/datasets/2024_datasets/scenario_3/test_data/images/test/Choke_123_3499.jpg: 640x640 14 Cs, 11.3ms\n",
      "image 54/277 /scratch/project_2006327/YOLOv5/datasets/2024_datasets/scenario_3/test_data/images/test/Choke_123_3500.jpg: 640x640 19 Cs, 11.4ms\n",
      "image 55/277 /scratch/project_2006327/YOLOv5/datasets/2024_datasets/scenario_3/test_data/images/test/Choke_123_3600.jpg: 640x640 10 Cs, 11.3ms\n",
      "image 56/277 /scratch/project_2006327/YOLOv5/datasets/2024_datasets/scenario_3/test_data/images/test/Choke_123_3601.jpg: 640x640 19 Cs, 11.4ms\n",
      "image 57/277 /scratch/project_2006327/YOLOv5/datasets/2024_datasets/scenario_3/test_data/images/test/Choke_123_3701.jpg: 640x640 1 C, 11.4ms\n",
      "image 58/277 /scratch/project_2006327/YOLOv5/datasets/2024_datasets/scenario_3/test_data/images/test/Choke_123_3702.jpg: 640x640 1 C, 11.3ms\n",
      "image 59/277 /scratch/project_2006327/YOLOv5/datasets/2024_datasets/scenario_3/test_data/images/test/Choke_123_3703.jpg: 640x640 4 Cs, 11.3ms\n",
      "image 60/277 /scratch/project_2006327/YOLOv5/datasets/2024_datasets/scenario_3/test_data/images/test/Choke_123_3802.jpg: 640x640 4 Cs, 11.4ms\n",
      "image 61/277 /scratch/project_2006327/YOLOv5/datasets/2024_datasets/scenario_3/test_data/images/test/Choke_123_3803.jpg: 640x640 3 Cs, 11.3ms\n",
      "image 62/277 /scratch/project_2006327/YOLOv5/datasets/2024_datasets/scenario_3/test_data/images/test/Choke_123_393.jpg: 640x640 11 Cs, 11.3ms\n",
      "image 63/277 /scratch/project_2006327/YOLOv5/datasets/2024_datasets/scenario_3/test_data/images/test/Choke_123_394.jpg: 640x640 1 C, 11.3ms\n",
      "image 64/277 /scratch/project_2006327/YOLOv5/datasets/2024_datasets/scenario_3/test_data/images/test/Choke_123_493.jpg: 640x640 8 Cs, 11.3ms\n",
      "image 65/277 /scratch/project_2006327/YOLOv5/datasets/2024_datasets/scenario_3/test_data/images/test/Choke_123_494.jpg: 640x640 22 Cs, 11.3ms\n",
      "image 66/277 /scratch/project_2006327/YOLOv5/datasets/2024_datasets/scenario_3/test_data/images/test/Choke_123_495.jpg: 640x640 3 Cs, 11.4ms\n",
      "image 67/277 /scratch/project_2006327/YOLOv5/datasets/2024_datasets/scenario_3/test_data/images/test/Choke_123_5089.jpg: 640x640 4 Cs, 11.4ms\n",
      "image 68/277 /scratch/project_2006327/YOLOv5/datasets/2024_datasets/scenario_3/test_data/images/test/Choke_123_594.jpg: 640x640 1 C, 11.3ms\n",
      "image 69/277 /scratch/project_2006327/YOLOv5/datasets/2024_datasets/scenario_3/test_data/images/test/Choke_123_595.jpg: 640x640 9 Cs, 11.3ms\n",
      "image 70/277 /scratch/project_2006327/YOLOv5/datasets/2024_datasets/scenario_3/test_data/images/test/Choke_123_596.jpg: 640x640 2 Cs, 11.4ms\n",
      "image 71/277 /scratch/project_2006327/YOLOv5/datasets/2024_datasets/scenario_3/test_data/images/test/Choke_123_695.jpg: 640x640 2 Cs, 11.3ms\n",
      "image 72/277 /scratch/project_2006327/YOLOv5/datasets/2024_datasets/scenario_3/test_data/images/test/Choke_123_696.jpg: 640x640 7 Cs, 11.4ms\n",
      "image 73/277 /scratch/project_2006327/YOLOv5/datasets/2024_datasets/scenario_3/test_data/images/test/Choke_123_697.jpg: 640x640 3 Cs, 11.3ms\n",
      "image 74/277 /scratch/project_2006327/YOLOv5/datasets/2024_datasets/scenario_3/test_data/images/test/Choke_123_698.jpg: 640x640 2 Cs, 11.4ms\n",
      "image 75/277 /scratch/project_2006327/YOLOv5/datasets/2024_datasets/scenario_3/test_data/images/test/Choke_143_2035.jpg: 640x640 1 C, 11.3ms\n",
      "image 76/277 /scratch/project_2006327/YOLOv5/datasets/2024_datasets/scenario_3/test_data/images/test/Choke_143_2036.jpg: 640x640 2 Cs, 11.3ms\n",
      "image 77/277 /scratch/project_2006327/YOLOv5/datasets/2024_datasets/scenario_3/test_data/images/test/Choke_143_2037.jpg: 640x640 3 Cs, 11.4ms\n",
      "image 78/277 /scratch/project_2006327/YOLOv5/datasets/2024_datasets/scenario_3/test_data/images/test/Choke_143_2038.jpg: 640x640 6 Cs, 11.3ms\n",
      "image 79/277 /scratch/project_2006327/YOLOv5/datasets/2024_datasets/scenario_3/test_data/images/test/Choke_143_2039.jpg: 640x640 4 Cs, 11.3ms\n",
      "image 80/277 /scratch/project_2006327/YOLOv5/datasets/2024_datasets/scenario_3/test_data/images/test/Choke_143_2040.jpg: 640x640 2 Cs, 11.4ms\n",
      "image 81/277 /scratch/project_2006327/YOLOv5/datasets/2024_datasets/scenario_3/test_data/images/test/Choke_143_2136.jpg: 640x640 5 Cs, 11.4ms\n",
      "image 82/277 /scratch/project_2006327/YOLOv5/datasets/2024_datasets/scenario_3/test_data/images/test/Choke_143_2137.jpg: 640x640 4 Cs, 11.3ms\n",
      "image 83/277 /scratch/project_2006327/YOLOv5/datasets/2024_datasets/scenario_3/test_data/images/test/Choke_143_2138.jpg: 640x640 4 Cs, 11.4ms\n",
      "image 84/277 /scratch/project_2006327/YOLOv5/datasets/2024_datasets/scenario_3/test_data/images/test/Choke_143_2139.jpg: 640x640 3 Cs, 11.4ms\n",
      "image 85/277 /scratch/project_2006327/YOLOv5/datasets/2024_datasets/scenario_3/test_data/images/test/Choke_143_2140.jpg: 640x640 1 C, 11.4ms\n",
      "image 86/277 /scratch/project_2006327/YOLOv5/datasets/2024_datasets/scenario_3/test_data/images/test/Choke_143_2141.jpg: 640x640 3 Cs, 11.4ms\n",
      "image 87/277 /scratch/project_2006327/YOLOv5/datasets/2024_datasets/scenario_3/test_data/images/test/Choke_143_2237.jpg: 640x640 (no detections), 11.3ms\n",
      "image 88/277 /scratch/project_2006327/YOLOv5/datasets/2024_datasets/scenario_3/test_data/images/test/Choke_143_2239.jpg: 640x640 2 Cs, 11.4ms\n",
      "image 89/277 /scratch/project_2006327/YOLOv5/datasets/2024_datasets/scenario_3/test_data/images/test/Choke_143_2240.jpg: 640x640 2 Cs, 11.3ms\n",
      "image 90/277 /scratch/project_2006327/YOLOv5/datasets/2024_datasets/scenario_3/test_data/images/test/Choke_143_2338.jpg: 640x640 9 Cs, 11.4ms\n",
      "image 91/277 /scratch/project_2006327/YOLOv5/datasets/2024_datasets/scenario_3/test_data/images/test/Choke_143_2339.jpg: 640x640 2 Cs, 11.4ms\n",
      "image 92/277 /scratch/project_2006327/YOLOv5/datasets/2024_datasets/scenario_3/test_data/images/test/Choke_143_2439.jpg: 640x640 9 Cs, 11.3ms\n",
      "image 93/277 /scratch/project_2006327/YOLOv5/datasets/2024_datasets/scenario_3/test_data/images/test/Choke_143_2633.jpg: 640x640 4 Cs, 11.3ms\n",
      "image 94/277 /scratch/project_2006327/YOLOv5/datasets/2024_datasets/scenario_3/test_data/images/test/Choke_143_4445.jpg: 640x640 4 Cs, 11.3ms\n",
      "image 95/277 /scratch/project_2006327/YOLOv5/datasets/2024_datasets/scenario_3/test_data/images/test/Choke_143_4446.jpg: 640x640 1 C, 11.4ms\n",
      "image 96/277 /scratch/project_2006327/YOLOv5/datasets/2024_datasets/scenario_3/test_data/images/test/Choke_143_4546.jpg: 640x640 5 Cs, 11.4ms\n",
      "image 97/277 /scratch/project_2006327/YOLOv5/datasets/2024_datasets/scenario_3/test_data/images/test/Choke_143_4547.jpg: 640x640 11 Cs, 11.3ms\n",
      "image 98/277 /scratch/project_2006327/YOLOv5/datasets/2024_datasets/scenario_3/test_data/images/test/Choke_143_4548.jpg: 640x640 4 Cs, 11.3ms\n",
      "image 99/277 /scratch/project_2006327/YOLOv5/datasets/2024_datasets/scenario_3/test_data/images/test/Choke_143_4647.jpg: 640x640 2 Cs, 11.3ms\n",
      "image 100/277 /scratch/project_2006327/YOLOv5/datasets/2024_datasets/scenario_3/test_data/images/test/Choke_143_4648.jpg: 640x640 5 Cs, 11.4ms\n",
      "image 101/277 /scratch/project_2006327/YOLOv5/datasets/2024_datasets/scenario_3/test_data/images/test/Choke_143_4649.jpg: 640x640 6 Cs, 11.3ms\n",
      "image 102/277 /scratch/project_2006327/YOLOv5/datasets/2024_datasets/scenario_3/test_data/images/test/Choke_143_4750.jpg: 640x640 5 Cs, 11.4ms\n",
      "image 103/277 /scratch/project_2006327/YOLOv5/datasets/2024_datasets/scenario_3/test_data/images/test/Choke_143_4751.jpg: 640x640 3 Cs, 11.4ms\n",
      "image 104/277 /scratch/project_2006327/YOLOv5/datasets/2024_datasets/scenario_3/test_data/images/test/Choke_143_5535.jpg: 640x640 1 C, 11.4ms\n",
      "image 105/277 /scratch/project_2006327/YOLOv5/datasets/2024_datasets/scenario_3/test_data/images/test/Lumo_032_4621.jpg: 640x640 3 Cs, 11.4ms\n",
      "image 106/277 /scratch/project_2006327/YOLOv5/datasets/2024_datasets/scenario_3/test_data/images/test/Lumo_032_4622.jpg: 640x640 2 Cs, 11.4ms\n",
      "image 107/277 /scratch/project_2006327/YOLOv5/datasets/2024_datasets/scenario_3/test_data/images/test/Lumo_032_4623.jpg: 640x640 1 C, 11.3ms\n",
      "image 108/277 /scratch/project_2006327/YOLOv5/datasets/2024_datasets/scenario_3/test_data/images/test/Lumo_032_4723.jpg: 640x640 22 Cs, 11.3ms\n",
      "image 109/277 /scratch/project_2006327/YOLOv5/datasets/2024_datasets/scenario_3/test_data/images/test/Lumo_032_4724.jpg: 640x640 4 Cs, 11.4ms\n",
      "image 110/277 /scratch/project_2006327/YOLOv5/datasets/2024_datasets/scenario_3/test_data/images/test/Lumo_032_4725.jpg: 640x640 26 Cs, 11.3ms\n",
      "image 111/277 /scratch/project_2006327/YOLOv5/datasets/2024_datasets/scenario_3/test_data/images/test/Lumo_032_4824.jpg: 640x640 5 Cs, 11.3ms\n",
      "image 112/277 /scratch/project_2006327/YOLOv5/datasets/2024_datasets/scenario_3/test_data/images/test/Lumo_032_4825.jpg: 640x640 38 Cs, 11.6ms\n",
      "image 113/277 /scratch/project_2006327/YOLOv5/datasets/2024_datasets/scenario_3/test_data/images/test/Lumo_032_4826.jpg: 640x640 50 Cs, 11.3ms\n",
      "image 114/277 /scratch/project_2006327/YOLOv5/datasets/2024_datasets/scenario_3/test_data/images/test/Lumo_032_4925.jpg: 640x640 1 C, 11.3ms\n",
      "image 115/277 /scratch/project_2006327/YOLOv5/datasets/2024_datasets/scenario_3/test_data/images/test/Lumo_032_4926.jpg: 640x640 4 Cs, 11.4ms\n",
      "image 116/277 /scratch/project_2006327/YOLOv5/datasets/2024_datasets/scenario_3/test_data/images/test/Lumo_032_4927.jpg: 640x640 10 Cs, 11.3ms\n",
      "image 117/277 /scratch/project_2006327/YOLOv5/datasets/2024_datasets/scenario_3/test_data/images/test/Lumo_032_5855.jpg: 640x640 3 Cs, 11.3ms\n",
      "image 118/277 /scratch/project_2006327/YOLOv5/datasets/2024_datasets/scenario_3/test_data/images/test/Lumo_032_5856.jpg: 640x640 9 Cs, 11.4ms\n",
      "image 119/277 /scratch/project_2006327/YOLOv5/datasets/2024_datasets/scenario_3/test_data/images/test/Lumo_032_5955.jpg: 640x640 2 Cs, 11.4ms\n",
      "image 120/277 /scratch/project_2006327/YOLOv5/datasets/2024_datasets/scenario_3/test_data/images/test/Lumo_032_5956.jpg: 640x640 22 Cs, 11.3ms\n",
      "image 121/277 /scratch/project_2006327/YOLOv5/datasets/2024_datasets/scenario_3/test_data/images/test/Lumo_032_5957.jpg: 640x640 13 Cs, 11.4ms\n",
      "image 122/277 /scratch/project_2006327/YOLOv5/datasets/2024_datasets/scenario_3/test_data/images/test/Lumo_032_5958.jpg: 640x640 11 Cs, 11.3ms\n",
      "image 123/277 /scratch/project_2006327/YOLOv5/datasets/2024_datasets/scenario_3/test_data/images/test/Lumo_032_6056.jpg: 640x640 3 Cs, 11.3ms\n",
      "image 124/277 /scratch/project_2006327/YOLOv5/datasets/2024_datasets/scenario_3/test_data/images/test/Lumo_032_6057.jpg: 640x640 7 Cs, 11.3ms\n",
      "image 125/277 /scratch/project_2006327/YOLOv5/datasets/2024_datasets/scenario_3/test_data/images/test/Lumo_032_6058.jpg: 640x640 14 Cs, 11.3ms\n",
      "image 126/277 /scratch/project_2006327/YOLOv5/datasets/2024_datasets/scenario_3/test_data/images/test/Lumo_032_6059.jpg: 640x640 34 Cs, 11.3ms\n",
      "image 127/277 /scratch/project_2006327/YOLOv5/datasets/2024_datasets/scenario_3/test_data/images/test/Lumo_032_6157.jpg: 640x640 2 Cs, 11.3ms\n",
      "image 128/277 /scratch/project_2006327/YOLOv5/datasets/2024_datasets/scenario_3/test_data/images/test/Lumo_032_6158.jpg: 640x640 7 Cs, 11.3ms\n",
      "image 129/277 /scratch/project_2006327/YOLOv5/datasets/2024_datasets/scenario_3/test_data/images/test/Lumo_032_6159.jpg: 640x640 16 Cs, 11.4ms\n",
      "image 130/277 /scratch/project_2006327/YOLOv5/datasets/2024_datasets/scenario_3/test_data/images/test/Lumo_032_6160.jpg: 640x640 23 Cs, 11.3ms\n",
      "image 131/277 /scratch/project_2006327/YOLOv5/datasets/2024_datasets/scenario_3/test_data/images/test/Lumo_032_6259.jpg: 640x640 3 Cs, 11.3ms\n",
      "image 132/277 /scratch/project_2006327/YOLOv5/datasets/2024_datasets/scenario_3/test_data/images/test/Lumo_032_6260.jpg: 640x640 11 Cs, 11.4ms\n",
      "image 133/277 /scratch/project_2006327/YOLOv5/datasets/2024_datasets/scenario_3/test_data/images/test/Lumo_049_115.jpg: 640x640 2 Cs, 11.3ms\n",
      "image 134/277 /scratch/project_2006327/YOLOv5/datasets/2024_datasets/scenario_3/test_data/images/test/Lumo_049_117.jpg: 640x640 6 Cs, 11.3ms\n",
      "image 135/277 /scratch/project_2006327/YOLOv5/datasets/2024_datasets/scenario_3/test_data/images/test/Lumo_049_118.jpg: 640x640 15 Cs, 11.3ms\n",
      "image 136/277 /scratch/project_2006327/YOLOv5/datasets/2024_datasets/scenario_3/test_data/images/test/Lumo_049_119.jpg: 640x640 34 Cs, 11.3ms\n",
      "image 137/277 /scratch/project_2006327/YOLOv5/datasets/2024_datasets/scenario_3/test_data/images/test/Lumo_049_1416.jpg: 640x640 4 Cs, 11.4ms\n",
      "image 138/277 /scratch/project_2006327/YOLOv5/datasets/2024_datasets/scenario_3/test_data/images/test/Lumo_049_1417.jpg: 640x640 4 Cs, 11.3ms\n",
      "image 139/277 /scratch/project_2006327/YOLOv5/datasets/2024_datasets/scenario_3/test_data/images/test/Lumo_049_1517.jpg: 640x640 11 Cs, 11.3ms\n",
      "image 140/277 /scratch/project_2006327/YOLOv5/datasets/2024_datasets/scenario_3/test_data/images/test/Lumo_049_1518.jpg: 640x640 64 Cs, 11.3ms\n",
      "image 141/277 /scratch/project_2006327/YOLOv5/datasets/2024_datasets/scenario_3/test_data/images/test/Lumo_049_1519.jpg: 640x640 1 C, 11.3ms\n",
      "image 142/277 /scratch/project_2006327/YOLOv5/datasets/2024_datasets/scenario_3/test_data/images/test/Lumo_049_1618.jpg: 640x640 19 Cs, 11.4ms\n",
      "image 143/277 /scratch/project_2006327/YOLOv5/datasets/2024_datasets/scenario_3/test_data/images/test/Lumo_049_1619.jpg: 640x640 8 Cs, 11.3ms\n",
      "image 144/277 /scratch/project_2006327/YOLOv5/datasets/2024_datasets/scenario_3/test_data/images/test/Lumo_049_1620.jpg: 640x640 1 C, 11.4ms\n",
      "image 145/277 /scratch/project_2006327/YOLOv5/datasets/2024_datasets/scenario_3/test_data/images/test/Lumo_049_1826.jpg: 640x640 11 Cs, 11.3ms\n",
      "image 146/277 /scratch/project_2006327/YOLOv5/datasets/2024_datasets/scenario_3/test_data/images/test/Lumo_049_1827.jpg: 640x640 28 Cs, 11.4ms\n",
      "image 147/277 /scratch/project_2006327/YOLOv5/datasets/2024_datasets/scenario_3/test_data/images/test/Lumo_049_1927.jpg: 640x640 7 Cs, 11.3ms\n",
      "image 148/277 /scratch/project_2006327/YOLOv5/datasets/2024_datasets/scenario_3/test_data/images/test/Lumo_049_1928.jpg: 640x640 12 Cs, 11.3ms\n",
      "image 149/277 /scratch/project_2006327/YOLOv5/datasets/2024_datasets/scenario_3/test_data/images/test/Lumo_049_2029.jpg: 640x640 17 Cs, 11.3ms\n",
      "image 150/277 /scratch/project_2006327/YOLOv5/datasets/2024_datasets/scenario_3/test_data/images/test/Lumo_049_2030.jpg: 640x640 4 Cs, 11.3ms\n",
      "image 151/277 /scratch/project_2006327/YOLOv5/datasets/2024_datasets/scenario_3/test_data/images/test/Lumo_049_218.jpg: 640x640 1 C, 11.3ms\n",
      "image 152/277 /scratch/project_2006327/YOLOv5/datasets/2024_datasets/scenario_3/test_data/images/test/Lumo_049_220.jpg: 640x640 3 Cs, 11.3ms\n",
      "image 153/277 /scratch/project_2006327/YOLOv5/datasets/2024_datasets/scenario_3/test_data/images/test/Lumo_069_1049.jpg: 640x640 5 Cs, 11.4ms\n",
      "image 154/277 /scratch/project_2006327/YOLOv5/datasets/2024_datasets/scenario_3/test_data/images/test/Lumo_069_1050.jpg: 640x640 6 Cs, 11.3ms\n",
      "image 155/277 /scratch/project_2006327/YOLOv5/datasets/2024_datasets/scenario_3/test_data/images/test/Lumo_069_543.jpg: 640x640 11 Cs, 11.3ms\n",
      "image 156/277 /scratch/project_2006327/YOLOv5/datasets/2024_datasets/scenario_3/test_data/images/test/Lumo_069_644.jpg: 640x640 24 Cs, 11.3ms\n",
      "image 157/277 /scratch/project_2006327/YOLOv5/datasets/2024_datasets/scenario_3/test_data/images/test/Lumo_069_744.jpg: 640x640 8 Cs, 11.4ms\n",
      "image 158/277 /scratch/project_2006327/YOLOv5/datasets/2024_datasets/scenario_3/test_data/images/test/Lumo_069_745.jpg: 640x640 13 Cs, 11.3ms\n",
      "image 159/277 /scratch/project_2006327/YOLOv5/datasets/2024_datasets/scenario_3/test_data/images/test/Lumo_069_746.jpg: 640x640 14 Cs, 11.4ms\n",
      "image 160/277 /scratch/project_2006327/YOLOv5/datasets/2024_datasets/scenario_3/test_data/images/test/Lumo_069_844.jpg: 640x640 4 Cs, 11.4ms\n",
      "image 161/277 /scratch/project_2006327/YOLOv5/datasets/2024_datasets/scenario_3/test_data/images/test/Lumo_069_845.jpg: 640x640 7 Cs, 11.3ms\n",
      "image 162/277 /scratch/project_2006327/YOLOv5/datasets/2024_datasets/scenario_3/test_data/images/test/Lumo_069_846.jpg: 640x640 29 Cs, 11.4ms\n",
      "image 163/277 /scratch/project_2006327/YOLOv5/datasets/2024_datasets/scenario_3/test_data/images/test/Lumo_069_847.jpg: 640x640 13 Cs, 11.3ms\n",
      "image 164/277 /scratch/project_2006327/YOLOv5/datasets/2024_datasets/scenario_3/test_data/images/test/Lumo_069_848.jpg: 640x640 3 Cs, 11.3ms\n",
      "image 165/277 /scratch/project_2006327/YOLOv5/datasets/2024_datasets/scenario_3/test_data/images/test/Lumo_069_946.jpg: 640x640 10 Cs, 11.3ms\n",
      "image 166/277 /scratch/project_2006327/YOLOv5/datasets/2024_datasets/scenario_3/test_data/images/test/Lumo_069_947.jpg: 640x640 15 Cs, 11.3ms\n",
      "image 167/277 /scratch/project_2006327/YOLOv5/datasets/2024_datasets/scenario_3/test_data/images/test/Lumo_069_948.jpg: 640x640 36 Cs, 11.3ms\n",
      "image 168/277 /scratch/project_2006327/YOLOv5/datasets/2024_datasets/scenario_3/test_data/images/test/Lumo_069_949.jpg: 640x640 16 Cs, 11.3ms\n",
      "image 169/277 /scratch/project_2006327/YOLOv5/datasets/2024_datasets/scenario_3/test_data/images/test/Lumo_091_1117.jpg: 640x640 5 Cs, 11.4ms\n",
      "image 170/277 /scratch/project_2006327/YOLOv5/datasets/2024_datasets/scenario_3/test_data/images/test/Lumo_091_1216.jpg: 640x640 3 Cs, 11.4ms\n",
      "image 171/277 /scratch/project_2006327/YOLOv5/datasets/2024_datasets/scenario_3/test_data/images/test/Lumo_091_1217.jpg: 640x640 10 Cs, 11.3ms\n",
      "image 172/277 /scratch/project_2006327/YOLOv5/datasets/2024_datasets/scenario_3/test_data/images/test/Lumo_091_1218.jpg: 640x640 14 Cs, 11.3ms\n",
      "image 173/277 /scratch/project_2006327/YOLOv5/datasets/2024_datasets/scenario_3/test_data/images/test/Lumo_091_127.jpg: 640x640 19 Cs, 11.3ms\n",
      "image 174/277 /scratch/project_2006327/YOLOv5/datasets/2024_datasets/scenario_3/test_data/images/test/Lumo_091_128.jpg: 640x640 11 Cs, 11.3ms\n",
      "image 175/277 /scratch/project_2006327/YOLOv5/datasets/2024_datasets/scenario_3/test_data/images/test/Lumo_091_1314.jpg: 640x640 1 C, 11.3ms\n",
      "image 176/277 /scratch/project_2006327/YOLOv5/datasets/2024_datasets/scenario_3/test_data/images/test/Lumo_091_1317.jpg: 640x640 5 Cs, 11.3ms\n",
      "image 177/277 /scratch/project_2006327/YOLOv5/datasets/2024_datasets/scenario_3/test_data/images/test/Lumo_091_1318.jpg: 640x640 6 Cs, 11.3ms\n",
      "image 178/277 /scratch/project_2006327/YOLOv5/datasets/2024_datasets/scenario_3/test_data/images/test/Lumo_091_1319.jpg: 640x640 3 Cs, 11.3ms\n",
      "image 179/277 /scratch/project_2006327/YOLOv5/datasets/2024_datasets/scenario_3/test_data/images/test/Lumo_091_227.jpg: 640x640 12 Cs, 11.3ms\n",
      "image 180/277 /scratch/project_2006327/YOLOv5/datasets/2024_datasets/scenario_3/test_data/images/test/Lumo_091_228.jpg: 640x640 41 Cs, 11.4ms\n",
      "image 181/277 /scratch/project_2006327/YOLOv5/datasets/2024_datasets/scenario_3/test_data/images/test/Lumo_091_229.jpg: 640x640 7 Cs, 11.3ms\n",
      "image 182/277 /scratch/project_2006327/YOLOv5/datasets/2024_datasets/scenario_3/test_data/images/test/Lumo_091_327.jpg: 640x640 3 Cs, 11.3ms\n",
      "image 183/277 /scratch/project_2006327/YOLOv5/datasets/2024_datasets/scenario_3/test_data/images/test/Lumo_091_328.jpg: 640x640 3 Cs, 11.4ms\n",
      "image 184/277 /scratch/project_2006327/YOLOv5/datasets/2024_datasets/scenario_3/test_data/images/test/Lumo_091_427.jpg: 640x640 6 Cs, 11.3ms\n",
      "image 185/277 /scratch/project_2006327/YOLOv5/datasets/2024_datasets/scenario_3/test_data/images/test/Lumo_091_428.jpg: 640x640 9 Cs, 11.3ms\n",
      "image 186/277 /scratch/project_2006327/YOLOv5/datasets/2024_datasets/scenario_3/test_data/images/test/Lumo_091_528.jpg: 640x640 15 Cs, 11.4ms\n",
      "image 187/277 /scratch/project_2006327/YOLOv5/datasets/2024_datasets/scenario_3/test_data/images/test/THW_097_3559.jpg: 640x640 3 Cs, 11.3ms\n",
      "image 188/277 /scratch/project_2006327/YOLOv5/datasets/2024_datasets/scenario_3/test_data/images/test/THW_097_3560.jpg: 640x640 25 Cs, 11.3ms\n",
      "image 189/277 /scratch/project_2006327/YOLOv5/datasets/2024_datasets/scenario_3/test_data/images/test/THW_097_3561.jpg: 640x640 7 Cs, 11.3ms\n",
      "image 190/277 /scratch/project_2006327/YOLOv5/datasets/2024_datasets/scenario_3/test_data/images/test/THW_097_3562.jpg: 640x640 2 Cs, 11.4ms\n",
      "image 191/277 /scratch/project_2006327/YOLOv5/datasets/2024_datasets/scenario_3/test_data/images/test/THW_097_3659.jpg: 640x640 11 Cs, 11.3ms\n",
      "image 192/277 /scratch/project_2006327/YOLOv5/datasets/2024_datasets/scenario_3/test_data/images/test/THW_097_3660.jpg: 640x640 4 Cs, 11.3ms\n",
      "image 193/277 /scratch/project_2006327/YOLOv5/datasets/2024_datasets/scenario_3/test_data/images/test/THW_097_3661.jpg: 640x640 14 Cs, 11.4ms\n",
      "image 194/277 /scratch/project_2006327/YOLOv5/datasets/2024_datasets/scenario_3/test_data/images/test/THW_097_3662.jpg: 640x640 21 Cs, 11.4ms\n",
      "image 195/277 /scratch/project_2006327/YOLOv5/datasets/2024_datasets/scenario_3/test_data/images/test/THW_097_3663.jpg: 640x640 11 Cs, 11.4ms\n",
      "image 196/277 /scratch/project_2006327/YOLOv5/datasets/2024_datasets/scenario_3/test_data/images/test/THW_097_3758.jpg: 640x640 2 Cs, 11.4ms\n",
      "image 197/277 /scratch/project_2006327/YOLOv5/datasets/2024_datasets/scenario_3/test_data/images/test/THW_097_3759.jpg: 640x640 12 Cs, 11.4ms\n",
      "image 198/277 /scratch/project_2006327/YOLOv5/datasets/2024_datasets/scenario_3/test_data/images/test/THW_097_3760.jpg: 640x640 3 Cs, 11.3ms\n",
      "image 199/277 /scratch/project_2006327/YOLOv5/datasets/2024_datasets/scenario_3/test_data/images/test/THW_097_3761.jpg: 640x640 5 Cs, 11.4ms\n",
      "image 200/277 /scratch/project_2006327/YOLOv5/datasets/2024_datasets/scenario_3/test_data/images/test/THW_097_3763.jpg: 640x640 2 Cs, 11.4ms\n",
      "image 201/277 /scratch/project_2006327/YOLOv5/datasets/2024_datasets/scenario_3/test_data/images/test/THW_097_3860.jpg: 640x640 2 Cs, 11.4ms\n",
      "image 202/277 /scratch/project_2006327/YOLOv5/datasets/2024_datasets/scenario_3/test_data/images/test/THW_097_3962.jpg: 640x640 1 C, 11.3ms\n",
      "image 203/277 /scratch/project_2006327/YOLOv5/datasets/2024_datasets/scenario_3/test_data/images/test/THW_097_3987.jpg: 640x640 7 Cs, 11.4ms\n",
      "image 204/277 /scratch/project_2006327/YOLOv5/datasets/2024_datasets/scenario_3/test_data/images/test/THW_097_3988.jpg: 640x640 10 Cs, 11.3ms\n",
      "image 205/277 /scratch/project_2006327/YOLOv5/datasets/2024_datasets/scenario_3/test_data/images/test/THW_097_4063.jpg: 640x640 2 Cs, 11.4ms\n",
      "image 206/277 /scratch/project_2006327/YOLOv5/datasets/2024_datasets/scenario_3/test_data/images/test/THW_097_4064.jpg: 640x640 2 Cs, 11.3ms\n",
      "image 207/277 /scratch/project_2006327/YOLOv5/datasets/2024_datasets/scenario_3/test_data/images/test/THW_097_4088.jpg: 640x640 32 Cs, 11.3ms\n",
      "image 208/277 /scratch/project_2006327/YOLOv5/datasets/2024_datasets/scenario_3/test_data/images/test/THW_097_4089.jpg: 640x640 31 Cs, 11.4ms\n",
      "image 209/277 /scratch/project_2006327/YOLOv5/datasets/2024_datasets/scenario_3/test_data/images/test/THW_097_4188.jpg: 640x640 (no detections), 11.3ms\n",
      "image 210/277 /scratch/project_2006327/YOLOv5/datasets/2024_datasets/scenario_3/test_data/images/test/THW_097_4189.jpg: 640x640 13 Cs, 11.3ms\n",
      "image 211/277 /scratch/project_2006327/YOLOv5/datasets/2024_datasets/scenario_3/test_data/images/test/THW_097_4190.jpg: 640x640 8 Cs, 11.3ms\n",
      "image 212/277 /scratch/project_2006327/YOLOv5/datasets/2024_datasets/scenario_3/test_data/images/test/THW_097_4290.jpg: 640x640 2 Cs, 11.3ms\n",
      "image 213/277 /scratch/project_2006327/YOLOv5/datasets/2024_datasets/scenario_3/test_data/images/test/THW_097_4292.jpg: 640x640 5 Cs, 11.4ms\n",
      "image 214/277 /scratch/project_2006327/YOLOv5/datasets/2024_datasets/scenario_3/test_data/images/test/THW_097_4393.jpg: 640x640 1 C, 11.4ms\n",
      "image 215/277 /scratch/project_2006327/YOLOv5/datasets/2024_datasets/scenario_3/test_data/images/test/THW_097_5078.jpg: 640x640 15 Cs, 11.3ms\n",
      "image 216/277 /scratch/project_2006327/YOLOv5/datasets/2024_datasets/scenario_3/test_data/images/test/THW_097_5079.jpg: 640x640 17 Cs, 11.3ms\n",
      "image 217/277 /scratch/project_2006327/YOLOv5/datasets/2024_datasets/scenario_3/test_data/images/test/THW_097_5179.jpg: 640x640 6 Cs, 11.4ms\n",
      "image 218/277 /scratch/project_2006327/YOLOv5/datasets/2024_datasets/scenario_3/test_data/images/test/THW_097_5180.jpg: 640x640 6 Cs, 11.4ms\n",
      "image 219/277 /scratch/project_2006327/YOLOv5/datasets/2024_datasets/scenario_3/test_data/images/test/THW_097_5181.jpg: 640x640 1 C, 11.3ms\n",
      "image 220/277 /scratch/project_2006327/YOLOv5/datasets/2024_datasets/scenario_3/test_data/images/test/THW_097_5280.jpg: 640x640 4 Cs, 11.4ms\n",
      "image 221/277 /scratch/project_2006327/YOLOv5/datasets/2024_datasets/scenario_3/test_data/images/test/THW_097_5281.jpg: 640x640 12 Cs, 11.3ms\n",
      "image 222/277 /scratch/project_2006327/YOLOv5/datasets/2024_datasets/scenario_3/test_data/images/test/THW_097_5382.jpg: 640x640 11 Cs, 11.3ms\n",
      "image 223/277 /scratch/project_2006327/YOLOv5/datasets/2024_datasets/scenario_3/test_data/images/test/THW_097_5383.jpg: 640x640 9 Cs, 11.4ms\n",
      "image 224/277 /scratch/project_2006327/YOLOv5/datasets/2024_datasets/scenario_3/test_data/images/test/THW_097_5483.jpg: 640x640 15 Cs, 11.4ms\n",
      "image 225/277 /scratch/project_2006327/YOLOv5/datasets/2024_datasets/scenario_3/test_data/images/test/THW_097_5484.jpg: 640x640 23 Cs, 11.4ms\n",
      "image 226/277 /scratch/project_2006327/YOLOv5/datasets/2024_datasets/scenario_3/test_data/images/test/THW_097_5485.jpg: 640x640 4 Cs, 11.3ms\n",
      "image 227/277 /scratch/project_2006327/YOLOv5/datasets/2024_datasets/scenario_3/test_data/images/test/THW_097_5584.jpg: 640x640 7 Cs, 11.3ms\n",
      "image 228/277 /scratch/project_2006327/YOLOv5/datasets/2024_datasets/scenario_3/test_data/images/test/THW_097_5585.jpg: 640x640 3 Cs, 11.3ms\n",
      "image 229/277 /scratch/project_2006327/YOLOv5/datasets/2024_datasets/scenario_3/test_data/images/test/THW_097_8272.jpg: 640x640 1 C, 11.3ms\n",
      "image 230/277 /scratch/project_2006327/YOLOv5/datasets/2024_datasets/scenario_3/test_data/images/test/THW_097_8273.jpg: 640x640 13 Cs, 11.4ms\n",
      "image 231/277 /scratch/project_2006327/YOLOv5/datasets/2024_datasets/scenario_3/test_data/images/test/THW_097_8274.jpg: 640x640 14 Cs, 11.4ms\n",
      "image 232/277 /scratch/project_2006327/YOLOv5/datasets/2024_datasets/scenario_3/test_data/images/test/THW_097_8303.jpg: 640x640 3 Cs, 11.4ms\n",
      "image 233/277 /scratch/project_2006327/YOLOv5/datasets/2024_datasets/scenario_3/test_data/images/test/THW_097_8304.jpg: 640x640 23 Cs, 11.3ms\n",
      "image 234/277 /scratch/project_2006327/YOLOv5/datasets/2024_datasets/scenario_3/test_data/images/test/THW_097_8305.jpg: 640x640 16 Cs, 11.3ms\n",
      "image 235/277 /scratch/project_2006327/YOLOv5/datasets/2024_datasets/scenario_3/test_data/images/test/THW_097_8404.jpg: 640x640 8 Cs, 11.4ms\n",
      "image 236/277 /scratch/project_2006327/YOLOv5/datasets/2024_datasets/scenario_3/test_data/images/test/THW_097_8405.jpg: 640x640 15 Cs, 11.4ms\n",
      "image 237/277 /scratch/project_2006327/YOLOv5/datasets/2024_datasets/scenario_3/test_data/images/test/THW_097_8406.jpg: 640x640 2 Cs, 11.3ms\n",
      "image 238/277 /scratch/project_2006327/YOLOv5/datasets/2024_datasets/scenario_3/test_data/images/test/THW_097_8506.jpg: 640x640 4 Cs, 11.3ms\n",
      "image 239/277 /scratch/project_2006327/YOLOv5/datasets/2024_datasets/scenario_3/test_data/images/test/THW_097_8607.jpg: 640x640 13 Cs, 11.3ms\n",
      "image 240/277 /scratch/project_2006327/YOLOv5/datasets/2024_datasets/scenario_3/test_data/images/test/THW_097_9307.jpg: 640x640 1 C, 11.3ms\n",
      "image 241/277 /scratch/project_2006327/YOLOv5/datasets/2024_datasets/scenario_3/test_data/images/test/THW_097_9689.jpg: 640x640 7 Cs, 11.4ms\n",
      "image 242/277 /scratch/project_2006327/YOLOv5/datasets/2024_datasets/scenario_3/test_data/images/test/THW_113_10028.jpg: 640x640 14 Cs, 11.3ms\n",
      "image 243/277 /scratch/project_2006327/YOLOv5/datasets/2024_datasets/scenario_3/test_data/images/test/THW_113_4618.jpg: 640x640 7 Cs, 11.3ms\n",
      "image 244/277 /scratch/project_2006327/YOLOv5/datasets/2024_datasets/scenario_3/test_data/images/test/THW_113_4619.jpg: 640x640 2 Cs, 11.3ms\n",
      "image 245/277 /scratch/project_2006327/YOLOv5/datasets/2024_datasets/scenario_3/test_data/images/test/THW_113_4720.jpg: 640x640 1 C, 11.3ms\n",
      "image 246/277 /scratch/project_2006327/YOLOv5/datasets/2024_datasets/scenario_3/test_data/images/test/THW_113_4721.jpg: 640x640 1 C, 11.4ms\n",
      "image 247/277 /scratch/project_2006327/YOLOv5/datasets/2024_datasets/scenario_3/test_data/images/test/THW_113_5852.jpg: 640x640 4 Cs, 11.4ms\n",
      "image 248/277 /scratch/project_2006327/YOLOv5/datasets/2024_datasets/scenario_3/test_data/images/test/THW_113_5853.jpg: 640x640 11 Cs, 11.3ms\n",
      "image 249/277 /scratch/project_2006327/YOLOv5/datasets/2024_datasets/scenario_3/test_data/images/test/THW_113_5854.jpg: 640x640 1 C, 11.3ms\n",
      "image 250/277 /scratch/project_2006327/YOLOv5/datasets/2024_datasets/scenario_3/test_data/images/test/THW_113_5952.jpg: 640x640 13 Cs, 11.3ms\n",
      "image 251/277 /scratch/project_2006327/YOLOv5/datasets/2024_datasets/scenario_3/test_data/images/test/THW_113_5953.jpg: 640x640 13 Cs, 11.4ms\n",
      "image 252/277 /scratch/project_2006327/YOLOv5/datasets/2024_datasets/scenario_3/test_data/images/test/THW_113_5954.jpg: 640x640 6 Cs, 11.4ms\n",
      "image 253/277 /scratch/project_2006327/YOLOv5/datasets/2024_datasets/scenario_3/test_data/images/test/THW_113_5955.jpg: 640x640 4 Cs, 11.3ms\n",
      "image 254/277 /scratch/project_2006327/YOLOv5/datasets/2024_datasets/scenario_3/test_data/images/test/THW_113_5956.jpg: 640x640 2 Cs, 11.4ms\n",
      "image 255/277 /scratch/project_2006327/YOLOv5/datasets/2024_datasets/scenario_3/test_data/images/test/THW_113_6052.jpg: 640x640 1 C, 11.3ms\n",
      "image 256/277 /scratch/project_2006327/YOLOv5/datasets/2024_datasets/scenario_3/test_data/images/test/THW_113_6053.jpg: 640x640 11 Cs, 11.4ms\n",
      "image 257/277 /scratch/project_2006327/YOLOv5/datasets/2024_datasets/scenario_3/test_data/images/test/THW_113_6054.jpg: 640x640 3 Cs, 11.3ms\n",
      "image 258/277 /scratch/project_2006327/YOLOv5/datasets/2024_datasets/scenario_3/test_data/images/test/THW_113_6153.jpg: 640x640 9 Cs, 11.3ms\n",
      "image 259/277 /scratch/project_2006327/YOLOv5/datasets/2024_datasets/scenario_3/test_data/images/test/THW_113_6154.jpg: 640x640 10 Cs, 11.3ms\n",
      "image 260/277 /scratch/project_2006327/YOLOv5/datasets/2024_datasets/scenario_3/test_data/images/test/THW_113_6155.jpg: 640x640 4 Cs, 11.3ms\n",
      "image 261/277 /scratch/project_2006327/YOLOv5/datasets/2024_datasets/scenario_3/test_data/images/test/THW_113_6253.jpg: 640x640 5 Cs, 11.3ms\n",
      "image 262/277 /scratch/project_2006327/YOLOv5/datasets/2024_datasets/scenario_3/test_data/images/test/THW_113_6254.jpg: 640x640 4 Cs, 11.3ms\n",
      "image 263/277 /scratch/project_2006327/YOLOv5/datasets/2024_datasets/scenario_3/test_data/images/test/THW_113_6255.jpg: 640x640 3 Cs, 11.3ms\n",
      "image 264/277 /scratch/project_2006327/YOLOv5/datasets/2024_datasets/scenario_3/test_data/images/test/THW_113_6256.jpg: 640x640 3 Cs, 11.3ms\n",
      "image 265/277 /scratch/project_2006327/YOLOv5/datasets/2024_datasets/scenario_3/test_data/images/test/THW_113_6257.jpg: 640x640 1 C, 11.4ms\n",
      "image 266/277 /scratch/project_2006327/YOLOv5/datasets/2024_datasets/scenario_3/test_data/images/test/THW_113_6355.jpg: 640x640 4 Cs, 11.3ms\n",
      "image 267/277 /scratch/project_2006327/YOLOv5/datasets/2024_datasets/scenario_3/test_data/images/test/THW_113_6356.jpg: 640x640 2 Cs, 11.4ms\n",
      "image 268/277 /scratch/project_2006327/YOLOv5/datasets/2024_datasets/scenario_3/test_data/images/test/THW_113_6357.jpg: 640x640 2 Cs, 11.3ms\n",
      "image 269/277 /scratch/project_2006327/YOLOv5/datasets/2024_datasets/scenario_3/test_data/images/test/THW_113_9625.jpg: 640x640 4 Cs, 11.3ms\n",
      "image 270/277 /scratch/project_2006327/YOLOv5/datasets/2024_datasets/scenario_3/test_data/images/test/THW_120_8924.jpg: 640x640 5 Cs, 11.3ms\n",
      "image 271/277 /scratch/project_2006327/YOLOv5/datasets/2024_datasets/scenario_3/test_data/images/test/THW_120_8925.jpg: 640x640 3 Cs, 11.4ms\n",
      "image 272/277 /scratch/project_2006327/YOLOv5/datasets/2024_datasets/scenario_3/test_data/images/test/THW_120_9024.jpg: 640x640 2 Cs, 11.4ms\n",
      "image 273/277 /scratch/project_2006327/YOLOv5/datasets/2024_datasets/scenario_3/test_data/images/test/THW_120_9025.jpg: 640x640 21 Cs, 11.4ms\n",
      "image 274/277 /scratch/project_2006327/YOLOv5/datasets/2024_datasets/scenario_3/test_data/images/test/THW_120_9026.jpg: 640x640 21 Cs, 11.3ms\n",
      "image 275/277 /scratch/project_2006327/YOLOv5/datasets/2024_datasets/scenario_3/test_data/images/test/THW_120_9126.jpg: 640x640 19 Cs, 11.3ms\n",
      "image 276/277 /scratch/project_2006327/YOLOv5/datasets/2024_datasets/scenario_3/test_data/images/test/THW_120_9127.jpg: 640x640 10 Cs, 11.4ms\n",
      "image 277/277 /scratch/project_2006327/YOLOv5/datasets/2024_datasets/scenario_3/test_data/images/test/THW_120_9227.jpg: 640x640 1 C, 11.3ms\n",
      "Speed: 0.4ms pre-process, 11.3ms inference, 0.7ms NMS per image at shape (1, 3, 640, 640)\n",
      "Results saved to \u001b[1mInference/2024/scenario_3/counts/yolov5_l\u001b[0m\n"
     ]
    }
   ],
   "source": [
    "!python detect.py --source /scratch/project_2006327/YOLOv5/datasets/2024_datasets/scenario_3/test_data/images/test --weights runs/train/2024/s3/yolov5_l/weights/best.pt --conf-thres 0.25 --iou 0.5 --project Inference/2024/scenario_3/counts --name yolov5_l"
   ]
  },
  {
   "cell_type": "markdown",
   "id": "1ab04544",
   "metadata": {
    "tags": []
   },
   "source": [
    "## YOLOv5_X"
   ]
  },
  {
   "cell_type": "markdown",
   "id": "6f9da4ba-c08e-49bf-8a05-e7d5bf776a82",
   "metadata": {},
   "source": [
    "### Validation"
   ]
  },
  {
   "cell_type": "code",
   "execution_count": 12,
   "id": "1435e926-a75a-433b-b9d9-80bd2488817a",
   "metadata": {},
   "outputs": [
    {
     "name": "stdout",
     "output_type": "stream",
     "text": [
      "\u001b[34m\u001b[1mval: \u001b[0mdata=/scratch/project_2006327/YOLOv5/yolov5/data/s3_v5_train.yaml, weights=['runs/train/2024/s3/yolov5_x/weights/best.pt'], batch_size=32, imgsz=640, conf_thres=0.001, iou_thres=0.5, max_det=300, task=val, device=, workers=8, single_cls=False, augment=False, verbose=False, save_txt=False, save_hybrid=False, save_conf=False, save_json=False, project=runs/val, name=exp, exist_ok=False, half=False, dnn=False\n",
      "WARNING ⚠️ invalid check_version(5.9.5, ) requested, please check values.\n",
      "YOLOv5 🚀 2023-9-23 Python-3.10.0 torch-2.0.1+cu117 CUDA:0 (Tesla V100-SXM2-32GB, 32501MiB)\n",
      "\n",
      "Fusing layers... \n",
      "Model summary: 322 layers, 86200330 parameters, 0 gradients, 203.8 GFLOPs\n",
      "\u001b[34m\u001b[1mval: \u001b[0mScanning /scratch/project_2006327/YOLOv5/datasets/2024_datasets/scenario_3/\u001b[0m\n",
      "                 Class     Images  Instances          P          R      mAP50   \n",
      "                   all       1604      15091      0.913      0.883      0.931      0.454\n",
      "Speed: 0.1ms pre-process, 16.1ms inference, 0.9ms NMS per image at shape (32, 3, 640, 640)\n",
      "Results saved to \u001b[1mruns/val/exp45\u001b[0m\n"
     ]
    }
   ],
   "source": [
    "#using the default parameters\n",
    "!python val.py --data s3_v5_train.yaml --weights runs/train/2024/s3/yolov5_x/weights/best.pt --iou 0.5 --img 640 "
   ]
  },
  {
   "cell_type": "markdown",
   "id": "68fde53e-4750-4a0a-ae0a-62144d48e499",
   "metadata": {},
   "source": [
    "### F1-score"
   ]
  },
  {
   "cell_type": "code",
   "execution_count": null,
   "id": "63bdf215-c230-4afd-9801-1e1880186e71",
   "metadata": {},
   "outputs": [],
   "source": [
    "Image(filename = 'runs/val/exp31/F1_curve.png', width =640)"
   ]
  },
  {
   "cell_type": "markdown",
   "id": "cda0e0c0-3ba2-42b3-9a81-8a5a6e66dde3",
   "metadata": {},
   "source": [
    "### Inference dataset"
   ]
  },
  {
   "cell_type": "markdown",
   "id": "e90229cd-488f-4e0d-890f-8f77a7435290",
   "metadata": {},
   "source": [
    "#### Metrics"
   ]
  },
  {
   "cell_type": "code",
   "execution_count": 13,
   "id": "d3122933",
   "metadata": {},
   "outputs": [
    {
     "name": "stdout",
     "output_type": "stream",
     "text": [
      "\u001b[34m\u001b[1mval: \u001b[0mdata=/scratch/project_2006327/YOLOv5/yolov5/data/s3_v5_test.yaml, weights=['runs/train/2024/s3/yolov5_x/weights/best.pt'], batch_size=32, imgsz=640, conf_thres=0.25, iou_thres=0.5, max_det=300, task=test, device=, workers=8, single_cls=False, augment=False, verbose=False, save_txt=False, save_hybrid=False, save_conf=False, save_json=False, project=Inference/2024/scenario_3/metrics, name=yolov5_x, exist_ok=False, half=False, dnn=False\n",
      "WARNING ⚠️ invalid check_version(5.9.5, ) requested, please check values.\n",
      "WARNING ⚠️ confidence threshold 0.25 > 0.001 produces invalid results\n",
      "YOLOv5 🚀 2023-9-23 Python-3.10.0 torch-2.0.1+cu117 CUDA:0 (Tesla V100-SXM2-32GB, 32501MiB)\n",
      "\n",
      "Fusing layers... \n",
      "Model summary: 322 layers, 86200330 parameters, 0 gradients, 203.8 GFLOPs\n",
      "\u001b[34m\u001b[1mtest: \u001b[0mScanning /scratch/project_2006327/YOLOv5/datasets/2024_datasets/scenario_3\u001b[0m\n",
      "                 Class     Images  Instances          P          R      mAP50   \n",
      "                   all        277       2642      0.895      0.834      0.887      0.387\n",
      "Speed: 0.2ms pre-process, 16.2ms inference, 0.9ms NMS per image at shape (32, 3, 640, 640)\n",
      "Results saved to \u001b[1mInference/2024/scenario_3/metrics/yolov5_x\u001b[0m\n"
     ]
    }
   ],
   "source": [
    "#Test using the hyper parameter and F1 score\n",
    "!python val.py --data s3_v5_test.yaml --weights runs/train/2024/s3/yolov5_x/weights/best.pt --img 640 --task test --conf-thres 0.25 --iou 0.5 --project Inference/2024/scenario_3/metrics --name yolov5_x"
   ]
  },
  {
   "cell_type": "code",
   "execution_count": 10,
   "id": "f7b52a51",
   "metadata": {
    "scrolled": true,
    "tags": []
   },
   "outputs": [
    {
     "name": "stdout",
     "output_type": "stream",
     "text": [
      "\u001b[34m\u001b[1mdetect: \u001b[0mweights=['runs/train/2024/s3/yolov5_x/weights/best.pt'], source=/scratch/project_2006327/YOLOv5/datasets/2024_datasets/scenario_3/test_data/images/test, data=data/coco128.yaml, imgsz=[640, 640], conf_thres=0.25, iou_thres=0.5, max_det=1000, device=, view_img=False, save_txt=False, save_csv=False, save_conf=False, save_crop=False, nosave=False, classes=None, agnostic_nms=False, augment=False, visualize=False, update=False, project=Inference/2024/scenario_3/counts, name=yolov5_x, exist_ok=False, line_thickness=2, hide_labels=True, hide_conf=True, half=False, dnn=False, vid_stride=1\n",
      "WARNING ⚠️ invalid check_version(5.9.5, ) requested, please check values.\n",
      "YOLOv5 🚀 2023-9-23 Python-3.10.0 torch-2.0.1+cu117 CUDA:0 (Tesla V100-SXM2-32GB, 32501MiB)\n",
      "\n",
      "Fusing layers... \n",
      "Model summary: 322 layers, 86200330 parameters, 0 gradients, 203.8 GFLOPs\n",
      "image 1/277 /scratch/project_2006327/YOLOv5/datasets/2024_datasets/scenario_3/test_data/images/test/Choke_113_4451.jpg: 640x640 1 C, 18.5ms\n",
      "image 2/277 /scratch/project_2006327/YOLOv5/datasets/2024_datasets/scenario_3/test_data/images/test/Choke_113_4452.jpg: 640x640 19 Cs, 18.5ms\n",
      "image 3/277 /scratch/project_2006327/YOLOv5/datasets/2024_datasets/scenario_3/test_data/images/test/Choke_113_4453.jpg: 640x640 17 Cs, 18.5ms\n",
      "image 4/277 /scratch/project_2006327/YOLOv5/datasets/2024_datasets/scenario_3/test_data/images/test/Choke_113_4454.jpg: 640x640 16 Cs, 18.5ms\n",
      "image 5/277 /scratch/project_2006327/YOLOv5/datasets/2024_datasets/scenario_3/test_data/images/test/Choke_113_4552.jpg: 640x640 1 C, 18.5ms\n",
      "image 6/277 /scratch/project_2006327/YOLOv5/datasets/2024_datasets/scenario_3/test_data/images/test/Choke_113_4553.jpg: 640x640 14 Cs, 18.5ms\n",
      "image 7/277 /scratch/project_2006327/YOLOv5/datasets/2024_datasets/scenario_3/test_data/images/test/Choke_113_4554.jpg: 640x640 44 Cs, 18.4ms\n",
      "image 8/277 /scratch/project_2006327/YOLOv5/datasets/2024_datasets/scenario_3/test_data/images/test/Choke_113_4555.jpg: 640x640 20 Cs, 18.5ms\n",
      "image 9/277 /scratch/project_2006327/YOLOv5/datasets/2024_datasets/scenario_3/test_data/images/test/Choke_113_4654.jpg: 640x640 11 Cs, 18.5ms\n",
      "image 10/277 /scratch/project_2006327/YOLOv5/datasets/2024_datasets/scenario_3/test_data/images/test/Choke_113_4655.jpg: 640x640 10 Cs, 18.5ms\n",
      "image 11/277 /scratch/project_2006327/YOLOv5/datasets/2024_datasets/scenario_3/test_data/images/test/Choke_113_4856.jpg: 640x640 15 Cs, 18.4ms\n",
      "image 12/277 /scratch/project_2006327/YOLOv5/datasets/2024_datasets/scenario_3/test_data/images/test/Choke_113_4857.jpg: 640x640 10 Cs, 18.5ms\n",
      "image 13/277 /scratch/project_2006327/YOLOv5/datasets/2024_datasets/scenario_3/test_data/images/test/Choke_113_4956.jpg: 640x640 8 Cs, 18.5ms\n",
      "image 14/277 /scratch/project_2006327/YOLOv5/datasets/2024_datasets/scenario_3/test_data/images/test/Choke_113_4957.jpg: 640x640 30 Cs, 18.5ms\n",
      "image 15/277 /scratch/project_2006327/YOLOv5/datasets/2024_datasets/scenario_3/test_data/images/test/Choke_113_4958.jpg: 640x640 14 Cs, 18.5ms\n",
      "image 16/277 /scratch/project_2006327/YOLOv5/datasets/2024_datasets/scenario_3/test_data/images/test/Choke_113_5056.jpg: 640x640 5 Cs, 18.5ms\n",
      "image 17/277 /scratch/project_2006327/YOLOv5/datasets/2024_datasets/scenario_3/test_data/images/test/Choke_113_5057.jpg: 640x640 25 Cs, 18.5ms\n",
      "image 18/277 /scratch/project_2006327/YOLOv5/datasets/2024_datasets/scenario_3/test_data/images/test/Choke_113_5058.jpg: 640x640 21 Cs, 18.4ms\n",
      "image 19/277 /scratch/project_2006327/YOLOv5/datasets/2024_datasets/scenario_3/test_data/images/test/Choke_113_5157.jpg: 640x640 (no detections), 18.5ms\n",
      "image 20/277 /scratch/project_2006327/YOLOv5/datasets/2024_datasets/scenario_3/test_data/images/test/Choke_113_5158.jpg: 640x640 13 Cs, 18.5ms\n",
      "image 21/277 /scratch/project_2006327/YOLOv5/datasets/2024_datasets/scenario_3/test_data/images/test/Choke_113_5159.jpg: 640x640 6 Cs, 18.4ms\n",
      "image 22/277 /scratch/project_2006327/YOLOv5/datasets/2024_datasets/scenario_3/test_data/images/test/Choke_123_1525.jpg: 640x640 10 Cs, 18.4ms\n",
      "image 23/277 /scratch/project_2006327/YOLOv5/datasets/2024_datasets/scenario_3/test_data/images/test/Choke_123_1526.jpg: 640x640 3 Cs, 18.4ms\n",
      "image 24/277 /scratch/project_2006327/YOLOv5/datasets/2024_datasets/scenario_3/test_data/images/test/Choke_123_1626.jpg: 640x640 7 Cs, 18.4ms\n",
      "image 25/277 /scratch/project_2006327/YOLOv5/datasets/2024_datasets/scenario_3/test_data/images/test/Choke_123_1627.jpg: 640x640 22 Cs, 18.5ms\n",
      "image 26/277 /scratch/project_2006327/YOLOv5/datasets/2024_datasets/scenario_3/test_data/images/test/Choke_123_1724.jpg: 640x640 2 Cs, 18.5ms\n",
      "image 27/277 /scratch/project_2006327/YOLOv5/datasets/2024_datasets/scenario_3/test_data/images/test/Choke_123_1725.jpg: 640x640 4 Cs, 18.5ms\n",
      "image 28/277 /scratch/project_2006327/YOLOv5/datasets/2024_datasets/scenario_3/test_data/images/test/Choke_123_1728.jpg: 640x640 5 Cs, 18.5ms\n",
      "image 29/277 /scratch/project_2006327/YOLOv5/datasets/2024_datasets/scenario_3/test_data/images/test/Choke_123_1820.jpg: 640x640 1 C, 18.5ms\n",
      "image 30/277 /scratch/project_2006327/YOLOv5/datasets/2024_datasets/scenario_3/test_data/images/test/Choke_123_1821.jpg: 640x640 11 Cs, 18.5ms\n",
      "image 31/277 /scratch/project_2006327/YOLOv5/datasets/2024_datasets/scenario_3/test_data/images/test/Choke_123_1826.jpg: 640x640 11 Cs, 18.5ms\n",
      "image 32/277 /scratch/project_2006327/YOLOv5/datasets/2024_datasets/scenario_3/test_data/images/test/Choke_123_1827.jpg: 640x640 2 Cs, 18.5ms\n",
      "image 33/277 /scratch/project_2006327/YOLOv5/datasets/2024_datasets/scenario_3/test_data/images/test/Choke_123_1828.jpg: 640x640 2 Cs, 18.4ms\n",
      "image 34/277 /scratch/project_2006327/YOLOv5/datasets/2024_datasets/scenario_3/test_data/images/test/Choke_123_1880.jpg: 640x640 4 Cs, 18.5ms\n",
      "image 35/277 /scratch/project_2006327/YOLOv5/datasets/2024_datasets/scenario_3/test_data/images/test/Choke_123_1882.jpg: 640x640 8 Cs, 18.5ms\n",
      "image 36/277 /scratch/project_2006327/YOLOv5/datasets/2024_datasets/scenario_3/test_data/images/test/Choke_123_1921.jpg: 640x640 2 Cs, 18.5ms\n",
      "image 37/277 /scratch/project_2006327/YOLOv5/datasets/2024_datasets/scenario_3/test_data/images/test/Choke_123_1922.jpg: 640x640 12 Cs, 18.5ms\n",
      "image 38/277 /scratch/project_2006327/YOLOv5/datasets/2024_datasets/scenario_3/test_data/images/test/Choke_123_1923.jpg: 640x640 1 C, 18.5ms\n",
      "image 39/277 /scratch/project_2006327/YOLOv5/datasets/2024_datasets/scenario_3/test_data/images/test/Choke_123_1926.jpg: 640x640 1 C, 18.4ms\n",
      "image 40/277 /scratch/project_2006327/YOLOv5/datasets/2024_datasets/scenario_3/test_data/images/test/Choke_123_1927.jpg: 640x640 7 Cs, 18.5ms\n",
      "image 41/277 /scratch/project_2006327/YOLOv5/datasets/2024_datasets/scenario_3/test_data/images/test/Choke_123_1928.jpg: 640x640 27 Cs, 18.5ms\n",
      "image 42/277 /scratch/project_2006327/YOLOv5/datasets/2024_datasets/scenario_3/test_data/images/test/Choke_123_1929.jpg: 640x640 19 Cs, 18.4ms\n",
      "image 43/277 /scratch/project_2006327/YOLOv5/datasets/2024_datasets/scenario_3/test_data/images/test/Choke_123_1981.jpg: 640x640 8 Cs, 18.5ms\n",
      "image 44/277 /scratch/project_2006327/YOLOv5/datasets/2024_datasets/scenario_3/test_data/images/test/Choke_123_1982.jpg: 640x640 10 Cs, 18.5ms\n",
      "image 45/277 /scratch/project_2006327/YOLOv5/datasets/2024_datasets/scenario_3/test_data/images/test/Choke_123_1983.jpg: 640x640 10 Cs, 18.5ms\n",
      "image 46/277 /scratch/project_2006327/YOLOv5/datasets/2024_datasets/scenario_3/test_data/images/test/Choke_123_2030.jpg: 640x640 6 Cs, 18.5ms\n",
      "image 47/277 /scratch/project_2006327/YOLOv5/datasets/2024_datasets/scenario_3/test_data/images/test/Choke_123_2082.jpg: 640x640 7 Cs, 18.4ms\n",
      "image 48/277 /scratch/project_2006327/YOLOv5/datasets/2024_datasets/scenario_3/test_data/images/test/Choke_123_2083.jpg: 640x640 8 Cs, 18.5ms\n",
      "image 49/277 /scratch/project_2006327/YOLOv5/datasets/2024_datasets/scenario_3/test_data/images/test/Choke_123_2084.jpg: 640x640 7 Cs, 18.5ms\n",
      "image 50/277 /scratch/project_2006327/YOLOv5/datasets/2024_datasets/scenario_3/test_data/images/test/Choke_123_2183.jpg: 640x640 7 Cs, 18.4ms\n",
      "image 51/277 /scratch/project_2006327/YOLOv5/datasets/2024_datasets/scenario_3/test_data/images/test/Choke_123_2184.jpg: 640x640 5 Cs, 18.5ms\n",
      "image 52/277 /scratch/project_2006327/YOLOv5/datasets/2024_datasets/scenario_3/test_data/images/test/Choke_123_2185.jpg: 640x640 8 Cs, 18.5ms\n",
      "image 53/277 /scratch/project_2006327/YOLOv5/datasets/2024_datasets/scenario_3/test_data/images/test/Choke_123_3499.jpg: 640x640 12 Cs, 18.5ms\n",
      "image 54/277 /scratch/project_2006327/YOLOv5/datasets/2024_datasets/scenario_3/test_data/images/test/Choke_123_3500.jpg: 640x640 21 Cs, 18.4ms\n",
      "image 55/277 /scratch/project_2006327/YOLOv5/datasets/2024_datasets/scenario_3/test_data/images/test/Choke_123_3600.jpg: 640x640 9 Cs, 18.9ms\n",
      "image 56/277 /scratch/project_2006327/YOLOv5/datasets/2024_datasets/scenario_3/test_data/images/test/Choke_123_3601.jpg: 640x640 20 Cs, 18.5ms\n",
      "image 57/277 /scratch/project_2006327/YOLOv5/datasets/2024_datasets/scenario_3/test_data/images/test/Choke_123_3701.jpg: 640x640 2 Cs, 18.4ms\n",
      "image 58/277 /scratch/project_2006327/YOLOv5/datasets/2024_datasets/scenario_3/test_data/images/test/Choke_123_3702.jpg: 640x640 1 C, 18.5ms\n",
      "image 59/277 /scratch/project_2006327/YOLOv5/datasets/2024_datasets/scenario_3/test_data/images/test/Choke_123_3703.jpg: 640x640 4 Cs, 18.5ms\n",
      "image 60/277 /scratch/project_2006327/YOLOv5/datasets/2024_datasets/scenario_3/test_data/images/test/Choke_123_3802.jpg: 640x640 4 Cs, 18.4ms\n",
      "image 61/277 /scratch/project_2006327/YOLOv5/datasets/2024_datasets/scenario_3/test_data/images/test/Choke_123_3803.jpg: 640x640 3 Cs, 18.5ms\n",
      "image 62/277 /scratch/project_2006327/YOLOv5/datasets/2024_datasets/scenario_3/test_data/images/test/Choke_123_393.jpg: 640x640 11 Cs, 18.5ms\n",
      "image 63/277 /scratch/project_2006327/YOLOv5/datasets/2024_datasets/scenario_3/test_data/images/test/Choke_123_394.jpg: 640x640 1 C, 18.4ms\n",
      "image 64/277 /scratch/project_2006327/YOLOv5/datasets/2024_datasets/scenario_3/test_data/images/test/Choke_123_493.jpg: 640x640 8 Cs, 18.4ms\n",
      "image 65/277 /scratch/project_2006327/YOLOv5/datasets/2024_datasets/scenario_3/test_data/images/test/Choke_123_494.jpg: 640x640 22 Cs, 18.5ms\n",
      "image 66/277 /scratch/project_2006327/YOLOv5/datasets/2024_datasets/scenario_3/test_data/images/test/Choke_123_495.jpg: 640x640 3 Cs, 18.5ms\n",
      "image 67/277 /scratch/project_2006327/YOLOv5/datasets/2024_datasets/scenario_3/test_data/images/test/Choke_123_5089.jpg: 640x640 5 Cs, 18.5ms\n",
      "image 68/277 /scratch/project_2006327/YOLOv5/datasets/2024_datasets/scenario_3/test_data/images/test/Choke_123_594.jpg: 640x640 1 C, 18.5ms\n",
      "image 69/277 /scratch/project_2006327/YOLOv5/datasets/2024_datasets/scenario_3/test_data/images/test/Choke_123_595.jpg: 640x640 9 Cs, 18.4ms\n",
      "image 70/277 /scratch/project_2006327/YOLOv5/datasets/2024_datasets/scenario_3/test_data/images/test/Choke_123_596.jpg: 640x640 2 Cs, 18.5ms\n",
      "image 71/277 /scratch/project_2006327/YOLOv5/datasets/2024_datasets/scenario_3/test_data/images/test/Choke_123_695.jpg: 640x640 2 Cs, 18.4ms\n",
      "image 72/277 /scratch/project_2006327/YOLOv5/datasets/2024_datasets/scenario_3/test_data/images/test/Choke_123_696.jpg: 640x640 7 Cs, 18.5ms\n",
      "image 73/277 /scratch/project_2006327/YOLOv5/datasets/2024_datasets/scenario_3/test_data/images/test/Choke_123_697.jpg: 640x640 3 Cs, 18.5ms\n",
      "image 74/277 /scratch/project_2006327/YOLOv5/datasets/2024_datasets/scenario_3/test_data/images/test/Choke_123_698.jpg: 640x640 2 Cs, 18.5ms\n",
      "image 75/277 /scratch/project_2006327/YOLOv5/datasets/2024_datasets/scenario_3/test_data/images/test/Choke_143_2035.jpg: 640x640 1 C, 18.4ms\n",
      "image 76/277 /scratch/project_2006327/YOLOv5/datasets/2024_datasets/scenario_3/test_data/images/test/Choke_143_2036.jpg: 640x640 2 Cs, 18.4ms\n",
      "image 77/277 /scratch/project_2006327/YOLOv5/datasets/2024_datasets/scenario_3/test_data/images/test/Choke_143_2037.jpg: 640x640 4 Cs, 18.5ms\n",
      "image 78/277 /scratch/project_2006327/YOLOv5/datasets/2024_datasets/scenario_3/test_data/images/test/Choke_143_2038.jpg: 640x640 8 Cs, 18.4ms\n",
      "image 79/277 /scratch/project_2006327/YOLOv5/datasets/2024_datasets/scenario_3/test_data/images/test/Choke_143_2039.jpg: 640x640 5 Cs, 18.5ms\n",
      "image 80/277 /scratch/project_2006327/YOLOv5/datasets/2024_datasets/scenario_3/test_data/images/test/Choke_143_2040.jpg: 640x640 3 Cs, 18.5ms\n",
      "image 81/277 /scratch/project_2006327/YOLOv5/datasets/2024_datasets/scenario_3/test_data/images/test/Choke_143_2136.jpg: 640x640 4 Cs, 18.5ms\n",
      "image 82/277 /scratch/project_2006327/YOLOv5/datasets/2024_datasets/scenario_3/test_data/images/test/Choke_143_2137.jpg: 640x640 8 Cs, 18.4ms\n",
      "image 83/277 /scratch/project_2006327/YOLOv5/datasets/2024_datasets/scenario_3/test_data/images/test/Choke_143_2138.jpg: 640x640 6 Cs, 18.4ms\n",
      "image 84/277 /scratch/project_2006327/YOLOv5/datasets/2024_datasets/scenario_3/test_data/images/test/Choke_143_2139.jpg: 640x640 3 Cs, 18.4ms\n",
      "image 85/277 /scratch/project_2006327/YOLOv5/datasets/2024_datasets/scenario_3/test_data/images/test/Choke_143_2140.jpg: 640x640 1 C, 18.5ms\n",
      "image 86/277 /scratch/project_2006327/YOLOv5/datasets/2024_datasets/scenario_3/test_data/images/test/Choke_143_2141.jpg: 640x640 3 Cs, 18.4ms\n",
      "image 87/277 /scratch/project_2006327/YOLOv5/datasets/2024_datasets/scenario_3/test_data/images/test/Choke_143_2237.jpg: 640x640 2 Cs, 18.4ms\n",
      "image 88/277 /scratch/project_2006327/YOLOv5/datasets/2024_datasets/scenario_3/test_data/images/test/Choke_143_2239.jpg: 640x640 2 Cs, 18.4ms\n",
      "image 89/277 /scratch/project_2006327/YOLOv5/datasets/2024_datasets/scenario_3/test_data/images/test/Choke_143_2240.jpg: 640x640 2 Cs, 18.5ms\n",
      "image 90/277 /scratch/project_2006327/YOLOv5/datasets/2024_datasets/scenario_3/test_data/images/test/Choke_143_2338.jpg: 640x640 9 Cs, 18.4ms\n",
      "image 91/277 /scratch/project_2006327/YOLOv5/datasets/2024_datasets/scenario_3/test_data/images/test/Choke_143_2339.jpg: 640x640 3 Cs, 18.4ms\n",
      "image 92/277 /scratch/project_2006327/YOLOv5/datasets/2024_datasets/scenario_3/test_data/images/test/Choke_143_2439.jpg: 640x640 12 Cs, 18.5ms\n",
      "image 93/277 /scratch/project_2006327/YOLOv5/datasets/2024_datasets/scenario_3/test_data/images/test/Choke_143_2633.jpg: 640x640 4 Cs, 18.4ms\n",
      "image 94/277 /scratch/project_2006327/YOLOv5/datasets/2024_datasets/scenario_3/test_data/images/test/Choke_143_4445.jpg: 640x640 6 Cs, 18.4ms\n",
      "image 95/277 /scratch/project_2006327/YOLOv5/datasets/2024_datasets/scenario_3/test_data/images/test/Choke_143_4446.jpg: 640x640 1 C, 18.5ms\n",
      "image 96/277 /scratch/project_2006327/YOLOv5/datasets/2024_datasets/scenario_3/test_data/images/test/Choke_143_4546.jpg: 640x640 8 Cs, 18.4ms\n",
      "image 97/277 /scratch/project_2006327/YOLOv5/datasets/2024_datasets/scenario_3/test_data/images/test/Choke_143_4547.jpg: 640x640 12 Cs, 18.4ms\n",
      "image 98/277 /scratch/project_2006327/YOLOv5/datasets/2024_datasets/scenario_3/test_data/images/test/Choke_143_4548.jpg: 640x640 3 Cs, 18.4ms\n",
      "image 99/277 /scratch/project_2006327/YOLOv5/datasets/2024_datasets/scenario_3/test_data/images/test/Choke_143_4647.jpg: 640x640 3 Cs, 18.5ms\n",
      "image 100/277 /scratch/project_2006327/YOLOv5/datasets/2024_datasets/scenario_3/test_data/images/test/Choke_143_4648.jpg: 640x640 5 Cs, 18.4ms\n",
      "image 101/277 /scratch/project_2006327/YOLOv5/datasets/2024_datasets/scenario_3/test_data/images/test/Choke_143_4649.jpg: 640x640 6 Cs, 18.4ms\n",
      "image 102/277 /scratch/project_2006327/YOLOv5/datasets/2024_datasets/scenario_3/test_data/images/test/Choke_143_4750.jpg: 640x640 6 Cs, 18.5ms\n",
      "image 103/277 /scratch/project_2006327/YOLOv5/datasets/2024_datasets/scenario_3/test_data/images/test/Choke_143_4751.jpg: 640x640 3 Cs, 18.4ms\n",
      "image 104/277 /scratch/project_2006327/YOLOv5/datasets/2024_datasets/scenario_3/test_data/images/test/Choke_143_5535.jpg: 640x640 1 C, 18.4ms\n",
      "image 105/277 /scratch/project_2006327/YOLOv5/datasets/2024_datasets/scenario_3/test_data/images/test/Lumo_032_4621.jpg: 640x640 3 Cs, 18.5ms\n",
      "image 106/277 /scratch/project_2006327/YOLOv5/datasets/2024_datasets/scenario_3/test_data/images/test/Lumo_032_4622.jpg: 640x640 2 Cs, 18.4ms\n",
      "image 107/277 /scratch/project_2006327/YOLOv5/datasets/2024_datasets/scenario_3/test_data/images/test/Lumo_032_4623.jpg: 640x640 1 C, 18.5ms\n",
      "image 108/277 /scratch/project_2006327/YOLOv5/datasets/2024_datasets/scenario_3/test_data/images/test/Lumo_032_4723.jpg: 640x640 23 Cs, 18.4ms\n",
      "image 109/277 /scratch/project_2006327/YOLOv5/datasets/2024_datasets/scenario_3/test_data/images/test/Lumo_032_4724.jpg: 640x640 4 Cs, 18.4ms\n",
      "image 110/277 /scratch/project_2006327/YOLOv5/datasets/2024_datasets/scenario_3/test_data/images/test/Lumo_032_4725.jpg: 640x640 27 Cs, 18.5ms\n",
      "image 111/277 /scratch/project_2006327/YOLOv5/datasets/2024_datasets/scenario_3/test_data/images/test/Lumo_032_4824.jpg: 640x640 6 Cs, 18.4ms\n",
      "image 112/277 /scratch/project_2006327/YOLOv5/datasets/2024_datasets/scenario_3/test_data/images/test/Lumo_032_4825.jpg: 640x640 38 Cs, 18.5ms\n",
      "image 113/277 /scratch/project_2006327/YOLOv5/datasets/2024_datasets/scenario_3/test_data/images/test/Lumo_032_4826.jpg: 640x640 54 Cs, 18.5ms\n",
      "image 114/277 /scratch/project_2006327/YOLOv5/datasets/2024_datasets/scenario_3/test_data/images/test/Lumo_032_4925.jpg: 640x640 1 C, 18.4ms\n",
      "image 115/277 /scratch/project_2006327/YOLOv5/datasets/2024_datasets/scenario_3/test_data/images/test/Lumo_032_4926.jpg: 640x640 5 Cs, 18.4ms\n",
      "image 116/277 /scratch/project_2006327/YOLOv5/datasets/2024_datasets/scenario_3/test_data/images/test/Lumo_032_4927.jpg: 640x640 9 Cs, 18.5ms\n",
      "image 117/277 /scratch/project_2006327/YOLOv5/datasets/2024_datasets/scenario_3/test_data/images/test/Lumo_032_5855.jpg: 640x640 3 Cs, 18.5ms\n",
      "image 118/277 /scratch/project_2006327/YOLOv5/datasets/2024_datasets/scenario_3/test_data/images/test/Lumo_032_5856.jpg: 640x640 9 Cs, 18.4ms\n",
      "image 119/277 /scratch/project_2006327/YOLOv5/datasets/2024_datasets/scenario_3/test_data/images/test/Lumo_032_5955.jpg: 640x640 2 Cs, 18.5ms\n",
      "image 120/277 /scratch/project_2006327/YOLOv5/datasets/2024_datasets/scenario_3/test_data/images/test/Lumo_032_5956.jpg: 640x640 21 Cs, 18.5ms\n",
      "image 121/277 /scratch/project_2006327/YOLOv5/datasets/2024_datasets/scenario_3/test_data/images/test/Lumo_032_5957.jpg: 640x640 13 Cs, 18.5ms\n",
      "image 122/277 /scratch/project_2006327/YOLOv5/datasets/2024_datasets/scenario_3/test_data/images/test/Lumo_032_5958.jpg: 640x640 11 Cs, 18.4ms\n",
      "image 123/277 /scratch/project_2006327/YOLOv5/datasets/2024_datasets/scenario_3/test_data/images/test/Lumo_032_6056.jpg: 640x640 3 Cs, 18.4ms\n",
      "image 124/277 /scratch/project_2006327/YOLOv5/datasets/2024_datasets/scenario_3/test_data/images/test/Lumo_032_6057.jpg: 640x640 6 Cs, 18.4ms\n",
      "image 125/277 /scratch/project_2006327/YOLOv5/datasets/2024_datasets/scenario_3/test_data/images/test/Lumo_032_6058.jpg: 640x640 14 Cs, 18.4ms\n",
      "image 126/277 /scratch/project_2006327/YOLOv5/datasets/2024_datasets/scenario_3/test_data/images/test/Lumo_032_6059.jpg: 640x640 35 Cs, 18.4ms\n",
      "image 127/277 /scratch/project_2006327/YOLOv5/datasets/2024_datasets/scenario_3/test_data/images/test/Lumo_032_6157.jpg: 640x640 2 Cs, 18.4ms\n",
      "image 128/277 /scratch/project_2006327/YOLOv5/datasets/2024_datasets/scenario_3/test_data/images/test/Lumo_032_6158.jpg: 640x640 6 Cs, 18.4ms\n",
      "image 129/277 /scratch/project_2006327/YOLOv5/datasets/2024_datasets/scenario_3/test_data/images/test/Lumo_032_6159.jpg: 640x640 16 Cs, 18.5ms\n",
      "image 130/277 /scratch/project_2006327/YOLOv5/datasets/2024_datasets/scenario_3/test_data/images/test/Lumo_032_6160.jpg: 640x640 22 Cs, 18.4ms\n",
      "image 131/277 /scratch/project_2006327/YOLOv5/datasets/2024_datasets/scenario_3/test_data/images/test/Lumo_032_6259.jpg: 640x640 3 Cs, 18.4ms\n",
      "image 132/277 /scratch/project_2006327/YOLOv5/datasets/2024_datasets/scenario_3/test_data/images/test/Lumo_032_6260.jpg: 640x640 11 Cs, 18.4ms\n",
      "image 133/277 /scratch/project_2006327/YOLOv5/datasets/2024_datasets/scenario_3/test_data/images/test/Lumo_049_115.jpg: 640x640 2 Cs, 18.5ms\n",
      "image 134/277 /scratch/project_2006327/YOLOv5/datasets/2024_datasets/scenario_3/test_data/images/test/Lumo_049_117.jpg: 640x640 6 Cs, 18.5ms\n",
      "image 135/277 /scratch/project_2006327/YOLOv5/datasets/2024_datasets/scenario_3/test_data/images/test/Lumo_049_118.jpg: 640x640 19 Cs, 18.5ms\n",
      "image 136/277 /scratch/project_2006327/YOLOv5/datasets/2024_datasets/scenario_3/test_data/images/test/Lumo_049_119.jpg: 640x640 33 Cs, 18.5ms\n",
      "image 137/277 /scratch/project_2006327/YOLOv5/datasets/2024_datasets/scenario_3/test_data/images/test/Lumo_049_1416.jpg: 640x640 4 Cs, 18.4ms\n",
      "image 138/277 /scratch/project_2006327/YOLOv5/datasets/2024_datasets/scenario_3/test_data/images/test/Lumo_049_1417.jpg: 640x640 4 Cs, 18.4ms\n",
      "image 139/277 /scratch/project_2006327/YOLOv5/datasets/2024_datasets/scenario_3/test_data/images/test/Lumo_049_1517.jpg: 640x640 11 Cs, 18.4ms\n",
      "image 140/277 /scratch/project_2006327/YOLOv5/datasets/2024_datasets/scenario_3/test_data/images/test/Lumo_049_1518.jpg: 640x640 66 Cs, 18.5ms\n",
      "image 141/277 /scratch/project_2006327/YOLOv5/datasets/2024_datasets/scenario_3/test_data/images/test/Lumo_049_1519.jpg: 640x640 3 Cs, 18.5ms\n",
      "image 142/277 /scratch/project_2006327/YOLOv5/datasets/2024_datasets/scenario_3/test_data/images/test/Lumo_049_1618.jpg: 640x640 18 Cs, 18.4ms\n",
      "image 143/277 /scratch/project_2006327/YOLOv5/datasets/2024_datasets/scenario_3/test_data/images/test/Lumo_049_1619.jpg: 640x640 6 Cs, 18.5ms\n",
      "image 144/277 /scratch/project_2006327/YOLOv5/datasets/2024_datasets/scenario_3/test_data/images/test/Lumo_049_1620.jpg: 640x640 1 C, 18.4ms\n",
      "image 145/277 /scratch/project_2006327/YOLOv5/datasets/2024_datasets/scenario_3/test_data/images/test/Lumo_049_1826.jpg: 640x640 10 Cs, 18.5ms\n",
      "image 146/277 /scratch/project_2006327/YOLOv5/datasets/2024_datasets/scenario_3/test_data/images/test/Lumo_049_1827.jpg: 640x640 29 Cs, 18.4ms\n",
      "image 147/277 /scratch/project_2006327/YOLOv5/datasets/2024_datasets/scenario_3/test_data/images/test/Lumo_049_1927.jpg: 640x640 6 Cs, 18.5ms\n",
      "image 148/277 /scratch/project_2006327/YOLOv5/datasets/2024_datasets/scenario_3/test_data/images/test/Lumo_049_1928.jpg: 640x640 13 Cs, 18.5ms\n",
      "image 149/277 /scratch/project_2006327/YOLOv5/datasets/2024_datasets/scenario_3/test_data/images/test/Lumo_049_2029.jpg: 640x640 18 Cs, 18.5ms\n",
      "image 150/277 /scratch/project_2006327/YOLOv5/datasets/2024_datasets/scenario_3/test_data/images/test/Lumo_049_2030.jpg: 640x640 4 Cs, 18.4ms\n",
      "image 151/277 /scratch/project_2006327/YOLOv5/datasets/2024_datasets/scenario_3/test_data/images/test/Lumo_049_218.jpg: 640x640 1 C, 18.4ms\n",
      "image 152/277 /scratch/project_2006327/YOLOv5/datasets/2024_datasets/scenario_3/test_data/images/test/Lumo_049_220.jpg: 640x640 3 Cs, 18.5ms\n",
      "image 153/277 /scratch/project_2006327/YOLOv5/datasets/2024_datasets/scenario_3/test_data/images/test/Lumo_069_1049.jpg: 640x640 5 Cs, 18.4ms\n",
      "image 154/277 /scratch/project_2006327/YOLOv5/datasets/2024_datasets/scenario_3/test_data/images/test/Lumo_069_1050.jpg: 640x640 7 Cs, 18.4ms\n",
      "image 155/277 /scratch/project_2006327/YOLOv5/datasets/2024_datasets/scenario_3/test_data/images/test/Lumo_069_543.jpg: 640x640 12 Cs, 18.5ms\n",
      "image 156/277 /scratch/project_2006327/YOLOv5/datasets/2024_datasets/scenario_3/test_data/images/test/Lumo_069_644.jpg: 640x640 25 Cs, 18.4ms\n",
      "image 157/277 /scratch/project_2006327/YOLOv5/datasets/2024_datasets/scenario_3/test_data/images/test/Lumo_069_744.jpg: 640x640 9 Cs, 18.4ms\n",
      "image 158/277 /scratch/project_2006327/YOLOv5/datasets/2024_datasets/scenario_3/test_data/images/test/Lumo_069_745.jpg: 640x640 13 Cs, 18.4ms\n",
      "image 159/277 /scratch/project_2006327/YOLOv5/datasets/2024_datasets/scenario_3/test_data/images/test/Lumo_069_746.jpg: 640x640 16 Cs, 18.4ms\n",
      "image 160/277 /scratch/project_2006327/YOLOv5/datasets/2024_datasets/scenario_3/test_data/images/test/Lumo_069_844.jpg: 640x640 4 Cs, 18.4ms\n",
      "image 161/277 /scratch/project_2006327/YOLOv5/datasets/2024_datasets/scenario_3/test_data/images/test/Lumo_069_845.jpg: 640x640 8 Cs, 18.4ms\n",
      "image 162/277 /scratch/project_2006327/YOLOv5/datasets/2024_datasets/scenario_3/test_data/images/test/Lumo_069_846.jpg: 640x640 29 Cs, 18.4ms\n",
      "image 163/277 /scratch/project_2006327/YOLOv5/datasets/2024_datasets/scenario_3/test_data/images/test/Lumo_069_847.jpg: 640x640 12 Cs, 18.5ms\n",
      "image 164/277 /scratch/project_2006327/YOLOv5/datasets/2024_datasets/scenario_3/test_data/images/test/Lumo_069_848.jpg: 640x640 2 Cs, 18.4ms\n",
      "image 165/277 /scratch/project_2006327/YOLOv5/datasets/2024_datasets/scenario_3/test_data/images/test/Lumo_069_946.jpg: 640x640 9 Cs, 18.5ms\n",
      "image 166/277 /scratch/project_2006327/YOLOv5/datasets/2024_datasets/scenario_3/test_data/images/test/Lumo_069_947.jpg: 640x640 12 Cs, 18.5ms\n",
      "image 167/277 /scratch/project_2006327/YOLOv5/datasets/2024_datasets/scenario_3/test_data/images/test/Lumo_069_948.jpg: 640x640 36 Cs, 18.5ms\n",
      "image 168/277 /scratch/project_2006327/YOLOv5/datasets/2024_datasets/scenario_3/test_data/images/test/Lumo_069_949.jpg: 640x640 21 Cs, 18.4ms\n",
      "image 169/277 /scratch/project_2006327/YOLOv5/datasets/2024_datasets/scenario_3/test_data/images/test/Lumo_091_1117.jpg: 640x640 4 Cs, 18.4ms\n",
      "image 170/277 /scratch/project_2006327/YOLOv5/datasets/2024_datasets/scenario_3/test_data/images/test/Lumo_091_1216.jpg: 640x640 3 Cs, 18.4ms\n",
      "image 171/277 /scratch/project_2006327/YOLOv5/datasets/2024_datasets/scenario_3/test_data/images/test/Lumo_091_1217.jpg: 640x640 10 Cs, 18.5ms\n",
      "image 172/277 /scratch/project_2006327/YOLOv5/datasets/2024_datasets/scenario_3/test_data/images/test/Lumo_091_1218.jpg: 640x640 16 Cs, 18.5ms\n",
      "image 173/277 /scratch/project_2006327/YOLOv5/datasets/2024_datasets/scenario_3/test_data/images/test/Lumo_091_127.jpg: 640x640 20 Cs, 18.4ms\n",
      "image 174/277 /scratch/project_2006327/YOLOv5/datasets/2024_datasets/scenario_3/test_data/images/test/Lumo_091_128.jpg: 640x640 11 Cs, 18.4ms\n",
      "image 175/277 /scratch/project_2006327/YOLOv5/datasets/2024_datasets/scenario_3/test_data/images/test/Lumo_091_1314.jpg: 640x640 1 C, 18.4ms\n",
      "image 176/277 /scratch/project_2006327/YOLOv5/datasets/2024_datasets/scenario_3/test_data/images/test/Lumo_091_1317.jpg: 640x640 5 Cs, 18.5ms\n",
      "image 177/277 /scratch/project_2006327/YOLOv5/datasets/2024_datasets/scenario_3/test_data/images/test/Lumo_091_1318.jpg: 640x640 5 Cs, 18.5ms\n",
      "image 178/277 /scratch/project_2006327/YOLOv5/datasets/2024_datasets/scenario_3/test_data/images/test/Lumo_091_1319.jpg: 640x640 3 Cs, 18.4ms\n",
      "image 179/277 /scratch/project_2006327/YOLOv5/datasets/2024_datasets/scenario_3/test_data/images/test/Lumo_091_227.jpg: 640x640 13 Cs, 18.5ms\n",
      "image 180/277 /scratch/project_2006327/YOLOv5/datasets/2024_datasets/scenario_3/test_data/images/test/Lumo_091_228.jpg: 640x640 42 Cs, 18.4ms\n",
      "image 181/277 /scratch/project_2006327/YOLOv5/datasets/2024_datasets/scenario_3/test_data/images/test/Lumo_091_229.jpg: 640x640 7 Cs, 18.4ms\n",
      "image 182/277 /scratch/project_2006327/YOLOv5/datasets/2024_datasets/scenario_3/test_data/images/test/Lumo_091_327.jpg: 640x640 3 Cs, 18.5ms\n",
      "image 183/277 /scratch/project_2006327/YOLOv5/datasets/2024_datasets/scenario_3/test_data/images/test/Lumo_091_328.jpg: 640x640 3 Cs, 18.4ms\n",
      "image 184/277 /scratch/project_2006327/YOLOv5/datasets/2024_datasets/scenario_3/test_data/images/test/Lumo_091_427.jpg: 640x640 6 Cs, 18.4ms\n",
      "image 185/277 /scratch/project_2006327/YOLOv5/datasets/2024_datasets/scenario_3/test_data/images/test/Lumo_091_428.jpg: 640x640 9 Cs, 18.5ms\n",
      "image 186/277 /scratch/project_2006327/YOLOv5/datasets/2024_datasets/scenario_3/test_data/images/test/Lumo_091_528.jpg: 640x640 15 Cs, 18.5ms\n",
      "image 187/277 /scratch/project_2006327/YOLOv5/datasets/2024_datasets/scenario_3/test_data/images/test/THW_097_3559.jpg: 640x640 4 Cs, 18.4ms\n",
      "image 188/277 /scratch/project_2006327/YOLOv5/datasets/2024_datasets/scenario_3/test_data/images/test/THW_097_3560.jpg: 640x640 27 Cs, 18.4ms\n",
      "image 189/277 /scratch/project_2006327/YOLOv5/datasets/2024_datasets/scenario_3/test_data/images/test/THW_097_3561.jpg: 640x640 8 Cs, 18.5ms\n",
      "image 190/277 /scratch/project_2006327/YOLOv5/datasets/2024_datasets/scenario_3/test_data/images/test/THW_097_3562.jpg: 640x640 2 Cs, 18.5ms\n",
      "image 191/277 /scratch/project_2006327/YOLOv5/datasets/2024_datasets/scenario_3/test_data/images/test/THW_097_3659.jpg: 640x640 12 Cs, 18.4ms\n",
      "image 192/277 /scratch/project_2006327/YOLOv5/datasets/2024_datasets/scenario_3/test_data/images/test/THW_097_3660.jpg: 640x640 4 Cs, 18.5ms\n",
      "image 193/277 /scratch/project_2006327/YOLOv5/datasets/2024_datasets/scenario_3/test_data/images/test/THW_097_3661.jpg: 640x640 12 Cs, 18.4ms\n",
      "image 194/277 /scratch/project_2006327/YOLOv5/datasets/2024_datasets/scenario_3/test_data/images/test/THW_097_3662.jpg: 640x640 22 Cs, 18.4ms\n",
      "image 195/277 /scratch/project_2006327/YOLOv5/datasets/2024_datasets/scenario_3/test_data/images/test/THW_097_3663.jpg: 640x640 9 Cs, 18.4ms\n",
      "image 196/277 /scratch/project_2006327/YOLOv5/datasets/2024_datasets/scenario_3/test_data/images/test/THW_097_3758.jpg: 640x640 2 Cs, 18.4ms\n",
      "image 197/277 /scratch/project_2006327/YOLOv5/datasets/2024_datasets/scenario_3/test_data/images/test/THW_097_3759.jpg: 640x640 11 Cs, 18.5ms\n",
      "image 198/277 /scratch/project_2006327/YOLOv5/datasets/2024_datasets/scenario_3/test_data/images/test/THW_097_3760.jpg: 640x640 3 Cs, 18.5ms\n",
      "image 199/277 /scratch/project_2006327/YOLOv5/datasets/2024_datasets/scenario_3/test_data/images/test/THW_097_3761.jpg: 640x640 6 Cs, 18.4ms\n",
      "image 200/277 /scratch/project_2006327/YOLOv5/datasets/2024_datasets/scenario_3/test_data/images/test/THW_097_3763.jpg: 640x640 2 Cs, 18.5ms\n",
      "image 201/277 /scratch/project_2006327/YOLOv5/datasets/2024_datasets/scenario_3/test_data/images/test/THW_097_3860.jpg: 640x640 2 Cs, 18.5ms\n",
      "image 202/277 /scratch/project_2006327/YOLOv5/datasets/2024_datasets/scenario_3/test_data/images/test/THW_097_3962.jpg: 640x640 1 C, 18.4ms\n",
      "image 203/277 /scratch/project_2006327/YOLOv5/datasets/2024_datasets/scenario_3/test_data/images/test/THW_097_3987.jpg: 640x640 7 Cs, 18.5ms\n",
      "image 204/277 /scratch/project_2006327/YOLOv5/datasets/2024_datasets/scenario_3/test_data/images/test/THW_097_3988.jpg: 640x640 10 Cs, 18.6ms\n",
      "image 205/277 /scratch/project_2006327/YOLOv5/datasets/2024_datasets/scenario_3/test_data/images/test/THW_097_4063.jpg: 640x640 2 Cs, 18.6ms\n",
      "image 206/277 /scratch/project_2006327/YOLOv5/datasets/2024_datasets/scenario_3/test_data/images/test/THW_097_4064.jpg: 640x640 3 Cs, 18.5ms\n",
      "image 207/277 /scratch/project_2006327/YOLOv5/datasets/2024_datasets/scenario_3/test_data/images/test/THW_097_4088.jpg: 640x640 32 Cs, 18.5ms\n",
      "image 208/277 /scratch/project_2006327/YOLOv5/datasets/2024_datasets/scenario_3/test_data/images/test/THW_097_4089.jpg: 640x640 33 Cs, 18.5ms\n",
      "image 209/277 /scratch/project_2006327/YOLOv5/datasets/2024_datasets/scenario_3/test_data/images/test/THW_097_4188.jpg: 640x640 1 C, 18.5ms\n",
      "image 210/277 /scratch/project_2006327/YOLOv5/datasets/2024_datasets/scenario_3/test_data/images/test/THW_097_4189.jpg: 640x640 14 Cs, 18.5ms\n",
      "image 211/277 /scratch/project_2006327/YOLOv5/datasets/2024_datasets/scenario_3/test_data/images/test/THW_097_4190.jpg: 640x640 9 Cs, 18.5ms\n",
      "image 212/277 /scratch/project_2006327/YOLOv5/datasets/2024_datasets/scenario_3/test_data/images/test/THW_097_4290.jpg: 640x640 2 Cs, 18.5ms\n",
      "image 213/277 /scratch/project_2006327/YOLOv5/datasets/2024_datasets/scenario_3/test_data/images/test/THW_097_4292.jpg: 640x640 5 Cs, 18.5ms\n",
      "image 214/277 /scratch/project_2006327/YOLOv5/datasets/2024_datasets/scenario_3/test_data/images/test/THW_097_4393.jpg: 640x640 2 Cs, 18.5ms\n",
      "image 215/277 /scratch/project_2006327/YOLOv5/datasets/2024_datasets/scenario_3/test_data/images/test/THW_097_5078.jpg: 640x640 17 Cs, 18.4ms\n",
      "image 216/277 /scratch/project_2006327/YOLOv5/datasets/2024_datasets/scenario_3/test_data/images/test/THW_097_5079.jpg: 640x640 17 Cs, 18.5ms\n",
      "image 217/277 /scratch/project_2006327/YOLOv5/datasets/2024_datasets/scenario_3/test_data/images/test/THW_097_5179.jpg: 640x640 7 Cs, 18.5ms\n",
      "image 218/277 /scratch/project_2006327/YOLOv5/datasets/2024_datasets/scenario_3/test_data/images/test/THW_097_5180.jpg: 640x640 6 Cs, 18.5ms\n",
      "image 219/277 /scratch/project_2006327/YOLOv5/datasets/2024_datasets/scenario_3/test_data/images/test/THW_097_5181.jpg: 640x640 1 C, 18.5ms\n",
      "image 220/277 /scratch/project_2006327/YOLOv5/datasets/2024_datasets/scenario_3/test_data/images/test/THW_097_5280.jpg: 640x640 4 Cs, 18.5ms\n",
      "image 221/277 /scratch/project_2006327/YOLOv5/datasets/2024_datasets/scenario_3/test_data/images/test/THW_097_5281.jpg: 640x640 12 Cs, 18.5ms\n",
      "image 222/277 /scratch/project_2006327/YOLOv5/datasets/2024_datasets/scenario_3/test_data/images/test/THW_097_5382.jpg: 640x640 11 Cs, 18.5ms\n",
      "image 223/277 /scratch/project_2006327/YOLOv5/datasets/2024_datasets/scenario_3/test_data/images/test/THW_097_5383.jpg: 640x640 11 Cs, 18.4ms\n",
      "image 224/277 /scratch/project_2006327/YOLOv5/datasets/2024_datasets/scenario_3/test_data/images/test/THW_097_5483.jpg: 640x640 16 Cs, 18.5ms\n",
      "image 225/277 /scratch/project_2006327/YOLOv5/datasets/2024_datasets/scenario_3/test_data/images/test/THW_097_5484.jpg: 640x640 24 Cs, 18.5ms\n",
      "image 226/277 /scratch/project_2006327/YOLOv5/datasets/2024_datasets/scenario_3/test_data/images/test/THW_097_5485.jpg: 640x640 5 Cs, 18.5ms\n",
      "image 227/277 /scratch/project_2006327/YOLOv5/datasets/2024_datasets/scenario_3/test_data/images/test/THW_097_5584.jpg: 640x640 7 Cs, 18.5ms\n",
      "image 228/277 /scratch/project_2006327/YOLOv5/datasets/2024_datasets/scenario_3/test_data/images/test/THW_097_5585.jpg: 640x640 4 Cs, 18.5ms\n",
      "image 229/277 /scratch/project_2006327/YOLOv5/datasets/2024_datasets/scenario_3/test_data/images/test/THW_097_8272.jpg: 640x640 1 C, 18.5ms\n",
      "image 230/277 /scratch/project_2006327/YOLOv5/datasets/2024_datasets/scenario_3/test_data/images/test/THW_097_8273.jpg: 640x640 12 Cs, 18.4ms\n",
      "image 231/277 /scratch/project_2006327/YOLOv5/datasets/2024_datasets/scenario_3/test_data/images/test/THW_097_8274.jpg: 640x640 14 Cs, 18.5ms\n",
      "image 232/277 /scratch/project_2006327/YOLOv5/datasets/2024_datasets/scenario_3/test_data/images/test/THW_097_8303.jpg: 640x640 3 Cs, 18.5ms\n",
      "image 233/277 /scratch/project_2006327/YOLOv5/datasets/2024_datasets/scenario_3/test_data/images/test/THW_097_8304.jpg: 640x640 24 Cs, 18.4ms\n",
      "image 234/277 /scratch/project_2006327/YOLOv5/datasets/2024_datasets/scenario_3/test_data/images/test/THW_097_8305.jpg: 640x640 18 Cs, 18.5ms\n",
      "image 235/277 /scratch/project_2006327/YOLOv5/datasets/2024_datasets/scenario_3/test_data/images/test/THW_097_8404.jpg: 640x640 8 Cs, 18.5ms\n",
      "image 236/277 /scratch/project_2006327/YOLOv5/datasets/2024_datasets/scenario_3/test_data/images/test/THW_097_8405.jpg: 640x640 16 Cs, 18.5ms\n",
      "image 237/277 /scratch/project_2006327/YOLOv5/datasets/2024_datasets/scenario_3/test_data/images/test/THW_097_8406.jpg: 640x640 2 Cs, 18.4ms\n",
      "image 238/277 /scratch/project_2006327/YOLOv5/datasets/2024_datasets/scenario_3/test_data/images/test/THW_097_8506.jpg: 640x640 7 Cs, 18.5ms\n",
      "image 239/277 /scratch/project_2006327/YOLOv5/datasets/2024_datasets/scenario_3/test_data/images/test/THW_097_8607.jpg: 640x640 13 Cs, 18.5ms\n",
      "image 240/277 /scratch/project_2006327/YOLOv5/datasets/2024_datasets/scenario_3/test_data/images/test/THW_097_9307.jpg: 640x640 1 C, 18.5ms\n",
      "image 241/277 /scratch/project_2006327/YOLOv5/datasets/2024_datasets/scenario_3/test_data/images/test/THW_097_9689.jpg: 640x640 7 Cs, 18.5ms\n",
      "image 242/277 /scratch/project_2006327/YOLOv5/datasets/2024_datasets/scenario_3/test_data/images/test/THW_113_10028.jpg: 640x640 14 Cs, 18.4ms\n",
      "image 243/277 /scratch/project_2006327/YOLOv5/datasets/2024_datasets/scenario_3/test_data/images/test/THW_113_4618.jpg: 640x640 7 Cs, 18.5ms\n",
      "image 244/277 /scratch/project_2006327/YOLOv5/datasets/2024_datasets/scenario_3/test_data/images/test/THW_113_4619.jpg: 640x640 2 Cs, 18.5ms\n",
      "image 245/277 /scratch/project_2006327/YOLOv5/datasets/2024_datasets/scenario_3/test_data/images/test/THW_113_4720.jpg: 640x640 1 C, 18.5ms\n",
      "image 246/277 /scratch/project_2006327/YOLOv5/datasets/2024_datasets/scenario_3/test_data/images/test/THW_113_4721.jpg: 640x640 1 C, 18.5ms\n",
      "image 247/277 /scratch/project_2006327/YOLOv5/datasets/2024_datasets/scenario_3/test_data/images/test/THW_113_5852.jpg: 640x640 6 Cs, 18.4ms\n",
      "image 248/277 /scratch/project_2006327/YOLOv5/datasets/2024_datasets/scenario_3/test_data/images/test/THW_113_5853.jpg: 640x640 11 Cs, 18.5ms\n",
      "image 249/277 /scratch/project_2006327/YOLOv5/datasets/2024_datasets/scenario_3/test_data/images/test/THW_113_5854.jpg: 640x640 1 C, 18.5ms\n",
      "image 250/277 /scratch/project_2006327/YOLOv5/datasets/2024_datasets/scenario_3/test_data/images/test/THW_113_5952.jpg: 640x640 12 Cs, 18.5ms\n",
      "image 251/277 /scratch/project_2006327/YOLOv5/datasets/2024_datasets/scenario_3/test_data/images/test/THW_113_5953.jpg: 640x640 13 Cs, 18.5ms\n",
      "image 252/277 /scratch/project_2006327/YOLOv5/datasets/2024_datasets/scenario_3/test_data/images/test/THW_113_5954.jpg: 640x640 6 Cs, 18.4ms\n",
      "image 253/277 /scratch/project_2006327/YOLOv5/datasets/2024_datasets/scenario_3/test_data/images/test/THW_113_5955.jpg: 640x640 4 Cs, 18.5ms\n",
      "image 254/277 /scratch/project_2006327/YOLOv5/datasets/2024_datasets/scenario_3/test_data/images/test/THW_113_5956.jpg: 640x640 2 Cs, 18.4ms\n",
      "image 255/277 /scratch/project_2006327/YOLOv5/datasets/2024_datasets/scenario_3/test_data/images/test/THW_113_6052.jpg: 640x640 2 Cs, 18.5ms\n",
      "image 256/277 /scratch/project_2006327/YOLOv5/datasets/2024_datasets/scenario_3/test_data/images/test/THW_113_6053.jpg: 640x640 12 Cs, 18.5ms\n",
      "image 257/277 /scratch/project_2006327/YOLOv5/datasets/2024_datasets/scenario_3/test_data/images/test/THW_113_6054.jpg: 640x640 3 Cs, 18.5ms\n",
      "image 258/277 /scratch/project_2006327/YOLOv5/datasets/2024_datasets/scenario_3/test_data/images/test/THW_113_6153.jpg: 640x640 8 Cs, 18.5ms\n",
      "image 259/277 /scratch/project_2006327/YOLOv5/datasets/2024_datasets/scenario_3/test_data/images/test/THW_113_6154.jpg: 640x640 10 Cs, 18.5ms\n",
      "image 260/277 /scratch/project_2006327/YOLOv5/datasets/2024_datasets/scenario_3/test_data/images/test/THW_113_6155.jpg: 640x640 4 Cs, 18.5ms\n",
      "image 261/277 /scratch/project_2006327/YOLOv5/datasets/2024_datasets/scenario_3/test_data/images/test/THW_113_6253.jpg: 640x640 5 Cs, 18.5ms\n",
      "image 262/277 /scratch/project_2006327/YOLOv5/datasets/2024_datasets/scenario_3/test_data/images/test/THW_113_6254.jpg: 640x640 4 Cs, 18.4ms\n",
      "image 263/277 /scratch/project_2006327/YOLOv5/datasets/2024_datasets/scenario_3/test_data/images/test/THW_113_6255.jpg: 640x640 3 Cs, 18.5ms\n",
      "image 264/277 /scratch/project_2006327/YOLOv5/datasets/2024_datasets/scenario_3/test_data/images/test/THW_113_6256.jpg: 640x640 3 Cs, 18.4ms\n",
      "image 265/277 /scratch/project_2006327/YOLOv5/datasets/2024_datasets/scenario_3/test_data/images/test/THW_113_6257.jpg: 640x640 1 C, 18.5ms\n",
      "image 266/277 /scratch/project_2006327/YOLOv5/datasets/2024_datasets/scenario_3/test_data/images/test/THW_113_6355.jpg: 640x640 3 Cs, 18.5ms\n",
      "image 267/277 /scratch/project_2006327/YOLOv5/datasets/2024_datasets/scenario_3/test_data/images/test/THW_113_6356.jpg: 640x640 2 Cs, 18.5ms\n",
      "image 268/277 /scratch/project_2006327/YOLOv5/datasets/2024_datasets/scenario_3/test_data/images/test/THW_113_6357.jpg: 640x640 2 Cs, 18.5ms\n",
      "image 269/277 /scratch/project_2006327/YOLOv5/datasets/2024_datasets/scenario_3/test_data/images/test/THW_113_9625.jpg: 640x640 2 Cs, 18.4ms\n",
      "image 270/277 /scratch/project_2006327/YOLOv5/datasets/2024_datasets/scenario_3/test_data/images/test/THW_120_8924.jpg: 640x640 5 Cs, 18.4ms\n",
      "image 271/277 /scratch/project_2006327/YOLOv5/datasets/2024_datasets/scenario_3/test_data/images/test/THW_120_8925.jpg: 640x640 3 Cs, 18.4ms\n",
      "image 272/277 /scratch/project_2006327/YOLOv5/datasets/2024_datasets/scenario_3/test_data/images/test/THW_120_9024.jpg: 640x640 2 Cs, 18.5ms\n",
      "image 273/277 /scratch/project_2006327/YOLOv5/datasets/2024_datasets/scenario_3/test_data/images/test/THW_120_9025.jpg: 640x640 22 Cs, 18.5ms\n",
      "image 274/277 /scratch/project_2006327/YOLOv5/datasets/2024_datasets/scenario_3/test_data/images/test/THW_120_9026.jpg: 640x640 21 Cs, 18.4ms\n",
      "image 275/277 /scratch/project_2006327/YOLOv5/datasets/2024_datasets/scenario_3/test_data/images/test/THW_120_9126.jpg: 640x640 20 Cs, 18.5ms\n",
      "image 276/277 /scratch/project_2006327/YOLOv5/datasets/2024_datasets/scenario_3/test_data/images/test/THW_120_9127.jpg: 640x640 10 Cs, 18.5ms\n",
      "image 277/277 /scratch/project_2006327/YOLOv5/datasets/2024_datasets/scenario_3/test_data/images/test/THW_120_9227.jpg: 640x640 1 C, 18.4ms\n",
      "Speed: 0.4ms pre-process, 18.5ms inference, 0.7ms NMS per image at shape (1, 3, 640, 640)\n",
      "Results saved to \u001b[1mInference/2024/scenario_3/counts/yolov5_x\u001b[0m\n"
     ]
    }
   ],
   "source": [
    "!python detect.py --source /scratch/project_2006327/YOLOv5/datasets/2024_datasets/scenario_3/test_data/images/test --weights runs/train/2024/s3/yolov5_x/weights/best.pt --conf-thres 0.25 --iou 0.5 --project Inference/2024/scenario_3/counts --name yolov5_x"
   ]
  },
  {
   "cell_type": "code",
   "execution_count": null,
   "id": "f54e4332-12c4-46a4-86b6-7891700a504f",
   "metadata": {},
   "outputs": [],
   "source": []
  },
  {
   "cell_type": "code",
   "execution_count": null,
   "id": "45f50d3b-0592-4956-9927-70bb89fd8289",
   "metadata": {},
   "outputs": [],
   "source": []
  },
  {
   "cell_type": "code",
   "execution_count": null,
   "id": "0871ff06-a803-4fda-bc96-5d613a57a5ef",
   "metadata": {},
   "outputs": [],
   "source": []
  },
  {
   "cell_type": "code",
   "execution_count": null,
   "id": "286fe59c-bdb6-4e37-849a-13d430ea0a31",
   "metadata": {},
   "outputs": [],
   "source": []
  },
  {
   "cell_type": "code",
   "execution_count": null,
   "id": "aff249f1-30dd-4a98-b08c-e5138376401a",
   "metadata": {},
   "outputs": [],
   "source": []
  },
  {
   "cell_type": "code",
   "execution_count": null,
   "id": "85441b31-8c7b-495a-8163-b2a05bb99d66",
   "metadata": {},
   "outputs": [],
   "source": []
  },
  {
   "cell_type": "code",
   "execution_count": null,
   "id": "3ace80ad-1354-42f9-a87c-4be7fb468608",
   "metadata": {},
   "outputs": [],
   "source": []
  },
  {
   "cell_type": "code",
   "execution_count": null,
   "id": "e6e5b655-b264-488e-94f6-b7921059df49",
   "metadata": {},
   "outputs": [],
   "source": []
  },
  {
   "cell_type": "markdown",
   "id": "5d173467-5d4b-4954-b6c5-157440935934",
   "metadata": {},
   "source": [
    "## Inference on the individual grid dataset using YOLOv5l"
   ]
  },
  {
   "cell_type": "markdown",
   "id": "7cce6a00-f5ee-4f16-ac84-f0c645425c01",
   "metadata": {},
   "source": [
    "### Choke_106"
   ]
  },
  {
   "cell_type": "code",
   "execution_count": null,
   "id": "4ff94e61-b120-40dc-b660-6b6f49234a88",
   "metadata": {},
   "outputs": [],
   "source": [
    "!python val.py --data TG_Choke_106.yaml --weights runs/train/Combined_data_02_BG/yolov5_l/weights/best.pt --img 640 --task test --conf-thres 0.25 --iou 0.5 --project Inference/TG_combined_test/inference/metrics --name Choke_106"
   ]
  },
  {
   "cell_type": "code",
   "execution_count": null,
   "id": "2e26e595-1ffb-4bf5-b372-b845060d9126",
   "metadata": {
    "scrolled": true
   },
   "outputs": [],
   "source": [
    "!python detect.py --source /scratch/project_2006327/YOLOv5/datasets/Test_combined_grid_level/Choke_106/images/test --weights runs/train/Combined_data_02_BG/yolov5_l/weights/best.pt --conf-thres 0.25 --iou 0.5 --project Inference/TG_combined_test/inference/counts --name Choke_106"
   ]
  },
  {
   "cell_type": "markdown",
   "id": "831f4dd6-2e26-4577-9d5d-bef89a734b88",
   "metadata": {},
   "source": [
    "### Choke_108"
   ]
  },
  {
   "cell_type": "code",
   "execution_count": null,
   "id": "60a25e95-6e91-4abc-9fa2-2f43f6a750e6",
   "metadata": {},
   "outputs": [],
   "source": [
    "!python val.py --data TG_Choke_108.yaml --weights runs/train/Combined_data_02_BG/yolov5_l/weights/best.pt --img 640 --task test --conf-thres 0.25 --iou 0.5 --project Inference/TG_combined_test/inference/metrics --name Choke_108"
   ]
  },
  {
   "cell_type": "code",
   "execution_count": null,
   "id": "ebd1ec62-85e2-4cf9-8fd8-9fd38594932d",
   "metadata": {
    "scrolled": true
   },
   "outputs": [],
   "source": [
    "!python detect.py --source /scratch/project_2006327/YOLOv5/datasets/Test_combined_grid_level/Choke_108/images/test --weights runs/train/Combined_data_02_BG/yolov5_l/weights/best.pt --conf-thres 0.25 --iou 0.5 --project Inference/TG_combined_test/inference/counts --name Choke_108"
   ]
  },
  {
   "cell_type": "markdown",
   "id": "851103f4-b249-4d26-99c2-bbb90c87524f",
   "metadata": {},
   "source": [
    "### Choke_113"
   ]
  },
  {
   "cell_type": "code",
   "execution_count": null,
   "id": "201bdbab-26d7-4b8c-a41d-559714f43106",
   "metadata": {},
   "outputs": [],
   "source": [
    "!python val.py --data TG_Choke_113.yaml --weights runs/train/Combined_data_02_BG/yolov5_l/weights/best.pt --img 640 --task test --conf-thres 0.25 --iou 0.5 --project Inference/TG_combined_test/inference/metrics --name Choke_113"
   ]
  },
  {
   "cell_type": "code",
   "execution_count": null,
   "id": "887164a1-8cbc-43aa-82f4-ef8a840a51d8",
   "metadata": {
    "scrolled": true
   },
   "outputs": [],
   "source": [
    "!python detect.py --source /scratch/project_2006327/YOLOv5/datasets/Test_combined_grid_level/Choke_113/images/test --weights runs/train/Combined_data_02_BG/yolov5_l/weights/best.pt --conf-thres 0.25 --iou 0.5 --project Inference/TG_combined_test/inference/counts --name Choke_113"
   ]
  },
  {
   "cell_type": "markdown",
   "id": "2789f88b-b368-42a7-8083-e64a46e333dd",
   "metadata": {},
   "source": [
    "### Lumo_049"
   ]
  },
  {
   "cell_type": "code",
   "execution_count": null,
   "id": "98c7f7b6-f18f-4e1f-83f3-3de8eb28c927",
   "metadata": {},
   "outputs": [],
   "source": [
    "!python val.py --data TG_Lumo_049.yaml --weights runs/train/Combined_data_02_BG/yolov5_l/weights/best.pt --img 640 --task test --conf-thres 0.25 --iou 0.5 --project Inference/TG_combined_test/inference/metrics --name Lumo_049"
   ]
  },
  {
   "cell_type": "code",
   "execution_count": null,
   "id": "c90b4bc8-0d1a-4afd-bd08-7b17071425c1",
   "metadata": {
    "scrolled": true
   },
   "outputs": [],
   "source": [
    "!python detect.py --source /scratch/project_2006327/YOLOv5/datasets/Test_combined_grid_level/Lumo_049/images/test --weights runs/train/Combined_data_02_BG/yolov5_l/weights/best.pt --conf-thres 0.25 --iou 0.5 --project Inference/TG_combined_test/inference/counts --name Lumo_049"
   ]
  },
  {
   "cell_type": "markdown",
   "id": "796840f0-69e2-47d0-9618-4608a77eed5c",
   "metadata": {},
   "source": [
    "### Lumo_069"
   ]
  },
  {
   "cell_type": "code",
   "execution_count": null,
   "id": "97080eb1-cafa-4a5e-a110-b8701a176921",
   "metadata": {
    "scrolled": true
   },
   "outputs": [],
   "source": [
    "!python val.py --data TG_Lumo_069.yaml --weights runs/train/Combined_data_02_BG/yolov5_l/weights/best.pt --img 640 --task test --conf-thres 0.25 --iou 0.5 --project Inference/TG_combined_test/inference/metrics --name Lumo_069"
   ]
  },
  {
   "cell_type": "code",
   "execution_count": null,
   "id": "726f03f5-e6ff-49f5-a499-a5b65dfb0576",
   "metadata": {
    "scrolled": true
   },
   "outputs": [],
   "source": [
    "!python detect.py --source /scratch/project_2006327/YOLOv5/datasets/Test_combined_grid_level/Lumo_069/images/test --weights runs/train/Combined_data_02_BG/yolov5_l/weights/best.pt --conf-thres 0.25 --iou 0.5 --project Inference/TG_combined_test/inference/counts --name Lumo_069"
   ]
  },
  {
   "cell_type": "markdown",
   "id": "f90eceb7-1ad8-4e58-9bd1-89fee6387c42",
   "metadata": {},
   "source": [
    "### Lumo_103"
   ]
  },
  {
   "cell_type": "code",
   "execution_count": null,
   "id": "389bacc0-f74e-428f-81d0-e65d6e889d57",
   "metadata": {
    "scrolled": true
   },
   "outputs": [],
   "source": [
    "!python val.py --data TG_Lumo_103.yaml --weights runs/train/Combined_data_02_BG/yolov5_l/weights/best.pt --img 640 --task test --conf-thres 0.25 --iou 0.5 --project Inference/TG_combined_test/inference/metrics --name Lumo_103"
   ]
  },
  {
   "cell_type": "code",
   "execution_count": null,
   "id": "c096de77-59da-45ae-a8e7-61d4cda50e54",
   "metadata": {
    "scrolled": true
   },
   "outputs": [],
   "source": [
    "!python detect.py --source /scratch/project_2006327/YOLOv5/datasets/Test_combined_grid_level/Lumo_103/images/test --weights runs/train/Combined_data_02_BG/yolov5_l/weights/best.pt --conf-thres 0.25 --iou 0.5 --project Inference/TG_combined_test/inference/counts --name Lumo_103"
   ]
  },
  {
   "cell_type": "markdown",
   "id": "95c5902b-22dc-4ac9-b343-6b537898453e",
   "metadata": {},
   "source": [
    "### THWS_097"
   ]
  },
  {
   "cell_type": "code",
   "execution_count": null,
   "id": "ff1ccbfc-cb09-49dc-ae1f-2ff84c9890c7",
   "metadata": {
    "scrolled": true
   },
   "outputs": [],
   "source": [
    "!python val.py --data TG_THWS_097.yaml --weights runs/train/Combined_data_02_BG/yolov5_l/weights/best.pt --img 640 --task test --conf-thres 0.25 --iou 0.5 --project Inference/TG_combined_test/inference/metrics --name THWS_097"
   ]
  },
  {
   "cell_type": "code",
   "execution_count": null,
   "id": "6f9d6612-f314-44ab-ae04-40cd53d23614",
   "metadata": {
    "scrolled": true
   },
   "outputs": [],
   "source": [
    "!python detect.py --source /scratch/project_2006327/YOLOv5/datasets/Test_combined_grid_level/THWS_097/images/test --weights runs/train/Combined_data_02_BG/yolov5_l/weights/best.pt --conf-thres 0.25 --iou 0.5 --project Inference/TG_combined_test/inference/counts --name THWS_097"
   ]
  },
  {
   "cell_type": "markdown",
   "id": "80866bbe-c327-4f1c-953b-90db7bdff1d8",
   "metadata": {},
   "source": [
    "### THWS_098"
   ]
  },
  {
   "cell_type": "code",
   "execution_count": null,
   "id": "4d862e1f-2885-4cca-9c3a-1e61a0d96128",
   "metadata": {
    "scrolled": true
   },
   "outputs": [],
   "source": [
    "!python val.py --data TG_THWS_098.yaml --weights runs/train/Combined_data_02_BG/yolov5_l/weights/best.pt --img 640 --task test --conf-thres 0.25 --iou 0.5 --project Inference/TG_combined_test/inference/metrics --name THWS_098"
   ]
  },
  {
   "cell_type": "code",
   "execution_count": null,
   "id": "eacc25af-e1b4-440e-8f6f-0e787b33fb13",
   "metadata": {
    "scrolled": true
   },
   "outputs": [],
   "source": [
    "!python detect.py --source /scratch/project_2006327/YOLOv5/datasets/Test_combined_grid_level/THWS_098/images/test --weights runs/train/Combined_data_02_BG/yolov5_l/weights/best.pt --conf-thres 0.25 --iou 0.5 --project Inference/TG_combined_test/inference/counts --name THWS_098"
   ]
  },
  {
   "cell_type": "markdown",
   "id": "0947dd32-12c8-461d-93c0-261467f1ae1b",
   "metadata": {},
   "source": [
    "### THWS_120"
   ]
  },
  {
   "cell_type": "code",
   "execution_count": null,
   "id": "58d6ec9b-5edb-4c6f-8ccd-13325310fda5",
   "metadata": {
    "scrolled": true
   },
   "outputs": [],
   "source": [
    "!python val.py --data TG_THWS_120.yaml --weights runs/train/Combined_data_02_BG/yolov5_l/weights/best.pt --img 640 --task test --conf-thres 0.25 --iou 0.5 --project Inference/TG_combined_test/inference/metrics --name THWS_120"
   ]
  },
  {
   "cell_type": "code",
   "execution_count": null,
   "id": "f6a31c84-5ca9-4b95-9bd2-ce98b32d242d",
   "metadata": {
    "scrolled": true
   },
   "outputs": [],
   "source": [
    "!python detect.py --source /scratch/project_2006327/YOLOv5/datasets/Test_combined_grid_level/THWS_120/images/test --weights runs/train/Combined_data_02_BG/yolov5_l/weights/best.pt --conf-thres 0.25 --iou 0.5 --project Inference/TG_combined_test/inference/counts --name THWS_120"
   ]
  }
 ],
 "metadata": {
  "kernelspec": {
   "display_name": "Python 3 (ipykernel)",
   "language": "python",
   "name": "python3"
  },
  "language_info": {
   "codemirror_mode": {
    "name": "ipython",
    "version": 3
   },
   "file_extension": ".py",
   "mimetype": "text/x-python",
   "name": "python",
   "nbconvert_exporter": "python",
   "pygments_lexer": "ipython3",
   "version": "3.10.13"
  }
 },
 "nbformat": 4,
 "nbformat_minor": 5
}
