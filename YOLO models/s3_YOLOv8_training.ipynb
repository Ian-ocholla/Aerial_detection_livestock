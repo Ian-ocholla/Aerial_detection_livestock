{
 "cells": [
  {
   "cell_type": "markdown",
   "id": "ac33dbc6-c79c-4526-ba32-c7ae9ad8746c",
   "metadata": {},
   "source": [
    "## Introduction\n",
    "\n",
    "Using combined dataset drawn from Lumo, Choke and THWS"
   ]
  },
  {
   "cell_type": "markdown",
   "id": "c86d3cec-a4b3-4bbb-99f0-ec9c9801a80d",
   "metadata": {},
   "source": [
    "### Set the directory"
   ]
  },
  {
   "cell_type": "code",
   "execution_count": 1,
   "id": "060cd619",
   "metadata": {},
   "outputs": [
    {
     "name": "stdout",
     "output_type": "stream",
     "text": [
      "/scratch/project_2006327/YOLOv8/datasets/2024_datasets/scenario_3/train_data\n"
     ]
    }
   ],
   "source": [
    "#set the location\n",
    "%cd /scratch/project_2006327/YOLOv8/datasets/2024_datasets/scenario_3/train_data"
   ]
  },
  {
   "cell_type": "code",
   "execution_count": 2,
   "id": "5df0a1e6-76c9-487f-832a-02ae3030612c",
   "metadata": {},
   "outputs": [
    {
     "name": "stdout",
     "output_type": "stream",
     "text": [
      "/scratch/project_2006327/YOLOv8/datasets/2024_datasets/scenario_3/train_data\n"
     ]
    }
   ],
   "source": [
    "!pwd"
   ]
  },
  {
   "cell_type": "markdown",
   "id": "41c38274-f56d-42d8-8a51-8210d2df14df",
   "metadata": {},
   "source": [
    "### Check the files"
   ]
  },
  {
   "cell_type": "markdown",
   "id": "56dc89fa-58d4-48af-b38f-d3b71b7e56d9",
   "metadata": {},
   "source": [
    "#### Training dataset"
   ]
  },
  {
   "cell_type": "code",
   "execution_count": 3,
   "id": "63125a4c-f312-48f9-a4bd-c6171daa774f",
   "metadata": {},
   "outputs": [],
   "source": [
    "#count the number of files in the training and validation set\n",
    "import os\n",
    "\n",
    "def count_files_in_folder(folder_path):\n",
    "    # Get a list of all filenames in the folder\n",
    "    filenames = os.listdir(folder_path)\n",
    "\n",
    "    # Count the number of files in the folder\n",
    "    num_files = len(filenames)\n",
    "\n",
    "    return num_files"
   ]
  },
  {
   "cell_type": "code",
   "execution_count": 4,
   "id": "6b8f4b7b-e683-407b-96e2-6338397f4ee6",
   "metadata": {},
   "outputs": [
    {
     "name": "stdout",
     "output_type": "stream",
     "text": [
      "Number of training images: 6917\n"
     ]
    }
   ],
   "source": [
    "if __name__ == \"__main__\":\n",
    "    # Replace 'folder_path' with the path to the folder you want to count files in\n",
    "    folder_path = './images/train'\n",
    "\n",
    "    num_files = count_files_in_folder(folder_path)\n",
    "    print(f\"Number of training images: {num_files}\")"
   ]
  },
  {
   "cell_type": "markdown",
   "id": "514062fb-cf44-4824-b6fc-40853fc95adc",
   "metadata": {},
   "source": [
    "Additional 500 non livestock images"
   ]
  },
  {
   "cell_type": "code",
   "execution_count": 5,
   "id": "cd5202a0-1d46-460a-8482-185a17e4a7da",
   "metadata": {},
   "outputs": [
    {
     "name": "stdout",
     "output_type": "stream",
     "text": [
      "Number of training txt files: 6417\n"
     ]
    }
   ],
   "source": [
    "# number of training labels files\n",
    "\n",
    "if __name__ == \"__main__\":\n",
    "    # Replace 'folder_path' with the path to the folder you want to count files in\n",
    "    folder_path = './labels/train'\n",
    "\n",
    "    num_files = count_files_in_folder(folder_path)\n",
    "    print(f\"Number of training txt files: {num_files}\")"
   ]
  },
  {
   "cell_type": "markdown",
   "id": "df60e4e5-d248-44a9-82d8-833b962e9b41",
   "metadata": {},
   "source": [
    "#### Validation dataset"
   ]
  },
  {
   "cell_type": "code",
   "execution_count": 6,
   "id": "3c69e0e9-6757-43d7-838f-1d679571ecb7",
   "metadata": {},
   "outputs": [
    {
     "name": "stdout",
     "output_type": "stream",
     "text": [
      "Number of validation images in the folder: 1604\n"
     ]
    }
   ],
   "source": [
    "#number of validation images\n",
    "\n",
    "if __name__ == \"__main__\":\n",
    "    # Replace 'folder_path' with the path to the folder you want to count files in\n",
    "    folder_path = './images/val'\n",
    "\n",
    "    num_files = count_files_in_folder(folder_path)\n",
    "    print(f\"Number of validation images in the folder: {num_files}\")"
   ]
  },
  {
   "cell_type": "code",
   "execution_count": 7,
   "id": "666c4508-53ac-44a9-ad00-23e556d10591",
   "metadata": {},
   "outputs": [
    {
     "name": "stdout",
     "output_type": "stream",
     "text": [
      "Number of validation txt files: 1604\n"
     ]
    }
   ],
   "source": [
    "#number of validation txt files\n",
    "\n",
    "if __name__ == \"__main__\":\n",
    "    # Replace 'folder_path' with the path to the folder you want to count files in\n",
    "    folder_path = './labels/val'\n",
    "\n",
    "    num_files = count_files_in_folder(folder_path)\n",
    "    print(f\"Number of validation txt files: {num_files}\")"
   ]
  },
  {
   "cell_type": "markdown",
   "id": "0d24d581-632b-46fb-b3e3-28f278662775",
   "metadata": {},
   "source": [
    "### Counting the annotations"
   ]
  },
  {
   "cell_type": "markdown",
   "id": "62592d89-a769-4fc3-91f6-cdec23f15276",
   "metadata": {},
   "source": [
    "#### Training"
   ]
  },
  {
   "cell_type": "code",
   "execution_count": 8,
   "id": "33e7a11b-5a5e-4c5d-b4ea-13e73eb6517d",
   "metadata": {},
   "outputs": [
    {
     "name": "stdout",
     "output_type": "stream",
     "text": [
      "Total number of labelled targets used for training: 59962\n"
     ]
    }
   ],
   "source": [
    "#count the number of labelled targets used in the training\n",
    "import os\n",
    "\n",
    "# Replace \"/path/to/your/dataset\" with the path to your dataset directory\n",
    "dataset_dir = \"labels/train\"\n",
    "\n",
    "# Initialize a variable to store the total count\n",
    "total_labeled_targets_count = 0\n",
    "\n",
    "# Iterate through all files in the dataset directory\n",
    "for filename in os.listdir(dataset_dir):\n",
    "    if filename.endswith(\".txt\"):  # Assuming annotation files have a .txt extension\n",
    "        annotation_file = os.path.join(dataset_dir, filename)\n",
    "        \n",
    "        with open(annotation_file, \"r\") as f:\n",
    "            labeled_targets_count = len(f.readlines())\n",
    "        \n",
    "        total_labeled_targets_count += labeled_targets_count\n",
    "\n",
    "print(f\"Total number of labelled targets used for training: {total_labeled_targets_count}\")"
   ]
  },
  {
   "cell_type": "markdown",
   "id": "87a07850-4831-42ca-bf48-8e25e6e0bcf5",
   "metadata": {},
   "source": [
    "#### validation"
   ]
  },
  {
   "cell_type": "code",
   "execution_count": 9,
   "id": "efcca967-c433-4f47-8e09-b6f3191ea539",
   "metadata": {},
   "outputs": [
    {
     "name": "stdout",
     "output_type": "stream",
     "text": [
      "Total number of labelled targets used for validation: 15091\n"
     ]
    }
   ],
   "source": [
    "#count the number of labelled targets used in the validation\n",
    "import os\n",
    "\n",
    "# Replace \"/path/to/your/dataset\" with the path to your dataset directory\n",
    "dataset_dir = \"labels/val\"\n",
    "\n",
    "# Initialize a variable to store the total count\n",
    "total_labeled_targets_count = 0\n",
    "\n",
    "# Iterate through all files in the dataset directory\n",
    "for filename in os.listdir(dataset_dir):\n",
    "    if filename.endswith(\".txt\"):  # Assuming annotation files have a .txt extension\n",
    "        annotation_file = os.path.join(dataset_dir, filename)\n",
    "        \n",
    "        with open(annotation_file, \"r\") as f:\n",
    "            labeled_targets_count = len(f.readlines())\n",
    "        \n",
    "        total_labeled_targets_count += labeled_targets_count\n",
    "\n",
    "print(f\"Total number of labelled targets used for validation: {total_labeled_targets_count}\")"
   ]
  },
  {
   "cell_type": "markdown",
   "id": "6964a730-c55e-4709-b772-1312edf2c9f2",
   "metadata": {},
   "source": [
    "#### Test dataset"
   ]
  },
  {
   "cell_type": "code",
   "execution_count": 10,
   "id": "0853fffc-9216-44a4-9934-1d7dc317b958",
   "metadata": {},
   "outputs": [
    {
     "name": "stdout",
     "output_type": "stream",
     "text": [
      "Number of test files: 277\n"
     ]
    }
   ],
   "source": [
    "import os\n",
    "\n",
    "def count_files_in_folder(folder_path):\n",
    "    # Get a list of all filenames in the folder\n",
    "    filenames = os.listdir(folder_path)\n",
    "\n",
    "    # Count the number of files in the folder\n",
    "    num_files = len(filenames)\n",
    "\n",
    "    return num_files\n",
    "\n",
    "if __name__ == \"__main__\":\n",
    "    # Replace 'folder_path' with the path to the folder you want to count files in\n",
    "    folder_path = '/scratch/project_2006327/YOLOv8/datasets/2024_datasets/scenario_3/test_data/images/test'\n",
    "\n",
    "    num_files = count_files_in_folder(folder_path)\n",
    "    print(f\"Number of test files: {num_files}\")"
   ]
  },
  {
   "cell_type": "code",
   "execution_count": 11,
   "id": "097f3aac-ecf7-476e-8f49-1caf23b32f81",
   "metadata": {},
   "outputs": [
    {
     "name": "stdout",
     "output_type": "stream",
     "text": [
      "Total number of labelled targets in the test images: 2642\n"
     ]
    }
   ],
   "source": [
    "# Replace \"/path/to/your/dataset\" with the path to your dataset directory\n",
    "dataset_dir = \"/scratch/project_2006327/YOLOv8/datasets/2024_datasets/scenario_3/test_data/labels/test\"\n",
    "\n",
    "# Initialize a variable to store the total count\n",
    "total_labeled_targets_count = 0\n",
    "\n",
    "# Iterate through all files in the dataset directory\n",
    "for filename in os.listdir(dataset_dir):\n",
    "    if filename.endswith(\".txt\"):  # Assuming annotation files have a .txt extension\n",
    "        annotation_file = os.path.join(dataset_dir, filename)\n",
    "        \n",
    "        with open(annotation_file, \"r\") as f:\n",
    "            labeled_targets_count = len(f.readlines())\n",
    "        \n",
    "        total_labeled_targets_count += labeled_targets_count\n",
    "\n",
    "print(f\"Total number of labelled targets in the test images: {total_labeled_targets_count}\")"
   ]
  },
  {
   "cell_type": "markdown",
   "id": "8142986d-edb7-4a18-b69c-ad2d2ddf9573",
   "metadata": {},
   "source": [
    "### Import necessary libraries"
   ]
  },
  {
   "cell_type": "code",
   "execution_count": 3,
   "id": "2121a308",
   "metadata": {},
   "outputs": [
    {
     "name": "stderr",
     "output_type": "stream",
     "text": [
      "Ultralytics YOLOv8.0.157 🚀 Python-3.10.0 torch-2.0.1+cu117 CUDA:0 (Tesla V100-SXM2-32GB, 32501MiB)\n",
      "Setup complete ✅ (40 CPUs, 376.1 GB RAM, 0.0/0.0 GB disk)\n"
     ]
    }
   ],
   "source": [
    "#this is to render predictions\n",
    "from IPython.display import Image \n",
    "# Importing libraries\n",
    "from ultralytics import YOLO\n",
    "import ultralytics\n",
    "ultralytics.checks()"
   ]
  },
  {
   "cell_type": "markdown",
   "id": "a14155d5",
   "metadata": {
    "tags": []
   },
   "source": [
    "## YOLOv8s "
   ]
  },
  {
   "cell_type": "markdown",
   "id": "26e3aa0c-a413-40a6-a4b0-012ce6ba5de5",
   "metadata": {
    "tags": []
   },
   "source": [
    "### Validation"
   ]
  },
  {
   "cell_type": "code",
   "execution_count": 4,
   "id": "55cd915b",
   "metadata": {},
   "outputs": [
    {
     "name": "stderr",
     "output_type": "stream",
     "text": [
      "Ultralytics YOLOv8.0.157 🚀 Python-3.10.0 torch-2.0.1+cu117 CUDA:0 (Tesla V100-SXM2-32GB, 32501MiB)\n",
      "Model summary (fused): 168 layers, 11125971 parameters, 0 gradients\n",
      "\u001b[34m\u001b[1mval: \u001b[0mScanning /scratch/project_2006327/YOLOv8/datasets/2024_datasets/scenario_3/train_data/labels/val.cache... 1604 images, 0 backgrounds, 0 corrupt: 100%|██████████| 1604/1604 [00:00<?, ?it/s]\n",
      "/CSC_CONTAINER/miniconda/envs/env1/lib/python3.10/site-packages/torch/utils/data/dataloader.py:560: UserWarning: This DataLoader will create 8 worker processes in total. Our suggested max number of worker in current system is 3, which is smaller than what this DataLoader is going to create. Please be aware that excessive worker creation might get DataLoader running slow or even freeze, lower the worker number to avoid potential slowness/freeze if necessary.\n",
      "  warnings.warn(_create_warning_msg(\n",
      "                 Class     Images  Instances      Box(P          R      mAP50  mAP50-95): 100%|██████████| 101/101 [00:12<00:00,  8.16it/s]\n",
      "                   all       1604      15091      0.908      0.885      0.935      0.461\n",
      "Speed: 0.2ms preprocess, 2.8ms inference, 0.0ms loss, 0.5ms postprocess per image\n",
      "Results saved to \u001b[1mruns/detect/val\u001b[0m\n"
     ]
    },
    {
     "data": {
      "text/plain": [
       "array([    0.46087])"
      ]
     },
     "execution_count": 4,
     "metadata": {},
     "output_type": "execute_result"
    }
   ],
   "source": [
    "#load a best weight\n",
    "model = YOLO('runs/detect/train/weights/best.pt') #load a custom model\n",
    "\n",
    "#validate the model\n",
    "metrics = model.val() #no arguments needed, dataset and settings remembered\n",
    "metrics.box.map #map50-95\n",
    "metrics.box.maps # a list contains map50-95 of each category"
   ]
  },
  {
   "cell_type": "markdown",
   "id": "3822a5e7-e222-47e5-9ece-58c700bd5a41",
   "metadata": {
    "tags": []
   },
   "source": [
    "#### Plot the F1 plot"
   ]
  },
  {
   "cell_type": "code",
   "execution_count": null,
   "id": "56173eb6-dc42-4986-b72b-4c541de34768",
   "metadata": {},
   "outputs": [],
   "source": [
    "Image(filename = 'runs/detect/val/F1_curve.png', width =640)"
   ]
  },
  {
   "cell_type": "markdown",
   "id": "37fd788f-d3d1-4642-bec4-df130498266e",
   "metadata": {},
   "source": [
    "### Inferencing\n",
    "\n",
    "Using confidence threshold from the F1-score and NMS iou of 0.5 or lower"
   ]
  },
  {
   "cell_type": "markdown",
   "id": "39b5a184-541f-448b-8809-6d9572a9112f",
   "metadata": {},
   "source": [
    "#### Combined test"
   ]
  },
  {
   "cell_type": "code",
   "execution_count": 5,
   "id": "89efaf78-3bf4-4f36-87c5-86704f127d66",
   "metadata": {},
   "outputs": [
    {
     "name": "stdout",
     "output_type": "stream",
     "text": [
      "Ultralytics YOLOv8.0.157 🚀 Python-3.10.0 torch-2.0.1+cu117 CUDA:0 (Tesla V100-SXM2-32GB, 32501MiB)\n",
      "Model summary (fused): 168 layers, 11125971 parameters, 0 gradients\n",
      "\u001b[34m\u001b[1mval: \u001b[0mScanning /scratch/project_2006327/YOLOv8/datasets/2024_datasets/scenario_3/\u001b[0m\n",
      "\u001b[34m\u001b[1mval: \u001b[0mNew cache created: /scratch/project_2006327/YOLOv8/datasets/2024_datasets/scenario_3/test_data/labels/test.cache\n",
      "/CSC_CONTAINER/miniconda/envs/env1/lib/python3.10/site-packages/torch/utils/data/dataloader.py:560: UserWarning: This DataLoader will create 8 worker processes in total. Our suggested max number of worker in current system is 3, which is smaller than what this DataLoader is going to create. Please be aware that excessive worker creation might get DataLoader running slow or even freeze, lower the worker number to avoid potential slowness/freeze if necessary.\n",
      "  warnings.warn(_create_warning_msg(\n",
      "                 Class     Images  Instances      Box(P          R      mAP50  m\n",
      "                   all        277       2642      0.903      0.831      0.885      0.393\n",
      "Speed: 0.5ms preprocess, 2.9ms inference, 0.0ms loss, 0.4ms postprocess per image\n",
      "Results saved to \u001b[1minference/Combined_data_2024/metrics/small\u001b[0m\n"
     ]
    }
   ],
   "source": [
    "!yolo val model=runs/detect/train/weights/best.pt data=s3_test_2024.yaml conf=0.25 iou=0.5 project=inference/Combined_data_2024/metrics name=small"
   ]
  },
  {
   "cell_type": "markdown",
   "id": "0a2ee20c-310c-4960-8247-3cd067d49f6c",
   "metadata": {},
   "source": [
    "#### Count"
   ]
  },
  {
   "cell_type": "code",
   "execution_count": 4,
   "id": "81ae77e4-f385-4965-8b3f-b69ef92804a2",
   "metadata": {
    "scrolled": true
   },
   "outputs": [
    {
     "name": "stdout",
     "output_type": "stream",
     "text": [
      "Ultralytics YOLOv8.0.157 🚀 Python-3.10.0 torch-2.0.1+cu117 CUDA:0 (Tesla V100-SXM2-32GB, 32501MiB)\n",
      "Model summary (fused): 168 layers, 11125971 parameters, 0 gradients\n",
      "\n",
      "image 1/277 /scratch/project_2006327/YOLOv8/datasets/2024_datasets/scenario_3/test_data/images/test/Choke_113_4451.jpg: 640x640 1 C, 4.8ms\n",
      "image 2/277 /scratch/project_2006327/YOLOv8/datasets/2024_datasets/scenario_3/test_data/images/test/Choke_113_4452.jpg: 640x640 19 Cs, 4.8ms\n",
      "image 3/277 /scratch/project_2006327/YOLOv8/datasets/2024_datasets/scenario_3/test_data/images/test/Choke_113_4453.jpg: 640x640 16 Cs, 4.8ms\n",
      "image 4/277 /scratch/project_2006327/YOLOv8/datasets/2024_datasets/scenario_3/test_data/images/test/Choke_113_4454.jpg: 640x640 13 Cs, 4.8ms\n",
      "image 5/277 /scratch/project_2006327/YOLOv8/datasets/2024_datasets/scenario_3/test_data/images/test/Choke_113_4552.jpg: 640x640 1 C, 4.7ms\n",
      "image 6/277 /scratch/project_2006327/YOLOv8/datasets/2024_datasets/scenario_3/test_data/images/test/Choke_113_4553.jpg: 640x640 13 Cs, 4.8ms\n",
      "image 7/277 /scratch/project_2006327/YOLOv8/datasets/2024_datasets/scenario_3/test_data/images/test/Choke_113_4554.jpg: 640x640 41 Cs, 4.8ms\n",
      "image 8/277 /scratch/project_2006327/YOLOv8/datasets/2024_datasets/scenario_3/test_data/images/test/Choke_113_4555.jpg: 640x640 18 Cs, 4.7ms\n",
      "image 9/277 /scratch/project_2006327/YOLOv8/datasets/2024_datasets/scenario_3/test_data/images/test/Choke_113_4654.jpg: 640x640 12 Cs, 4.8ms\n",
      "image 10/277 /scratch/project_2006327/YOLOv8/datasets/2024_datasets/scenario_3/test_data/images/test/Choke_113_4655.jpg: 640x640 10 Cs, 4.8ms\n",
      "image 11/277 /scratch/project_2006327/YOLOv8/datasets/2024_datasets/scenario_3/test_data/images/test/Choke_113_4856.jpg: 640x640 14 Cs, 4.8ms\n",
      "image 12/277 /scratch/project_2006327/YOLOv8/datasets/2024_datasets/scenario_3/test_data/images/test/Choke_113_4857.jpg: 640x640 9 Cs, 4.8ms\n",
      "image 13/277 /scratch/project_2006327/YOLOv8/datasets/2024_datasets/scenario_3/test_data/images/test/Choke_113_4956.jpg: 640x640 8 Cs, 4.7ms\n",
      "image 14/277 /scratch/project_2006327/YOLOv8/datasets/2024_datasets/scenario_3/test_data/images/test/Choke_113_4957.jpg: 640x640 33 Cs, 4.8ms\n",
      "image 15/277 /scratch/project_2006327/YOLOv8/datasets/2024_datasets/scenario_3/test_data/images/test/Choke_113_4958.jpg: 640x640 12 Cs, 4.8ms\n",
      "image 16/277 /scratch/project_2006327/YOLOv8/datasets/2024_datasets/scenario_3/test_data/images/test/Choke_113_5056.jpg: 640x640 7 Cs, 4.8ms\n",
      "image 17/277 /scratch/project_2006327/YOLOv8/datasets/2024_datasets/scenario_3/test_data/images/test/Choke_113_5057.jpg: 640x640 26 Cs, 4.7ms\n",
      "image 18/277 /scratch/project_2006327/YOLOv8/datasets/2024_datasets/scenario_3/test_data/images/test/Choke_113_5058.jpg: 640x640 19 Cs, 4.8ms\n",
      "image 19/277 /scratch/project_2006327/YOLOv8/datasets/2024_datasets/scenario_3/test_data/images/test/Choke_113_5157.jpg: 640x640 (no detections), 4.7ms\n",
      "image 20/277 /scratch/project_2006327/YOLOv8/datasets/2024_datasets/scenario_3/test_data/images/test/Choke_113_5158.jpg: 640x640 12 Cs, 4.8ms\n",
      "image 21/277 /scratch/project_2006327/YOLOv8/datasets/2024_datasets/scenario_3/test_data/images/test/Choke_113_5159.jpg: 640x640 6 Cs, 4.8ms\n",
      "image 22/277 /scratch/project_2006327/YOLOv8/datasets/2024_datasets/scenario_3/test_data/images/test/Choke_123_1525.jpg: 640x640 10 Cs, 4.8ms\n",
      "image 23/277 /scratch/project_2006327/YOLOv8/datasets/2024_datasets/scenario_3/test_data/images/test/Choke_123_1526.jpg: 640x640 3 Cs, 4.7ms\n",
      "image 24/277 /scratch/project_2006327/YOLOv8/datasets/2024_datasets/scenario_3/test_data/images/test/Choke_123_1626.jpg: 640x640 6 Cs, 4.8ms\n",
      "image 25/277 /scratch/project_2006327/YOLOv8/datasets/2024_datasets/scenario_3/test_data/images/test/Choke_123_1627.jpg: 640x640 26 Cs, 4.8ms\n",
      "image 26/277 /scratch/project_2006327/YOLOv8/datasets/2024_datasets/scenario_3/test_data/images/test/Choke_123_1724.jpg: 640x640 2 Cs, 4.8ms\n",
      "image 27/277 /scratch/project_2006327/YOLOv8/datasets/2024_datasets/scenario_3/test_data/images/test/Choke_123_1725.jpg: 640x640 4 Cs, 4.8ms\n",
      "image 28/277 /scratch/project_2006327/YOLOv8/datasets/2024_datasets/scenario_3/test_data/images/test/Choke_123_1728.jpg: 640x640 4 Cs, 4.8ms\n",
      "image 29/277 /scratch/project_2006327/YOLOv8/datasets/2024_datasets/scenario_3/test_data/images/test/Choke_123_1820.jpg: 640x640 1 C, 4.8ms\n",
      "image 30/277 /scratch/project_2006327/YOLOv8/datasets/2024_datasets/scenario_3/test_data/images/test/Choke_123_1821.jpg: 640x640 9 Cs, 4.7ms\n",
      "image 31/277 /scratch/project_2006327/YOLOv8/datasets/2024_datasets/scenario_3/test_data/images/test/Choke_123_1826.jpg: 640x640 11 Cs, 4.7ms\n",
      "image 32/277 /scratch/project_2006327/YOLOv8/datasets/2024_datasets/scenario_3/test_data/images/test/Choke_123_1827.jpg: 640x640 2 Cs, 4.7ms\n",
      "image 33/277 /scratch/project_2006327/YOLOv8/datasets/2024_datasets/scenario_3/test_data/images/test/Choke_123_1828.jpg: 640x640 1 C, 4.8ms\n",
      "image 34/277 /scratch/project_2006327/YOLOv8/datasets/2024_datasets/scenario_3/test_data/images/test/Choke_123_1880.jpg: 640x640 3 Cs, 4.7ms\n",
      "image 35/277 /scratch/project_2006327/YOLOv8/datasets/2024_datasets/scenario_3/test_data/images/test/Choke_123_1882.jpg: 640x640 7 Cs, 4.8ms\n",
      "image 36/277 /scratch/project_2006327/YOLOv8/datasets/2024_datasets/scenario_3/test_data/images/test/Choke_123_1921.jpg: 640x640 2 Cs, 4.7ms\n",
      "image 37/277 /scratch/project_2006327/YOLOv8/datasets/2024_datasets/scenario_3/test_data/images/test/Choke_123_1922.jpg: 640x640 12 Cs, 4.7ms\n",
      "image 38/277 /scratch/project_2006327/YOLOv8/datasets/2024_datasets/scenario_3/test_data/images/test/Choke_123_1923.jpg: 640x640 1 C, 4.8ms\n",
      "image 39/277 /scratch/project_2006327/YOLOv8/datasets/2024_datasets/scenario_3/test_data/images/test/Choke_123_1926.jpg: 640x640 1 C, 4.8ms\n",
      "image 40/277 /scratch/project_2006327/YOLOv8/datasets/2024_datasets/scenario_3/test_data/images/test/Choke_123_1927.jpg: 640x640 6 Cs, 4.8ms\n",
      "image 41/277 /scratch/project_2006327/YOLOv8/datasets/2024_datasets/scenario_3/test_data/images/test/Choke_123_1928.jpg: 640x640 25 Cs, 4.7ms\n",
      "image 42/277 /scratch/project_2006327/YOLOv8/datasets/2024_datasets/scenario_3/test_data/images/test/Choke_123_1929.jpg: 640x640 20 Cs, 4.8ms\n",
      "image 43/277 /scratch/project_2006327/YOLOv8/datasets/2024_datasets/scenario_3/test_data/images/test/Choke_123_1981.jpg: 640x640 8 Cs, 4.7ms\n",
      "image 44/277 /scratch/project_2006327/YOLOv8/datasets/2024_datasets/scenario_3/test_data/images/test/Choke_123_1982.jpg: 640x640 10 Cs, 4.8ms\n",
      "image 45/277 /scratch/project_2006327/YOLOv8/datasets/2024_datasets/scenario_3/test_data/images/test/Choke_123_1983.jpg: 640x640 9 Cs, 4.8ms\n",
      "image 46/277 /scratch/project_2006327/YOLOv8/datasets/2024_datasets/scenario_3/test_data/images/test/Choke_123_2030.jpg: 640x640 10 Cs, 4.8ms\n",
      "image 47/277 /scratch/project_2006327/YOLOv8/datasets/2024_datasets/scenario_3/test_data/images/test/Choke_123_2082.jpg: 640x640 7 Cs, 4.8ms\n",
      "image 48/277 /scratch/project_2006327/YOLOv8/datasets/2024_datasets/scenario_3/test_data/images/test/Choke_123_2083.jpg: 640x640 8 Cs, 4.8ms\n",
      "image 49/277 /scratch/project_2006327/YOLOv8/datasets/2024_datasets/scenario_3/test_data/images/test/Choke_123_2084.jpg: 640x640 5 Cs, 4.8ms\n",
      "image 50/277 /scratch/project_2006327/YOLOv8/datasets/2024_datasets/scenario_3/test_data/images/test/Choke_123_2183.jpg: 640x640 7 Cs, 4.8ms\n",
      "image 51/277 /scratch/project_2006327/YOLOv8/datasets/2024_datasets/scenario_3/test_data/images/test/Choke_123_2184.jpg: 640x640 3 Cs, 4.8ms\n",
      "image 52/277 /scratch/project_2006327/YOLOv8/datasets/2024_datasets/scenario_3/test_data/images/test/Choke_123_2185.jpg: 640x640 8 Cs, 4.8ms\n",
      "image 53/277 /scratch/project_2006327/YOLOv8/datasets/2024_datasets/scenario_3/test_data/images/test/Choke_123_3499.jpg: 640x640 14 Cs, 4.8ms\n",
      "image 54/277 /scratch/project_2006327/YOLOv8/datasets/2024_datasets/scenario_3/test_data/images/test/Choke_123_3500.jpg: 640x640 19 Cs, 4.7ms\n",
      "image 55/277 /scratch/project_2006327/YOLOv8/datasets/2024_datasets/scenario_3/test_data/images/test/Choke_123_3600.jpg: 640x640 10 Cs, 4.8ms\n",
      "image 56/277 /scratch/project_2006327/YOLOv8/datasets/2024_datasets/scenario_3/test_data/images/test/Choke_123_3601.jpg: 640x640 19 Cs, 4.8ms\n",
      "image 57/277 /scratch/project_2006327/YOLOv8/datasets/2024_datasets/scenario_3/test_data/images/test/Choke_123_3701.jpg: 640x640 1 C, 4.7ms\n",
      "image 58/277 /scratch/project_2006327/YOLOv8/datasets/2024_datasets/scenario_3/test_data/images/test/Choke_123_3702.jpg: 640x640 1 C, 4.8ms\n",
      "image 59/277 /scratch/project_2006327/YOLOv8/datasets/2024_datasets/scenario_3/test_data/images/test/Choke_123_3703.jpg: 640x640 4 Cs, 4.8ms\n",
      "image 60/277 /scratch/project_2006327/YOLOv8/datasets/2024_datasets/scenario_3/test_data/images/test/Choke_123_3802.jpg: 640x640 3 Cs, 4.8ms\n",
      "image 61/277 /scratch/project_2006327/YOLOv8/datasets/2024_datasets/scenario_3/test_data/images/test/Choke_123_3803.jpg: 640x640 3 Cs, 4.8ms\n",
      "image 62/277 /scratch/project_2006327/YOLOv8/datasets/2024_datasets/scenario_3/test_data/images/test/Choke_123_393.jpg: 640x640 11 Cs, 4.7ms\n",
      "image 63/277 /scratch/project_2006327/YOLOv8/datasets/2024_datasets/scenario_3/test_data/images/test/Choke_123_394.jpg: 640x640 1 C, 4.7ms\n",
      "image 64/277 /scratch/project_2006327/YOLOv8/datasets/2024_datasets/scenario_3/test_data/images/test/Choke_123_493.jpg: 640x640 6 Cs, 4.8ms\n",
      "image 65/277 /scratch/project_2006327/YOLOv8/datasets/2024_datasets/scenario_3/test_data/images/test/Choke_123_494.jpg: 640x640 22 Cs, 4.7ms\n",
      "image 66/277 /scratch/project_2006327/YOLOv8/datasets/2024_datasets/scenario_3/test_data/images/test/Choke_123_495.jpg: 640x640 3 Cs, 4.7ms\n",
      "image 67/277 /scratch/project_2006327/YOLOv8/datasets/2024_datasets/scenario_3/test_data/images/test/Choke_123_5089.jpg: 640x640 3 Cs, 4.7ms\n",
      "image 68/277 /scratch/project_2006327/YOLOv8/datasets/2024_datasets/scenario_3/test_data/images/test/Choke_123_594.jpg: 640x640 1 C, 4.8ms\n",
      "image 69/277 /scratch/project_2006327/YOLOv8/datasets/2024_datasets/scenario_3/test_data/images/test/Choke_123_595.jpg: 640x640 9 Cs, 4.8ms\n",
      "image 70/277 /scratch/project_2006327/YOLOv8/datasets/2024_datasets/scenario_3/test_data/images/test/Choke_123_596.jpg: 640x640 2 Cs, 4.8ms\n",
      "image 71/277 /scratch/project_2006327/YOLOv8/datasets/2024_datasets/scenario_3/test_data/images/test/Choke_123_695.jpg: 640x640 2 Cs, 4.7ms\n",
      "image 72/277 /scratch/project_2006327/YOLOv8/datasets/2024_datasets/scenario_3/test_data/images/test/Choke_123_696.jpg: 640x640 7 Cs, 4.8ms\n",
      "image 73/277 /scratch/project_2006327/YOLOv8/datasets/2024_datasets/scenario_3/test_data/images/test/Choke_123_697.jpg: 640x640 3 Cs, 4.8ms\n",
      "image 74/277 /scratch/project_2006327/YOLOv8/datasets/2024_datasets/scenario_3/test_data/images/test/Choke_123_698.jpg: 640x640 2 Cs, 4.7ms\n",
      "image 75/277 /scratch/project_2006327/YOLOv8/datasets/2024_datasets/scenario_3/test_data/images/test/Choke_143_2035.jpg: 640x640 1 C, 4.7ms\n",
      "image 76/277 /scratch/project_2006327/YOLOv8/datasets/2024_datasets/scenario_3/test_data/images/test/Choke_143_2036.jpg: 640x640 2 Cs, 4.8ms\n",
      "image 77/277 /scratch/project_2006327/YOLOv8/datasets/2024_datasets/scenario_3/test_data/images/test/Choke_143_2037.jpg: 640x640 4 Cs, 4.8ms\n",
      "image 78/277 /scratch/project_2006327/YOLOv8/datasets/2024_datasets/scenario_3/test_data/images/test/Choke_143_2038.jpg: 640x640 6 Cs, 4.8ms\n",
      "image 79/277 /scratch/project_2006327/YOLOv8/datasets/2024_datasets/scenario_3/test_data/images/test/Choke_143_2039.jpg: 640x640 5 Cs, 4.8ms\n",
      "image 80/277 /scratch/project_2006327/YOLOv8/datasets/2024_datasets/scenario_3/test_data/images/test/Choke_143_2040.jpg: 640x640 3 Cs, 4.8ms\n",
      "image 81/277 /scratch/project_2006327/YOLOv8/datasets/2024_datasets/scenario_3/test_data/images/test/Choke_143_2136.jpg: 640x640 4 Cs, 4.7ms\n",
      "image 82/277 /scratch/project_2006327/YOLOv8/datasets/2024_datasets/scenario_3/test_data/images/test/Choke_143_2137.jpg: 640x640 6 Cs, 4.7ms\n",
      "image 83/277 /scratch/project_2006327/YOLOv8/datasets/2024_datasets/scenario_3/test_data/images/test/Choke_143_2138.jpg: 640x640 7 Cs, 4.7ms\n",
      "image 84/277 /scratch/project_2006327/YOLOv8/datasets/2024_datasets/scenario_3/test_data/images/test/Choke_143_2139.jpg: 640x640 4 Cs, 4.8ms\n",
      "image 85/277 /scratch/project_2006327/YOLOv8/datasets/2024_datasets/scenario_3/test_data/images/test/Choke_143_2140.jpg: 640x640 1 C, 4.8ms\n",
      "image 86/277 /scratch/project_2006327/YOLOv8/datasets/2024_datasets/scenario_3/test_data/images/test/Choke_143_2141.jpg: 640x640 3 Cs, 4.8ms\n",
      "image 87/277 /scratch/project_2006327/YOLOv8/datasets/2024_datasets/scenario_3/test_data/images/test/Choke_143_2237.jpg: 640x640 1 C, 4.8ms\n",
      "image 88/277 /scratch/project_2006327/YOLOv8/datasets/2024_datasets/scenario_3/test_data/images/test/Choke_143_2239.jpg: 640x640 2 Cs, 4.8ms\n",
      "image 89/277 /scratch/project_2006327/YOLOv8/datasets/2024_datasets/scenario_3/test_data/images/test/Choke_143_2240.jpg: 640x640 2 Cs, 4.7ms\n",
      "image 90/277 /scratch/project_2006327/YOLOv8/datasets/2024_datasets/scenario_3/test_data/images/test/Choke_143_2338.jpg: 640x640 11 Cs, 4.8ms\n",
      "image 91/277 /scratch/project_2006327/YOLOv8/datasets/2024_datasets/scenario_3/test_data/images/test/Choke_143_2339.jpg: 640x640 2 Cs, 4.7ms\n",
      "image 92/277 /scratch/project_2006327/YOLOv8/datasets/2024_datasets/scenario_3/test_data/images/test/Choke_143_2439.jpg: 640x640 14 Cs, 4.7ms\n",
      "image 93/277 /scratch/project_2006327/YOLOv8/datasets/2024_datasets/scenario_3/test_data/images/test/Choke_143_2633.jpg: 640x640 4 Cs, 4.8ms\n",
      "image 94/277 /scratch/project_2006327/YOLOv8/datasets/2024_datasets/scenario_3/test_data/images/test/Choke_143_4445.jpg: 640x640 5 Cs, 4.8ms\n",
      "image 95/277 /scratch/project_2006327/YOLOv8/datasets/2024_datasets/scenario_3/test_data/images/test/Choke_143_4446.jpg: 640x640 1 C, 4.8ms\n",
      "image 96/277 /scratch/project_2006327/YOLOv8/datasets/2024_datasets/scenario_3/test_data/images/test/Choke_143_4546.jpg: 640x640 8 Cs, 4.8ms\n",
      "image 97/277 /scratch/project_2006327/YOLOv8/datasets/2024_datasets/scenario_3/test_data/images/test/Choke_143_4547.jpg: 640x640 12 Cs, 4.7ms\n",
      "image 98/277 /scratch/project_2006327/YOLOv8/datasets/2024_datasets/scenario_3/test_data/images/test/Choke_143_4548.jpg: 640x640 3 Cs, 4.7ms\n",
      "image 99/277 /scratch/project_2006327/YOLOv8/datasets/2024_datasets/scenario_3/test_data/images/test/Choke_143_4647.jpg: 640x640 3 Cs, 4.8ms\n",
      "image 100/277 /scratch/project_2006327/YOLOv8/datasets/2024_datasets/scenario_3/test_data/images/test/Choke_143_4648.jpg: 640x640 5 Cs, 4.7ms\n",
      "image 101/277 /scratch/project_2006327/YOLOv8/datasets/2024_datasets/scenario_3/test_data/images/test/Choke_143_4649.jpg: 640x640 5 Cs, 4.8ms\n",
      "image 102/277 /scratch/project_2006327/YOLOv8/datasets/2024_datasets/scenario_3/test_data/images/test/Choke_143_4750.jpg: 640x640 6 Cs, 4.7ms\n",
      "image 103/277 /scratch/project_2006327/YOLOv8/datasets/2024_datasets/scenario_3/test_data/images/test/Choke_143_4751.jpg: 640x640 3 Cs, 4.8ms\n",
      "image 104/277 /scratch/project_2006327/YOLOv8/datasets/2024_datasets/scenario_3/test_data/images/test/Choke_143_5535.jpg: 640x640 1 C, 4.8ms\n",
      "image 105/277 /scratch/project_2006327/YOLOv8/datasets/2024_datasets/scenario_3/test_data/images/test/Lumo_032_4621.jpg: 640x640 3 Cs, 4.8ms\n",
      "image 106/277 /scratch/project_2006327/YOLOv8/datasets/2024_datasets/scenario_3/test_data/images/test/Lumo_032_4622.jpg: 640x640 2 Cs, 4.8ms\n",
      "image 107/277 /scratch/project_2006327/YOLOv8/datasets/2024_datasets/scenario_3/test_data/images/test/Lumo_032_4623.jpg: 640x640 1 C, 4.8ms\n",
      "image 108/277 /scratch/project_2006327/YOLOv8/datasets/2024_datasets/scenario_3/test_data/images/test/Lumo_032_4723.jpg: 640x640 22 Cs, 4.8ms\n",
      "image 109/277 /scratch/project_2006327/YOLOv8/datasets/2024_datasets/scenario_3/test_data/images/test/Lumo_032_4724.jpg: 640x640 4 Cs, 4.7ms\n",
      "image 110/277 /scratch/project_2006327/YOLOv8/datasets/2024_datasets/scenario_3/test_data/images/test/Lumo_032_4725.jpg: 640x640 25 Cs, 4.8ms\n",
      "image 111/277 /scratch/project_2006327/YOLOv8/datasets/2024_datasets/scenario_3/test_data/images/test/Lumo_032_4824.jpg: 640x640 6 Cs, 4.8ms\n",
      "image 112/277 /scratch/project_2006327/YOLOv8/datasets/2024_datasets/scenario_3/test_data/images/test/Lumo_032_4825.jpg: 640x640 37 Cs, 4.8ms\n",
      "image 113/277 /scratch/project_2006327/YOLOv8/datasets/2024_datasets/scenario_3/test_data/images/test/Lumo_032_4826.jpg: 640x640 49 Cs, 4.8ms\n",
      "image 114/277 /scratch/project_2006327/YOLOv8/datasets/2024_datasets/scenario_3/test_data/images/test/Lumo_032_4925.jpg: 640x640 1 C, 5.1ms\n",
      "image 115/277 /scratch/project_2006327/YOLOv8/datasets/2024_datasets/scenario_3/test_data/images/test/Lumo_032_4926.jpg: 640x640 2 Cs, 4.8ms\n",
      "image 116/277 /scratch/project_2006327/YOLOv8/datasets/2024_datasets/scenario_3/test_data/images/test/Lumo_032_4927.jpg: 640x640 7 Cs, 4.8ms\n",
      "image 117/277 /scratch/project_2006327/YOLOv8/datasets/2024_datasets/scenario_3/test_data/images/test/Lumo_032_5855.jpg: 640x640 2 Cs, 4.8ms\n",
      "image 118/277 /scratch/project_2006327/YOLOv8/datasets/2024_datasets/scenario_3/test_data/images/test/Lumo_032_5856.jpg: 640x640 10 Cs, 4.8ms\n",
      "image 119/277 /scratch/project_2006327/YOLOv8/datasets/2024_datasets/scenario_3/test_data/images/test/Lumo_032_5955.jpg: 640x640 2 Cs, 4.8ms\n",
      "image 120/277 /scratch/project_2006327/YOLOv8/datasets/2024_datasets/scenario_3/test_data/images/test/Lumo_032_5956.jpg: 640x640 20 Cs, 4.8ms\n",
      "image 121/277 /scratch/project_2006327/YOLOv8/datasets/2024_datasets/scenario_3/test_data/images/test/Lumo_032_5957.jpg: 640x640 12 Cs, 4.7ms\n",
      "image 122/277 /scratch/project_2006327/YOLOv8/datasets/2024_datasets/scenario_3/test_data/images/test/Lumo_032_5958.jpg: 640x640 10 Cs, 5.0ms\n",
      "image 123/277 /scratch/project_2006327/YOLOv8/datasets/2024_datasets/scenario_3/test_data/images/test/Lumo_032_6056.jpg: 640x640 3 Cs, 4.8ms\n",
      "image 124/277 /scratch/project_2006327/YOLOv8/datasets/2024_datasets/scenario_3/test_data/images/test/Lumo_032_6057.jpg: 640x640 6 Cs, 4.8ms\n",
      "image 125/277 /scratch/project_2006327/YOLOv8/datasets/2024_datasets/scenario_3/test_data/images/test/Lumo_032_6058.jpg: 640x640 13 Cs, 4.8ms\n",
      "image 126/277 /scratch/project_2006327/YOLOv8/datasets/2024_datasets/scenario_3/test_data/images/test/Lumo_032_6059.jpg: 640x640 33 Cs, 4.7ms\n",
      "image 127/277 /scratch/project_2006327/YOLOv8/datasets/2024_datasets/scenario_3/test_data/images/test/Lumo_032_6157.jpg: 640x640 2 Cs, 4.8ms\n",
      "image 128/277 /scratch/project_2006327/YOLOv8/datasets/2024_datasets/scenario_3/test_data/images/test/Lumo_032_6158.jpg: 640x640 7 Cs, 4.8ms\n",
      "image 129/277 /scratch/project_2006327/YOLOv8/datasets/2024_datasets/scenario_3/test_data/images/test/Lumo_032_6159.jpg: 640x640 15 Cs, 4.7ms\n",
      "image 130/277 /scratch/project_2006327/YOLOv8/datasets/2024_datasets/scenario_3/test_data/images/test/Lumo_032_6160.jpg: 640x640 22 Cs, 4.8ms\n",
      "image 131/277 /scratch/project_2006327/YOLOv8/datasets/2024_datasets/scenario_3/test_data/images/test/Lumo_032_6259.jpg: 640x640 3 Cs, 4.8ms\n",
      "image 132/277 /scratch/project_2006327/YOLOv8/datasets/2024_datasets/scenario_3/test_data/images/test/Lumo_032_6260.jpg: 640x640 9 Cs, 4.8ms\n",
      "image 133/277 /scratch/project_2006327/YOLOv8/datasets/2024_datasets/scenario_3/test_data/images/test/Lumo_049_115.jpg: 640x640 2 Cs, 4.7ms\n",
      "image 134/277 /scratch/project_2006327/YOLOv8/datasets/2024_datasets/scenario_3/test_data/images/test/Lumo_049_117.jpg: 640x640 6 Cs, 4.7ms\n",
      "image 135/277 /scratch/project_2006327/YOLOv8/datasets/2024_datasets/scenario_3/test_data/images/test/Lumo_049_118.jpg: 640x640 15 Cs, 4.8ms\n",
      "image 136/277 /scratch/project_2006327/YOLOv8/datasets/2024_datasets/scenario_3/test_data/images/test/Lumo_049_119.jpg: 640x640 30 Cs, 4.8ms\n",
      "image 137/277 /scratch/project_2006327/YOLOv8/datasets/2024_datasets/scenario_3/test_data/images/test/Lumo_049_1416.jpg: 640x640 4 Cs, 4.8ms\n",
      "image 138/277 /scratch/project_2006327/YOLOv8/datasets/2024_datasets/scenario_3/test_data/images/test/Lumo_049_1417.jpg: 640x640 4 Cs, 4.8ms\n",
      "image 139/277 /scratch/project_2006327/YOLOv8/datasets/2024_datasets/scenario_3/test_data/images/test/Lumo_049_1517.jpg: 640x640 10 Cs, 4.8ms\n",
      "image 140/277 /scratch/project_2006327/YOLOv8/datasets/2024_datasets/scenario_3/test_data/images/test/Lumo_049_1518.jpg: 640x640 59 Cs, 4.7ms\n",
      "image 141/277 /scratch/project_2006327/YOLOv8/datasets/2024_datasets/scenario_3/test_data/images/test/Lumo_049_1519.jpg: 640x640 1 C, 4.7ms\n",
      "image 142/277 /scratch/project_2006327/YOLOv8/datasets/2024_datasets/scenario_3/test_data/images/test/Lumo_049_1618.jpg: 640x640 17 Cs, 4.8ms\n",
      "image 143/277 /scratch/project_2006327/YOLOv8/datasets/2024_datasets/scenario_3/test_data/images/test/Lumo_049_1619.jpg: 640x640 6 Cs, 4.7ms\n",
      "image 144/277 /scratch/project_2006327/YOLOv8/datasets/2024_datasets/scenario_3/test_data/images/test/Lumo_049_1620.jpg: 640x640 1 C, 4.8ms\n",
      "image 145/277 /scratch/project_2006327/YOLOv8/datasets/2024_datasets/scenario_3/test_data/images/test/Lumo_049_1826.jpg: 640x640 10 Cs, 4.8ms\n",
      "image 146/277 /scratch/project_2006327/YOLOv8/datasets/2024_datasets/scenario_3/test_data/images/test/Lumo_049_1827.jpg: 640x640 26 Cs, 4.8ms\n",
      "image 147/277 /scratch/project_2006327/YOLOv8/datasets/2024_datasets/scenario_3/test_data/images/test/Lumo_049_1927.jpg: 640x640 6 Cs, 4.8ms\n",
      "image 148/277 /scratch/project_2006327/YOLOv8/datasets/2024_datasets/scenario_3/test_data/images/test/Lumo_049_1928.jpg: 640x640 10 Cs, 4.8ms\n",
      "image 149/277 /scratch/project_2006327/YOLOv8/datasets/2024_datasets/scenario_3/test_data/images/test/Lumo_049_2029.jpg: 640x640 17 Cs, 4.8ms\n",
      "image 150/277 /scratch/project_2006327/YOLOv8/datasets/2024_datasets/scenario_3/test_data/images/test/Lumo_049_2030.jpg: 640x640 5 Cs, 4.8ms\n",
      "image 151/277 /scratch/project_2006327/YOLOv8/datasets/2024_datasets/scenario_3/test_data/images/test/Lumo_049_218.jpg: 640x640 1 C, 4.7ms\n",
      "image 152/277 /scratch/project_2006327/YOLOv8/datasets/2024_datasets/scenario_3/test_data/images/test/Lumo_049_220.jpg: 640x640 3 Cs, 4.8ms\n",
      "image 153/277 /scratch/project_2006327/YOLOv8/datasets/2024_datasets/scenario_3/test_data/images/test/Lumo_069_1049.jpg: 640x640 5 Cs, 4.7ms\n",
      "image 154/277 /scratch/project_2006327/YOLOv8/datasets/2024_datasets/scenario_3/test_data/images/test/Lumo_069_1050.jpg: 640x640 6 Cs, 4.7ms\n",
      "image 155/277 /scratch/project_2006327/YOLOv8/datasets/2024_datasets/scenario_3/test_data/images/test/Lumo_069_543.jpg: 640x640 10 Cs, 4.7ms\n",
      "image 156/277 /scratch/project_2006327/YOLOv8/datasets/2024_datasets/scenario_3/test_data/images/test/Lumo_069_644.jpg: 640x640 19 Cs, 4.8ms\n",
      "image 157/277 /scratch/project_2006327/YOLOv8/datasets/2024_datasets/scenario_3/test_data/images/test/Lumo_069_744.jpg: 640x640 9 Cs, 4.7ms\n",
      "image 158/277 /scratch/project_2006327/YOLOv8/datasets/2024_datasets/scenario_3/test_data/images/test/Lumo_069_745.jpg: 640x640 13 Cs, 4.8ms\n",
      "image 159/277 /scratch/project_2006327/YOLOv8/datasets/2024_datasets/scenario_3/test_data/images/test/Lumo_069_746.jpg: 640x640 13 Cs, 4.8ms\n",
      "image 160/277 /scratch/project_2006327/YOLOv8/datasets/2024_datasets/scenario_3/test_data/images/test/Lumo_069_844.jpg: 640x640 4 Cs, 4.8ms\n",
      "image 161/277 /scratch/project_2006327/YOLOv8/datasets/2024_datasets/scenario_3/test_data/images/test/Lumo_069_845.jpg: 640x640 7 Cs, 4.8ms\n",
      "image 162/277 /scratch/project_2006327/YOLOv8/datasets/2024_datasets/scenario_3/test_data/images/test/Lumo_069_846.jpg: 640x640 23 Cs, 4.8ms\n",
      "image 163/277 /scratch/project_2006327/YOLOv8/datasets/2024_datasets/scenario_3/test_data/images/test/Lumo_069_847.jpg: 640x640 11 Cs, 4.7ms\n",
      "image 164/277 /scratch/project_2006327/YOLOv8/datasets/2024_datasets/scenario_3/test_data/images/test/Lumo_069_848.jpg: 640x640 1 C, 4.8ms\n",
      "image 165/277 /scratch/project_2006327/YOLOv8/datasets/2024_datasets/scenario_3/test_data/images/test/Lumo_069_946.jpg: 640x640 11 Cs, 4.8ms\n",
      "image 166/277 /scratch/project_2006327/YOLOv8/datasets/2024_datasets/scenario_3/test_data/images/test/Lumo_069_947.jpg: 640x640 14 Cs, 4.8ms\n",
      "image 167/277 /scratch/project_2006327/YOLOv8/datasets/2024_datasets/scenario_3/test_data/images/test/Lumo_069_948.jpg: 640x640 34 Cs, 4.8ms\n",
      "image 168/277 /scratch/project_2006327/YOLOv8/datasets/2024_datasets/scenario_3/test_data/images/test/Lumo_069_949.jpg: 640x640 16 Cs, 4.8ms\n",
      "image 169/277 /scratch/project_2006327/YOLOv8/datasets/2024_datasets/scenario_3/test_data/images/test/Lumo_091_1117.jpg: 640x640 5 Cs, 4.8ms\n",
      "image 170/277 /scratch/project_2006327/YOLOv8/datasets/2024_datasets/scenario_3/test_data/images/test/Lumo_091_1216.jpg: 640x640 3 Cs, 4.8ms\n",
      "image 171/277 /scratch/project_2006327/YOLOv8/datasets/2024_datasets/scenario_3/test_data/images/test/Lumo_091_1217.jpg: 640x640 10 Cs, 4.7ms\n",
      "image 172/277 /scratch/project_2006327/YOLOv8/datasets/2024_datasets/scenario_3/test_data/images/test/Lumo_091_1218.jpg: 640x640 17 Cs, 4.8ms\n",
      "image 173/277 /scratch/project_2006327/YOLOv8/datasets/2024_datasets/scenario_3/test_data/images/test/Lumo_091_127.jpg: 640x640 19 Cs, 4.8ms\n",
      "image 174/277 /scratch/project_2006327/YOLOv8/datasets/2024_datasets/scenario_3/test_data/images/test/Lumo_091_128.jpg: 640x640 10 Cs, 4.8ms\n",
      "image 175/277 /scratch/project_2006327/YOLOv8/datasets/2024_datasets/scenario_3/test_data/images/test/Lumo_091_1314.jpg: 640x640 1 C, 4.8ms\n",
      "image 176/277 /scratch/project_2006327/YOLOv8/datasets/2024_datasets/scenario_3/test_data/images/test/Lumo_091_1317.jpg: 640x640 5 Cs, 4.8ms\n",
      "image 177/277 /scratch/project_2006327/YOLOv8/datasets/2024_datasets/scenario_3/test_data/images/test/Lumo_091_1318.jpg: 640x640 5 Cs, 4.7ms\n",
      "image 178/277 /scratch/project_2006327/YOLOv8/datasets/2024_datasets/scenario_3/test_data/images/test/Lumo_091_1319.jpg: 640x640 3 Cs, 4.8ms\n",
      "image 179/277 /scratch/project_2006327/YOLOv8/datasets/2024_datasets/scenario_3/test_data/images/test/Lumo_091_227.jpg: 640x640 13 Cs, 4.8ms\n",
      "image 180/277 /scratch/project_2006327/YOLOv8/datasets/2024_datasets/scenario_3/test_data/images/test/Lumo_091_228.jpg: 640x640 41 Cs, 4.8ms\n",
      "image 181/277 /scratch/project_2006327/YOLOv8/datasets/2024_datasets/scenario_3/test_data/images/test/Lumo_091_229.jpg: 640x640 7 Cs, 4.8ms\n",
      "image 182/277 /scratch/project_2006327/YOLOv8/datasets/2024_datasets/scenario_3/test_data/images/test/Lumo_091_327.jpg: 640x640 3 Cs, 4.8ms\n",
      "image 183/277 /scratch/project_2006327/YOLOv8/datasets/2024_datasets/scenario_3/test_data/images/test/Lumo_091_328.jpg: 640x640 3 Cs, 4.8ms\n",
      "image 184/277 /scratch/project_2006327/YOLOv8/datasets/2024_datasets/scenario_3/test_data/images/test/Lumo_091_427.jpg: 640x640 6 Cs, 4.7ms\n",
      "image 185/277 /scratch/project_2006327/YOLOv8/datasets/2024_datasets/scenario_3/test_data/images/test/Lumo_091_428.jpg: 640x640 9 Cs, 4.8ms\n",
      "image 186/277 /scratch/project_2006327/YOLOv8/datasets/2024_datasets/scenario_3/test_data/images/test/Lumo_091_528.jpg: 640x640 15 Cs, 4.8ms\n",
      "image 187/277 /scratch/project_2006327/YOLOv8/datasets/2024_datasets/scenario_3/test_data/images/test/THW_097_3559.jpg: 640x640 4 Cs, 4.8ms\n",
      "image 188/277 /scratch/project_2006327/YOLOv8/datasets/2024_datasets/scenario_3/test_data/images/test/THW_097_3560.jpg: 640x640 22 Cs, 4.8ms\n",
      "image 189/277 /scratch/project_2006327/YOLOv8/datasets/2024_datasets/scenario_3/test_data/images/test/THW_097_3561.jpg: 640x640 7 Cs, 4.8ms\n",
      "image 190/277 /scratch/project_2006327/YOLOv8/datasets/2024_datasets/scenario_3/test_data/images/test/THW_097_3562.jpg: 640x640 2 Cs, 4.8ms\n",
      "image 191/277 /scratch/project_2006327/YOLOv8/datasets/2024_datasets/scenario_3/test_data/images/test/THW_097_3659.jpg: 640x640 12 Cs, 4.8ms\n",
      "image 192/277 /scratch/project_2006327/YOLOv8/datasets/2024_datasets/scenario_3/test_data/images/test/THW_097_3660.jpg: 640x640 4 Cs, 4.8ms\n",
      "image 193/277 /scratch/project_2006327/YOLOv8/datasets/2024_datasets/scenario_3/test_data/images/test/THW_097_3661.jpg: 640x640 12 Cs, 4.7ms\n",
      "image 194/277 /scratch/project_2006327/YOLOv8/datasets/2024_datasets/scenario_3/test_data/images/test/THW_097_3662.jpg: 640x640 21 Cs, 4.8ms\n",
      "image 195/277 /scratch/project_2006327/YOLOv8/datasets/2024_datasets/scenario_3/test_data/images/test/THW_097_3663.jpg: 640x640 8 Cs, 4.7ms\n",
      "image 196/277 /scratch/project_2006327/YOLOv8/datasets/2024_datasets/scenario_3/test_data/images/test/THW_097_3758.jpg: 640x640 2 Cs, 4.7ms\n",
      "image 197/277 /scratch/project_2006327/YOLOv8/datasets/2024_datasets/scenario_3/test_data/images/test/THW_097_3759.jpg: 640x640 11 Cs, 4.7ms\n",
      "image 198/277 /scratch/project_2006327/YOLOv8/datasets/2024_datasets/scenario_3/test_data/images/test/THW_097_3760.jpg: 640x640 3 Cs, 4.8ms\n",
      "image 199/277 /scratch/project_2006327/YOLOv8/datasets/2024_datasets/scenario_3/test_data/images/test/THW_097_3761.jpg: 640x640 5 Cs, 4.7ms\n",
      "image 200/277 /scratch/project_2006327/YOLOv8/datasets/2024_datasets/scenario_3/test_data/images/test/THW_097_3763.jpg: 640x640 2 Cs, 4.8ms\n",
      "image 201/277 /scratch/project_2006327/YOLOv8/datasets/2024_datasets/scenario_3/test_data/images/test/THW_097_3860.jpg: 640x640 1 C, 4.7ms\n",
      "image 202/277 /scratch/project_2006327/YOLOv8/datasets/2024_datasets/scenario_3/test_data/images/test/THW_097_3962.jpg: 640x640 1 C, 4.8ms\n",
      "image 203/277 /scratch/project_2006327/YOLOv8/datasets/2024_datasets/scenario_3/test_data/images/test/THW_097_3987.jpg: 640x640 7 Cs, 4.8ms\n",
      "image 204/277 /scratch/project_2006327/YOLOv8/datasets/2024_datasets/scenario_3/test_data/images/test/THW_097_3988.jpg: 640x640 11 Cs, 4.8ms\n",
      "image 205/277 /scratch/project_2006327/YOLOv8/datasets/2024_datasets/scenario_3/test_data/images/test/THW_097_4063.jpg: 640x640 2 Cs, 4.7ms\n",
      "image 206/277 /scratch/project_2006327/YOLOv8/datasets/2024_datasets/scenario_3/test_data/images/test/THW_097_4064.jpg: 640x640 2 Cs, 4.7ms\n",
      "image 207/277 /scratch/project_2006327/YOLOv8/datasets/2024_datasets/scenario_3/test_data/images/test/THW_097_4088.jpg: 640x640 32 Cs, 4.7ms\n",
      "image 208/277 /scratch/project_2006327/YOLOv8/datasets/2024_datasets/scenario_3/test_data/images/test/THW_097_4089.jpg: 640x640 33 Cs, 4.7ms\n",
      "image 209/277 /scratch/project_2006327/YOLOv8/datasets/2024_datasets/scenario_3/test_data/images/test/THW_097_4188.jpg: 640x640 1 C, 4.7ms\n",
      "image 210/277 /scratch/project_2006327/YOLOv8/datasets/2024_datasets/scenario_3/test_data/images/test/THW_097_4189.jpg: 640x640 14 Cs, 4.7ms\n",
      "image 211/277 /scratch/project_2006327/YOLOv8/datasets/2024_datasets/scenario_3/test_data/images/test/THW_097_4190.jpg: 640x640 8 Cs, 4.8ms\n",
      "image 212/277 /scratch/project_2006327/YOLOv8/datasets/2024_datasets/scenario_3/test_data/images/test/THW_097_4290.jpg: 640x640 2 Cs, 4.8ms\n",
      "image 213/277 /scratch/project_2006327/YOLOv8/datasets/2024_datasets/scenario_3/test_data/images/test/THW_097_4292.jpg: 640x640 6 Cs, 4.8ms\n",
      "image 214/277 /scratch/project_2006327/YOLOv8/datasets/2024_datasets/scenario_3/test_data/images/test/THW_097_4393.jpg: 640x640 4 Cs, 4.8ms\n",
      "image 215/277 /scratch/project_2006327/YOLOv8/datasets/2024_datasets/scenario_3/test_data/images/test/THW_097_5078.jpg: 640x640 18 Cs, 4.8ms\n",
      "image 216/277 /scratch/project_2006327/YOLOv8/datasets/2024_datasets/scenario_3/test_data/images/test/THW_097_5079.jpg: 640x640 18 Cs, 4.8ms\n",
      "image 217/277 /scratch/project_2006327/YOLOv8/datasets/2024_datasets/scenario_3/test_data/images/test/THW_097_5179.jpg: 640x640 7 Cs, 4.7ms\n",
      "image 218/277 /scratch/project_2006327/YOLOv8/datasets/2024_datasets/scenario_3/test_data/images/test/THW_097_5180.jpg: 640x640 6 Cs, 4.7ms\n",
      "image 219/277 /scratch/project_2006327/YOLOv8/datasets/2024_datasets/scenario_3/test_data/images/test/THW_097_5181.jpg: 640x640 1 C, 4.7ms\n",
      "image 220/277 /scratch/project_2006327/YOLOv8/datasets/2024_datasets/scenario_3/test_data/images/test/THW_097_5280.jpg: 640x640 4 Cs, 4.8ms\n",
      "image 221/277 /scratch/project_2006327/YOLOv8/datasets/2024_datasets/scenario_3/test_data/images/test/THW_097_5281.jpg: 640x640 12 Cs, 4.8ms\n",
      "image 222/277 /scratch/project_2006327/YOLOv8/datasets/2024_datasets/scenario_3/test_data/images/test/THW_097_5382.jpg: 640x640 11 Cs, 4.8ms\n",
      "image 223/277 /scratch/project_2006327/YOLOv8/datasets/2024_datasets/scenario_3/test_data/images/test/THW_097_5383.jpg: 640x640 10 Cs, 4.7ms\n",
      "image 224/277 /scratch/project_2006327/YOLOv8/datasets/2024_datasets/scenario_3/test_data/images/test/THW_097_5483.jpg: 640x640 16 Cs, 4.8ms\n",
      "image 225/277 /scratch/project_2006327/YOLOv8/datasets/2024_datasets/scenario_3/test_data/images/test/THW_097_5484.jpg: 640x640 23 Cs, 4.7ms\n",
      "image 226/277 /scratch/project_2006327/YOLOv8/datasets/2024_datasets/scenario_3/test_data/images/test/THW_097_5485.jpg: 640x640 4 Cs, 4.8ms\n",
      "image 227/277 /scratch/project_2006327/YOLOv8/datasets/2024_datasets/scenario_3/test_data/images/test/THW_097_5584.jpg: 640x640 7 Cs, 4.8ms\n",
      "image 228/277 /scratch/project_2006327/YOLOv8/datasets/2024_datasets/scenario_3/test_data/images/test/THW_097_5585.jpg: 640x640 4 Cs, 4.8ms\n",
      "image 229/277 /scratch/project_2006327/YOLOv8/datasets/2024_datasets/scenario_3/test_data/images/test/THW_097_8272.jpg: 640x640 1 C, 4.8ms\n",
      "image 230/277 /scratch/project_2006327/YOLOv8/datasets/2024_datasets/scenario_3/test_data/images/test/THW_097_8273.jpg: 640x640 12 Cs, 4.8ms\n",
      "image 231/277 /scratch/project_2006327/YOLOv8/datasets/2024_datasets/scenario_3/test_data/images/test/THW_097_8274.jpg: 640x640 14 Cs, 4.8ms\n",
      "image 232/277 /scratch/project_2006327/YOLOv8/datasets/2024_datasets/scenario_3/test_data/images/test/THW_097_8303.jpg: 640x640 3 Cs, 4.8ms\n",
      "image 233/277 /scratch/project_2006327/YOLOv8/datasets/2024_datasets/scenario_3/test_data/images/test/THW_097_8304.jpg: 640x640 23 Cs, 4.7ms\n",
      "image 234/277 /scratch/project_2006327/YOLOv8/datasets/2024_datasets/scenario_3/test_data/images/test/THW_097_8305.jpg: 640x640 17 Cs, 4.7ms\n",
      "image 235/277 /scratch/project_2006327/YOLOv8/datasets/2024_datasets/scenario_3/test_data/images/test/THW_097_8404.jpg: 640x640 8 Cs, 4.8ms\n",
      "image 236/277 /scratch/project_2006327/YOLOv8/datasets/2024_datasets/scenario_3/test_data/images/test/THW_097_8405.jpg: 640x640 16 Cs, 4.8ms\n",
      "image 237/277 /scratch/project_2006327/YOLOv8/datasets/2024_datasets/scenario_3/test_data/images/test/THW_097_8406.jpg: 640x640 2 Cs, 4.7ms\n",
      "image 238/277 /scratch/project_2006327/YOLOv8/datasets/2024_datasets/scenario_3/test_data/images/test/THW_097_8506.jpg: 640x640 7 Cs, 4.8ms\n",
      "image 239/277 /scratch/project_2006327/YOLOv8/datasets/2024_datasets/scenario_3/test_data/images/test/THW_097_8607.jpg: 640x640 13 Cs, 4.8ms\n",
      "image 240/277 /scratch/project_2006327/YOLOv8/datasets/2024_datasets/scenario_3/test_data/images/test/THW_097_9307.jpg: 640x640 1 C, 4.8ms\n",
      "image 241/277 /scratch/project_2006327/YOLOv8/datasets/2024_datasets/scenario_3/test_data/images/test/THW_097_9689.jpg: 640x640 9 Cs, 4.8ms\n",
      "image 242/277 /scratch/project_2006327/YOLOv8/datasets/2024_datasets/scenario_3/test_data/images/test/THW_113_10028.jpg: 640x640 14 Cs, 4.8ms\n",
      "image 243/277 /scratch/project_2006327/YOLOv8/datasets/2024_datasets/scenario_3/test_data/images/test/THW_113_4618.jpg: 640x640 7 Cs, 4.8ms\n",
      "image 244/277 /scratch/project_2006327/YOLOv8/datasets/2024_datasets/scenario_3/test_data/images/test/THW_113_4619.jpg: 640x640 2 Cs, 4.8ms\n",
      "image 245/277 /scratch/project_2006327/YOLOv8/datasets/2024_datasets/scenario_3/test_data/images/test/THW_113_4720.jpg: 640x640 1 C, 4.7ms\n",
      "image 246/277 /scratch/project_2006327/YOLOv8/datasets/2024_datasets/scenario_3/test_data/images/test/THW_113_4721.jpg: 640x640 1 C, 4.8ms\n",
      "image 247/277 /scratch/project_2006327/YOLOv8/datasets/2024_datasets/scenario_3/test_data/images/test/THW_113_5852.jpg: 640x640 5 Cs, 4.7ms\n",
      "image 248/277 /scratch/project_2006327/YOLOv8/datasets/2024_datasets/scenario_3/test_data/images/test/THW_113_5853.jpg: 640x640 11 Cs, 4.8ms\n",
      "image 249/277 /scratch/project_2006327/YOLOv8/datasets/2024_datasets/scenario_3/test_data/images/test/THW_113_5854.jpg: 640x640 1 C, 4.8ms\n",
      "image 250/277 /scratch/project_2006327/YOLOv8/datasets/2024_datasets/scenario_3/test_data/images/test/THW_113_5952.jpg: 640x640 12 Cs, 4.8ms\n",
      "image 251/277 /scratch/project_2006327/YOLOv8/datasets/2024_datasets/scenario_3/test_data/images/test/THW_113_5953.jpg: 640x640 13 Cs, 4.7ms\n",
      "image 252/277 /scratch/project_2006327/YOLOv8/datasets/2024_datasets/scenario_3/test_data/images/test/THW_113_5954.jpg: 640x640 6 Cs, 4.8ms\n",
      "image 253/277 /scratch/project_2006327/YOLOv8/datasets/2024_datasets/scenario_3/test_data/images/test/THW_113_5955.jpg: 640x640 4 Cs, 4.8ms\n",
      "image 254/277 /scratch/project_2006327/YOLOv8/datasets/2024_datasets/scenario_3/test_data/images/test/THW_113_5956.jpg: 640x640 2 Cs, 4.8ms\n",
      "image 255/277 /scratch/project_2006327/YOLOv8/datasets/2024_datasets/scenario_3/test_data/images/test/THW_113_6052.jpg: 640x640 2 Cs, 4.7ms\n",
      "image 256/277 /scratch/project_2006327/YOLOv8/datasets/2024_datasets/scenario_3/test_data/images/test/THW_113_6053.jpg: 640x640 11 Cs, 4.8ms\n",
      "image 257/277 /scratch/project_2006327/YOLOv8/datasets/2024_datasets/scenario_3/test_data/images/test/THW_113_6054.jpg: 640x640 3 Cs, 4.7ms\n",
      "image 258/277 /scratch/project_2006327/YOLOv8/datasets/2024_datasets/scenario_3/test_data/images/test/THW_113_6153.jpg: 640x640 8 Cs, 4.7ms\n",
      "image 259/277 /scratch/project_2006327/YOLOv8/datasets/2024_datasets/scenario_3/test_data/images/test/THW_113_6154.jpg: 640x640 11 Cs, 4.7ms\n",
      "image 260/277 /scratch/project_2006327/YOLOv8/datasets/2024_datasets/scenario_3/test_data/images/test/THW_113_6155.jpg: 640x640 4 Cs, 4.8ms\n",
      "image 261/277 /scratch/project_2006327/YOLOv8/datasets/2024_datasets/scenario_3/test_data/images/test/THW_113_6253.jpg: 640x640 5 Cs, 4.8ms\n",
      "image 262/277 /scratch/project_2006327/YOLOv8/datasets/2024_datasets/scenario_3/test_data/images/test/THW_113_6254.jpg: 640x640 4 Cs, 4.8ms\n",
      "image 263/277 /scratch/project_2006327/YOLOv8/datasets/2024_datasets/scenario_3/test_data/images/test/THW_113_6255.jpg: 640x640 3 Cs, 4.7ms\n",
      "image 264/277 /scratch/project_2006327/YOLOv8/datasets/2024_datasets/scenario_3/test_data/images/test/THW_113_6256.jpg: 640x640 3 Cs, 4.8ms\n",
      "image 265/277 /scratch/project_2006327/YOLOv8/datasets/2024_datasets/scenario_3/test_data/images/test/THW_113_6257.jpg: 640x640 1 C, 4.8ms\n",
      "image 266/277 /scratch/project_2006327/YOLOv8/datasets/2024_datasets/scenario_3/test_data/images/test/THW_113_6355.jpg: 640x640 4 Cs, 4.8ms\n",
      "image 267/277 /scratch/project_2006327/YOLOv8/datasets/2024_datasets/scenario_3/test_data/images/test/THW_113_6356.jpg: 640x640 2 Cs, 4.8ms\n",
      "image 268/277 /scratch/project_2006327/YOLOv8/datasets/2024_datasets/scenario_3/test_data/images/test/THW_113_6357.jpg: 640x640 2 Cs, 4.8ms\n",
      "image 269/277 /scratch/project_2006327/YOLOv8/datasets/2024_datasets/scenario_3/test_data/images/test/THW_113_9625.jpg: 640x640 2 Cs, 4.9ms\n",
      "image 270/277 /scratch/project_2006327/YOLOv8/datasets/2024_datasets/scenario_3/test_data/images/test/THW_120_8924.jpg: 640x640 5 Cs, 4.8ms\n",
      "image 271/277 /scratch/project_2006327/YOLOv8/datasets/2024_datasets/scenario_3/test_data/images/test/THW_120_8925.jpg: 640x640 3 Cs, 4.7ms\n",
      "image 272/277 /scratch/project_2006327/YOLOv8/datasets/2024_datasets/scenario_3/test_data/images/test/THW_120_9024.jpg: 640x640 1 C, 4.8ms\n",
      "image 273/277 /scratch/project_2006327/YOLOv8/datasets/2024_datasets/scenario_3/test_data/images/test/THW_120_9025.jpg: 640x640 23 Cs, 4.7ms\n",
      "image 274/277 /scratch/project_2006327/YOLOv8/datasets/2024_datasets/scenario_3/test_data/images/test/THW_120_9026.jpg: 640x640 21 Cs, 4.8ms\n",
      "image 275/277 /scratch/project_2006327/YOLOv8/datasets/2024_datasets/scenario_3/test_data/images/test/THW_120_9126.jpg: 640x640 19 Cs, 4.8ms\n",
      "image 276/277 /scratch/project_2006327/YOLOv8/datasets/2024_datasets/scenario_3/test_data/images/test/THW_120_9127.jpg: 640x640 10 Cs, 4.8ms\n",
      "image 277/277 /scratch/project_2006327/YOLOv8/datasets/2024_datasets/scenario_3/test_data/images/test/THW_120_9227.jpg: 640x640 1 C, 4.7ms\n",
      "Speed: 1.7ms preprocess, 4.8ms inference, 0.9ms postprocess per image at shape (1, 3, 640, 640)\n",
      "Results saved to \u001b[1minference/Combined_data_2024/count/small\u001b[0m\n"
     ]
    }
   ],
   "source": [
    "!yolo predict model=runs/detect/train/weights/best.pt source='/scratch/project_2006327/YOLOv8/datasets/2024_datasets/scenario_3/test_data/images/test' conf=0.25 iou=0.5 project=inference/Combined_data_2024/count name=small show_labels=False line_width=1"
   ]
  },
  {
   "cell_type": "markdown",
   "id": "456fac86-f598-4618-a8fe-f8fce3fa7a27",
   "metadata": {
    "tags": []
   },
   "source": [
    "## YOLOv8m"
   ]
  },
  {
   "cell_type": "markdown",
   "id": "b79baf92-61f7-4ffc-b3fc-6dcd02480a5e",
   "metadata": {
    "tags": []
   },
   "source": [
    "### Validation"
   ]
  },
  {
   "cell_type": "code",
   "execution_count": 6,
   "id": "13fe913c-1aac-4bca-992b-61b624e763b7",
   "metadata": {},
   "outputs": [
    {
     "name": "stderr",
     "output_type": "stream",
     "text": [
      "Ultralytics YOLOv8.0.157 🚀 Python-3.10.0 torch-2.0.1+cu117 CUDA:0 (Tesla V100-SXM2-32GB, 32501MiB)\n",
      "Model summary (fused): 218 layers, 25840339 parameters, 0 gradients\n",
      "\u001b[34m\u001b[1mval: \u001b[0mScanning /scratch/project_2006327/YOLOv8/datasets/2024_datasets/scenario_3/train_data/labels/val.cache... 1604 images, 0 backgrounds, 0 corrupt: 100%|██████████| 1604/1604 [00:00<?, ?it/s]\n",
      "/CSC_CONTAINER/miniconda/envs/env1/lib/python3.10/site-packages/torch/utils/data/dataloader.py:560: UserWarning: This DataLoader will create 8 worker processes in total. Our suggested max number of worker in current system is 3, which is smaller than what this DataLoader is going to create. Please be aware that excessive worker creation might get DataLoader running slow or even freeze, lower the worker number to avoid potential slowness/freeze if necessary.\n",
      "  warnings.warn(_create_warning_msg(\n",
      "                 Class     Images  Instances      Box(P          R      mAP50  mAP50-95): 100%|██████████| 101/101 [00:18<00:00,  5.56it/s]\n",
      "                   all       1604      15091      0.912      0.883      0.936      0.464\n",
      "Speed: 0.2ms preprocess, 6.4ms inference, 0.0ms loss, 0.5ms postprocess per image\n",
      "Results saved to \u001b[1mruns/detect/val2\u001b[0m\n"
     ]
    },
    {
     "data": {
      "text/plain": [
       "array([    0.46384])"
      ]
     },
     "execution_count": 6,
     "metadata": {},
     "output_type": "execute_result"
    }
   ],
   "source": [
    "#load a best weight\n",
    "model = YOLO('runs/detect/train3/weights/best.pt') #load a custom model\n",
    "\n",
    "#validate the model\n",
    "metrics = model.val() #no arguments needed, dataset and settings remembered\n",
    "metrics.box.map #map50-95\n",
    "metrics.box.maps # a list contains map50-95 of each category"
   ]
  },
  {
   "cell_type": "markdown",
   "id": "0c5f8d21-5322-4287-934c-dc8025a1f888",
   "metadata": {
    "tags": []
   },
   "source": [
    "### Plot F1 score"
   ]
  },
  {
   "cell_type": "code",
   "execution_count": null,
   "id": "186c6a33-09aa-44b6-b46f-34331cbf528b",
   "metadata": {},
   "outputs": [],
   "source": [
    "Image(filename = 'runs/detect/val2/F1_curve.png', width =640)"
   ]
  },
  {
   "cell_type": "markdown",
   "id": "a51487d5-bb1b-44f4-8c1b-62e21528a707",
   "metadata": {},
   "source": [
    "### Inference"
   ]
  },
  {
   "cell_type": "code",
   "execution_count": 7,
   "id": "0c96c2ad-1fc2-455b-a0e1-0eec3a7cbe50",
   "metadata": {},
   "outputs": [
    {
     "name": "stdout",
     "output_type": "stream",
     "text": [
      "Ultralytics YOLOv8.0.157 🚀 Python-3.10.0 torch-2.0.1+cu117 CUDA:0 (Tesla V100-SXM2-32GB, 32501MiB)\n",
      "Model summary (fused): 218 layers, 25840339 parameters, 0 gradients\n",
      "\u001b[34m\u001b[1mval: \u001b[0mScanning /scratch/project_2006327/YOLOv8/datasets/2024_datasets/scenario_3/\u001b[0m\n",
      "/CSC_CONTAINER/miniconda/envs/env1/lib/python3.10/site-packages/torch/utils/data/dataloader.py:560: UserWarning: This DataLoader will create 8 worker processes in total. Our suggested max number of worker in current system is 3, which is smaller than what this DataLoader is going to create. Please be aware that excessive worker creation might get DataLoader running slow or even freeze, lower the worker number to avoid potential slowness/freeze if necessary.\n",
      "  warnings.warn(_create_warning_msg(\n",
      "                 Class     Images  Instances      Box(P          R      mAP50  m\n",
      "                   all        277       2642       0.91      0.834      0.888      0.396\n",
      "Speed: 0.5ms preprocess, 6.6ms inference, 0.0ms loss, 0.5ms postprocess per image\n",
      "Results saved to \u001b[1minference/Combined_data_2024/metrics/medium\u001b[0m\n"
     ]
    }
   ],
   "source": [
    "#change the directory of the .yaml dataset\n",
    "!yolo val model=runs/detect/train3/weights/best.pt data=s3_test_2024.yaml conf=0.25 iou=0.5 project=inference/Combined_data_2024/metrics name=medium"
   ]
  },
  {
   "cell_type": "code",
   "execution_count": 12,
   "id": "7ac978b2-035f-4b7f-8839-8658508d8f31",
   "metadata": {
    "scrolled": true
   },
   "outputs": [
    {
     "name": "stdout",
     "output_type": "stream",
     "text": [
      "Ultralytics YOLOv8.0.157 🚀 Python-3.10.0 torch-2.0.1+cu117 CUDA:0 (Tesla V100-SXM2-32GB, 32501MiB)\n",
      "Model summary (fused): 218 layers, 25840339 parameters, 0 gradients\n",
      "\n",
      "image 1/277 /scratch/project_2006327/YOLOv8/datasets/2024_datasets/scenario_3/test_data/images/test/Choke_113_4451.jpg: 640x640 1 C, 9.5ms\n",
      "image 2/277 /scratch/project_2006327/YOLOv8/datasets/2024_datasets/scenario_3/test_data/images/test/Choke_113_4452.jpg: 640x640 20 Cs, 9.4ms\n",
      "image 3/277 /scratch/project_2006327/YOLOv8/datasets/2024_datasets/scenario_3/test_data/images/test/Choke_113_4453.jpg: 640x640 18 Cs, 9.4ms\n",
      "image 4/277 /scratch/project_2006327/YOLOv8/datasets/2024_datasets/scenario_3/test_data/images/test/Choke_113_4454.jpg: 640x640 15 Cs, 9.4ms\n",
      "image 5/277 /scratch/project_2006327/YOLOv8/datasets/2024_datasets/scenario_3/test_data/images/test/Choke_113_4552.jpg: 640x640 1 C, 9.5ms\n",
      "image 6/277 /scratch/project_2006327/YOLOv8/datasets/2024_datasets/scenario_3/test_data/images/test/Choke_113_4553.jpg: 640x640 13 Cs, 9.4ms\n",
      "image 7/277 /scratch/project_2006327/YOLOv8/datasets/2024_datasets/scenario_3/test_data/images/test/Choke_113_4554.jpg: 640x640 42 Cs, 9.4ms\n",
      "image 8/277 /scratch/project_2006327/YOLOv8/datasets/2024_datasets/scenario_3/test_data/images/test/Choke_113_4555.jpg: 640x640 16 Cs, 9.5ms\n",
      "image 9/277 /scratch/project_2006327/YOLOv8/datasets/2024_datasets/scenario_3/test_data/images/test/Choke_113_4654.jpg: 640x640 12 Cs, 9.4ms\n",
      "image 10/277 /scratch/project_2006327/YOLOv8/datasets/2024_datasets/scenario_3/test_data/images/test/Choke_113_4655.jpg: 640x640 10 Cs, 9.4ms\n",
      "image 11/277 /scratch/project_2006327/YOLOv8/datasets/2024_datasets/scenario_3/test_data/images/test/Choke_113_4856.jpg: 640x640 12 Cs, 9.4ms\n",
      "image 12/277 /scratch/project_2006327/YOLOv8/datasets/2024_datasets/scenario_3/test_data/images/test/Choke_113_4857.jpg: 640x640 10 Cs, 9.5ms\n",
      "image 13/277 /scratch/project_2006327/YOLOv8/datasets/2024_datasets/scenario_3/test_data/images/test/Choke_113_4956.jpg: 640x640 8 Cs, 9.4ms\n",
      "image 14/277 /scratch/project_2006327/YOLOv8/datasets/2024_datasets/scenario_3/test_data/images/test/Choke_113_4957.jpg: 640x640 32 Cs, 9.4ms\n",
      "image 15/277 /scratch/project_2006327/YOLOv8/datasets/2024_datasets/scenario_3/test_data/images/test/Choke_113_4958.jpg: 640x640 11 Cs, 9.4ms\n",
      "image 16/277 /scratch/project_2006327/YOLOv8/datasets/2024_datasets/scenario_3/test_data/images/test/Choke_113_5056.jpg: 640x640 6 Cs, 8.9ms\n",
      "image 17/277 /scratch/project_2006327/YOLOv8/datasets/2024_datasets/scenario_3/test_data/images/test/Choke_113_5057.jpg: 640x640 26 Cs, 8.7ms\n",
      "image 18/277 /scratch/project_2006327/YOLOv8/datasets/2024_datasets/scenario_3/test_data/images/test/Choke_113_5058.jpg: 640x640 21 Cs, 8.7ms\n",
      "image 19/277 /scratch/project_2006327/YOLOv8/datasets/2024_datasets/scenario_3/test_data/images/test/Choke_113_5157.jpg: 640x640 1 C, 8.7ms\n",
      "image 20/277 /scratch/project_2006327/YOLOv8/datasets/2024_datasets/scenario_3/test_data/images/test/Choke_113_5158.jpg: 640x640 11 Cs, 8.7ms\n",
      "image 21/277 /scratch/project_2006327/YOLOv8/datasets/2024_datasets/scenario_3/test_data/images/test/Choke_113_5159.jpg: 640x640 6 Cs, 8.7ms\n",
      "image 22/277 /scratch/project_2006327/YOLOv8/datasets/2024_datasets/scenario_3/test_data/images/test/Choke_123_1525.jpg: 640x640 11 Cs, 8.7ms\n",
      "image 23/277 /scratch/project_2006327/YOLOv8/datasets/2024_datasets/scenario_3/test_data/images/test/Choke_123_1526.jpg: 640x640 3 Cs, 8.7ms\n",
      "image 24/277 /scratch/project_2006327/YOLOv8/datasets/2024_datasets/scenario_3/test_data/images/test/Choke_123_1626.jpg: 640x640 7 Cs, 8.3ms\n",
      "image 25/277 /scratch/project_2006327/YOLOv8/datasets/2024_datasets/scenario_3/test_data/images/test/Choke_123_1627.jpg: 640x640 24 Cs, 8.3ms\n",
      "image 26/277 /scratch/project_2006327/YOLOv8/datasets/2024_datasets/scenario_3/test_data/images/test/Choke_123_1724.jpg: 640x640 3 Cs, 8.2ms\n",
      "image 27/277 /scratch/project_2006327/YOLOv8/datasets/2024_datasets/scenario_3/test_data/images/test/Choke_123_1725.jpg: 640x640 4 Cs, 8.3ms\n",
      "image 28/277 /scratch/project_2006327/YOLOv8/datasets/2024_datasets/scenario_3/test_data/images/test/Choke_123_1728.jpg: 640x640 5 Cs, 8.2ms\n",
      "image 29/277 /scratch/project_2006327/YOLOv8/datasets/2024_datasets/scenario_3/test_data/images/test/Choke_123_1820.jpg: 640x640 1 C, 8.3ms\n",
      "image 30/277 /scratch/project_2006327/YOLOv8/datasets/2024_datasets/scenario_3/test_data/images/test/Choke_123_1821.jpg: 640x640 10 Cs, 8.3ms\n",
      "image 31/277 /scratch/project_2006327/YOLOv8/datasets/2024_datasets/scenario_3/test_data/images/test/Choke_123_1826.jpg: 640x640 11 Cs, 8.2ms\n",
      "image 32/277 /scratch/project_2006327/YOLOv8/datasets/2024_datasets/scenario_3/test_data/images/test/Choke_123_1827.jpg: 640x640 2 Cs, 8.2ms\n",
      "image 33/277 /scratch/project_2006327/YOLOv8/datasets/2024_datasets/scenario_3/test_data/images/test/Choke_123_1828.jpg: 640x640 2 Cs, 8.3ms\n",
      "image 34/277 /scratch/project_2006327/YOLOv8/datasets/2024_datasets/scenario_3/test_data/images/test/Choke_123_1880.jpg: 640x640 3 Cs, 8.3ms\n",
      "image 35/277 /scratch/project_2006327/YOLOv8/datasets/2024_datasets/scenario_3/test_data/images/test/Choke_123_1882.jpg: 640x640 8 Cs, 8.2ms\n",
      "image 36/277 /scratch/project_2006327/YOLOv8/datasets/2024_datasets/scenario_3/test_data/images/test/Choke_123_1921.jpg: 640x640 2 Cs, 8.2ms\n",
      "image 37/277 /scratch/project_2006327/YOLOv8/datasets/2024_datasets/scenario_3/test_data/images/test/Choke_123_1922.jpg: 640x640 11 Cs, 8.2ms\n",
      "image 38/277 /scratch/project_2006327/YOLOv8/datasets/2024_datasets/scenario_3/test_data/images/test/Choke_123_1923.jpg: 640x640 1 C, 8.2ms\n",
      "image 39/277 /scratch/project_2006327/YOLOv8/datasets/2024_datasets/scenario_3/test_data/images/test/Choke_123_1926.jpg: 640x640 2 Cs, 8.2ms\n",
      "image 40/277 /scratch/project_2006327/YOLOv8/datasets/2024_datasets/scenario_3/test_data/images/test/Choke_123_1927.jpg: 640x640 7 Cs, 8.2ms\n",
      "image 41/277 /scratch/project_2006327/YOLOv8/datasets/2024_datasets/scenario_3/test_data/images/test/Choke_123_1928.jpg: 640x640 28 Cs, 8.2ms\n",
      "image 42/277 /scratch/project_2006327/YOLOv8/datasets/2024_datasets/scenario_3/test_data/images/test/Choke_123_1929.jpg: 640x640 21 Cs, 8.1ms\n",
      "image 43/277 /scratch/project_2006327/YOLOv8/datasets/2024_datasets/scenario_3/test_data/images/test/Choke_123_1981.jpg: 640x640 9 Cs, 8.3ms\n",
      "image 44/277 /scratch/project_2006327/YOLOv8/datasets/2024_datasets/scenario_3/test_data/images/test/Choke_123_1982.jpg: 640x640 8 Cs, 8.2ms\n",
      "image 45/277 /scratch/project_2006327/YOLOv8/datasets/2024_datasets/scenario_3/test_data/images/test/Choke_123_1983.jpg: 640x640 9 Cs, 8.2ms\n",
      "image 46/277 /scratch/project_2006327/YOLOv8/datasets/2024_datasets/scenario_3/test_data/images/test/Choke_123_2030.jpg: 640x640 7 Cs, 8.3ms\n",
      "image 47/277 /scratch/project_2006327/YOLOv8/datasets/2024_datasets/scenario_3/test_data/images/test/Choke_123_2082.jpg: 640x640 7 Cs, 8.2ms\n",
      "image 48/277 /scratch/project_2006327/YOLOv8/datasets/2024_datasets/scenario_3/test_data/images/test/Choke_123_2083.jpg: 640x640 8 Cs, 8.2ms\n",
      "image 49/277 /scratch/project_2006327/YOLOv8/datasets/2024_datasets/scenario_3/test_data/images/test/Choke_123_2084.jpg: 640x640 6 Cs, 8.2ms\n",
      "image 50/277 /scratch/project_2006327/YOLOv8/datasets/2024_datasets/scenario_3/test_data/images/test/Choke_123_2183.jpg: 640x640 6 Cs, 8.1ms\n",
      "image 51/277 /scratch/project_2006327/YOLOv8/datasets/2024_datasets/scenario_3/test_data/images/test/Choke_123_2184.jpg: 640x640 2 Cs, 8.2ms\n",
      "image 52/277 /scratch/project_2006327/YOLOv8/datasets/2024_datasets/scenario_3/test_data/images/test/Choke_123_2185.jpg: 640x640 7 Cs, 8.2ms\n",
      "image 53/277 /scratch/project_2006327/YOLOv8/datasets/2024_datasets/scenario_3/test_data/images/test/Choke_123_3499.jpg: 640x640 14 Cs, 8.2ms\n",
      "image 54/277 /scratch/project_2006327/YOLOv8/datasets/2024_datasets/scenario_3/test_data/images/test/Choke_123_3500.jpg: 640x640 20 Cs, 8.2ms\n",
      "image 55/277 /scratch/project_2006327/YOLOv8/datasets/2024_datasets/scenario_3/test_data/images/test/Choke_123_3600.jpg: 640x640 10 Cs, 8.2ms\n",
      "image 56/277 /scratch/project_2006327/YOLOv8/datasets/2024_datasets/scenario_3/test_data/images/test/Choke_123_3601.jpg: 640x640 19 Cs, 8.2ms\n",
      "image 57/277 /scratch/project_2006327/YOLOv8/datasets/2024_datasets/scenario_3/test_data/images/test/Choke_123_3701.jpg: 640x640 1 C, 8.2ms\n",
      "image 58/277 /scratch/project_2006327/YOLOv8/datasets/2024_datasets/scenario_3/test_data/images/test/Choke_123_3702.jpg: 640x640 1 C, 8.2ms\n",
      "image 59/277 /scratch/project_2006327/YOLOv8/datasets/2024_datasets/scenario_3/test_data/images/test/Choke_123_3703.jpg: 640x640 4 Cs, 8.2ms\n",
      "image 60/277 /scratch/project_2006327/YOLOv8/datasets/2024_datasets/scenario_3/test_data/images/test/Choke_123_3802.jpg: 640x640 3 Cs, 8.3ms\n",
      "image 61/277 /scratch/project_2006327/YOLOv8/datasets/2024_datasets/scenario_3/test_data/images/test/Choke_123_3803.jpg: 640x640 3 Cs, 8.2ms\n",
      "image 62/277 /scratch/project_2006327/YOLOv8/datasets/2024_datasets/scenario_3/test_data/images/test/Choke_123_393.jpg: 640x640 11 Cs, 8.2ms\n",
      "image 63/277 /scratch/project_2006327/YOLOv8/datasets/2024_datasets/scenario_3/test_data/images/test/Choke_123_394.jpg: 640x640 1 C, 8.2ms\n",
      "image 64/277 /scratch/project_2006327/YOLOv8/datasets/2024_datasets/scenario_3/test_data/images/test/Choke_123_493.jpg: 640x640 7 Cs, 8.2ms\n",
      "image 65/277 /scratch/project_2006327/YOLOv8/datasets/2024_datasets/scenario_3/test_data/images/test/Choke_123_494.jpg: 640x640 20 Cs, 8.2ms\n",
      "image 66/277 /scratch/project_2006327/YOLOv8/datasets/2024_datasets/scenario_3/test_data/images/test/Choke_123_495.jpg: 640x640 3 Cs, 8.3ms\n",
      "image 67/277 /scratch/project_2006327/YOLOv8/datasets/2024_datasets/scenario_3/test_data/images/test/Choke_123_5089.jpg: 640x640 3 Cs, 8.2ms\n",
      "image 68/277 /scratch/project_2006327/YOLOv8/datasets/2024_datasets/scenario_3/test_data/images/test/Choke_123_594.jpg: 640x640 1 C, 8.1ms\n",
      "image 69/277 /scratch/project_2006327/YOLOv8/datasets/2024_datasets/scenario_3/test_data/images/test/Choke_123_595.jpg: 640x640 9 Cs, 8.2ms\n",
      "image 70/277 /scratch/project_2006327/YOLOv8/datasets/2024_datasets/scenario_3/test_data/images/test/Choke_123_596.jpg: 640x640 2 Cs, 8.2ms\n",
      "image 71/277 /scratch/project_2006327/YOLOv8/datasets/2024_datasets/scenario_3/test_data/images/test/Choke_123_695.jpg: 640x640 2 Cs, 8.2ms\n",
      "image 72/277 /scratch/project_2006327/YOLOv8/datasets/2024_datasets/scenario_3/test_data/images/test/Choke_123_696.jpg: 640x640 7 Cs, 8.2ms\n",
      "image 73/277 /scratch/project_2006327/YOLOv8/datasets/2024_datasets/scenario_3/test_data/images/test/Choke_123_697.jpg: 640x640 3 Cs, 8.2ms\n",
      "image 74/277 /scratch/project_2006327/YOLOv8/datasets/2024_datasets/scenario_3/test_data/images/test/Choke_123_698.jpg: 640x640 2 Cs, 8.2ms\n",
      "image 75/277 /scratch/project_2006327/YOLOv8/datasets/2024_datasets/scenario_3/test_data/images/test/Choke_143_2035.jpg: 640x640 1 C, 8.2ms\n",
      "image 76/277 /scratch/project_2006327/YOLOv8/datasets/2024_datasets/scenario_3/test_data/images/test/Choke_143_2036.jpg: 640x640 2 Cs, 8.2ms\n",
      "image 77/277 /scratch/project_2006327/YOLOv8/datasets/2024_datasets/scenario_3/test_data/images/test/Choke_143_2037.jpg: 640x640 3 Cs, 8.2ms\n",
      "image 78/277 /scratch/project_2006327/YOLOv8/datasets/2024_datasets/scenario_3/test_data/images/test/Choke_143_2038.jpg: 640x640 6 Cs, 8.2ms\n",
      "image 79/277 /scratch/project_2006327/YOLOv8/datasets/2024_datasets/scenario_3/test_data/images/test/Choke_143_2039.jpg: 640x640 5 Cs, 8.2ms\n",
      "image 80/277 /scratch/project_2006327/YOLOv8/datasets/2024_datasets/scenario_3/test_data/images/test/Choke_143_2040.jpg: 640x640 2 Cs, 8.2ms\n",
      "image 81/277 /scratch/project_2006327/YOLOv8/datasets/2024_datasets/scenario_3/test_data/images/test/Choke_143_2136.jpg: 640x640 4 Cs, 8.2ms\n",
      "image 82/277 /scratch/project_2006327/YOLOv8/datasets/2024_datasets/scenario_3/test_data/images/test/Choke_143_2137.jpg: 640x640 4 Cs, 8.2ms\n",
      "image 83/277 /scratch/project_2006327/YOLOv8/datasets/2024_datasets/scenario_3/test_data/images/test/Choke_143_2138.jpg: 640x640 5 Cs, 8.2ms\n",
      "image 84/277 /scratch/project_2006327/YOLOv8/datasets/2024_datasets/scenario_3/test_data/images/test/Choke_143_2139.jpg: 640x640 4 Cs, 8.2ms\n",
      "image 85/277 /scratch/project_2006327/YOLOv8/datasets/2024_datasets/scenario_3/test_data/images/test/Choke_143_2140.jpg: 640x640 1 C, 8.2ms\n",
      "image 86/277 /scratch/project_2006327/YOLOv8/datasets/2024_datasets/scenario_3/test_data/images/test/Choke_143_2141.jpg: 640x640 3 Cs, 8.2ms\n",
      "image 87/277 /scratch/project_2006327/YOLOv8/datasets/2024_datasets/scenario_3/test_data/images/test/Choke_143_2237.jpg: 640x640 (no detections), 8.2ms\n",
      "image 88/277 /scratch/project_2006327/YOLOv8/datasets/2024_datasets/scenario_3/test_data/images/test/Choke_143_2239.jpg: 640x640 (no detections), 8.2ms\n",
      "image 89/277 /scratch/project_2006327/YOLOv8/datasets/2024_datasets/scenario_3/test_data/images/test/Choke_143_2240.jpg: 640x640 2 Cs, 8.2ms\n",
      "image 90/277 /scratch/project_2006327/YOLOv8/datasets/2024_datasets/scenario_3/test_data/images/test/Choke_143_2338.jpg: 640x640 11 Cs, 8.2ms\n",
      "image 91/277 /scratch/project_2006327/YOLOv8/datasets/2024_datasets/scenario_3/test_data/images/test/Choke_143_2339.jpg: 640x640 2 Cs, 8.2ms\n",
      "image 92/277 /scratch/project_2006327/YOLOv8/datasets/2024_datasets/scenario_3/test_data/images/test/Choke_143_2439.jpg: 640x640 11 Cs, 8.2ms\n",
      "image 93/277 /scratch/project_2006327/YOLOv8/datasets/2024_datasets/scenario_3/test_data/images/test/Choke_143_2633.jpg: 640x640 4 Cs, 8.2ms\n",
      "image 94/277 /scratch/project_2006327/YOLOv8/datasets/2024_datasets/scenario_3/test_data/images/test/Choke_143_4445.jpg: 640x640 4 Cs, 8.2ms\n",
      "image 95/277 /scratch/project_2006327/YOLOv8/datasets/2024_datasets/scenario_3/test_data/images/test/Choke_143_4446.jpg: 640x640 (no detections), 8.2ms\n",
      "image 96/277 /scratch/project_2006327/YOLOv8/datasets/2024_datasets/scenario_3/test_data/images/test/Choke_143_4546.jpg: 640x640 6 Cs, 8.2ms\n",
      "image 97/277 /scratch/project_2006327/YOLOv8/datasets/2024_datasets/scenario_3/test_data/images/test/Choke_143_4547.jpg: 640x640 10 Cs, 8.2ms\n",
      "image 98/277 /scratch/project_2006327/YOLOv8/datasets/2024_datasets/scenario_3/test_data/images/test/Choke_143_4548.jpg: 640x640 3 Cs, 8.2ms\n",
      "image 99/277 /scratch/project_2006327/YOLOv8/datasets/2024_datasets/scenario_3/test_data/images/test/Choke_143_4647.jpg: 640x640 3 Cs, 8.2ms\n",
      "image 100/277 /scratch/project_2006327/YOLOv8/datasets/2024_datasets/scenario_3/test_data/images/test/Choke_143_4648.jpg: 640x640 5 Cs, 8.2ms\n",
      "image 101/277 /scratch/project_2006327/YOLOv8/datasets/2024_datasets/scenario_3/test_data/images/test/Choke_143_4649.jpg: 640x640 6 Cs, 8.2ms\n",
      "image 102/277 /scratch/project_2006327/YOLOv8/datasets/2024_datasets/scenario_3/test_data/images/test/Choke_143_4750.jpg: 640x640 4 Cs, 8.2ms\n",
      "image 103/277 /scratch/project_2006327/YOLOv8/datasets/2024_datasets/scenario_3/test_data/images/test/Choke_143_4751.jpg: 640x640 2 Cs, 8.2ms\n",
      "image 104/277 /scratch/project_2006327/YOLOv8/datasets/2024_datasets/scenario_3/test_data/images/test/Choke_143_5535.jpg: 640x640 1 C, 8.2ms\n",
      "image 105/277 /scratch/project_2006327/YOLOv8/datasets/2024_datasets/scenario_3/test_data/images/test/Lumo_032_4621.jpg: 640x640 3 Cs, 8.2ms\n",
      "image 106/277 /scratch/project_2006327/YOLOv8/datasets/2024_datasets/scenario_3/test_data/images/test/Lumo_032_4622.jpg: 640x640 2 Cs, 8.2ms\n",
      "image 107/277 /scratch/project_2006327/YOLOv8/datasets/2024_datasets/scenario_3/test_data/images/test/Lumo_032_4623.jpg: 640x640 1 C, 8.2ms\n",
      "image 108/277 /scratch/project_2006327/YOLOv8/datasets/2024_datasets/scenario_3/test_data/images/test/Lumo_032_4723.jpg: 640x640 22 Cs, 8.2ms\n",
      "image 109/277 /scratch/project_2006327/YOLOv8/datasets/2024_datasets/scenario_3/test_data/images/test/Lumo_032_4724.jpg: 640x640 3 Cs, 8.2ms\n",
      "image 110/277 /scratch/project_2006327/YOLOv8/datasets/2024_datasets/scenario_3/test_data/images/test/Lumo_032_4725.jpg: 640x640 26 Cs, 8.2ms\n",
      "image 111/277 /scratch/project_2006327/YOLOv8/datasets/2024_datasets/scenario_3/test_data/images/test/Lumo_032_4824.jpg: 640x640 6 Cs, 8.2ms\n",
      "image 112/277 /scratch/project_2006327/YOLOv8/datasets/2024_datasets/scenario_3/test_data/images/test/Lumo_032_4825.jpg: 640x640 37 Cs, 8.2ms\n",
      "image 113/277 /scratch/project_2006327/YOLOv8/datasets/2024_datasets/scenario_3/test_data/images/test/Lumo_032_4826.jpg: 640x640 49 Cs, 8.2ms\n",
      "image 114/277 /scratch/project_2006327/YOLOv8/datasets/2024_datasets/scenario_3/test_data/images/test/Lumo_032_4925.jpg: 640x640 1 C, 8.2ms\n",
      "image 115/277 /scratch/project_2006327/YOLOv8/datasets/2024_datasets/scenario_3/test_data/images/test/Lumo_032_4926.jpg: 640x640 4 Cs, 8.2ms\n",
      "image 116/277 /scratch/project_2006327/YOLOv8/datasets/2024_datasets/scenario_3/test_data/images/test/Lumo_032_4927.jpg: 640x640 9 Cs, 8.3ms\n",
      "image 117/277 /scratch/project_2006327/YOLOv8/datasets/2024_datasets/scenario_3/test_data/images/test/Lumo_032_5855.jpg: 640x640 3 Cs, 8.2ms\n",
      "image 118/277 /scratch/project_2006327/YOLOv8/datasets/2024_datasets/scenario_3/test_data/images/test/Lumo_032_5856.jpg: 640x640 10 Cs, 8.2ms\n",
      "image 119/277 /scratch/project_2006327/YOLOv8/datasets/2024_datasets/scenario_3/test_data/images/test/Lumo_032_5955.jpg: 640x640 2 Cs, 8.2ms\n",
      "image 120/277 /scratch/project_2006327/YOLOv8/datasets/2024_datasets/scenario_3/test_data/images/test/Lumo_032_5956.jpg: 640x640 20 Cs, 8.2ms\n",
      "image 121/277 /scratch/project_2006327/YOLOv8/datasets/2024_datasets/scenario_3/test_data/images/test/Lumo_032_5957.jpg: 640x640 12 Cs, 8.2ms\n",
      "image 122/277 /scratch/project_2006327/YOLOv8/datasets/2024_datasets/scenario_3/test_data/images/test/Lumo_032_5958.jpg: 640x640 12 Cs, 8.2ms\n",
      "image 123/277 /scratch/project_2006327/YOLOv8/datasets/2024_datasets/scenario_3/test_data/images/test/Lumo_032_6056.jpg: 640x640 3 Cs, 8.2ms\n",
      "image 124/277 /scratch/project_2006327/YOLOv8/datasets/2024_datasets/scenario_3/test_data/images/test/Lumo_032_6057.jpg: 640x640 6 Cs, 8.2ms\n",
      "image 125/277 /scratch/project_2006327/YOLOv8/datasets/2024_datasets/scenario_3/test_data/images/test/Lumo_032_6058.jpg: 640x640 13 Cs, 8.2ms\n",
      "image 126/277 /scratch/project_2006327/YOLOv8/datasets/2024_datasets/scenario_3/test_data/images/test/Lumo_032_6059.jpg: 640x640 33 Cs, 8.2ms\n",
      "image 127/277 /scratch/project_2006327/YOLOv8/datasets/2024_datasets/scenario_3/test_data/images/test/Lumo_032_6157.jpg: 640x640 2 Cs, 8.2ms\n",
      "image 128/277 /scratch/project_2006327/YOLOv8/datasets/2024_datasets/scenario_3/test_data/images/test/Lumo_032_6158.jpg: 640x640 7 Cs, 8.2ms\n",
      "image 129/277 /scratch/project_2006327/YOLOv8/datasets/2024_datasets/scenario_3/test_data/images/test/Lumo_032_6159.jpg: 640x640 15 Cs, 8.2ms\n",
      "image 130/277 /scratch/project_2006327/YOLOv8/datasets/2024_datasets/scenario_3/test_data/images/test/Lumo_032_6160.jpg: 640x640 22 Cs, 8.3ms\n",
      "image 131/277 /scratch/project_2006327/YOLOv8/datasets/2024_datasets/scenario_3/test_data/images/test/Lumo_032_6259.jpg: 640x640 3 Cs, 8.2ms\n",
      "image 132/277 /scratch/project_2006327/YOLOv8/datasets/2024_datasets/scenario_3/test_data/images/test/Lumo_032_6260.jpg: 640x640 9 Cs, 8.2ms\n",
      "image 133/277 /scratch/project_2006327/YOLOv8/datasets/2024_datasets/scenario_3/test_data/images/test/Lumo_049_115.jpg: 640x640 2 Cs, 8.2ms\n",
      "image 134/277 /scratch/project_2006327/YOLOv8/datasets/2024_datasets/scenario_3/test_data/images/test/Lumo_049_117.jpg: 640x640 6 Cs, 8.2ms\n",
      "image 135/277 /scratch/project_2006327/YOLOv8/datasets/2024_datasets/scenario_3/test_data/images/test/Lumo_049_118.jpg: 640x640 14 Cs, 8.2ms\n",
      "image 136/277 /scratch/project_2006327/YOLOv8/datasets/2024_datasets/scenario_3/test_data/images/test/Lumo_049_119.jpg: 640x640 30 Cs, 8.2ms\n",
      "image 137/277 /scratch/project_2006327/YOLOv8/datasets/2024_datasets/scenario_3/test_data/images/test/Lumo_049_1416.jpg: 640x640 5 Cs, 8.2ms\n",
      "image 138/277 /scratch/project_2006327/YOLOv8/datasets/2024_datasets/scenario_3/test_data/images/test/Lumo_049_1417.jpg: 640x640 4 Cs, 8.2ms\n",
      "image 139/277 /scratch/project_2006327/YOLOv8/datasets/2024_datasets/scenario_3/test_data/images/test/Lumo_049_1517.jpg: 640x640 12 Cs, 8.2ms\n",
      "image 140/277 /scratch/project_2006327/YOLOv8/datasets/2024_datasets/scenario_3/test_data/images/test/Lumo_049_1518.jpg: 640x640 58 Cs, 8.2ms\n",
      "image 141/277 /scratch/project_2006327/YOLOv8/datasets/2024_datasets/scenario_3/test_data/images/test/Lumo_049_1519.jpg: 640x640 1 C, 8.1ms\n",
      "image 142/277 /scratch/project_2006327/YOLOv8/datasets/2024_datasets/scenario_3/test_data/images/test/Lumo_049_1618.jpg: 640x640 15 Cs, 8.2ms\n",
      "image 143/277 /scratch/project_2006327/YOLOv8/datasets/2024_datasets/scenario_3/test_data/images/test/Lumo_049_1619.jpg: 640x640 5 Cs, 8.2ms\n",
      "image 144/277 /scratch/project_2006327/YOLOv8/datasets/2024_datasets/scenario_3/test_data/images/test/Lumo_049_1620.jpg: 640x640 1 C, 8.2ms\n",
      "image 145/277 /scratch/project_2006327/YOLOv8/datasets/2024_datasets/scenario_3/test_data/images/test/Lumo_049_1826.jpg: 640x640 11 Cs, 8.2ms\n",
      "image 146/277 /scratch/project_2006327/YOLOv8/datasets/2024_datasets/scenario_3/test_data/images/test/Lumo_049_1827.jpg: 640x640 26 Cs, 8.2ms\n",
      "image 147/277 /scratch/project_2006327/YOLOv8/datasets/2024_datasets/scenario_3/test_data/images/test/Lumo_049_1927.jpg: 640x640 6 Cs, 8.2ms\n",
      "image 148/277 /scratch/project_2006327/YOLOv8/datasets/2024_datasets/scenario_3/test_data/images/test/Lumo_049_1928.jpg: 640x640 11 Cs, 8.2ms\n",
      "image 149/277 /scratch/project_2006327/YOLOv8/datasets/2024_datasets/scenario_3/test_data/images/test/Lumo_049_2029.jpg: 640x640 14 Cs, 8.2ms\n",
      "image 150/277 /scratch/project_2006327/YOLOv8/datasets/2024_datasets/scenario_3/test_data/images/test/Lumo_049_2030.jpg: 640x640 5 Cs, 8.2ms\n",
      "image 151/277 /scratch/project_2006327/YOLOv8/datasets/2024_datasets/scenario_3/test_data/images/test/Lumo_049_218.jpg: 640x640 1 C, 8.2ms\n",
      "image 152/277 /scratch/project_2006327/YOLOv8/datasets/2024_datasets/scenario_3/test_data/images/test/Lumo_049_220.jpg: 640x640 3 Cs, 8.2ms\n",
      "image 153/277 /scratch/project_2006327/YOLOv8/datasets/2024_datasets/scenario_3/test_data/images/test/Lumo_069_1049.jpg: 640x640 5 Cs, 8.2ms\n",
      "image 154/277 /scratch/project_2006327/YOLOv8/datasets/2024_datasets/scenario_3/test_data/images/test/Lumo_069_1050.jpg: 640x640 6 Cs, 8.2ms\n",
      "image 155/277 /scratch/project_2006327/YOLOv8/datasets/2024_datasets/scenario_3/test_data/images/test/Lumo_069_543.jpg: 640x640 11 Cs, 8.2ms\n",
      "image 156/277 /scratch/project_2006327/YOLOv8/datasets/2024_datasets/scenario_3/test_data/images/test/Lumo_069_644.jpg: 640x640 21 Cs, 8.2ms\n",
      "image 157/277 /scratch/project_2006327/YOLOv8/datasets/2024_datasets/scenario_3/test_data/images/test/Lumo_069_744.jpg: 640x640 9 Cs, 8.2ms\n",
      "image 158/277 /scratch/project_2006327/YOLOv8/datasets/2024_datasets/scenario_3/test_data/images/test/Lumo_069_745.jpg: 640x640 12 Cs, 8.2ms\n",
      "image 159/277 /scratch/project_2006327/YOLOv8/datasets/2024_datasets/scenario_3/test_data/images/test/Lumo_069_746.jpg: 640x640 12 Cs, 8.2ms\n",
      "image 160/277 /scratch/project_2006327/YOLOv8/datasets/2024_datasets/scenario_3/test_data/images/test/Lumo_069_844.jpg: 640x640 4 Cs, 8.3ms\n",
      "image 161/277 /scratch/project_2006327/YOLOv8/datasets/2024_datasets/scenario_3/test_data/images/test/Lumo_069_845.jpg: 640x640 7 Cs, 8.2ms\n",
      "image 162/277 /scratch/project_2006327/YOLOv8/datasets/2024_datasets/scenario_3/test_data/images/test/Lumo_069_846.jpg: 640x640 25 Cs, 8.2ms\n",
      "image 163/277 /scratch/project_2006327/YOLOv8/datasets/2024_datasets/scenario_3/test_data/images/test/Lumo_069_847.jpg: 640x640 10 Cs, 8.2ms\n",
      "image 164/277 /scratch/project_2006327/YOLOv8/datasets/2024_datasets/scenario_3/test_data/images/test/Lumo_069_848.jpg: 640x640 1 C, 8.2ms\n",
      "image 165/277 /scratch/project_2006327/YOLOv8/datasets/2024_datasets/scenario_3/test_data/images/test/Lumo_069_946.jpg: 640x640 10 Cs, 8.2ms\n",
      "image 166/277 /scratch/project_2006327/YOLOv8/datasets/2024_datasets/scenario_3/test_data/images/test/Lumo_069_947.jpg: 640x640 12 Cs, 8.2ms\n",
      "image 167/277 /scratch/project_2006327/YOLOv8/datasets/2024_datasets/scenario_3/test_data/images/test/Lumo_069_948.jpg: 640x640 33 Cs, 8.2ms\n",
      "image 168/277 /scratch/project_2006327/YOLOv8/datasets/2024_datasets/scenario_3/test_data/images/test/Lumo_069_949.jpg: 640x640 16 Cs, 8.3ms\n",
      "image 169/277 /scratch/project_2006327/YOLOv8/datasets/2024_datasets/scenario_3/test_data/images/test/Lumo_091_1117.jpg: 640x640 4 Cs, 8.2ms\n",
      "image 170/277 /scratch/project_2006327/YOLOv8/datasets/2024_datasets/scenario_3/test_data/images/test/Lumo_091_1216.jpg: 640x640 3 Cs, 8.1ms\n",
      "image 171/277 /scratch/project_2006327/YOLOv8/datasets/2024_datasets/scenario_3/test_data/images/test/Lumo_091_1217.jpg: 640x640 9 Cs, 8.2ms\n",
      "image 172/277 /scratch/project_2006327/YOLOv8/datasets/2024_datasets/scenario_3/test_data/images/test/Lumo_091_1218.jpg: 640x640 16 Cs, 8.2ms\n",
      "image 173/277 /scratch/project_2006327/YOLOv8/datasets/2024_datasets/scenario_3/test_data/images/test/Lumo_091_127.jpg: 640x640 20 Cs, 8.2ms\n",
      "image 174/277 /scratch/project_2006327/YOLOv8/datasets/2024_datasets/scenario_3/test_data/images/test/Lumo_091_128.jpg: 640x640 10 Cs, 8.2ms\n",
      "image 175/277 /scratch/project_2006327/YOLOv8/datasets/2024_datasets/scenario_3/test_data/images/test/Lumo_091_1314.jpg: 640x640 1 C, 8.1ms\n",
      "image 176/277 /scratch/project_2006327/YOLOv8/datasets/2024_datasets/scenario_3/test_data/images/test/Lumo_091_1317.jpg: 640x640 5 Cs, 8.2ms\n",
      "image 177/277 /scratch/project_2006327/YOLOv8/datasets/2024_datasets/scenario_3/test_data/images/test/Lumo_091_1318.jpg: 640x640 4 Cs, 8.2ms\n",
      "image 178/277 /scratch/project_2006327/YOLOv8/datasets/2024_datasets/scenario_3/test_data/images/test/Lumo_091_1319.jpg: 640x640 3 Cs, 8.2ms\n",
      "image 179/277 /scratch/project_2006327/YOLOv8/datasets/2024_datasets/scenario_3/test_data/images/test/Lumo_091_227.jpg: 640x640 12 Cs, 8.2ms\n",
      "image 180/277 /scratch/project_2006327/YOLOv8/datasets/2024_datasets/scenario_3/test_data/images/test/Lumo_091_228.jpg: 640x640 41 Cs, 8.2ms\n",
      "image 181/277 /scratch/project_2006327/YOLOv8/datasets/2024_datasets/scenario_3/test_data/images/test/Lumo_091_229.jpg: 640x640 7 Cs, 8.2ms\n",
      "image 182/277 /scratch/project_2006327/YOLOv8/datasets/2024_datasets/scenario_3/test_data/images/test/Lumo_091_327.jpg: 640x640 3 Cs, 8.2ms\n",
      "image 183/277 /scratch/project_2006327/YOLOv8/datasets/2024_datasets/scenario_3/test_data/images/test/Lumo_091_328.jpg: 640x640 3 Cs, 8.2ms\n",
      "image 184/277 /scratch/project_2006327/YOLOv8/datasets/2024_datasets/scenario_3/test_data/images/test/Lumo_091_427.jpg: 640x640 6 Cs, 8.2ms\n",
      "image 185/277 /scratch/project_2006327/YOLOv8/datasets/2024_datasets/scenario_3/test_data/images/test/Lumo_091_428.jpg: 640x640 9 Cs, 8.2ms\n",
      "image 186/277 /scratch/project_2006327/YOLOv8/datasets/2024_datasets/scenario_3/test_data/images/test/Lumo_091_528.jpg: 640x640 15 Cs, 8.2ms\n",
      "image 187/277 /scratch/project_2006327/YOLOv8/datasets/2024_datasets/scenario_3/test_data/images/test/THW_097_3559.jpg: 640x640 4 Cs, 8.2ms\n",
      "image 188/277 /scratch/project_2006327/YOLOv8/datasets/2024_datasets/scenario_3/test_data/images/test/THW_097_3560.jpg: 640x640 26 Cs, 8.2ms\n",
      "image 189/277 /scratch/project_2006327/YOLOv8/datasets/2024_datasets/scenario_3/test_data/images/test/THW_097_3561.jpg: 640x640 7 Cs, 8.2ms\n",
      "image 190/277 /scratch/project_2006327/YOLOv8/datasets/2024_datasets/scenario_3/test_data/images/test/THW_097_3562.jpg: 640x640 2 Cs, 8.2ms\n",
      "image 191/277 /scratch/project_2006327/YOLOv8/datasets/2024_datasets/scenario_3/test_data/images/test/THW_097_3659.jpg: 640x640 13 Cs, 8.2ms\n",
      "image 192/277 /scratch/project_2006327/YOLOv8/datasets/2024_datasets/scenario_3/test_data/images/test/THW_097_3660.jpg: 640x640 4 Cs, 8.2ms\n",
      "image 193/277 /scratch/project_2006327/YOLOv8/datasets/2024_datasets/scenario_3/test_data/images/test/THW_097_3661.jpg: 640x640 12 Cs, 8.2ms\n",
      "image 194/277 /scratch/project_2006327/YOLOv8/datasets/2024_datasets/scenario_3/test_data/images/test/THW_097_3662.jpg: 640x640 21 Cs, 8.2ms\n",
      "image 195/277 /scratch/project_2006327/YOLOv8/datasets/2024_datasets/scenario_3/test_data/images/test/THW_097_3663.jpg: 640x640 8 Cs, 8.3ms\n",
      "image 196/277 /scratch/project_2006327/YOLOv8/datasets/2024_datasets/scenario_3/test_data/images/test/THW_097_3758.jpg: 640x640 2 Cs, 8.2ms\n",
      "image 197/277 /scratch/project_2006327/YOLOv8/datasets/2024_datasets/scenario_3/test_data/images/test/THW_097_3759.jpg: 640x640 11 Cs, 8.2ms\n",
      "image 198/277 /scratch/project_2006327/YOLOv8/datasets/2024_datasets/scenario_3/test_data/images/test/THW_097_3760.jpg: 640x640 3 Cs, 8.2ms\n",
      "image 199/277 /scratch/project_2006327/YOLOv8/datasets/2024_datasets/scenario_3/test_data/images/test/THW_097_3761.jpg: 640x640 5 Cs, 8.2ms\n",
      "image 200/277 /scratch/project_2006327/YOLOv8/datasets/2024_datasets/scenario_3/test_data/images/test/THW_097_3763.jpg: 640x640 2 Cs, 8.2ms\n",
      "image 201/277 /scratch/project_2006327/YOLOv8/datasets/2024_datasets/scenario_3/test_data/images/test/THW_097_3860.jpg: 640x640 1 C, 8.2ms\n",
      "image 202/277 /scratch/project_2006327/YOLOv8/datasets/2024_datasets/scenario_3/test_data/images/test/THW_097_3962.jpg: 640x640 1 C, 8.2ms\n",
      "image 203/277 /scratch/project_2006327/YOLOv8/datasets/2024_datasets/scenario_3/test_data/images/test/THW_097_3987.jpg: 640x640 6 Cs, 8.2ms\n",
      "image 204/277 /scratch/project_2006327/YOLOv8/datasets/2024_datasets/scenario_3/test_data/images/test/THW_097_3988.jpg: 640x640 11 Cs, 8.2ms\n",
      "image 205/277 /scratch/project_2006327/YOLOv8/datasets/2024_datasets/scenario_3/test_data/images/test/THW_097_4063.jpg: 640x640 2 Cs, 8.2ms\n",
      "image 206/277 /scratch/project_2006327/YOLOv8/datasets/2024_datasets/scenario_3/test_data/images/test/THW_097_4064.jpg: 640x640 2 Cs, 8.2ms\n",
      "image 207/277 /scratch/project_2006327/YOLOv8/datasets/2024_datasets/scenario_3/test_data/images/test/THW_097_4088.jpg: 640x640 31 Cs, 8.2ms\n",
      "image 208/277 /scratch/project_2006327/YOLOv8/datasets/2024_datasets/scenario_3/test_data/images/test/THW_097_4089.jpg: 640x640 32 Cs, 8.2ms\n",
      "image 209/277 /scratch/project_2006327/YOLOv8/datasets/2024_datasets/scenario_3/test_data/images/test/THW_097_4188.jpg: 640x640 1 C, 8.2ms\n",
      "image 210/277 /scratch/project_2006327/YOLOv8/datasets/2024_datasets/scenario_3/test_data/images/test/THW_097_4189.jpg: 640x640 12 Cs, 8.2ms\n",
      "image 211/277 /scratch/project_2006327/YOLOv8/datasets/2024_datasets/scenario_3/test_data/images/test/THW_097_4190.jpg: 640x640 7 Cs, 8.2ms\n",
      "image 212/277 /scratch/project_2006327/YOLOv8/datasets/2024_datasets/scenario_3/test_data/images/test/THW_097_4290.jpg: 640x640 2 Cs, 8.2ms\n",
      "image 213/277 /scratch/project_2006327/YOLOv8/datasets/2024_datasets/scenario_3/test_data/images/test/THW_097_4292.jpg: 640x640 5 Cs, 8.2ms\n",
      "image 214/277 /scratch/project_2006327/YOLOv8/datasets/2024_datasets/scenario_3/test_data/images/test/THW_097_4393.jpg: 640x640 (no detections), 8.2ms\n",
      "image 215/277 /scratch/project_2006327/YOLOv8/datasets/2024_datasets/scenario_3/test_data/images/test/THW_097_5078.jpg: 640x640 17 Cs, 8.2ms\n",
      "image 216/277 /scratch/project_2006327/YOLOv8/datasets/2024_datasets/scenario_3/test_data/images/test/THW_097_5079.jpg: 640x640 16 Cs, 8.2ms\n",
      "image 217/277 /scratch/project_2006327/YOLOv8/datasets/2024_datasets/scenario_3/test_data/images/test/THW_097_5179.jpg: 640x640 7 Cs, 8.2ms\n",
      "image 218/277 /scratch/project_2006327/YOLOv8/datasets/2024_datasets/scenario_3/test_data/images/test/THW_097_5180.jpg: 640x640 6 Cs, 8.2ms\n",
      "image 219/277 /scratch/project_2006327/YOLOv8/datasets/2024_datasets/scenario_3/test_data/images/test/THW_097_5181.jpg: 640x640 (no detections), 8.2ms\n",
      "image 220/277 /scratch/project_2006327/YOLOv8/datasets/2024_datasets/scenario_3/test_data/images/test/THW_097_5280.jpg: 640x640 4 Cs, 8.2ms\n",
      "image 221/277 /scratch/project_2006327/YOLOv8/datasets/2024_datasets/scenario_3/test_data/images/test/THW_097_5281.jpg: 640x640 12 Cs, 8.3ms\n",
      "image 222/277 /scratch/project_2006327/YOLOv8/datasets/2024_datasets/scenario_3/test_data/images/test/THW_097_5382.jpg: 640x640 11 Cs, 8.2ms\n",
      "image 223/277 /scratch/project_2006327/YOLOv8/datasets/2024_datasets/scenario_3/test_data/images/test/THW_097_5383.jpg: 640x640 9 Cs, 8.2ms\n",
      "image 224/277 /scratch/project_2006327/YOLOv8/datasets/2024_datasets/scenario_3/test_data/images/test/THW_097_5483.jpg: 640x640 17 Cs, 8.2ms\n",
      "image 225/277 /scratch/project_2006327/YOLOv8/datasets/2024_datasets/scenario_3/test_data/images/test/THW_097_5484.jpg: 640x640 22 Cs, 8.2ms\n",
      "image 226/277 /scratch/project_2006327/YOLOv8/datasets/2024_datasets/scenario_3/test_data/images/test/THW_097_5485.jpg: 640x640 4 Cs, 8.2ms\n",
      "image 227/277 /scratch/project_2006327/YOLOv8/datasets/2024_datasets/scenario_3/test_data/images/test/THW_097_5584.jpg: 640x640 7 Cs, 8.2ms\n",
      "image 228/277 /scratch/project_2006327/YOLOv8/datasets/2024_datasets/scenario_3/test_data/images/test/THW_097_5585.jpg: 640x640 4 Cs, 8.2ms\n",
      "image 229/277 /scratch/project_2006327/YOLOv8/datasets/2024_datasets/scenario_3/test_data/images/test/THW_097_8272.jpg: 640x640 1 C, 8.2ms\n",
      "image 230/277 /scratch/project_2006327/YOLOv8/datasets/2024_datasets/scenario_3/test_data/images/test/THW_097_8273.jpg: 640x640 12 Cs, 8.2ms\n",
      "image 231/277 /scratch/project_2006327/YOLOv8/datasets/2024_datasets/scenario_3/test_data/images/test/THW_097_8274.jpg: 640x640 14 Cs, 8.2ms\n",
      "image 232/277 /scratch/project_2006327/YOLOv8/datasets/2024_datasets/scenario_3/test_data/images/test/THW_097_8303.jpg: 640x640 3 Cs, 8.3ms\n",
      "image 233/277 /scratch/project_2006327/YOLOv8/datasets/2024_datasets/scenario_3/test_data/images/test/THW_097_8304.jpg: 640x640 23 Cs, 8.2ms\n",
      "image 234/277 /scratch/project_2006327/YOLOv8/datasets/2024_datasets/scenario_3/test_data/images/test/THW_097_8305.jpg: 640x640 16 Cs, 8.2ms\n",
      "image 235/277 /scratch/project_2006327/YOLOv8/datasets/2024_datasets/scenario_3/test_data/images/test/THW_097_8404.jpg: 640x640 8 Cs, 8.2ms\n",
      "image 236/277 /scratch/project_2006327/YOLOv8/datasets/2024_datasets/scenario_3/test_data/images/test/THW_097_8405.jpg: 640x640 13 Cs, 8.2ms\n",
      "image 237/277 /scratch/project_2006327/YOLOv8/datasets/2024_datasets/scenario_3/test_data/images/test/THW_097_8406.jpg: 640x640 2 Cs, 8.2ms\n",
      "image 238/277 /scratch/project_2006327/YOLOv8/datasets/2024_datasets/scenario_3/test_data/images/test/THW_097_8506.jpg: 640x640 6 Cs, 8.2ms\n",
      "image 239/277 /scratch/project_2006327/YOLOv8/datasets/2024_datasets/scenario_3/test_data/images/test/THW_097_8607.jpg: 640x640 13 Cs, 8.2ms\n",
      "image 240/277 /scratch/project_2006327/YOLOv8/datasets/2024_datasets/scenario_3/test_data/images/test/THW_097_9307.jpg: 640x640 1 C, 8.2ms\n",
      "image 241/277 /scratch/project_2006327/YOLOv8/datasets/2024_datasets/scenario_3/test_data/images/test/THW_097_9689.jpg: 640x640 8 Cs, 8.2ms\n",
      "image 242/277 /scratch/project_2006327/YOLOv8/datasets/2024_datasets/scenario_3/test_data/images/test/THW_113_10028.jpg: 640x640 14 Cs, 8.2ms\n",
      "image 243/277 /scratch/project_2006327/YOLOv8/datasets/2024_datasets/scenario_3/test_data/images/test/THW_113_4618.jpg: 640x640 7 Cs, 8.2ms\n",
      "image 244/277 /scratch/project_2006327/YOLOv8/datasets/2024_datasets/scenario_3/test_data/images/test/THW_113_4619.jpg: 640x640 2 Cs, 8.1ms\n",
      "image 245/277 /scratch/project_2006327/YOLOv8/datasets/2024_datasets/scenario_3/test_data/images/test/THW_113_4720.jpg: 640x640 1 C, 8.2ms\n",
      "image 246/277 /scratch/project_2006327/YOLOv8/datasets/2024_datasets/scenario_3/test_data/images/test/THW_113_4721.jpg: 640x640 1 C, 8.3ms\n",
      "image 247/277 /scratch/project_2006327/YOLOv8/datasets/2024_datasets/scenario_3/test_data/images/test/THW_113_5852.jpg: 640x640 5 Cs, 8.2ms\n",
      "image 248/277 /scratch/project_2006327/YOLOv8/datasets/2024_datasets/scenario_3/test_data/images/test/THW_113_5853.jpg: 640x640 11 Cs, 8.2ms\n",
      "image 249/277 /scratch/project_2006327/YOLOv8/datasets/2024_datasets/scenario_3/test_data/images/test/THW_113_5854.jpg: 640x640 1 C, 8.2ms\n",
      "image 250/277 /scratch/project_2006327/YOLOv8/datasets/2024_datasets/scenario_3/test_data/images/test/THW_113_5952.jpg: 640x640 12 Cs, 8.3ms\n",
      "image 251/277 /scratch/project_2006327/YOLOv8/datasets/2024_datasets/scenario_3/test_data/images/test/THW_113_5953.jpg: 640x640 11 Cs, 8.2ms\n",
      "image 252/277 /scratch/project_2006327/YOLOv8/datasets/2024_datasets/scenario_3/test_data/images/test/THW_113_5954.jpg: 640x640 6 Cs, 8.2ms\n",
      "image 253/277 /scratch/project_2006327/YOLOv8/datasets/2024_datasets/scenario_3/test_data/images/test/THW_113_5955.jpg: 640x640 4 Cs, 8.2ms\n",
      "image 254/277 /scratch/project_2006327/YOLOv8/datasets/2024_datasets/scenario_3/test_data/images/test/THW_113_5956.jpg: 640x640 2 Cs, 8.2ms\n",
      "image 255/277 /scratch/project_2006327/YOLOv8/datasets/2024_datasets/scenario_3/test_data/images/test/THW_113_6052.jpg: 640x640 2 Cs, 8.2ms\n",
      "image 256/277 /scratch/project_2006327/YOLOv8/datasets/2024_datasets/scenario_3/test_data/images/test/THW_113_6053.jpg: 640x640 12 Cs, 8.2ms\n",
      "image 257/277 /scratch/project_2006327/YOLOv8/datasets/2024_datasets/scenario_3/test_data/images/test/THW_113_6054.jpg: 640x640 3 Cs, 8.2ms\n",
      "image 258/277 /scratch/project_2006327/YOLOv8/datasets/2024_datasets/scenario_3/test_data/images/test/THW_113_6153.jpg: 640x640 8 Cs, 8.2ms\n",
      "image 259/277 /scratch/project_2006327/YOLOv8/datasets/2024_datasets/scenario_3/test_data/images/test/THW_113_6154.jpg: 640x640 11 Cs, 8.2ms\n",
      "image 260/277 /scratch/project_2006327/YOLOv8/datasets/2024_datasets/scenario_3/test_data/images/test/THW_113_6155.jpg: 640x640 4 Cs, 8.2ms\n",
      "image 261/277 /scratch/project_2006327/YOLOv8/datasets/2024_datasets/scenario_3/test_data/images/test/THW_113_6253.jpg: 640x640 5 Cs, 8.2ms\n",
      "image 262/277 /scratch/project_2006327/YOLOv8/datasets/2024_datasets/scenario_3/test_data/images/test/THW_113_6254.jpg: 640x640 4 Cs, 8.2ms\n",
      "image 263/277 /scratch/project_2006327/YOLOv8/datasets/2024_datasets/scenario_3/test_data/images/test/THW_113_6255.jpg: 640x640 3 Cs, 8.2ms\n",
      "image 264/277 /scratch/project_2006327/YOLOv8/datasets/2024_datasets/scenario_3/test_data/images/test/THW_113_6256.jpg: 640x640 3 Cs, 8.2ms\n",
      "image 265/277 /scratch/project_2006327/YOLOv8/datasets/2024_datasets/scenario_3/test_data/images/test/THW_113_6257.jpg: 640x640 1 C, 8.2ms\n",
      "image 266/277 /scratch/project_2006327/YOLOv8/datasets/2024_datasets/scenario_3/test_data/images/test/THW_113_6355.jpg: 640x640 3 Cs, 8.2ms\n",
      "image 267/277 /scratch/project_2006327/YOLOv8/datasets/2024_datasets/scenario_3/test_data/images/test/THW_113_6356.jpg: 640x640 2 Cs, 8.2ms\n",
      "image 268/277 /scratch/project_2006327/YOLOv8/datasets/2024_datasets/scenario_3/test_data/images/test/THW_113_6357.jpg: 640x640 2 Cs, 8.2ms\n",
      "image 269/277 /scratch/project_2006327/YOLOv8/datasets/2024_datasets/scenario_3/test_data/images/test/THW_113_9625.jpg: 640x640 5 Cs, 8.2ms\n",
      "image 270/277 /scratch/project_2006327/YOLOv8/datasets/2024_datasets/scenario_3/test_data/images/test/THW_120_8924.jpg: 640x640 5 Cs, 8.2ms\n",
      "image 271/277 /scratch/project_2006327/YOLOv8/datasets/2024_datasets/scenario_3/test_data/images/test/THW_120_8925.jpg: 640x640 3 Cs, 8.2ms\n",
      "image 272/277 /scratch/project_2006327/YOLOv8/datasets/2024_datasets/scenario_3/test_data/images/test/THW_120_9024.jpg: 640x640 1 C, 8.2ms\n",
      "image 273/277 /scratch/project_2006327/YOLOv8/datasets/2024_datasets/scenario_3/test_data/images/test/THW_120_9025.jpg: 640x640 21 Cs, 8.2ms\n",
      "image 274/277 /scratch/project_2006327/YOLOv8/datasets/2024_datasets/scenario_3/test_data/images/test/THW_120_9026.jpg: 640x640 20 Cs, 8.2ms\n",
      "image 275/277 /scratch/project_2006327/YOLOv8/datasets/2024_datasets/scenario_3/test_data/images/test/THW_120_9126.jpg: 640x640 18 Cs, 8.2ms\n",
      "image 276/277 /scratch/project_2006327/YOLOv8/datasets/2024_datasets/scenario_3/test_data/images/test/THW_120_9127.jpg: 640x640 10 Cs, 8.2ms\n",
      "image 277/277 /scratch/project_2006327/YOLOv8/datasets/2024_datasets/scenario_3/test_data/images/test/THW_120_9227.jpg: 640x640 1 C, 8.2ms\n",
      "Speed: 1.6ms preprocess, 8.3ms inference, 0.8ms postprocess per image at shape (1, 3, 640, 640)\n",
      "Results saved to \u001b[1minference/Combined_data_2024/count/medium\u001b[0m\n"
     ]
    }
   ],
   "source": [
    "!yolo predict model=runs/detect/train3/weights/best.pt source='/scratch/project_2006327/YOLOv8/datasets/2024_datasets/scenario_3/test_data/images/test' conf=0.25 iou=0.5 project=inference/Combined_data_2024/count name=medium show_labels=False line_width=1"
   ]
  },
  {
   "cell_type": "markdown",
   "id": "e5dd5f72-d22a-490f-8629-6eaa32c03186",
   "metadata": {},
   "source": [
    "## YOLOv8L"
   ]
  },
  {
   "cell_type": "markdown",
   "id": "a7704544-d0c3-4983-b75e-fc040c0d53af",
   "metadata": {},
   "source": [
    "### Validation"
   ]
  },
  {
   "cell_type": "code",
   "execution_count": 8,
   "id": "6eb5416a-1ed1-441e-b428-2357160d254e",
   "metadata": {},
   "outputs": [
    {
     "name": "stderr",
     "output_type": "stream",
     "text": [
      "Ultralytics YOLOv8.0.157 🚀 Python-3.10.0 torch-2.0.1+cu117 CUDA:0 (Tesla V100-SXM2-32GB, 32501MiB)\n",
      "Model summary (fused): 268 layers, 43607379 parameters, 0 gradients\n",
      "\u001b[34m\u001b[1mval: \u001b[0mScanning /scratch/project_2006327/YOLOv8/datasets/2024_datasets/scenario_3/train_data/labels/val.cache... 1604 images, 0 backgrounds, 0 corrupt: 100%|██████████| 1604/1604 [00:00<?, ?it/s]\n",
      "/CSC_CONTAINER/miniconda/envs/env1/lib/python3.10/site-packages/torch/utils/data/dataloader.py:560: UserWarning: This DataLoader will create 8 worker processes in total. Our suggested max number of worker in current system is 3, which is smaller than what this DataLoader is going to create. Please be aware that excessive worker creation might get DataLoader running slow or even freeze, lower the worker number to avoid potential slowness/freeze if necessary.\n",
      "  warnings.warn(_create_warning_msg(\n",
      "                 Class     Images  Instances      Box(P          R      mAP50  mAP50-95): 100%|██████████| 101/101 [00:25<00:00,  3.97it/s]\n",
      "                   all       1604      15091      0.912      0.877      0.933      0.462\n",
      "Speed: 0.2ms preprocess, 10.9ms inference, 0.0ms loss, 0.5ms postprocess per image\n",
      "Results saved to \u001b[1mruns/detect/val3\u001b[0m\n"
     ]
    },
    {
     "data": {
      "text/plain": [
       "array([    0.46176])"
      ]
     },
     "execution_count": 8,
     "metadata": {},
     "output_type": "execute_result"
    }
   ],
   "source": [
    "#load a best weight\n",
    "model = YOLO('runs/detect/train2/weights/best.pt') #load a custom model\n",
    "\n",
    "#validate the model\n",
    "metrics = model.val() #no arguments needed, dataset and settings remembered\n",
    "metrics.box.map #map50-95\n",
    "metrics.box.maps # a list contains map50-95 of each category"
   ]
  },
  {
   "cell_type": "markdown",
   "id": "7da0648f-b739-4ad9-b800-fedfb706ff25",
   "metadata": {},
   "source": [
    "### Plot F1-score"
   ]
  },
  {
   "cell_type": "code",
   "execution_count": null,
   "id": "d960c17d-c826-4ac1-8eb1-588c740ead01",
   "metadata": {},
   "outputs": [],
   "source": [
    "Image(filename = 'runs/detect/val3/F1_curve.png', width =640)"
   ]
  },
  {
   "cell_type": "markdown",
   "id": "d9b05cb0-ce2d-4def-95c0-1d2c483d4c97",
   "metadata": {},
   "source": [
    "### Inference\n"
   ]
  },
  {
   "cell_type": "markdown",
   "id": "6cf7b0ee-a621-40d0-96aa-5b3d9e5516a2",
   "metadata": {},
   "source": [
    "#### Combined test"
   ]
  },
  {
   "cell_type": "code",
   "execution_count": 9,
   "id": "918e3ce3-3d39-4253-9bf5-495b3beed82c",
   "metadata": {},
   "outputs": [
    {
     "name": "stdout",
     "output_type": "stream",
     "text": [
      "Ultralytics YOLOv8.0.157 🚀 Python-3.10.0 torch-2.0.1+cu117 CUDA:0 (Tesla V100-SXM2-32GB, 32501MiB)\n",
      "Model summary (fused): 268 layers, 43607379 parameters, 0 gradients\n",
      "\u001b[34m\u001b[1mval: \u001b[0mScanning /scratch/project_2006327/YOLOv8/datasets/2024_datasets/scenario_3/\u001b[0m\n",
      "/CSC_CONTAINER/miniconda/envs/env1/lib/python3.10/site-packages/torch/utils/data/dataloader.py:560: UserWarning: This DataLoader will create 8 worker processes in total. Our suggested max number of worker in current system is 3, which is smaller than what this DataLoader is going to create. Please be aware that excessive worker creation might get DataLoader running slow or even freeze, lower the worker number to avoid potential slowness/freeze if necessary.\n",
      "  warnings.warn(_create_warning_msg(\n",
      "                 Class     Images  Instances      Box(P          R      mAP50  m\n",
      "                   all        277       2642      0.914      0.836      0.891      0.393\n",
      "Speed: 0.5ms preprocess, 11.0ms inference, 0.0ms loss, 0.4ms postprocess per image\n",
      "Results saved to \u001b[1minference/Combined_data_2024/metrics/large\u001b[0m\n"
     ]
    }
   ],
   "source": [
    "!yolo val model=runs/detect/train2/weights/best.pt data=s3_test_2024.yaml conf=0.25 iou=0.5 project=inference/Combined_data_2024/metrics name=large"
   ]
  },
  {
   "cell_type": "code",
   "execution_count": 5,
   "id": "850a9410-9cdb-4693-90bf-800d6b18a91d",
   "metadata": {
    "scrolled": true
   },
   "outputs": [
    {
     "name": "stdout",
     "output_type": "stream",
     "text": [
      "Ultralytics YOLOv8.0.157 🚀 Python-3.10.0 torch-2.0.1+cu117 CUDA:0 (Tesla V100-SXM2-32GB, 32501MiB)\n",
      "Model summary (fused): 268 layers, 43607379 parameters, 0 gradients\n",
      "\n",
      "image 1/277 /scratch/project_2006327/YOLOv8/datasets/2024_datasets/scenario_3/test_data/images/test/Choke_113_4451.jpg: 640x640 1 C, 15.9ms\n",
      "image 2/277 /scratch/project_2006327/YOLOv8/datasets/2024_datasets/scenario_3/test_data/images/test/Choke_113_4452.jpg: 640x640 20 Cs, 15.9ms\n",
      "image 3/277 /scratch/project_2006327/YOLOv8/datasets/2024_datasets/scenario_3/test_data/images/test/Choke_113_4453.jpg: 640x640 15 Cs, 16.0ms\n",
      "image 4/277 /scratch/project_2006327/YOLOv8/datasets/2024_datasets/scenario_3/test_data/images/test/Choke_113_4454.jpg: 640x640 14 Cs, 15.9ms\n",
      "image 5/277 /scratch/project_2006327/YOLOv8/datasets/2024_datasets/scenario_3/test_data/images/test/Choke_113_4552.jpg: 640x640 1 C, 16.0ms\n",
      "image 6/277 /scratch/project_2006327/YOLOv8/datasets/2024_datasets/scenario_3/test_data/images/test/Choke_113_4553.jpg: 640x640 13 Cs, 15.9ms\n",
      "image 7/277 /scratch/project_2006327/YOLOv8/datasets/2024_datasets/scenario_3/test_data/images/test/Choke_113_4554.jpg: 640x640 42 Cs, 16.0ms\n",
      "image 8/277 /scratch/project_2006327/YOLOv8/datasets/2024_datasets/scenario_3/test_data/images/test/Choke_113_4555.jpg: 640x640 18 Cs, 15.9ms\n",
      "image 9/277 /scratch/project_2006327/YOLOv8/datasets/2024_datasets/scenario_3/test_data/images/test/Choke_113_4654.jpg: 640x640 12 Cs, 15.9ms\n",
      "image 10/277 /scratch/project_2006327/YOLOv8/datasets/2024_datasets/scenario_3/test_data/images/test/Choke_113_4655.jpg: 640x640 10 Cs, 15.0ms\n",
      "image 11/277 /scratch/project_2006327/YOLOv8/datasets/2024_datasets/scenario_3/test_data/images/test/Choke_113_4856.jpg: 640x640 14 Cs, 14.8ms\n",
      "image 12/277 /scratch/project_2006327/YOLOv8/datasets/2024_datasets/scenario_3/test_data/images/test/Choke_113_4857.jpg: 640x640 10 Cs, 14.8ms\n",
      "image 13/277 /scratch/project_2006327/YOLOv8/datasets/2024_datasets/scenario_3/test_data/images/test/Choke_113_4956.jpg: 640x640 8 Cs, 14.7ms\n",
      "image 14/277 /scratch/project_2006327/YOLOv8/datasets/2024_datasets/scenario_3/test_data/images/test/Choke_113_4957.jpg: 640x640 32 Cs, 14.7ms\n",
      "image 15/277 /scratch/project_2006327/YOLOv8/datasets/2024_datasets/scenario_3/test_data/images/test/Choke_113_4958.jpg: 640x640 11 Cs, 14.7ms\n",
      "image 16/277 /scratch/project_2006327/YOLOv8/datasets/2024_datasets/scenario_3/test_data/images/test/Choke_113_5056.jpg: 640x640 6 Cs, 14.8ms\n",
      "image 17/277 /scratch/project_2006327/YOLOv8/datasets/2024_datasets/scenario_3/test_data/images/test/Choke_113_5057.jpg: 640x640 25 Cs, 14.0ms\n",
      "image 18/277 /scratch/project_2006327/YOLOv8/datasets/2024_datasets/scenario_3/test_data/images/test/Choke_113_5058.jpg: 640x640 20 Cs, 14.0ms\n",
      "image 19/277 /scratch/project_2006327/YOLOv8/datasets/2024_datasets/scenario_3/test_data/images/test/Choke_113_5157.jpg: 640x640 1 C, 13.9ms\n",
      "image 20/277 /scratch/project_2006327/YOLOv8/datasets/2024_datasets/scenario_3/test_data/images/test/Choke_113_5158.jpg: 640x640 10 Cs, 13.9ms\n",
      "image 21/277 /scratch/project_2006327/YOLOv8/datasets/2024_datasets/scenario_3/test_data/images/test/Choke_113_5159.jpg: 640x640 6 Cs, 13.9ms\n",
      "image 22/277 /scratch/project_2006327/YOLOv8/datasets/2024_datasets/scenario_3/test_data/images/test/Choke_123_1525.jpg: 640x640 10 Cs, 13.9ms\n",
      "image 23/277 /scratch/project_2006327/YOLOv8/datasets/2024_datasets/scenario_3/test_data/images/test/Choke_123_1526.jpg: 640x640 3 Cs, 14.0ms\n",
      "image 24/277 /scratch/project_2006327/YOLOv8/datasets/2024_datasets/scenario_3/test_data/images/test/Choke_123_1626.jpg: 640x640 7 Cs, 13.9ms\n",
      "image 25/277 /scratch/project_2006327/YOLOv8/datasets/2024_datasets/scenario_3/test_data/images/test/Choke_123_1627.jpg: 640x640 23 Cs, 13.9ms\n",
      "image 26/277 /scratch/project_2006327/YOLOv8/datasets/2024_datasets/scenario_3/test_data/images/test/Choke_123_1724.jpg: 640x640 3 Cs, 13.9ms\n",
      "image 27/277 /scratch/project_2006327/YOLOv8/datasets/2024_datasets/scenario_3/test_data/images/test/Choke_123_1725.jpg: 640x640 4 Cs, 13.8ms\n",
      "image 28/277 /scratch/project_2006327/YOLOv8/datasets/2024_datasets/scenario_3/test_data/images/test/Choke_123_1728.jpg: 640x640 2 Cs, 13.9ms\n",
      "image 29/277 /scratch/project_2006327/YOLOv8/datasets/2024_datasets/scenario_3/test_data/images/test/Choke_123_1820.jpg: 640x640 1 C, 13.9ms\n",
      "image 30/277 /scratch/project_2006327/YOLOv8/datasets/2024_datasets/scenario_3/test_data/images/test/Choke_123_1821.jpg: 640x640 10 Cs, 13.8ms\n",
      "image 31/277 /scratch/project_2006327/YOLOv8/datasets/2024_datasets/scenario_3/test_data/images/test/Choke_123_1826.jpg: 640x640 12 Cs, 13.9ms\n",
      "image 32/277 /scratch/project_2006327/YOLOv8/datasets/2024_datasets/scenario_3/test_data/images/test/Choke_123_1827.jpg: 640x640 2 Cs, 13.9ms\n",
      "image 33/277 /scratch/project_2006327/YOLOv8/datasets/2024_datasets/scenario_3/test_data/images/test/Choke_123_1828.jpg: 640x640 1 C, 13.9ms\n",
      "image 34/277 /scratch/project_2006327/YOLOv8/datasets/2024_datasets/scenario_3/test_data/images/test/Choke_123_1880.jpg: 640x640 3 Cs, 13.8ms\n",
      "image 35/277 /scratch/project_2006327/YOLOv8/datasets/2024_datasets/scenario_3/test_data/images/test/Choke_123_1882.jpg: 640x640 8 Cs, 13.9ms\n",
      "image 36/277 /scratch/project_2006327/YOLOv8/datasets/2024_datasets/scenario_3/test_data/images/test/Choke_123_1921.jpg: 640x640 2 Cs, 13.9ms\n",
      "image 37/277 /scratch/project_2006327/YOLOv8/datasets/2024_datasets/scenario_3/test_data/images/test/Choke_123_1922.jpg: 640x640 11 Cs, 13.9ms\n",
      "image 38/277 /scratch/project_2006327/YOLOv8/datasets/2024_datasets/scenario_3/test_data/images/test/Choke_123_1923.jpg: 640x640 1 C, 13.9ms\n",
      "image 39/277 /scratch/project_2006327/YOLOv8/datasets/2024_datasets/scenario_3/test_data/images/test/Choke_123_1926.jpg: 640x640 3 Cs, 13.9ms\n",
      "image 40/277 /scratch/project_2006327/YOLOv8/datasets/2024_datasets/scenario_3/test_data/images/test/Choke_123_1927.jpg: 640x640 6 Cs, 13.8ms\n",
      "image 41/277 /scratch/project_2006327/YOLOv8/datasets/2024_datasets/scenario_3/test_data/images/test/Choke_123_1928.jpg: 640x640 26 Cs, 13.9ms\n",
      "image 42/277 /scratch/project_2006327/YOLOv8/datasets/2024_datasets/scenario_3/test_data/images/test/Choke_123_1929.jpg: 640x640 19 Cs, 13.9ms\n",
      "image 43/277 /scratch/project_2006327/YOLOv8/datasets/2024_datasets/scenario_3/test_data/images/test/Choke_123_1981.jpg: 640x640 9 Cs, 13.9ms\n",
      "image 44/277 /scratch/project_2006327/YOLOv8/datasets/2024_datasets/scenario_3/test_data/images/test/Choke_123_1982.jpg: 640x640 8 Cs, 13.9ms\n",
      "image 45/277 /scratch/project_2006327/YOLOv8/datasets/2024_datasets/scenario_3/test_data/images/test/Choke_123_1983.jpg: 640x640 10 Cs, 13.8ms\n",
      "image 46/277 /scratch/project_2006327/YOLOv8/datasets/2024_datasets/scenario_3/test_data/images/test/Choke_123_2030.jpg: 640x640 8 Cs, 13.9ms\n",
      "image 47/277 /scratch/project_2006327/YOLOv8/datasets/2024_datasets/scenario_3/test_data/images/test/Choke_123_2082.jpg: 640x640 8 Cs, 13.8ms\n",
      "image 48/277 /scratch/project_2006327/YOLOv8/datasets/2024_datasets/scenario_3/test_data/images/test/Choke_123_2083.jpg: 640x640 8 Cs, 13.8ms\n",
      "image 49/277 /scratch/project_2006327/YOLOv8/datasets/2024_datasets/scenario_3/test_data/images/test/Choke_123_2084.jpg: 640x640 7 Cs, 13.9ms\n",
      "image 50/277 /scratch/project_2006327/YOLOv8/datasets/2024_datasets/scenario_3/test_data/images/test/Choke_123_2183.jpg: 640x640 7 Cs, 13.9ms\n",
      "image 51/277 /scratch/project_2006327/YOLOv8/datasets/2024_datasets/scenario_3/test_data/images/test/Choke_123_2184.jpg: 640x640 2 Cs, 13.9ms\n",
      "image 52/277 /scratch/project_2006327/YOLOv8/datasets/2024_datasets/scenario_3/test_data/images/test/Choke_123_2185.jpg: 640x640 8 Cs, 13.8ms\n",
      "image 53/277 /scratch/project_2006327/YOLOv8/datasets/2024_datasets/scenario_3/test_data/images/test/Choke_123_3499.jpg: 640x640 13 Cs, 13.9ms\n",
      "image 54/277 /scratch/project_2006327/YOLOv8/datasets/2024_datasets/scenario_3/test_data/images/test/Choke_123_3500.jpg: 640x640 23 Cs, 13.8ms\n",
      "image 55/277 /scratch/project_2006327/YOLOv8/datasets/2024_datasets/scenario_3/test_data/images/test/Choke_123_3600.jpg: 640x640 10 Cs, 13.8ms\n",
      "image 56/277 /scratch/project_2006327/YOLOv8/datasets/2024_datasets/scenario_3/test_data/images/test/Choke_123_3601.jpg: 640x640 19 Cs, 13.8ms\n",
      "image 57/277 /scratch/project_2006327/YOLOv8/datasets/2024_datasets/scenario_3/test_data/images/test/Choke_123_3701.jpg: 640x640 1 C, 13.9ms\n",
      "image 58/277 /scratch/project_2006327/YOLOv8/datasets/2024_datasets/scenario_3/test_data/images/test/Choke_123_3702.jpg: 640x640 1 C, 13.8ms\n",
      "image 59/277 /scratch/project_2006327/YOLOv8/datasets/2024_datasets/scenario_3/test_data/images/test/Choke_123_3703.jpg: 640x640 4 Cs, 13.9ms\n",
      "image 60/277 /scratch/project_2006327/YOLOv8/datasets/2024_datasets/scenario_3/test_data/images/test/Choke_123_3802.jpg: 640x640 4 Cs, 13.8ms\n",
      "image 61/277 /scratch/project_2006327/YOLOv8/datasets/2024_datasets/scenario_3/test_data/images/test/Choke_123_3803.jpg: 640x640 2 Cs, 13.9ms\n",
      "image 62/277 /scratch/project_2006327/YOLOv8/datasets/2024_datasets/scenario_3/test_data/images/test/Choke_123_393.jpg: 640x640 11 Cs, 13.8ms\n",
      "image 63/277 /scratch/project_2006327/YOLOv8/datasets/2024_datasets/scenario_3/test_data/images/test/Choke_123_394.jpg: 640x640 1 C, 13.9ms\n",
      "image 64/277 /scratch/project_2006327/YOLOv8/datasets/2024_datasets/scenario_3/test_data/images/test/Choke_123_493.jpg: 640x640 7 Cs, 13.9ms\n",
      "image 65/277 /scratch/project_2006327/YOLOv8/datasets/2024_datasets/scenario_3/test_data/images/test/Choke_123_494.jpg: 640x640 20 Cs, 13.9ms\n",
      "image 66/277 /scratch/project_2006327/YOLOv8/datasets/2024_datasets/scenario_3/test_data/images/test/Choke_123_495.jpg: 640x640 3 Cs, 13.8ms\n",
      "image 67/277 /scratch/project_2006327/YOLOv8/datasets/2024_datasets/scenario_3/test_data/images/test/Choke_123_5089.jpg: 640x640 3 Cs, 13.9ms\n",
      "image 68/277 /scratch/project_2006327/YOLOv8/datasets/2024_datasets/scenario_3/test_data/images/test/Choke_123_594.jpg: 640x640 1 C, 13.9ms\n",
      "image 69/277 /scratch/project_2006327/YOLOv8/datasets/2024_datasets/scenario_3/test_data/images/test/Choke_123_595.jpg: 640x640 10 Cs, 13.8ms\n",
      "image 70/277 /scratch/project_2006327/YOLOv8/datasets/2024_datasets/scenario_3/test_data/images/test/Choke_123_596.jpg: 640x640 2 Cs, 13.8ms\n",
      "image 71/277 /scratch/project_2006327/YOLOv8/datasets/2024_datasets/scenario_3/test_data/images/test/Choke_123_695.jpg: 640x640 2 Cs, 13.9ms\n",
      "image 72/277 /scratch/project_2006327/YOLOv8/datasets/2024_datasets/scenario_3/test_data/images/test/Choke_123_696.jpg: 640x640 7 Cs, 13.9ms\n",
      "image 73/277 /scratch/project_2006327/YOLOv8/datasets/2024_datasets/scenario_3/test_data/images/test/Choke_123_697.jpg: 640x640 3 Cs, 13.8ms\n",
      "image 74/277 /scratch/project_2006327/YOLOv8/datasets/2024_datasets/scenario_3/test_data/images/test/Choke_123_698.jpg: 640x640 2 Cs, 13.8ms\n",
      "image 75/277 /scratch/project_2006327/YOLOv8/datasets/2024_datasets/scenario_3/test_data/images/test/Choke_143_2035.jpg: 640x640 1 C, 13.9ms\n",
      "image 76/277 /scratch/project_2006327/YOLOv8/datasets/2024_datasets/scenario_3/test_data/images/test/Choke_143_2036.jpg: 640x640 2 Cs, 13.8ms\n",
      "image 77/277 /scratch/project_2006327/YOLOv8/datasets/2024_datasets/scenario_3/test_data/images/test/Choke_143_2037.jpg: 640x640 3 Cs, 13.9ms\n",
      "image 78/277 /scratch/project_2006327/YOLOv8/datasets/2024_datasets/scenario_3/test_data/images/test/Choke_143_2038.jpg: 640x640 5 Cs, 13.9ms\n",
      "image 79/277 /scratch/project_2006327/YOLOv8/datasets/2024_datasets/scenario_3/test_data/images/test/Choke_143_2039.jpg: 640x640 4 Cs, 13.8ms\n",
      "image 80/277 /scratch/project_2006327/YOLOv8/datasets/2024_datasets/scenario_3/test_data/images/test/Choke_143_2040.jpg: 640x640 2 Cs, 13.9ms\n",
      "image 81/277 /scratch/project_2006327/YOLOv8/datasets/2024_datasets/scenario_3/test_data/images/test/Choke_143_2136.jpg: 640x640 4 Cs, 13.8ms\n",
      "image 82/277 /scratch/project_2006327/YOLOv8/datasets/2024_datasets/scenario_3/test_data/images/test/Choke_143_2137.jpg: 640x640 6 Cs, 13.9ms\n",
      "image 83/277 /scratch/project_2006327/YOLOv8/datasets/2024_datasets/scenario_3/test_data/images/test/Choke_143_2138.jpg: 640x640 5 Cs, 13.9ms\n",
      "image 84/277 /scratch/project_2006327/YOLOv8/datasets/2024_datasets/scenario_3/test_data/images/test/Choke_143_2139.jpg: 640x640 4 Cs, 13.8ms\n",
      "image 85/277 /scratch/project_2006327/YOLOv8/datasets/2024_datasets/scenario_3/test_data/images/test/Choke_143_2140.jpg: 640x640 1 C, 13.9ms\n",
      "image 86/277 /scratch/project_2006327/YOLOv8/datasets/2024_datasets/scenario_3/test_data/images/test/Choke_143_2141.jpg: 640x640 3 Cs, 13.9ms\n",
      "image 87/277 /scratch/project_2006327/YOLOv8/datasets/2024_datasets/scenario_3/test_data/images/test/Choke_143_2237.jpg: 640x640 (no detections), 13.8ms\n",
      "image 88/277 /scratch/project_2006327/YOLOv8/datasets/2024_datasets/scenario_3/test_data/images/test/Choke_143_2239.jpg: 640x640 1 C, 13.9ms\n",
      "image 89/277 /scratch/project_2006327/YOLOv8/datasets/2024_datasets/scenario_3/test_data/images/test/Choke_143_2240.jpg: 640x640 2 Cs, 13.9ms\n",
      "image 90/277 /scratch/project_2006327/YOLOv8/datasets/2024_datasets/scenario_3/test_data/images/test/Choke_143_2338.jpg: 640x640 7 Cs, 13.8ms\n",
      "image 91/277 /scratch/project_2006327/YOLOv8/datasets/2024_datasets/scenario_3/test_data/images/test/Choke_143_2339.jpg: 640x640 2 Cs, 13.9ms\n",
      "image 92/277 /scratch/project_2006327/YOLOv8/datasets/2024_datasets/scenario_3/test_data/images/test/Choke_143_2439.jpg: 640x640 11 Cs, 13.8ms\n",
      "image 93/277 /scratch/project_2006327/YOLOv8/datasets/2024_datasets/scenario_3/test_data/images/test/Choke_143_2633.jpg: 640x640 4 Cs, 13.8ms\n",
      "image 94/277 /scratch/project_2006327/YOLOv8/datasets/2024_datasets/scenario_3/test_data/images/test/Choke_143_4445.jpg: 640x640 5 Cs, 13.9ms\n",
      "image 95/277 /scratch/project_2006327/YOLOv8/datasets/2024_datasets/scenario_3/test_data/images/test/Choke_143_4446.jpg: 640x640 1 C, 13.9ms\n",
      "image 96/277 /scratch/project_2006327/YOLOv8/datasets/2024_datasets/scenario_3/test_data/images/test/Choke_143_4546.jpg: 640x640 8 Cs, 13.8ms\n",
      "image 97/277 /scratch/project_2006327/YOLOv8/datasets/2024_datasets/scenario_3/test_data/images/test/Choke_143_4547.jpg: 640x640 10 Cs, 13.9ms\n",
      "image 98/277 /scratch/project_2006327/YOLOv8/datasets/2024_datasets/scenario_3/test_data/images/test/Choke_143_4548.jpg: 640x640 3 Cs, 13.8ms\n",
      "image 99/277 /scratch/project_2006327/YOLOv8/datasets/2024_datasets/scenario_3/test_data/images/test/Choke_143_4647.jpg: 640x640 2 Cs, 13.8ms\n",
      "image 100/277 /scratch/project_2006327/YOLOv8/datasets/2024_datasets/scenario_3/test_data/images/test/Choke_143_4648.jpg: 640x640 5 Cs, 13.8ms\n",
      "image 101/277 /scratch/project_2006327/YOLOv8/datasets/2024_datasets/scenario_3/test_data/images/test/Choke_143_4649.jpg: 640x640 6 Cs, 13.8ms\n",
      "image 102/277 /scratch/project_2006327/YOLOv8/datasets/2024_datasets/scenario_3/test_data/images/test/Choke_143_4750.jpg: 640x640 5 Cs, 13.9ms\n",
      "image 103/277 /scratch/project_2006327/YOLOv8/datasets/2024_datasets/scenario_3/test_data/images/test/Choke_143_4751.jpg: 640x640 2 Cs, 13.9ms\n",
      "image 104/277 /scratch/project_2006327/YOLOv8/datasets/2024_datasets/scenario_3/test_data/images/test/Choke_143_5535.jpg: 640x640 1 C, 13.9ms\n",
      "image 105/277 /scratch/project_2006327/YOLOv8/datasets/2024_datasets/scenario_3/test_data/images/test/Lumo_032_4621.jpg: 640x640 3 Cs, 13.8ms\n",
      "image 106/277 /scratch/project_2006327/YOLOv8/datasets/2024_datasets/scenario_3/test_data/images/test/Lumo_032_4622.jpg: 640x640 2 Cs, 13.8ms\n",
      "image 107/277 /scratch/project_2006327/YOLOv8/datasets/2024_datasets/scenario_3/test_data/images/test/Lumo_032_4623.jpg: 640x640 1 C, 13.9ms\n",
      "image 108/277 /scratch/project_2006327/YOLOv8/datasets/2024_datasets/scenario_3/test_data/images/test/Lumo_032_4723.jpg: 640x640 22 Cs, 13.9ms\n",
      "image 109/277 /scratch/project_2006327/YOLOv8/datasets/2024_datasets/scenario_3/test_data/images/test/Lumo_032_4724.jpg: 640x640 3 Cs, 13.9ms\n",
      "image 110/277 /scratch/project_2006327/YOLOv8/datasets/2024_datasets/scenario_3/test_data/images/test/Lumo_032_4725.jpg: 640x640 25 Cs, 13.9ms\n",
      "image 111/277 /scratch/project_2006327/YOLOv8/datasets/2024_datasets/scenario_3/test_data/images/test/Lumo_032_4824.jpg: 640x640 5 Cs, 13.8ms\n",
      "image 112/277 /scratch/project_2006327/YOLOv8/datasets/2024_datasets/scenario_3/test_data/images/test/Lumo_032_4825.jpg: 640x640 37 Cs, 13.8ms\n",
      "image 113/277 /scratch/project_2006327/YOLOv8/datasets/2024_datasets/scenario_3/test_data/images/test/Lumo_032_4826.jpg: 640x640 50 Cs, 13.9ms\n",
      "image 114/277 /scratch/project_2006327/YOLOv8/datasets/2024_datasets/scenario_3/test_data/images/test/Lumo_032_4925.jpg: 640x640 1 C, 13.9ms\n",
      "image 115/277 /scratch/project_2006327/YOLOv8/datasets/2024_datasets/scenario_3/test_data/images/test/Lumo_032_4926.jpg: 640x640 3 Cs, 13.9ms\n",
      "image 116/277 /scratch/project_2006327/YOLOv8/datasets/2024_datasets/scenario_3/test_data/images/test/Lumo_032_4927.jpg: 640x640 8 Cs, 13.8ms\n",
      "image 117/277 /scratch/project_2006327/YOLOv8/datasets/2024_datasets/scenario_3/test_data/images/test/Lumo_032_5855.jpg: 640x640 2 Cs, 13.9ms\n",
      "image 118/277 /scratch/project_2006327/YOLOv8/datasets/2024_datasets/scenario_3/test_data/images/test/Lumo_032_5856.jpg: 640x640 10 Cs, 13.8ms\n",
      "image 119/277 /scratch/project_2006327/YOLOv8/datasets/2024_datasets/scenario_3/test_data/images/test/Lumo_032_5955.jpg: 640x640 2 Cs, 13.9ms\n",
      "image 120/277 /scratch/project_2006327/YOLOv8/datasets/2024_datasets/scenario_3/test_data/images/test/Lumo_032_5956.jpg: 640x640 20 Cs, 13.8ms\n",
      "image 121/277 /scratch/project_2006327/YOLOv8/datasets/2024_datasets/scenario_3/test_data/images/test/Lumo_032_5957.jpg: 640x640 12 Cs, 13.9ms\n",
      "image 122/277 /scratch/project_2006327/YOLOv8/datasets/2024_datasets/scenario_3/test_data/images/test/Lumo_032_5958.jpg: 640x640 10 Cs, 13.9ms\n",
      "image 123/277 /scratch/project_2006327/YOLOv8/datasets/2024_datasets/scenario_3/test_data/images/test/Lumo_032_6056.jpg: 640x640 3 Cs, 13.8ms\n",
      "image 124/277 /scratch/project_2006327/YOLOv8/datasets/2024_datasets/scenario_3/test_data/images/test/Lumo_032_6057.jpg: 640x640 6 Cs, 13.9ms\n",
      "image 125/277 /scratch/project_2006327/YOLOv8/datasets/2024_datasets/scenario_3/test_data/images/test/Lumo_032_6058.jpg: 640x640 13 Cs, 13.9ms\n",
      "image 126/277 /scratch/project_2006327/YOLOv8/datasets/2024_datasets/scenario_3/test_data/images/test/Lumo_032_6059.jpg: 640x640 33 Cs, 13.9ms\n",
      "image 127/277 /scratch/project_2006327/YOLOv8/datasets/2024_datasets/scenario_3/test_data/images/test/Lumo_032_6157.jpg: 640x640 2 Cs, 13.9ms\n",
      "image 128/277 /scratch/project_2006327/YOLOv8/datasets/2024_datasets/scenario_3/test_data/images/test/Lumo_032_6158.jpg: 640x640 7 Cs, 13.9ms\n",
      "image 129/277 /scratch/project_2006327/YOLOv8/datasets/2024_datasets/scenario_3/test_data/images/test/Lumo_032_6159.jpg: 640x640 15 Cs, 13.8ms\n",
      "image 130/277 /scratch/project_2006327/YOLOv8/datasets/2024_datasets/scenario_3/test_data/images/test/Lumo_032_6160.jpg: 640x640 22 Cs, 13.9ms\n",
      "image 131/277 /scratch/project_2006327/YOLOv8/datasets/2024_datasets/scenario_3/test_data/images/test/Lumo_032_6259.jpg: 640x640 3 Cs, 13.9ms\n",
      "image 132/277 /scratch/project_2006327/YOLOv8/datasets/2024_datasets/scenario_3/test_data/images/test/Lumo_032_6260.jpg: 640x640 9 Cs, 13.8ms\n",
      "image 133/277 /scratch/project_2006327/YOLOv8/datasets/2024_datasets/scenario_3/test_data/images/test/Lumo_049_115.jpg: 640x640 2 Cs, 13.9ms\n",
      "image 134/277 /scratch/project_2006327/YOLOv8/datasets/2024_datasets/scenario_3/test_data/images/test/Lumo_049_117.jpg: 640x640 6 Cs, 13.8ms\n",
      "image 135/277 /scratch/project_2006327/YOLOv8/datasets/2024_datasets/scenario_3/test_data/images/test/Lumo_049_118.jpg: 640x640 14 Cs, 13.8ms\n",
      "image 136/277 /scratch/project_2006327/YOLOv8/datasets/2024_datasets/scenario_3/test_data/images/test/Lumo_049_119.jpg: 640x640 30 Cs, 13.9ms\n",
      "image 137/277 /scratch/project_2006327/YOLOv8/datasets/2024_datasets/scenario_3/test_data/images/test/Lumo_049_1416.jpg: 640x640 4 Cs, 13.8ms\n",
      "image 138/277 /scratch/project_2006327/YOLOv8/datasets/2024_datasets/scenario_3/test_data/images/test/Lumo_049_1417.jpg: 640x640 5 Cs, 13.8ms\n",
      "image 139/277 /scratch/project_2006327/YOLOv8/datasets/2024_datasets/scenario_3/test_data/images/test/Lumo_049_1517.jpg: 640x640 11 Cs, 13.9ms\n",
      "image 140/277 /scratch/project_2006327/YOLOv8/datasets/2024_datasets/scenario_3/test_data/images/test/Lumo_049_1518.jpg: 640x640 60 Cs, 13.8ms\n",
      "image 141/277 /scratch/project_2006327/YOLOv8/datasets/2024_datasets/scenario_3/test_data/images/test/Lumo_049_1519.jpg: 640x640 1 C, 13.9ms\n",
      "image 142/277 /scratch/project_2006327/YOLOv8/datasets/2024_datasets/scenario_3/test_data/images/test/Lumo_049_1618.jpg: 640x640 17 Cs, 13.9ms\n",
      "image 143/277 /scratch/project_2006327/YOLOv8/datasets/2024_datasets/scenario_3/test_data/images/test/Lumo_049_1619.jpg: 640x640 6 Cs, 13.9ms\n",
      "image 144/277 /scratch/project_2006327/YOLOv8/datasets/2024_datasets/scenario_3/test_data/images/test/Lumo_049_1620.jpg: 640x640 1 C, 13.9ms\n",
      "image 145/277 /scratch/project_2006327/YOLOv8/datasets/2024_datasets/scenario_3/test_data/images/test/Lumo_049_1826.jpg: 640x640 10 Cs, 13.9ms\n",
      "image 146/277 /scratch/project_2006327/YOLOv8/datasets/2024_datasets/scenario_3/test_data/images/test/Lumo_049_1827.jpg: 640x640 27 Cs, 13.9ms\n",
      "image 147/277 /scratch/project_2006327/YOLOv8/datasets/2024_datasets/scenario_3/test_data/images/test/Lumo_049_1927.jpg: 640x640 7 Cs, 13.9ms\n",
      "image 148/277 /scratch/project_2006327/YOLOv8/datasets/2024_datasets/scenario_3/test_data/images/test/Lumo_049_1928.jpg: 640x640 11 Cs, 13.9ms\n",
      "image 149/277 /scratch/project_2006327/YOLOv8/datasets/2024_datasets/scenario_3/test_data/images/test/Lumo_049_2029.jpg: 640x640 17 Cs, 13.8ms\n",
      "image 150/277 /scratch/project_2006327/YOLOv8/datasets/2024_datasets/scenario_3/test_data/images/test/Lumo_049_2030.jpg: 640x640 5 Cs, 13.9ms\n",
      "image 151/277 /scratch/project_2006327/YOLOv8/datasets/2024_datasets/scenario_3/test_data/images/test/Lumo_049_218.jpg: 640x640 1 C, 13.9ms\n",
      "image 152/277 /scratch/project_2006327/YOLOv8/datasets/2024_datasets/scenario_3/test_data/images/test/Lumo_049_220.jpg: 640x640 3 Cs, 13.8ms\n",
      "image 153/277 /scratch/project_2006327/YOLOv8/datasets/2024_datasets/scenario_3/test_data/images/test/Lumo_069_1049.jpg: 640x640 4 Cs, 13.8ms\n",
      "image 154/277 /scratch/project_2006327/YOLOv8/datasets/2024_datasets/scenario_3/test_data/images/test/Lumo_069_1050.jpg: 640x640 6 Cs, 13.9ms\n",
      "image 155/277 /scratch/project_2006327/YOLOv8/datasets/2024_datasets/scenario_3/test_data/images/test/Lumo_069_543.jpg: 640x640 9 Cs, 13.9ms\n",
      "image 156/277 /scratch/project_2006327/YOLOv8/datasets/2024_datasets/scenario_3/test_data/images/test/Lumo_069_644.jpg: 640x640 23 Cs, 13.9ms\n",
      "image 157/277 /scratch/project_2006327/YOLOv8/datasets/2024_datasets/scenario_3/test_data/images/test/Lumo_069_744.jpg: 640x640 8 Cs, 14.6ms\n",
      "image 158/277 /scratch/project_2006327/YOLOv8/datasets/2024_datasets/scenario_3/test_data/images/test/Lumo_069_745.jpg: 640x640 13 Cs, 13.9ms\n",
      "image 159/277 /scratch/project_2006327/YOLOv8/datasets/2024_datasets/scenario_3/test_data/images/test/Lumo_069_746.jpg: 640x640 14 Cs, 13.9ms\n",
      "image 160/277 /scratch/project_2006327/YOLOv8/datasets/2024_datasets/scenario_3/test_data/images/test/Lumo_069_844.jpg: 640x640 4 Cs, 13.9ms\n",
      "image 161/277 /scratch/project_2006327/YOLOv8/datasets/2024_datasets/scenario_3/test_data/images/test/Lumo_069_845.jpg: 640x640 6 Cs, 13.9ms\n",
      "image 162/277 /scratch/project_2006327/YOLOv8/datasets/2024_datasets/scenario_3/test_data/images/test/Lumo_069_846.jpg: 640x640 26 Cs, 13.8ms\n",
      "image 163/277 /scratch/project_2006327/YOLOv8/datasets/2024_datasets/scenario_3/test_data/images/test/Lumo_069_847.jpg: 640x640 10 Cs, 13.9ms\n",
      "image 164/277 /scratch/project_2006327/YOLOv8/datasets/2024_datasets/scenario_3/test_data/images/test/Lumo_069_848.jpg: 640x640 2 Cs, 13.8ms\n",
      "image 165/277 /scratch/project_2006327/YOLOv8/datasets/2024_datasets/scenario_3/test_data/images/test/Lumo_069_946.jpg: 640x640 10 Cs, 13.9ms\n",
      "image 166/277 /scratch/project_2006327/YOLOv8/datasets/2024_datasets/scenario_3/test_data/images/test/Lumo_069_947.jpg: 640x640 13 Cs, 13.8ms\n",
      "image 167/277 /scratch/project_2006327/YOLOv8/datasets/2024_datasets/scenario_3/test_data/images/test/Lumo_069_948.jpg: 640x640 35 Cs, 13.9ms\n",
      "image 168/277 /scratch/project_2006327/YOLOv8/datasets/2024_datasets/scenario_3/test_data/images/test/Lumo_069_949.jpg: 640x640 16 Cs, 13.9ms\n",
      "image 169/277 /scratch/project_2006327/YOLOv8/datasets/2024_datasets/scenario_3/test_data/images/test/Lumo_091_1117.jpg: 640x640 4 Cs, 13.9ms\n",
      "image 170/277 /scratch/project_2006327/YOLOv8/datasets/2024_datasets/scenario_3/test_data/images/test/Lumo_091_1216.jpg: 640x640 3 Cs, 13.9ms\n",
      "image 171/277 /scratch/project_2006327/YOLOv8/datasets/2024_datasets/scenario_3/test_data/images/test/Lumo_091_1217.jpg: 640x640 7 Cs, 13.9ms\n",
      "image 172/277 /scratch/project_2006327/YOLOv8/datasets/2024_datasets/scenario_3/test_data/images/test/Lumo_091_1218.jpg: 640x640 16 Cs, 13.9ms\n",
      "image 173/277 /scratch/project_2006327/YOLOv8/datasets/2024_datasets/scenario_3/test_data/images/test/Lumo_091_127.jpg: 640x640 20 Cs, 13.9ms\n",
      "image 174/277 /scratch/project_2006327/YOLOv8/datasets/2024_datasets/scenario_3/test_data/images/test/Lumo_091_128.jpg: 640x640 10 Cs, 13.9ms\n",
      "image 175/277 /scratch/project_2006327/YOLOv8/datasets/2024_datasets/scenario_3/test_data/images/test/Lumo_091_1314.jpg: 640x640 1 C, 13.8ms\n",
      "image 176/277 /scratch/project_2006327/YOLOv8/datasets/2024_datasets/scenario_3/test_data/images/test/Lumo_091_1317.jpg: 640x640 5 Cs, 13.9ms\n",
      "image 177/277 /scratch/project_2006327/YOLOv8/datasets/2024_datasets/scenario_3/test_data/images/test/Lumo_091_1318.jpg: 640x640 5 Cs, 13.8ms\n",
      "image 178/277 /scratch/project_2006327/YOLOv8/datasets/2024_datasets/scenario_3/test_data/images/test/Lumo_091_1319.jpg: 640x640 3 Cs, 13.9ms\n",
      "image 179/277 /scratch/project_2006327/YOLOv8/datasets/2024_datasets/scenario_3/test_data/images/test/Lumo_091_227.jpg: 640x640 13 Cs, 13.9ms\n",
      "image 180/277 /scratch/project_2006327/YOLOv8/datasets/2024_datasets/scenario_3/test_data/images/test/Lumo_091_228.jpg: 640x640 41 Cs, 13.9ms\n",
      "image 181/277 /scratch/project_2006327/YOLOv8/datasets/2024_datasets/scenario_3/test_data/images/test/Lumo_091_229.jpg: 640x640 7 Cs, 13.9ms\n",
      "image 182/277 /scratch/project_2006327/YOLOv8/datasets/2024_datasets/scenario_3/test_data/images/test/Lumo_091_327.jpg: 640x640 3 Cs, 13.9ms\n",
      "image 183/277 /scratch/project_2006327/YOLOv8/datasets/2024_datasets/scenario_3/test_data/images/test/Lumo_091_328.jpg: 640x640 3 Cs, 13.8ms\n",
      "image 184/277 /scratch/project_2006327/YOLOv8/datasets/2024_datasets/scenario_3/test_data/images/test/Lumo_091_427.jpg: 640x640 6 Cs, 13.9ms\n",
      "image 185/277 /scratch/project_2006327/YOLOv8/datasets/2024_datasets/scenario_3/test_data/images/test/Lumo_091_428.jpg: 640x640 9 Cs, 13.8ms\n",
      "image 186/277 /scratch/project_2006327/YOLOv8/datasets/2024_datasets/scenario_3/test_data/images/test/Lumo_091_528.jpg: 640x640 15 Cs, 13.9ms\n",
      "image 187/277 /scratch/project_2006327/YOLOv8/datasets/2024_datasets/scenario_3/test_data/images/test/THW_097_3559.jpg: 640x640 3 Cs, 13.9ms\n",
      "image 188/277 /scratch/project_2006327/YOLOv8/datasets/2024_datasets/scenario_3/test_data/images/test/THW_097_3560.jpg: 640x640 25 Cs, 13.8ms\n",
      "image 189/277 /scratch/project_2006327/YOLOv8/datasets/2024_datasets/scenario_3/test_data/images/test/THW_097_3561.jpg: 640x640 7 Cs, 13.9ms\n",
      "image 190/277 /scratch/project_2006327/YOLOv8/datasets/2024_datasets/scenario_3/test_data/images/test/THW_097_3562.jpg: 640x640 2 Cs, 13.9ms\n",
      "image 191/277 /scratch/project_2006327/YOLOv8/datasets/2024_datasets/scenario_3/test_data/images/test/THW_097_3659.jpg: 640x640 12 Cs, 13.8ms\n",
      "image 192/277 /scratch/project_2006327/YOLOv8/datasets/2024_datasets/scenario_3/test_data/images/test/THW_097_3660.jpg: 640x640 4 Cs, 13.9ms\n",
      "image 193/277 /scratch/project_2006327/YOLOv8/datasets/2024_datasets/scenario_3/test_data/images/test/THW_097_3661.jpg: 640x640 12 Cs, 13.9ms\n",
      "image 194/277 /scratch/project_2006327/YOLOv8/datasets/2024_datasets/scenario_3/test_data/images/test/THW_097_3662.jpg: 640x640 21 Cs, 13.9ms\n",
      "image 195/277 /scratch/project_2006327/YOLOv8/datasets/2024_datasets/scenario_3/test_data/images/test/THW_097_3663.jpg: 640x640 7 Cs, 13.9ms\n",
      "image 196/277 /scratch/project_2006327/YOLOv8/datasets/2024_datasets/scenario_3/test_data/images/test/THW_097_3758.jpg: 640x640 2 Cs, 13.9ms\n",
      "image 197/277 /scratch/project_2006327/YOLOv8/datasets/2024_datasets/scenario_3/test_data/images/test/THW_097_3759.jpg: 640x640 12 Cs, 13.9ms\n",
      "image 198/277 /scratch/project_2006327/YOLOv8/datasets/2024_datasets/scenario_3/test_data/images/test/THW_097_3760.jpg: 640x640 3 Cs, 13.8ms\n",
      "image 199/277 /scratch/project_2006327/YOLOv8/datasets/2024_datasets/scenario_3/test_data/images/test/THW_097_3761.jpg: 640x640 5 Cs, 13.8ms\n",
      "image 200/277 /scratch/project_2006327/YOLOv8/datasets/2024_datasets/scenario_3/test_data/images/test/THW_097_3763.jpg: 640x640 3 Cs, 13.9ms\n",
      "image 201/277 /scratch/project_2006327/YOLOv8/datasets/2024_datasets/scenario_3/test_data/images/test/THW_097_3860.jpg: 640x640 2 Cs, 13.9ms\n",
      "image 202/277 /scratch/project_2006327/YOLOv8/datasets/2024_datasets/scenario_3/test_data/images/test/THW_097_3962.jpg: 640x640 1 C, 13.8ms\n",
      "image 203/277 /scratch/project_2006327/YOLOv8/datasets/2024_datasets/scenario_3/test_data/images/test/THW_097_3987.jpg: 640x640 7 Cs, 13.8ms\n",
      "image 204/277 /scratch/project_2006327/YOLOv8/datasets/2024_datasets/scenario_3/test_data/images/test/THW_097_3988.jpg: 640x640 10 Cs, 13.8ms\n",
      "image 205/277 /scratch/project_2006327/YOLOv8/datasets/2024_datasets/scenario_3/test_data/images/test/THW_097_4063.jpg: 640x640 2 Cs, 13.8ms\n",
      "image 206/277 /scratch/project_2006327/YOLOv8/datasets/2024_datasets/scenario_3/test_data/images/test/THW_097_4064.jpg: 640x640 1 C, 13.8ms\n",
      "image 207/277 /scratch/project_2006327/YOLOv8/datasets/2024_datasets/scenario_3/test_data/images/test/THW_097_4088.jpg: 640x640 31 Cs, 13.8ms\n",
      "image 208/277 /scratch/project_2006327/YOLOv8/datasets/2024_datasets/scenario_3/test_data/images/test/THW_097_4089.jpg: 640x640 31 Cs, 13.8ms\n",
      "image 209/277 /scratch/project_2006327/YOLOv8/datasets/2024_datasets/scenario_3/test_data/images/test/THW_097_4188.jpg: 640x640 1 C, 13.8ms\n",
      "image 210/277 /scratch/project_2006327/YOLOv8/datasets/2024_datasets/scenario_3/test_data/images/test/THW_097_4189.jpg: 640x640 13 Cs, 13.9ms\n",
      "image 211/277 /scratch/project_2006327/YOLOv8/datasets/2024_datasets/scenario_3/test_data/images/test/THW_097_4190.jpg: 640x640 8 Cs, 13.9ms\n",
      "image 212/277 /scratch/project_2006327/YOLOv8/datasets/2024_datasets/scenario_3/test_data/images/test/THW_097_4290.jpg: 640x640 2 Cs, 13.9ms\n",
      "image 213/277 /scratch/project_2006327/YOLOv8/datasets/2024_datasets/scenario_3/test_data/images/test/THW_097_4292.jpg: 640x640 5 Cs, 13.8ms\n",
      "image 214/277 /scratch/project_2006327/YOLOv8/datasets/2024_datasets/scenario_3/test_data/images/test/THW_097_4393.jpg: 640x640 2 Cs, 13.9ms\n",
      "image 215/277 /scratch/project_2006327/YOLOv8/datasets/2024_datasets/scenario_3/test_data/images/test/THW_097_5078.jpg: 640x640 17 Cs, 13.9ms\n",
      "image 216/277 /scratch/project_2006327/YOLOv8/datasets/2024_datasets/scenario_3/test_data/images/test/THW_097_5079.jpg: 640x640 16 Cs, 13.8ms\n",
      "image 217/277 /scratch/project_2006327/YOLOv8/datasets/2024_datasets/scenario_3/test_data/images/test/THW_097_5179.jpg: 640x640 7 Cs, 13.8ms\n",
      "image 218/277 /scratch/project_2006327/YOLOv8/datasets/2024_datasets/scenario_3/test_data/images/test/THW_097_5180.jpg: 640x640 6 Cs, 13.9ms\n",
      "image 219/277 /scratch/project_2006327/YOLOv8/datasets/2024_datasets/scenario_3/test_data/images/test/THW_097_5181.jpg: 640x640 1 C, 13.8ms\n",
      "image 220/277 /scratch/project_2006327/YOLOv8/datasets/2024_datasets/scenario_3/test_data/images/test/THW_097_5280.jpg: 640x640 4 Cs, 13.9ms\n",
      "image 221/277 /scratch/project_2006327/YOLOv8/datasets/2024_datasets/scenario_3/test_data/images/test/THW_097_5281.jpg: 640x640 12 Cs, 13.9ms\n",
      "image 222/277 /scratch/project_2006327/YOLOv8/datasets/2024_datasets/scenario_3/test_data/images/test/THW_097_5382.jpg: 640x640 11 Cs, 13.8ms\n",
      "image 223/277 /scratch/project_2006327/YOLOv8/datasets/2024_datasets/scenario_3/test_data/images/test/THW_097_5383.jpg: 640x640 9 Cs, 13.9ms\n",
      "image 224/277 /scratch/project_2006327/YOLOv8/datasets/2024_datasets/scenario_3/test_data/images/test/THW_097_5483.jpg: 640x640 16 Cs, 13.8ms\n",
      "image 225/277 /scratch/project_2006327/YOLOv8/datasets/2024_datasets/scenario_3/test_data/images/test/THW_097_5484.jpg: 640x640 23 Cs, 13.9ms\n",
      "image 226/277 /scratch/project_2006327/YOLOv8/datasets/2024_datasets/scenario_3/test_data/images/test/THW_097_5485.jpg: 640x640 4 Cs, 13.9ms\n",
      "image 227/277 /scratch/project_2006327/YOLOv8/datasets/2024_datasets/scenario_3/test_data/images/test/THW_097_5584.jpg: 640x640 7 Cs, 13.9ms\n",
      "image 228/277 /scratch/project_2006327/YOLOv8/datasets/2024_datasets/scenario_3/test_data/images/test/THW_097_5585.jpg: 640x640 4 Cs, 13.9ms\n",
      "image 229/277 /scratch/project_2006327/YOLOv8/datasets/2024_datasets/scenario_3/test_data/images/test/THW_097_8272.jpg: 640x640 1 C, 13.8ms\n",
      "image 230/277 /scratch/project_2006327/YOLOv8/datasets/2024_datasets/scenario_3/test_data/images/test/THW_097_8273.jpg: 640x640 12 Cs, 13.9ms\n",
      "image 231/277 /scratch/project_2006327/YOLOv8/datasets/2024_datasets/scenario_3/test_data/images/test/THW_097_8274.jpg: 640x640 14 Cs, 13.8ms\n",
      "image 232/277 /scratch/project_2006327/YOLOv8/datasets/2024_datasets/scenario_3/test_data/images/test/THW_097_8303.jpg: 640x640 3 Cs, 13.8ms\n",
      "image 233/277 /scratch/project_2006327/YOLOv8/datasets/2024_datasets/scenario_3/test_data/images/test/THW_097_8304.jpg: 640x640 22 Cs, 13.9ms\n",
      "image 234/277 /scratch/project_2006327/YOLOv8/datasets/2024_datasets/scenario_3/test_data/images/test/THW_097_8305.jpg: 640x640 17 Cs, 13.8ms\n",
      "image 235/277 /scratch/project_2006327/YOLOv8/datasets/2024_datasets/scenario_3/test_data/images/test/THW_097_8404.jpg: 640x640 8 Cs, 13.9ms\n",
      "image 236/277 /scratch/project_2006327/YOLOv8/datasets/2024_datasets/scenario_3/test_data/images/test/THW_097_8405.jpg: 640x640 14 Cs, 13.9ms\n",
      "image 237/277 /scratch/project_2006327/YOLOv8/datasets/2024_datasets/scenario_3/test_data/images/test/THW_097_8406.jpg: 640x640 2 Cs, 13.9ms\n",
      "image 238/277 /scratch/project_2006327/YOLOv8/datasets/2024_datasets/scenario_3/test_data/images/test/THW_097_8506.jpg: 640x640 5 Cs, 13.9ms\n",
      "image 239/277 /scratch/project_2006327/YOLOv8/datasets/2024_datasets/scenario_3/test_data/images/test/THW_097_8607.jpg: 640x640 11 Cs, 13.9ms\n",
      "image 240/277 /scratch/project_2006327/YOLOv8/datasets/2024_datasets/scenario_3/test_data/images/test/THW_097_9307.jpg: 640x640 1 C, 13.9ms\n",
      "image 241/277 /scratch/project_2006327/YOLOv8/datasets/2024_datasets/scenario_3/test_data/images/test/THW_097_9689.jpg: 640x640 8 Cs, 13.8ms\n",
      "image 242/277 /scratch/project_2006327/YOLOv8/datasets/2024_datasets/scenario_3/test_data/images/test/THW_113_10028.jpg: 640x640 13 Cs, 13.8ms\n",
      "image 243/277 /scratch/project_2006327/YOLOv8/datasets/2024_datasets/scenario_3/test_data/images/test/THW_113_4618.jpg: 640x640 7 Cs, 13.9ms\n",
      "image 244/277 /scratch/project_2006327/YOLOv8/datasets/2024_datasets/scenario_3/test_data/images/test/THW_113_4619.jpg: 640x640 2 Cs, 13.9ms\n",
      "image 245/277 /scratch/project_2006327/YOLOv8/datasets/2024_datasets/scenario_3/test_data/images/test/THW_113_4720.jpg: 640x640 1 C, 13.8ms\n",
      "image 246/277 /scratch/project_2006327/YOLOv8/datasets/2024_datasets/scenario_3/test_data/images/test/THW_113_4721.jpg: 640x640 1 C, 13.8ms\n",
      "image 247/277 /scratch/project_2006327/YOLOv8/datasets/2024_datasets/scenario_3/test_data/images/test/THW_113_5852.jpg: 640x640 5 Cs, 13.9ms\n",
      "image 248/277 /scratch/project_2006327/YOLOv8/datasets/2024_datasets/scenario_3/test_data/images/test/THW_113_5853.jpg: 640x640 11 Cs, 13.9ms\n",
      "image 249/277 /scratch/project_2006327/YOLOv8/datasets/2024_datasets/scenario_3/test_data/images/test/THW_113_5854.jpg: 640x640 1 C, 13.9ms\n",
      "image 250/277 /scratch/project_2006327/YOLOv8/datasets/2024_datasets/scenario_3/test_data/images/test/THW_113_5952.jpg: 640x640 12 Cs, 13.8ms\n",
      "image 251/277 /scratch/project_2006327/YOLOv8/datasets/2024_datasets/scenario_3/test_data/images/test/THW_113_5953.jpg: 640x640 13 Cs, 13.9ms\n",
      "image 252/277 /scratch/project_2006327/YOLOv8/datasets/2024_datasets/scenario_3/test_data/images/test/THW_113_5954.jpg: 640x640 6 Cs, 13.8ms\n",
      "image 253/277 /scratch/project_2006327/YOLOv8/datasets/2024_datasets/scenario_3/test_data/images/test/THW_113_5955.jpg: 640x640 4 Cs, 13.9ms\n",
      "image 254/277 /scratch/project_2006327/YOLOv8/datasets/2024_datasets/scenario_3/test_data/images/test/THW_113_5956.jpg: 640x640 2 Cs, 13.9ms\n",
      "image 255/277 /scratch/project_2006327/YOLOv8/datasets/2024_datasets/scenario_3/test_data/images/test/THW_113_6052.jpg: 640x640 2 Cs, 13.9ms\n",
      "image 256/277 /scratch/project_2006327/YOLOv8/datasets/2024_datasets/scenario_3/test_data/images/test/THW_113_6053.jpg: 640x640 12 Cs, 13.9ms\n",
      "image 257/277 /scratch/project_2006327/YOLOv8/datasets/2024_datasets/scenario_3/test_data/images/test/THW_113_6054.jpg: 640x640 3 Cs, 13.8ms\n",
      "image 258/277 /scratch/project_2006327/YOLOv8/datasets/2024_datasets/scenario_3/test_data/images/test/THW_113_6153.jpg: 640x640 8 Cs, 13.8ms\n",
      "image 259/277 /scratch/project_2006327/YOLOv8/datasets/2024_datasets/scenario_3/test_data/images/test/THW_113_6154.jpg: 640x640 10 Cs, 13.8ms\n",
      "image 260/277 /scratch/project_2006327/YOLOv8/datasets/2024_datasets/scenario_3/test_data/images/test/THW_113_6155.jpg: 640x640 4 Cs, 13.8ms\n",
      "image 261/277 /scratch/project_2006327/YOLOv8/datasets/2024_datasets/scenario_3/test_data/images/test/THW_113_6253.jpg: 640x640 5 Cs, 13.9ms\n",
      "image 262/277 /scratch/project_2006327/YOLOv8/datasets/2024_datasets/scenario_3/test_data/images/test/THW_113_6254.jpg: 640x640 4 Cs, 13.8ms\n",
      "image 263/277 /scratch/project_2006327/YOLOv8/datasets/2024_datasets/scenario_3/test_data/images/test/THW_113_6255.jpg: 640x640 3 Cs, 13.8ms\n",
      "image 264/277 /scratch/project_2006327/YOLOv8/datasets/2024_datasets/scenario_3/test_data/images/test/THW_113_6256.jpg: 640x640 3 Cs, 13.9ms\n",
      "image 265/277 /scratch/project_2006327/YOLOv8/datasets/2024_datasets/scenario_3/test_data/images/test/THW_113_6257.jpg: 640x640 1 C, 13.9ms\n",
      "image 266/277 /scratch/project_2006327/YOLOv8/datasets/2024_datasets/scenario_3/test_data/images/test/THW_113_6355.jpg: 640x640 4 Cs, 13.9ms\n",
      "image 267/277 /scratch/project_2006327/YOLOv8/datasets/2024_datasets/scenario_3/test_data/images/test/THW_113_6356.jpg: 640x640 2 Cs, 13.9ms\n",
      "image 268/277 /scratch/project_2006327/YOLOv8/datasets/2024_datasets/scenario_3/test_data/images/test/THW_113_6357.jpg: 640x640 2 Cs, 13.9ms\n",
      "image 269/277 /scratch/project_2006327/YOLOv8/datasets/2024_datasets/scenario_3/test_data/images/test/THW_113_9625.jpg: 640x640 2 Cs, 13.8ms\n",
      "image 270/277 /scratch/project_2006327/YOLOv8/datasets/2024_datasets/scenario_3/test_data/images/test/THW_120_8924.jpg: 640x640 5 Cs, 13.9ms\n",
      "image 271/277 /scratch/project_2006327/YOLOv8/datasets/2024_datasets/scenario_3/test_data/images/test/THW_120_8925.jpg: 640x640 3 Cs, 13.8ms\n",
      "image 272/277 /scratch/project_2006327/YOLOv8/datasets/2024_datasets/scenario_3/test_data/images/test/THW_120_9024.jpg: 640x640 1 C, 13.8ms\n",
      "image 273/277 /scratch/project_2006327/YOLOv8/datasets/2024_datasets/scenario_3/test_data/images/test/THW_120_9025.jpg: 640x640 22 Cs, 13.8ms\n",
      "image 274/277 /scratch/project_2006327/YOLOv8/datasets/2024_datasets/scenario_3/test_data/images/test/THW_120_9026.jpg: 640x640 20 Cs, 13.8ms\n",
      "image 275/277 /scratch/project_2006327/YOLOv8/datasets/2024_datasets/scenario_3/test_data/images/test/THW_120_9126.jpg: 640x640 18 Cs, 13.8ms\n",
      "image 276/277 /scratch/project_2006327/YOLOv8/datasets/2024_datasets/scenario_3/test_data/images/test/THW_120_9127.jpg: 640x640 10 Cs, 13.9ms\n",
      "image 277/277 /scratch/project_2006327/YOLOv8/datasets/2024_datasets/scenario_3/test_data/images/test/THW_120_9227.jpg: 640x640 1 C, 13.8ms\n",
      "Speed: 1.6ms preprocess, 14.0ms inference, 0.8ms postprocess per image at shape (1, 3, 640, 640)\n",
      "Results saved to \u001b[1minference/Combined_data_2024/count/large\u001b[0m\n"
     ]
    }
   ],
   "source": [
    "!yolo predict model=runs/detect/train2/weights/best.pt source='/scratch/project_2006327/YOLOv8/datasets/2024_datasets/scenario_3/test_data/images/test' conf=0.25 iou=0.5 project=inference/Combined_data_2024/count name=large show_labels=False line_width=1"
   ]
  },
  {
   "cell_type": "markdown",
   "id": "39343f9f-5171-4b9f-96e1-7afc7490cc75",
   "metadata": {},
   "source": [
    "## YOLOv8x"
   ]
  },
  {
   "cell_type": "markdown",
   "id": "e2886bc6-eecc-4578-9672-76de037b5840",
   "metadata": {},
   "source": [
    "### Validation"
   ]
  },
  {
   "cell_type": "code",
   "execution_count": 10,
   "id": "6c4c7ad1-3210-4b83-820f-7d2f06abe0ed",
   "metadata": {
    "scrolled": true
   },
   "outputs": [
    {
     "name": "stderr",
     "output_type": "stream",
     "text": [
      "Ultralytics YOLOv8.0.157 🚀 Python-3.10.0 torch-2.0.1+cu117 CUDA:0 (Tesla V100-SXM2-32GB, 32501MiB)\n",
      "Model summary (fused): 268 layers, 68124531 parameters, 0 gradients\n",
      "\u001b[34m\u001b[1mval: \u001b[0mScanning /scratch/project_2006327/YOLOv8/datasets/2024_datasets/scenario_3/train_data/labels/val.cache... 1604 images, 0 backgrounds, 0 corrupt: 100%|██████████| 1604/1604 [00:00<?, ?it/s]\n",
      "/CSC_CONTAINER/miniconda/envs/env1/lib/python3.10/site-packages/torch/utils/data/dataloader.py:560: UserWarning: This DataLoader will create 8 worker processes in total. Our suggested max number of worker in current system is 3, which is smaller than what this DataLoader is going to create. Please be aware that excessive worker creation might get DataLoader running slow or even freeze, lower the worker number to avoid potential slowness/freeze if necessary.\n",
      "  warnings.warn(_create_warning_msg(\n",
      "                 Class     Images  Instances      Box(P          R      mAP50  mAP50-95): 100%|██████████| 101/101 [00:35<00:00,  2.88it/s]\n",
      "                   all       1604      15091      0.911      0.885      0.933      0.461\n",
      "Speed: 0.2ms preprocess, 17.0ms inference, 0.0ms loss, 0.5ms postprocess per image\n",
      "Results saved to \u001b[1mruns/detect/val4\u001b[0m\n"
     ]
    },
    {
     "data": {
      "text/plain": [
       "array([     0.4607])"
      ]
     },
     "execution_count": 10,
     "metadata": {},
     "output_type": "execute_result"
    }
   ],
   "source": [
    "#load a best weight\n",
    "model = YOLO('runs/detect/train4/weights/best.pt') #load a custom model\n",
    "\n",
    "#validate the model\n",
    "metrics = model.val() #no arguments needed, dataset and settings remembered\n",
    "metrics.box.map #map50-95\n",
    "metrics.box.maps # a list contains map50-95 of each category"
   ]
  },
  {
   "cell_type": "markdown",
   "id": "3c5e3a63-1399-4669-aea2-6a5deb2c7e2a",
   "metadata": {},
   "source": [
    "### Plot F1-score"
   ]
  },
  {
   "cell_type": "code",
   "execution_count": null,
   "id": "631e82a5-19e2-4582-9031-d890efcda343",
   "metadata": {},
   "outputs": [],
   "source": [
    "Image(filename = 'runs/detect/val4/F1_curve.png', width =640)"
   ]
  },
  {
   "cell_type": "markdown",
   "id": "dde523c5-465c-410b-b3a7-e9eea3578e9a",
   "metadata": {},
   "source": [
    "### Inference"
   ]
  },
  {
   "cell_type": "markdown",
   "id": "1f832bdc-566a-4433-90c0-1924e822cf8b",
   "metadata": {},
   "source": [
    "#### Combined test"
   ]
  },
  {
   "cell_type": "code",
   "execution_count": 11,
   "id": "7d7be2df-aa3a-468b-a86f-5b36121ea1f5",
   "metadata": {},
   "outputs": [
    {
     "name": "stdout",
     "output_type": "stream",
     "text": [
      "Ultralytics YOLOv8.0.157 🚀 Python-3.10.0 torch-2.0.1+cu117 CUDA:0 (Tesla V100-SXM2-32GB, 32501MiB)\n",
      "Model summary (fused): 268 layers, 68124531 parameters, 0 gradients\n",
      "\u001b[34m\u001b[1mval: \u001b[0mScanning /scratch/project_2006327/YOLOv8/datasets/2024_datasets/scenario_3/\u001b[0m\n",
      "/CSC_CONTAINER/miniconda/envs/env1/lib/python3.10/site-packages/torch/utils/data/dataloader.py:560: UserWarning: This DataLoader will create 8 worker processes in total. Our suggested max number of worker in current system is 3, which is smaller than what this DataLoader is going to create. Please be aware that excessive worker creation might get DataLoader running slow or even freeze, lower the worker number to avoid potential slowness/freeze if necessary.\n",
      "  warnings.warn(_create_warning_msg(\n",
      "                 Class     Images  Instances      Box(P          R      mAP50  m\n",
      "                   all        277       2642      0.904      0.823      0.882      0.388\n",
      "Speed: 0.4ms preprocess, 17.0ms inference, 0.0ms loss, 0.4ms postprocess per image\n",
      "Results saved to \u001b[1minference/Combined_data_2024/metrics/xlarge\u001b[0m\n"
     ]
    }
   ],
   "source": [
    "#change the directory of the .yaml dataset\n",
    "!yolo val model=runs/detect/train4/weights/best.pt data=s3_test_2024.yaml conf=0.25 iou=0.5 project=inference/Combined_data_2024/metrics name=xlarge"
   ]
  },
  {
   "cell_type": "code",
   "execution_count": 6,
   "id": "3e1184fc-08bd-4038-95ba-206236e5e854",
   "metadata": {
    "scrolled": true
   },
   "outputs": [
    {
     "name": "stdout",
     "output_type": "stream",
     "text": [
      "Ultralytics YOLOv8.0.157 🚀 Python-3.10.0 torch-2.0.1+cu117 CUDA:0 (Tesla V100-SXM2-32GB, 32501MiB)\n",
      "Model summary (fused): 268 layers, 68124531 parameters, 0 gradients\n",
      "\n",
      "image 1/277 /scratch/project_2006327/YOLOv8/datasets/2024_datasets/scenario_3/test_data/images/test/Choke_113_4451.jpg: 640x640 1 C, 19.5ms\n",
      "image 2/277 /scratch/project_2006327/YOLOv8/datasets/2024_datasets/scenario_3/test_data/images/test/Choke_113_4452.jpg: 640x640 16 Cs, 19.5ms\n",
      "image 3/277 /scratch/project_2006327/YOLOv8/datasets/2024_datasets/scenario_3/test_data/images/test/Choke_113_4453.jpg: 640x640 18 Cs, 19.4ms\n",
      "image 4/277 /scratch/project_2006327/YOLOv8/datasets/2024_datasets/scenario_3/test_data/images/test/Choke_113_4454.jpg: 640x640 14 Cs, 19.5ms\n",
      "image 5/277 /scratch/project_2006327/YOLOv8/datasets/2024_datasets/scenario_3/test_data/images/test/Choke_113_4552.jpg: 640x640 1 C, 19.4ms\n",
      "image 6/277 /scratch/project_2006327/YOLOv8/datasets/2024_datasets/scenario_3/test_data/images/test/Choke_113_4553.jpg: 640x640 13 Cs, 19.4ms\n",
      "image 7/277 /scratch/project_2006327/YOLOv8/datasets/2024_datasets/scenario_3/test_data/images/test/Choke_113_4554.jpg: 640x640 42 Cs, 19.4ms\n",
      "image 8/277 /scratch/project_2006327/YOLOv8/datasets/2024_datasets/scenario_3/test_data/images/test/Choke_113_4555.jpg: 640x640 18 Cs, 19.4ms\n",
      "image 9/277 /scratch/project_2006327/YOLOv8/datasets/2024_datasets/scenario_3/test_data/images/test/Choke_113_4654.jpg: 640x640 11 Cs, 19.4ms\n",
      "image 10/277 /scratch/project_2006327/YOLOv8/datasets/2024_datasets/scenario_3/test_data/images/test/Choke_113_4655.jpg: 640x640 10 Cs, 19.4ms\n",
      "image 11/277 /scratch/project_2006327/YOLOv8/datasets/2024_datasets/scenario_3/test_data/images/test/Choke_113_4856.jpg: 640x640 12 Cs, 19.5ms\n",
      "image 12/277 /scratch/project_2006327/YOLOv8/datasets/2024_datasets/scenario_3/test_data/images/test/Choke_113_4857.jpg: 640x640 9 Cs, 19.5ms\n",
      "image 13/277 /scratch/project_2006327/YOLOv8/datasets/2024_datasets/scenario_3/test_data/images/test/Choke_113_4956.jpg: 640x640 9 Cs, 19.4ms\n",
      "image 14/277 /scratch/project_2006327/YOLOv8/datasets/2024_datasets/scenario_3/test_data/images/test/Choke_113_4957.jpg: 640x640 30 Cs, 19.5ms\n",
      "image 15/277 /scratch/project_2006327/YOLOv8/datasets/2024_datasets/scenario_3/test_data/images/test/Choke_113_4958.jpg: 640x640 12 Cs, 19.5ms\n",
      "image 16/277 /scratch/project_2006327/YOLOv8/datasets/2024_datasets/scenario_3/test_data/images/test/Choke_113_5056.jpg: 640x640 6 Cs, 19.5ms\n",
      "image 17/277 /scratch/project_2006327/YOLOv8/datasets/2024_datasets/scenario_3/test_data/images/test/Choke_113_5057.jpg: 640x640 25 Cs, 19.5ms\n",
      "image 18/277 /scratch/project_2006327/YOLOv8/datasets/2024_datasets/scenario_3/test_data/images/test/Choke_113_5058.jpg: 640x640 20 Cs, 19.5ms\n",
      "image 19/277 /scratch/project_2006327/YOLOv8/datasets/2024_datasets/scenario_3/test_data/images/test/Choke_113_5157.jpg: 640x640 1 C, 19.5ms\n",
      "image 20/277 /scratch/project_2006327/YOLOv8/datasets/2024_datasets/scenario_3/test_data/images/test/Choke_113_5158.jpg: 640x640 12 Cs, 19.4ms\n",
      "image 21/277 /scratch/project_2006327/YOLOv8/datasets/2024_datasets/scenario_3/test_data/images/test/Choke_113_5159.jpg: 640x640 7 Cs, 19.5ms\n",
      "image 22/277 /scratch/project_2006327/YOLOv8/datasets/2024_datasets/scenario_3/test_data/images/test/Choke_123_1525.jpg: 640x640 10 Cs, 19.5ms\n",
      "image 23/277 /scratch/project_2006327/YOLOv8/datasets/2024_datasets/scenario_3/test_data/images/test/Choke_123_1526.jpg: 640x640 3 Cs, 19.5ms\n",
      "image 24/277 /scratch/project_2006327/YOLOv8/datasets/2024_datasets/scenario_3/test_data/images/test/Choke_123_1626.jpg: 640x640 7 Cs, 19.4ms\n",
      "image 25/277 /scratch/project_2006327/YOLOv8/datasets/2024_datasets/scenario_3/test_data/images/test/Choke_123_1627.jpg: 640x640 22 Cs, 19.4ms\n",
      "image 26/277 /scratch/project_2006327/YOLOv8/datasets/2024_datasets/scenario_3/test_data/images/test/Choke_123_1724.jpg: 640x640 2 Cs, 19.4ms\n",
      "image 27/277 /scratch/project_2006327/YOLOv8/datasets/2024_datasets/scenario_3/test_data/images/test/Choke_123_1725.jpg: 640x640 3 Cs, 19.5ms\n",
      "image 28/277 /scratch/project_2006327/YOLOv8/datasets/2024_datasets/scenario_3/test_data/images/test/Choke_123_1728.jpg: 640x640 2 Cs, 19.4ms\n",
      "image 29/277 /scratch/project_2006327/YOLOv8/datasets/2024_datasets/scenario_3/test_data/images/test/Choke_123_1820.jpg: 640x640 1 C, 19.5ms\n",
      "image 30/277 /scratch/project_2006327/YOLOv8/datasets/2024_datasets/scenario_3/test_data/images/test/Choke_123_1821.jpg: 640x640 10 Cs, 19.4ms\n",
      "image 31/277 /scratch/project_2006327/YOLOv8/datasets/2024_datasets/scenario_3/test_data/images/test/Choke_123_1826.jpg: 640x640 11 Cs, 19.4ms\n",
      "image 32/277 /scratch/project_2006327/YOLOv8/datasets/2024_datasets/scenario_3/test_data/images/test/Choke_123_1827.jpg: 640x640 2 Cs, 19.4ms\n",
      "image 33/277 /scratch/project_2006327/YOLOv8/datasets/2024_datasets/scenario_3/test_data/images/test/Choke_123_1828.jpg: 640x640 1 C, 19.4ms\n",
      "image 34/277 /scratch/project_2006327/YOLOv8/datasets/2024_datasets/scenario_3/test_data/images/test/Choke_123_1880.jpg: 640x640 3 Cs, 38.5ms\n",
      "image 35/277 /scratch/project_2006327/YOLOv8/datasets/2024_datasets/scenario_3/test_data/images/test/Choke_123_1882.jpg: 640x640 8 Cs, 19.5ms\n",
      "image 36/277 /scratch/project_2006327/YOLOv8/datasets/2024_datasets/scenario_3/test_data/images/test/Choke_123_1921.jpg: 640x640 2 Cs, 19.4ms\n",
      "image 37/277 /scratch/project_2006327/YOLOv8/datasets/2024_datasets/scenario_3/test_data/images/test/Choke_123_1922.jpg: 640x640 12 Cs, 19.5ms\n",
      "image 38/277 /scratch/project_2006327/YOLOv8/datasets/2024_datasets/scenario_3/test_data/images/test/Choke_123_1923.jpg: 640x640 1 C, 19.4ms\n",
      "image 39/277 /scratch/project_2006327/YOLOv8/datasets/2024_datasets/scenario_3/test_data/images/test/Choke_123_1926.jpg: 640x640 1 C, 19.5ms\n",
      "image 40/277 /scratch/project_2006327/YOLOv8/datasets/2024_datasets/scenario_3/test_data/images/test/Choke_123_1927.jpg: 640x640 7 Cs, 19.4ms\n",
      "image 41/277 /scratch/project_2006327/YOLOv8/datasets/2024_datasets/scenario_3/test_data/images/test/Choke_123_1928.jpg: 640x640 25 Cs, 19.5ms\n",
      "image 42/277 /scratch/project_2006327/YOLOv8/datasets/2024_datasets/scenario_3/test_data/images/test/Choke_123_1929.jpg: 640x640 19 Cs, 19.6ms\n",
      "image 43/277 /scratch/project_2006327/YOLOv8/datasets/2024_datasets/scenario_3/test_data/images/test/Choke_123_1981.jpg: 640x640 8 Cs, 19.5ms\n",
      "image 44/277 /scratch/project_2006327/YOLOv8/datasets/2024_datasets/scenario_3/test_data/images/test/Choke_123_1982.jpg: 640x640 9 Cs, 19.6ms\n",
      "image 45/277 /scratch/project_2006327/YOLOv8/datasets/2024_datasets/scenario_3/test_data/images/test/Choke_123_1983.jpg: 640x640 10 Cs, 19.6ms\n",
      "image 46/277 /scratch/project_2006327/YOLOv8/datasets/2024_datasets/scenario_3/test_data/images/test/Choke_123_2030.jpg: 640x640 6 Cs, 19.5ms\n",
      "image 47/277 /scratch/project_2006327/YOLOv8/datasets/2024_datasets/scenario_3/test_data/images/test/Choke_123_2082.jpg: 640x640 7 Cs, 19.5ms\n",
      "image 48/277 /scratch/project_2006327/YOLOv8/datasets/2024_datasets/scenario_3/test_data/images/test/Choke_123_2083.jpg: 640x640 8 Cs, 19.5ms\n",
      "image 49/277 /scratch/project_2006327/YOLOv8/datasets/2024_datasets/scenario_3/test_data/images/test/Choke_123_2084.jpg: 640x640 5 Cs, 19.5ms\n",
      "image 50/277 /scratch/project_2006327/YOLOv8/datasets/2024_datasets/scenario_3/test_data/images/test/Choke_123_2183.jpg: 640x640 5 Cs, 19.5ms\n",
      "image 51/277 /scratch/project_2006327/YOLOv8/datasets/2024_datasets/scenario_3/test_data/images/test/Choke_123_2184.jpg: 640x640 3 Cs, 19.5ms\n",
      "image 52/277 /scratch/project_2006327/YOLOv8/datasets/2024_datasets/scenario_3/test_data/images/test/Choke_123_2185.jpg: 640x640 9 Cs, 19.5ms\n",
      "image 53/277 /scratch/project_2006327/YOLOv8/datasets/2024_datasets/scenario_3/test_data/images/test/Choke_123_3499.jpg: 640x640 15 Cs, 19.5ms\n",
      "image 54/277 /scratch/project_2006327/YOLOv8/datasets/2024_datasets/scenario_3/test_data/images/test/Choke_123_3500.jpg: 640x640 21 Cs, 19.5ms\n",
      "image 55/277 /scratch/project_2006327/YOLOv8/datasets/2024_datasets/scenario_3/test_data/images/test/Choke_123_3600.jpg: 640x640 9 Cs, 19.4ms\n",
      "image 56/277 /scratch/project_2006327/YOLOv8/datasets/2024_datasets/scenario_3/test_data/images/test/Choke_123_3601.jpg: 640x640 18 Cs, 19.4ms\n",
      "image 57/277 /scratch/project_2006327/YOLOv8/datasets/2024_datasets/scenario_3/test_data/images/test/Choke_123_3701.jpg: 640x640 1 C, 19.4ms\n",
      "image 58/277 /scratch/project_2006327/YOLOv8/datasets/2024_datasets/scenario_3/test_data/images/test/Choke_123_3702.jpg: 640x640 1 C, 19.4ms\n",
      "image 59/277 /scratch/project_2006327/YOLOv8/datasets/2024_datasets/scenario_3/test_data/images/test/Choke_123_3703.jpg: 640x640 4 Cs, 19.5ms\n",
      "image 60/277 /scratch/project_2006327/YOLOv8/datasets/2024_datasets/scenario_3/test_data/images/test/Choke_123_3802.jpg: 640x640 4 Cs, 19.5ms\n",
      "image 61/277 /scratch/project_2006327/YOLOv8/datasets/2024_datasets/scenario_3/test_data/images/test/Choke_123_3803.jpg: 640x640 3 Cs, 19.5ms\n",
      "image 62/277 /scratch/project_2006327/YOLOv8/datasets/2024_datasets/scenario_3/test_data/images/test/Choke_123_393.jpg: 640x640 10 Cs, 19.4ms\n",
      "image 63/277 /scratch/project_2006327/YOLOv8/datasets/2024_datasets/scenario_3/test_data/images/test/Choke_123_394.jpg: 640x640 1 C, 19.4ms\n",
      "image 64/277 /scratch/project_2006327/YOLOv8/datasets/2024_datasets/scenario_3/test_data/images/test/Choke_123_493.jpg: 640x640 9 Cs, 19.4ms\n",
      "image 65/277 /scratch/project_2006327/YOLOv8/datasets/2024_datasets/scenario_3/test_data/images/test/Choke_123_494.jpg: 640x640 20 Cs, 19.4ms\n",
      "image 66/277 /scratch/project_2006327/YOLOv8/datasets/2024_datasets/scenario_3/test_data/images/test/Choke_123_495.jpg: 640x640 3 Cs, 19.5ms\n",
      "image 67/277 /scratch/project_2006327/YOLOv8/datasets/2024_datasets/scenario_3/test_data/images/test/Choke_123_5089.jpg: 640x640 3 Cs, 19.4ms\n",
      "image 68/277 /scratch/project_2006327/YOLOv8/datasets/2024_datasets/scenario_3/test_data/images/test/Choke_123_594.jpg: 640x640 1 C, 19.4ms\n",
      "image 69/277 /scratch/project_2006327/YOLOv8/datasets/2024_datasets/scenario_3/test_data/images/test/Choke_123_595.jpg: 640x640 9 Cs, 19.4ms\n",
      "image 70/277 /scratch/project_2006327/YOLOv8/datasets/2024_datasets/scenario_3/test_data/images/test/Choke_123_596.jpg: 640x640 2 Cs, 19.4ms\n",
      "image 71/277 /scratch/project_2006327/YOLOv8/datasets/2024_datasets/scenario_3/test_data/images/test/Choke_123_695.jpg: 640x640 2 Cs, 19.4ms\n",
      "image 72/277 /scratch/project_2006327/YOLOv8/datasets/2024_datasets/scenario_3/test_data/images/test/Choke_123_696.jpg: 640x640 7 Cs, 19.4ms\n",
      "image 73/277 /scratch/project_2006327/YOLOv8/datasets/2024_datasets/scenario_3/test_data/images/test/Choke_123_697.jpg: 640x640 3 Cs, 19.4ms\n",
      "image 74/277 /scratch/project_2006327/YOLOv8/datasets/2024_datasets/scenario_3/test_data/images/test/Choke_123_698.jpg: 640x640 2 Cs, 19.4ms\n",
      "image 75/277 /scratch/project_2006327/YOLOv8/datasets/2024_datasets/scenario_3/test_data/images/test/Choke_143_2035.jpg: 640x640 1 C, 19.5ms\n",
      "image 76/277 /scratch/project_2006327/YOLOv8/datasets/2024_datasets/scenario_3/test_data/images/test/Choke_143_2036.jpg: 640x640 2 Cs, 19.4ms\n",
      "image 77/277 /scratch/project_2006327/YOLOv8/datasets/2024_datasets/scenario_3/test_data/images/test/Choke_143_2037.jpg: 640x640 3 Cs, 19.5ms\n",
      "image 78/277 /scratch/project_2006327/YOLOv8/datasets/2024_datasets/scenario_3/test_data/images/test/Choke_143_2038.jpg: 640x640 7 Cs, 19.4ms\n",
      "image 79/277 /scratch/project_2006327/YOLOv8/datasets/2024_datasets/scenario_3/test_data/images/test/Choke_143_2039.jpg: 640x640 5 Cs, 19.4ms\n",
      "image 80/277 /scratch/project_2006327/YOLOv8/datasets/2024_datasets/scenario_3/test_data/images/test/Choke_143_2040.jpg: 640x640 2 Cs, 20.4ms\n",
      "image 81/277 /scratch/project_2006327/YOLOv8/datasets/2024_datasets/scenario_3/test_data/images/test/Choke_143_2136.jpg: 640x640 4 Cs, 19.4ms\n",
      "image 82/277 /scratch/project_2006327/YOLOv8/datasets/2024_datasets/scenario_3/test_data/images/test/Choke_143_2137.jpg: 640x640 7 Cs, 19.4ms\n",
      "image 83/277 /scratch/project_2006327/YOLOv8/datasets/2024_datasets/scenario_3/test_data/images/test/Choke_143_2138.jpg: 640x640 5 Cs, 19.5ms\n",
      "image 84/277 /scratch/project_2006327/YOLOv8/datasets/2024_datasets/scenario_3/test_data/images/test/Choke_143_2139.jpg: 640x640 4 Cs, 19.4ms\n",
      "image 85/277 /scratch/project_2006327/YOLOv8/datasets/2024_datasets/scenario_3/test_data/images/test/Choke_143_2140.jpg: 640x640 1 C, 19.4ms\n",
      "image 86/277 /scratch/project_2006327/YOLOv8/datasets/2024_datasets/scenario_3/test_data/images/test/Choke_143_2141.jpg: 640x640 4 Cs, 19.4ms\n",
      "image 87/277 /scratch/project_2006327/YOLOv8/datasets/2024_datasets/scenario_3/test_data/images/test/Choke_143_2237.jpg: 640x640 (no detections), 19.4ms\n",
      "image 88/277 /scratch/project_2006327/YOLOv8/datasets/2024_datasets/scenario_3/test_data/images/test/Choke_143_2239.jpg: 640x640 2 Cs, 19.4ms\n",
      "image 89/277 /scratch/project_2006327/YOLOv8/datasets/2024_datasets/scenario_3/test_data/images/test/Choke_143_2240.jpg: 640x640 2 Cs, 19.4ms\n",
      "image 90/277 /scratch/project_2006327/YOLOv8/datasets/2024_datasets/scenario_3/test_data/images/test/Choke_143_2338.jpg: 640x640 9 Cs, 19.5ms\n",
      "image 91/277 /scratch/project_2006327/YOLOv8/datasets/2024_datasets/scenario_3/test_data/images/test/Choke_143_2339.jpg: 640x640 2 Cs, 19.4ms\n",
      "image 92/277 /scratch/project_2006327/YOLOv8/datasets/2024_datasets/scenario_3/test_data/images/test/Choke_143_2439.jpg: 640x640 12 Cs, 19.4ms\n",
      "image 93/277 /scratch/project_2006327/YOLOv8/datasets/2024_datasets/scenario_3/test_data/images/test/Choke_143_2633.jpg: 640x640 4 Cs, 19.4ms\n",
      "image 94/277 /scratch/project_2006327/YOLOv8/datasets/2024_datasets/scenario_3/test_data/images/test/Choke_143_4445.jpg: 640x640 5 Cs, 19.5ms\n",
      "image 95/277 /scratch/project_2006327/YOLOv8/datasets/2024_datasets/scenario_3/test_data/images/test/Choke_143_4446.jpg: 640x640 1 C, 20.4ms\n",
      "image 96/277 /scratch/project_2006327/YOLOv8/datasets/2024_datasets/scenario_3/test_data/images/test/Choke_143_4546.jpg: 640x640 4 Cs, 19.4ms\n",
      "image 97/277 /scratch/project_2006327/YOLOv8/datasets/2024_datasets/scenario_3/test_data/images/test/Choke_143_4547.jpg: 640x640 11 Cs, 19.4ms\n",
      "image 98/277 /scratch/project_2006327/YOLOv8/datasets/2024_datasets/scenario_3/test_data/images/test/Choke_143_4548.jpg: 640x640 3 Cs, 19.5ms\n",
      "image 99/277 /scratch/project_2006327/YOLOv8/datasets/2024_datasets/scenario_3/test_data/images/test/Choke_143_4647.jpg: 640x640 1 C, 19.5ms\n",
      "image 100/277 /scratch/project_2006327/YOLOv8/datasets/2024_datasets/scenario_3/test_data/images/test/Choke_143_4648.jpg: 640x640 5 Cs, 19.4ms\n",
      "image 101/277 /scratch/project_2006327/YOLOv8/datasets/2024_datasets/scenario_3/test_data/images/test/Choke_143_4649.jpg: 640x640 5 Cs, 19.4ms\n",
      "image 102/277 /scratch/project_2006327/YOLOv8/datasets/2024_datasets/scenario_3/test_data/images/test/Choke_143_4750.jpg: 640x640 4 Cs, 19.4ms\n",
      "image 103/277 /scratch/project_2006327/YOLOv8/datasets/2024_datasets/scenario_3/test_data/images/test/Choke_143_4751.jpg: 640x640 2 Cs, 19.4ms\n",
      "image 104/277 /scratch/project_2006327/YOLOv8/datasets/2024_datasets/scenario_3/test_data/images/test/Choke_143_5535.jpg: 640x640 1 C, 19.4ms\n",
      "image 105/277 /scratch/project_2006327/YOLOv8/datasets/2024_datasets/scenario_3/test_data/images/test/Lumo_032_4621.jpg: 640x640 3 Cs, 19.4ms\n",
      "image 106/277 /scratch/project_2006327/YOLOv8/datasets/2024_datasets/scenario_3/test_data/images/test/Lumo_032_4622.jpg: 640x640 2 Cs, 19.5ms\n",
      "image 107/277 /scratch/project_2006327/YOLOv8/datasets/2024_datasets/scenario_3/test_data/images/test/Lumo_032_4623.jpg: 640x640 1 C, 19.4ms\n",
      "image 108/277 /scratch/project_2006327/YOLOv8/datasets/2024_datasets/scenario_3/test_data/images/test/Lumo_032_4723.jpg: 640x640 22 Cs, 19.6ms\n",
      "image 109/277 /scratch/project_2006327/YOLOv8/datasets/2024_datasets/scenario_3/test_data/images/test/Lumo_032_4724.jpg: 640x640 3 Cs, 19.7ms\n",
      "image 110/277 /scratch/project_2006327/YOLOv8/datasets/2024_datasets/scenario_3/test_data/images/test/Lumo_032_4725.jpg: 640x640 25 Cs, 19.6ms\n",
      "image 111/277 /scratch/project_2006327/YOLOv8/datasets/2024_datasets/scenario_3/test_data/images/test/Lumo_032_4824.jpg: 640x640 6 Cs, 19.6ms\n",
      "image 112/277 /scratch/project_2006327/YOLOv8/datasets/2024_datasets/scenario_3/test_data/images/test/Lumo_032_4825.jpg: 640x640 37 Cs, 19.6ms\n",
      "image 113/277 /scratch/project_2006327/YOLOv8/datasets/2024_datasets/scenario_3/test_data/images/test/Lumo_032_4826.jpg: 640x640 50 Cs, 19.5ms\n",
      "image 114/277 /scratch/project_2006327/YOLOv8/datasets/2024_datasets/scenario_3/test_data/images/test/Lumo_032_4925.jpg: 640x640 1 C, 19.5ms\n",
      "image 115/277 /scratch/project_2006327/YOLOv8/datasets/2024_datasets/scenario_3/test_data/images/test/Lumo_032_4926.jpg: 640x640 4 Cs, 19.5ms\n",
      "image 116/277 /scratch/project_2006327/YOLOv8/datasets/2024_datasets/scenario_3/test_data/images/test/Lumo_032_4927.jpg: 640x640 9 Cs, 19.5ms\n",
      "image 117/277 /scratch/project_2006327/YOLOv8/datasets/2024_datasets/scenario_3/test_data/images/test/Lumo_032_5855.jpg: 640x640 1 C, 19.5ms\n",
      "image 118/277 /scratch/project_2006327/YOLOv8/datasets/2024_datasets/scenario_3/test_data/images/test/Lumo_032_5856.jpg: 640x640 9 Cs, 19.4ms\n",
      "image 119/277 /scratch/project_2006327/YOLOv8/datasets/2024_datasets/scenario_3/test_data/images/test/Lumo_032_5955.jpg: 640x640 2 Cs, 19.5ms\n",
      "image 120/277 /scratch/project_2006327/YOLOv8/datasets/2024_datasets/scenario_3/test_data/images/test/Lumo_032_5956.jpg: 640x640 20 Cs, 19.5ms\n",
      "image 121/277 /scratch/project_2006327/YOLOv8/datasets/2024_datasets/scenario_3/test_data/images/test/Lumo_032_5957.jpg: 640x640 12 Cs, 19.4ms\n",
      "image 122/277 /scratch/project_2006327/YOLOv8/datasets/2024_datasets/scenario_3/test_data/images/test/Lumo_032_5958.jpg: 640x640 10 Cs, 19.5ms\n",
      "image 123/277 /scratch/project_2006327/YOLOv8/datasets/2024_datasets/scenario_3/test_data/images/test/Lumo_032_6056.jpg: 640x640 3 Cs, 19.4ms\n",
      "image 124/277 /scratch/project_2006327/YOLOv8/datasets/2024_datasets/scenario_3/test_data/images/test/Lumo_032_6057.jpg: 640x640 6 Cs, 19.4ms\n",
      "image 125/277 /scratch/project_2006327/YOLOv8/datasets/2024_datasets/scenario_3/test_data/images/test/Lumo_032_6058.jpg: 640x640 13 Cs, 19.4ms\n",
      "image 126/277 /scratch/project_2006327/YOLOv8/datasets/2024_datasets/scenario_3/test_data/images/test/Lumo_032_6059.jpg: 640x640 33 Cs, 19.4ms\n",
      "image 127/277 /scratch/project_2006327/YOLOv8/datasets/2024_datasets/scenario_3/test_data/images/test/Lumo_032_6157.jpg: 640x640 2 Cs, 19.4ms\n",
      "image 128/277 /scratch/project_2006327/YOLOv8/datasets/2024_datasets/scenario_3/test_data/images/test/Lumo_032_6158.jpg: 640x640 6 Cs, 19.5ms\n",
      "image 129/277 /scratch/project_2006327/YOLOv8/datasets/2024_datasets/scenario_3/test_data/images/test/Lumo_032_6159.jpg: 640x640 15 Cs, 19.5ms\n",
      "image 130/277 /scratch/project_2006327/YOLOv8/datasets/2024_datasets/scenario_3/test_data/images/test/Lumo_032_6160.jpg: 640x640 22 Cs, 19.4ms\n",
      "image 131/277 /scratch/project_2006327/YOLOv8/datasets/2024_datasets/scenario_3/test_data/images/test/Lumo_032_6259.jpg: 640x640 3 Cs, 19.4ms\n",
      "image 132/277 /scratch/project_2006327/YOLOv8/datasets/2024_datasets/scenario_3/test_data/images/test/Lumo_032_6260.jpg: 640x640 9 Cs, 19.4ms\n",
      "image 133/277 /scratch/project_2006327/YOLOv8/datasets/2024_datasets/scenario_3/test_data/images/test/Lumo_049_115.jpg: 640x640 2 Cs, 19.4ms\n",
      "image 134/277 /scratch/project_2006327/YOLOv8/datasets/2024_datasets/scenario_3/test_data/images/test/Lumo_049_117.jpg: 640x640 7 Cs, 19.4ms\n",
      "image 135/277 /scratch/project_2006327/YOLOv8/datasets/2024_datasets/scenario_3/test_data/images/test/Lumo_049_118.jpg: 640x640 14 Cs, 19.4ms\n",
      "image 136/277 /scratch/project_2006327/YOLOv8/datasets/2024_datasets/scenario_3/test_data/images/test/Lumo_049_119.jpg: 640x640 31 Cs, 19.4ms\n",
      "image 137/277 /scratch/project_2006327/YOLOv8/datasets/2024_datasets/scenario_3/test_data/images/test/Lumo_049_1416.jpg: 640x640 3 Cs, 19.4ms\n",
      "image 138/277 /scratch/project_2006327/YOLOv8/datasets/2024_datasets/scenario_3/test_data/images/test/Lumo_049_1417.jpg: 640x640 5 Cs, 19.4ms\n",
      "image 139/277 /scratch/project_2006327/YOLOv8/datasets/2024_datasets/scenario_3/test_data/images/test/Lumo_049_1517.jpg: 640x640 11 Cs, 19.4ms\n",
      "image 140/277 /scratch/project_2006327/YOLOv8/datasets/2024_datasets/scenario_3/test_data/images/test/Lumo_049_1518.jpg: 640x640 59 Cs, 19.4ms\n",
      "image 141/277 /scratch/project_2006327/YOLOv8/datasets/2024_datasets/scenario_3/test_data/images/test/Lumo_049_1519.jpg: 640x640 1 C, 19.4ms\n",
      "image 142/277 /scratch/project_2006327/YOLOv8/datasets/2024_datasets/scenario_3/test_data/images/test/Lumo_049_1618.jpg: 640x640 17 Cs, 19.4ms\n",
      "image 143/277 /scratch/project_2006327/YOLOv8/datasets/2024_datasets/scenario_3/test_data/images/test/Lumo_049_1619.jpg: 640x640 7 Cs, 19.4ms\n",
      "image 144/277 /scratch/project_2006327/YOLOv8/datasets/2024_datasets/scenario_3/test_data/images/test/Lumo_049_1620.jpg: 640x640 1 C, 19.4ms\n",
      "image 145/277 /scratch/project_2006327/YOLOv8/datasets/2024_datasets/scenario_3/test_data/images/test/Lumo_049_1826.jpg: 640x640 11 Cs, 19.4ms\n",
      "image 146/277 /scratch/project_2006327/YOLOv8/datasets/2024_datasets/scenario_3/test_data/images/test/Lumo_049_1827.jpg: 640x640 26 Cs, 19.4ms\n",
      "image 147/277 /scratch/project_2006327/YOLOv8/datasets/2024_datasets/scenario_3/test_data/images/test/Lumo_049_1927.jpg: 640x640 7 Cs, 19.4ms\n",
      "image 148/277 /scratch/project_2006327/YOLOv8/datasets/2024_datasets/scenario_3/test_data/images/test/Lumo_049_1928.jpg: 640x640 10 Cs, 19.4ms\n",
      "image 149/277 /scratch/project_2006327/YOLOv8/datasets/2024_datasets/scenario_3/test_data/images/test/Lumo_049_2029.jpg: 640x640 17 Cs, 19.4ms\n",
      "image 150/277 /scratch/project_2006327/YOLOv8/datasets/2024_datasets/scenario_3/test_data/images/test/Lumo_049_2030.jpg: 640x640 4 Cs, 19.4ms\n",
      "image 151/277 /scratch/project_2006327/YOLOv8/datasets/2024_datasets/scenario_3/test_data/images/test/Lumo_049_218.jpg: 640x640 1 C, 19.4ms\n",
      "image 152/277 /scratch/project_2006327/YOLOv8/datasets/2024_datasets/scenario_3/test_data/images/test/Lumo_049_220.jpg: 640x640 3 Cs, 19.4ms\n",
      "image 153/277 /scratch/project_2006327/YOLOv8/datasets/2024_datasets/scenario_3/test_data/images/test/Lumo_069_1049.jpg: 640x640 5 Cs, 19.4ms\n",
      "image 154/277 /scratch/project_2006327/YOLOv8/datasets/2024_datasets/scenario_3/test_data/images/test/Lumo_069_1050.jpg: 640x640 7 Cs, 19.4ms\n",
      "image 155/277 /scratch/project_2006327/YOLOv8/datasets/2024_datasets/scenario_3/test_data/images/test/Lumo_069_543.jpg: 640x640 11 Cs, 19.4ms\n",
      "image 156/277 /scratch/project_2006327/YOLOv8/datasets/2024_datasets/scenario_3/test_data/images/test/Lumo_069_644.jpg: 640x640 23 Cs, 19.4ms\n",
      "image 157/277 /scratch/project_2006327/YOLOv8/datasets/2024_datasets/scenario_3/test_data/images/test/Lumo_069_744.jpg: 640x640 8 Cs, 19.4ms\n",
      "image 158/277 /scratch/project_2006327/YOLOv8/datasets/2024_datasets/scenario_3/test_data/images/test/Lumo_069_745.jpg: 640x640 13 Cs, 19.4ms\n",
      "image 159/277 /scratch/project_2006327/YOLOv8/datasets/2024_datasets/scenario_3/test_data/images/test/Lumo_069_746.jpg: 640x640 14 Cs, 19.4ms\n",
      "image 160/277 /scratch/project_2006327/YOLOv8/datasets/2024_datasets/scenario_3/test_data/images/test/Lumo_069_844.jpg: 640x640 4 Cs, 19.4ms\n",
      "image 161/277 /scratch/project_2006327/YOLOv8/datasets/2024_datasets/scenario_3/test_data/images/test/Lumo_069_845.jpg: 640x640 8 Cs, 19.4ms\n",
      "image 162/277 /scratch/project_2006327/YOLOv8/datasets/2024_datasets/scenario_3/test_data/images/test/Lumo_069_846.jpg: 640x640 26 Cs, 19.4ms\n",
      "image 163/277 /scratch/project_2006327/YOLOv8/datasets/2024_datasets/scenario_3/test_data/images/test/Lumo_069_847.jpg: 640x640 11 Cs, 19.4ms\n",
      "image 164/277 /scratch/project_2006327/YOLOv8/datasets/2024_datasets/scenario_3/test_data/images/test/Lumo_069_848.jpg: 640x640 3 Cs, 19.4ms\n",
      "image 165/277 /scratch/project_2006327/YOLOv8/datasets/2024_datasets/scenario_3/test_data/images/test/Lumo_069_946.jpg: 640x640 11 Cs, 19.4ms\n",
      "image 166/277 /scratch/project_2006327/YOLOv8/datasets/2024_datasets/scenario_3/test_data/images/test/Lumo_069_947.jpg: 640x640 14 Cs, 19.4ms\n",
      "image 167/277 /scratch/project_2006327/YOLOv8/datasets/2024_datasets/scenario_3/test_data/images/test/Lumo_069_948.jpg: 640x640 34 Cs, 19.4ms\n",
      "image 168/277 /scratch/project_2006327/YOLOv8/datasets/2024_datasets/scenario_3/test_data/images/test/Lumo_069_949.jpg: 640x640 14 Cs, 19.4ms\n",
      "image 169/277 /scratch/project_2006327/YOLOv8/datasets/2024_datasets/scenario_3/test_data/images/test/Lumo_091_1117.jpg: 640x640 4 Cs, 19.4ms\n",
      "image 170/277 /scratch/project_2006327/YOLOv8/datasets/2024_datasets/scenario_3/test_data/images/test/Lumo_091_1216.jpg: 640x640 3 Cs, 19.4ms\n",
      "image 171/277 /scratch/project_2006327/YOLOv8/datasets/2024_datasets/scenario_3/test_data/images/test/Lumo_091_1217.jpg: 640x640 7 Cs, 19.4ms\n",
      "image 172/277 /scratch/project_2006327/YOLOv8/datasets/2024_datasets/scenario_3/test_data/images/test/Lumo_091_1218.jpg: 640x640 16 Cs, 19.4ms\n",
      "image 173/277 /scratch/project_2006327/YOLOv8/datasets/2024_datasets/scenario_3/test_data/images/test/Lumo_091_127.jpg: 640x640 20 Cs, 19.6ms\n",
      "image 174/277 /scratch/project_2006327/YOLOv8/datasets/2024_datasets/scenario_3/test_data/images/test/Lumo_091_128.jpg: 640x640 10 Cs, 19.4ms\n",
      "image 175/277 /scratch/project_2006327/YOLOv8/datasets/2024_datasets/scenario_3/test_data/images/test/Lumo_091_1314.jpg: 640x640 1 C, 19.4ms\n",
      "image 176/277 /scratch/project_2006327/YOLOv8/datasets/2024_datasets/scenario_3/test_data/images/test/Lumo_091_1317.jpg: 640x640 4 Cs, 19.4ms\n",
      "image 177/277 /scratch/project_2006327/YOLOv8/datasets/2024_datasets/scenario_3/test_data/images/test/Lumo_091_1318.jpg: 640x640 4 Cs, 19.5ms\n",
      "image 178/277 /scratch/project_2006327/YOLOv8/datasets/2024_datasets/scenario_3/test_data/images/test/Lumo_091_1319.jpg: 640x640 3 Cs, 19.4ms\n",
      "image 179/277 /scratch/project_2006327/YOLOv8/datasets/2024_datasets/scenario_3/test_data/images/test/Lumo_091_227.jpg: 640x640 13 Cs, 19.4ms\n",
      "image 180/277 /scratch/project_2006327/YOLOv8/datasets/2024_datasets/scenario_3/test_data/images/test/Lumo_091_228.jpg: 640x640 41 Cs, 19.4ms\n",
      "image 181/277 /scratch/project_2006327/YOLOv8/datasets/2024_datasets/scenario_3/test_data/images/test/Lumo_091_229.jpg: 640x640 7 Cs, 19.4ms\n",
      "image 182/277 /scratch/project_2006327/YOLOv8/datasets/2024_datasets/scenario_3/test_data/images/test/Lumo_091_327.jpg: 640x640 3 Cs, 19.4ms\n",
      "image 183/277 /scratch/project_2006327/YOLOv8/datasets/2024_datasets/scenario_3/test_data/images/test/Lumo_091_328.jpg: 640x640 3 Cs, 19.4ms\n",
      "image 184/277 /scratch/project_2006327/YOLOv8/datasets/2024_datasets/scenario_3/test_data/images/test/Lumo_091_427.jpg: 640x640 6 Cs, 19.4ms\n",
      "image 185/277 /scratch/project_2006327/YOLOv8/datasets/2024_datasets/scenario_3/test_data/images/test/Lumo_091_428.jpg: 640x640 9 Cs, 19.4ms\n",
      "image 186/277 /scratch/project_2006327/YOLOv8/datasets/2024_datasets/scenario_3/test_data/images/test/Lumo_091_528.jpg: 640x640 15 Cs, 19.4ms\n",
      "image 187/277 /scratch/project_2006327/YOLOv8/datasets/2024_datasets/scenario_3/test_data/images/test/THW_097_3559.jpg: 640x640 4 Cs, 19.4ms\n",
      "image 188/277 /scratch/project_2006327/YOLOv8/datasets/2024_datasets/scenario_3/test_data/images/test/THW_097_3560.jpg: 640x640 26 Cs, 19.4ms\n",
      "image 189/277 /scratch/project_2006327/YOLOv8/datasets/2024_datasets/scenario_3/test_data/images/test/THW_097_3561.jpg: 640x640 7 Cs, 19.4ms\n",
      "image 190/277 /scratch/project_2006327/YOLOv8/datasets/2024_datasets/scenario_3/test_data/images/test/THW_097_3562.jpg: 640x640 2 Cs, 19.4ms\n",
      "image 191/277 /scratch/project_2006327/YOLOv8/datasets/2024_datasets/scenario_3/test_data/images/test/THW_097_3659.jpg: 640x640 11 Cs, 19.4ms\n",
      "image 192/277 /scratch/project_2006327/YOLOv8/datasets/2024_datasets/scenario_3/test_data/images/test/THW_097_3660.jpg: 640x640 4 Cs, 19.4ms\n",
      "image 193/277 /scratch/project_2006327/YOLOv8/datasets/2024_datasets/scenario_3/test_data/images/test/THW_097_3661.jpg: 640x640 12 Cs, 19.4ms\n",
      "image 194/277 /scratch/project_2006327/YOLOv8/datasets/2024_datasets/scenario_3/test_data/images/test/THW_097_3662.jpg: 640x640 21 Cs, 19.4ms\n",
      "image 195/277 /scratch/project_2006327/YOLOv8/datasets/2024_datasets/scenario_3/test_data/images/test/THW_097_3663.jpg: 640x640 8 Cs, 19.4ms\n",
      "image 196/277 /scratch/project_2006327/YOLOv8/datasets/2024_datasets/scenario_3/test_data/images/test/THW_097_3758.jpg: 640x640 2 Cs, 19.4ms\n",
      "image 197/277 /scratch/project_2006327/YOLOv8/datasets/2024_datasets/scenario_3/test_data/images/test/THW_097_3759.jpg: 640x640 11 Cs, 19.4ms\n",
      "image 198/277 /scratch/project_2006327/YOLOv8/datasets/2024_datasets/scenario_3/test_data/images/test/THW_097_3760.jpg: 640x640 3 Cs, 19.4ms\n",
      "image 199/277 /scratch/project_2006327/YOLOv8/datasets/2024_datasets/scenario_3/test_data/images/test/THW_097_3761.jpg: 640x640 6 Cs, 19.4ms\n",
      "image 200/277 /scratch/project_2006327/YOLOv8/datasets/2024_datasets/scenario_3/test_data/images/test/THW_097_3763.jpg: 640x640 2 Cs, 19.4ms\n",
      "image 201/277 /scratch/project_2006327/YOLOv8/datasets/2024_datasets/scenario_3/test_data/images/test/THW_097_3860.jpg: 640x640 2 Cs, 19.4ms\n",
      "image 202/277 /scratch/project_2006327/YOLOv8/datasets/2024_datasets/scenario_3/test_data/images/test/THW_097_3962.jpg: 640x640 1 C, 19.4ms\n",
      "image 203/277 /scratch/project_2006327/YOLOv8/datasets/2024_datasets/scenario_3/test_data/images/test/THW_097_3987.jpg: 640x640 5 Cs, 19.4ms\n",
      "image 204/277 /scratch/project_2006327/YOLOv8/datasets/2024_datasets/scenario_3/test_data/images/test/THW_097_3988.jpg: 640x640 10 Cs, 19.4ms\n",
      "image 205/277 /scratch/project_2006327/YOLOv8/datasets/2024_datasets/scenario_3/test_data/images/test/THW_097_4063.jpg: 640x640 2 Cs, 19.4ms\n",
      "image 206/277 /scratch/project_2006327/YOLOv8/datasets/2024_datasets/scenario_3/test_data/images/test/THW_097_4064.jpg: 640x640 1 C, 19.4ms\n",
      "image 207/277 /scratch/project_2006327/YOLOv8/datasets/2024_datasets/scenario_3/test_data/images/test/THW_097_4088.jpg: 640x640 31 Cs, 19.4ms\n",
      "image 208/277 /scratch/project_2006327/YOLOv8/datasets/2024_datasets/scenario_3/test_data/images/test/THW_097_4089.jpg: 640x640 32 Cs, 20.3ms\n",
      "image 209/277 /scratch/project_2006327/YOLOv8/datasets/2024_datasets/scenario_3/test_data/images/test/THW_097_4188.jpg: 640x640 1 C, 19.4ms\n",
      "image 210/277 /scratch/project_2006327/YOLOv8/datasets/2024_datasets/scenario_3/test_data/images/test/THW_097_4189.jpg: 640x640 13 Cs, 19.4ms\n",
      "image 211/277 /scratch/project_2006327/YOLOv8/datasets/2024_datasets/scenario_3/test_data/images/test/THW_097_4190.jpg: 640x640 9 Cs, 19.4ms\n",
      "image 212/277 /scratch/project_2006327/YOLOv8/datasets/2024_datasets/scenario_3/test_data/images/test/THW_097_4290.jpg: 640x640 2 Cs, 19.4ms\n",
      "image 213/277 /scratch/project_2006327/YOLOv8/datasets/2024_datasets/scenario_3/test_data/images/test/THW_097_4292.jpg: 640x640 5 Cs, 19.4ms\n",
      "image 214/277 /scratch/project_2006327/YOLOv8/datasets/2024_datasets/scenario_3/test_data/images/test/THW_097_4393.jpg: 640x640 2 Cs, 20.4ms\n",
      "image 215/277 /scratch/project_2006327/YOLOv8/datasets/2024_datasets/scenario_3/test_data/images/test/THW_097_5078.jpg: 640x640 17 Cs, 19.4ms\n",
      "image 216/277 /scratch/project_2006327/YOLOv8/datasets/2024_datasets/scenario_3/test_data/images/test/THW_097_5079.jpg: 640x640 16 Cs, 19.5ms\n",
      "image 217/277 /scratch/project_2006327/YOLOv8/datasets/2024_datasets/scenario_3/test_data/images/test/THW_097_5179.jpg: 640x640 7 Cs, 19.4ms\n",
      "image 218/277 /scratch/project_2006327/YOLOv8/datasets/2024_datasets/scenario_3/test_data/images/test/THW_097_5180.jpg: 640x640 6 Cs, 19.4ms\n",
      "image 219/277 /scratch/project_2006327/YOLOv8/datasets/2024_datasets/scenario_3/test_data/images/test/THW_097_5181.jpg: 640x640 1 C, 19.4ms\n",
      "image 220/277 /scratch/project_2006327/YOLOv8/datasets/2024_datasets/scenario_3/test_data/images/test/THW_097_5280.jpg: 640x640 4 Cs, 19.4ms\n",
      "image 221/277 /scratch/project_2006327/YOLOv8/datasets/2024_datasets/scenario_3/test_data/images/test/THW_097_5281.jpg: 640x640 12 Cs, 19.4ms\n",
      "image 222/277 /scratch/project_2006327/YOLOv8/datasets/2024_datasets/scenario_3/test_data/images/test/THW_097_5382.jpg: 640x640 11 Cs, 19.4ms\n",
      "image 223/277 /scratch/project_2006327/YOLOv8/datasets/2024_datasets/scenario_3/test_data/images/test/THW_097_5383.jpg: 640x640 10 Cs, 19.4ms\n",
      "image 224/277 /scratch/project_2006327/YOLOv8/datasets/2024_datasets/scenario_3/test_data/images/test/THW_097_5483.jpg: 640x640 16 Cs, 19.4ms\n",
      "image 225/277 /scratch/project_2006327/YOLOv8/datasets/2024_datasets/scenario_3/test_data/images/test/THW_097_5484.jpg: 640x640 23 Cs, 19.4ms\n",
      "image 226/277 /scratch/project_2006327/YOLOv8/datasets/2024_datasets/scenario_3/test_data/images/test/THW_097_5485.jpg: 640x640 5 Cs, 19.4ms\n",
      "image 227/277 /scratch/project_2006327/YOLOv8/datasets/2024_datasets/scenario_3/test_data/images/test/THW_097_5584.jpg: 640x640 6 Cs, 19.4ms\n",
      "image 228/277 /scratch/project_2006327/YOLOv8/datasets/2024_datasets/scenario_3/test_data/images/test/THW_097_5585.jpg: 640x640 4 Cs, 19.4ms\n",
      "image 229/277 /scratch/project_2006327/YOLOv8/datasets/2024_datasets/scenario_3/test_data/images/test/THW_097_8272.jpg: 640x640 1 C, 19.4ms\n",
      "image 230/277 /scratch/project_2006327/YOLOv8/datasets/2024_datasets/scenario_3/test_data/images/test/THW_097_8273.jpg: 640x640 12 Cs, 19.4ms\n",
      "image 231/277 /scratch/project_2006327/YOLOv8/datasets/2024_datasets/scenario_3/test_data/images/test/THW_097_8274.jpg: 640x640 14 Cs, 19.4ms\n",
      "image 232/277 /scratch/project_2006327/YOLOv8/datasets/2024_datasets/scenario_3/test_data/images/test/THW_097_8303.jpg: 640x640 3 Cs, 19.4ms\n",
      "image 233/277 /scratch/project_2006327/YOLOv8/datasets/2024_datasets/scenario_3/test_data/images/test/THW_097_8304.jpg: 640x640 22 Cs, 19.4ms\n",
      "image 234/277 /scratch/project_2006327/YOLOv8/datasets/2024_datasets/scenario_3/test_data/images/test/THW_097_8305.jpg: 640x640 16 Cs, 19.4ms\n",
      "image 235/277 /scratch/project_2006327/YOLOv8/datasets/2024_datasets/scenario_3/test_data/images/test/THW_097_8404.jpg: 640x640 8 Cs, 19.4ms\n",
      "image 236/277 /scratch/project_2006327/YOLOv8/datasets/2024_datasets/scenario_3/test_data/images/test/THW_097_8405.jpg: 640x640 14 Cs, 19.4ms\n",
      "image 237/277 /scratch/project_2006327/YOLOv8/datasets/2024_datasets/scenario_3/test_data/images/test/THW_097_8406.jpg: 640x640 2 Cs, 19.4ms\n",
      "image 238/277 /scratch/project_2006327/YOLOv8/datasets/2024_datasets/scenario_3/test_data/images/test/THW_097_8506.jpg: 640x640 5 Cs, 19.4ms\n",
      "image 239/277 /scratch/project_2006327/YOLOv8/datasets/2024_datasets/scenario_3/test_data/images/test/THW_097_8607.jpg: 640x640 13 Cs, 19.4ms\n",
      "image 240/277 /scratch/project_2006327/YOLOv8/datasets/2024_datasets/scenario_3/test_data/images/test/THW_097_9307.jpg: 640x640 1 C, 19.4ms\n",
      "image 241/277 /scratch/project_2006327/YOLOv8/datasets/2024_datasets/scenario_3/test_data/images/test/THW_097_9689.jpg: 640x640 7 Cs, 19.4ms\n",
      "image 242/277 /scratch/project_2006327/YOLOv8/datasets/2024_datasets/scenario_3/test_data/images/test/THW_113_10028.jpg: 640x640 17 Cs, 19.4ms\n",
      "image 243/277 /scratch/project_2006327/YOLOv8/datasets/2024_datasets/scenario_3/test_data/images/test/THW_113_4618.jpg: 640x640 7 Cs, 19.4ms\n",
      "image 244/277 /scratch/project_2006327/YOLOv8/datasets/2024_datasets/scenario_3/test_data/images/test/THW_113_4619.jpg: 640x640 2 Cs, 19.4ms\n",
      "image 245/277 /scratch/project_2006327/YOLOv8/datasets/2024_datasets/scenario_3/test_data/images/test/THW_113_4720.jpg: 640x640 1 C, 19.4ms\n",
      "image 246/277 /scratch/project_2006327/YOLOv8/datasets/2024_datasets/scenario_3/test_data/images/test/THW_113_4721.jpg: 640x640 1 C, 19.4ms\n",
      "image 247/277 /scratch/project_2006327/YOLOv8/datasets/2024_datasets/scenario_3/test_data/images/test/THW_113_5852.jpg: 640x640 6 Cs, 19.4ms\n",
      "image 248/277 /scratch/project_2006327/YOLOv8/datasets/2024_datasets/scenario_3/test_data/images/test/THW_113_5853.jpg: 640x640 11 Cs, 19.4ms\n",
      "image 249/277 /scratch/project_2006327/YOLOv8/datasets/2024_datasets/scenario_3/test_data/images/test/THW_113_5854.jpg: 640x640 1 C, 19.4ms\n",
      "image 250/277 /scratch/project_2006327/YOLOv8/datasets/2024_datasets/scenario_3/test_data/images/test/THW_113_5952.jpg: 640x640 12 Cs, 19.4ms\n",
      "image 251/277 /scratch/project_2006327/YOLOv8/datasets/2024_datasets/scenario_3/test_data/images/test/THW_113_5953.jpg: 640x640 13 Cs, 19.4ms\n",
      "image 252/277 /scratch/project_2006327/YOLOv8/datasets/2024_datasets/scenario_3/test_data/images/test/THW_113_5954.jpg: 640x640 6 Cs, 19.4ms\n",
      "image 253/277 /scratch/project_2006327/YOLOv8/datasets/2024_datasets/scenario_3/test_data/images/test/THW_113_5955.jpg: 640x640 4 Cs, 19.4ms\n",
      "image 254/277 /scratch/project_2006327/YOLOv8/datasets/2024_datasets/scenario_3/test_data/images/test/THW_113_5956.jpg: 640x640 2 Cs, 19.4ms\n",
      "image 255/277 /scratch/project_2006327/YOLOv8/datasets/2024_datasets/scenario_3/test_data/images/test/THW_113_6052.jpg: 640x640 2 Cs, 19.4ms\n",
      "image 256/277 /scratch/project_2006327/YOLOv8/datasets/2024_datasets/scenario_3/test_data/images/test/THW_113_6053.jpg: 640x640 12 Cs, 19.4ms\n",
      "image 257/277 /scratch/project_2006327/YOLOv8/datasets/2024_datasets/scenario_3/test_data/images/test/THW_113_6054.jpg: 640x640 3 Cs, 19.4ms\n",
      "image 258/277 /scratch/project_2006327/YOLOv8/datasets/2024_datasets/scenario_3/test_data/images/test/THW_113_6153.jpg: 640x640 8 Cs, 19.4ms\n",
      "image 259/277 /scratch/project_2006327/YOLOv8/datasets/2024_datasets/scenario_3/test_data/images/test/THW_113_6154.jpg: 640x640 10 Cs, 19.4ms\n",
      "image 260/277 /scratch/project_2006327/YOLOv8/datasets/2024_datasets/scenario_3/test_data/images/test/THW_113_6155.jpg: 640x640 4 Cs, 19.4ms\n",
      "image 261/277 /scratch/project_2006327/YOLOv8/datasets/2024_datasets/scenario_3/test_data/images/test/THW_113_6253.jpg: 640x640 5 Cs, 19.4ms\n",
      "image 262/277 /scratch/project_2006327/YOLOv8/datasets/2024_datasets/scenario_3/test_data/images/test/THW_113_6254.jpg: 640x640 4 Cs, 19.4ms\n",
      "image 263/277 /scratch/project_2006327/YOLOv8/datasets/2024_datasets/scenario_3/test_data/images/test/THW_113_6255.jpg: 640x640 4 Cs, 19.4ms\n",
      "image 264/277 /scratch/project_2006327/YOLOv8/datasets/2024_datasets/scenario_3/test_data/images/test/THW_113_6256.jpg: 640x640 3 Cs, 19.4ms\n",
      "image 265/277 /scratch/project_2006327/YOLOv8/datasets/2024_datasets/scenario_3/test_data/images/test/THW_113_6257.jpg: 640x640 1 C, 19.4ms\n",
      "image 266/277 /scratch/project_2006327/YOLOv8/datasets/2024_datasets/scenario_3/test_data/images/test/THW_113_6355.jpg: 640x640 4 Cs, 19.4ms\n",
      "image 267/277 /scratch/project_2006327/YOLOv8/datasets/2024_datasets/scenario_3/test_data/images/test/THW_113_6356.jpg: 640x640 2 Cs, 19.4ms\n",
      "image 268/277 /scratch/project_2006327/YOLOv8/datasets/2024_datasets/scenario_3/test_data/images/test/THW_113_6357.jpg: 640x640 2 Cs, 19.4ms\n",
      "image 269/277 /scratch/project_2006327/YOLOv8/datasets/2024_datasets/scenario_3/test_data/images/test/THW_113_9625.jpg: 640x640 3 Cs, 19.4ms\n",
      "image 270/277 /scratch/project_2006327/YOLOv8/datasets/2024_datasets/scenario_3/test_data/images/test/THW_120_8924.jpg: 640x640 5 Cs, 19.4ms\n",
      "image 271/277 /scratch/project_2006327/YOLOv8/datasets/2024_datasets/scenario_3/test_data/images/test/THW_120_8925.jpg: 640x640 3 Cs, 19.4ms\n",
      "image 272/277 /scratch/project_2006327/YOLOv8/datasets/2024_datasets/scenario_3/test_data/images/test/THW_120_9024.jpg: 640x640 2 Cs, 19.4ms\n",
      "image 273/277 /scratch/project_2006327/YOLOv8/datasets/2024_datasets/scenario_3/test_data/images/test/THW_120_9025.jpg: 640x640 21 Cs, 19.4ms\n",
      "image 274/277 /scratch/project_2006327/YOLOv8/datasets/2024_datasets/scenario_3/test_data/images/test/THW_120_9026.jpg: 640x640 21 Cs, 19.4ms\n",
      "image 275/277 /scratch/project_2006327/YOLOv8/datasets/2024_datasets/scenario_3/test_data/images/test/THW_120_9126.jpg: 640x640 18 Cs, 19.4ms\n",
      "image 276/277 /scratch/project_2006327/YOLOv8/datasets/2024_datasets/scenario_3/test_data/images/test/THW_120_9127.jpg: 640x640 10 Cs, 19.4ms\n",
      "image 277/277 /scratch/project_2006327/YOLOv8/datasets/2024_datasets/scenario_3/test_data/images/test/THW_120_9227.jpg: 640x640 1 C, 19.4ms\n",
      "Speed: 1.6ms preprocess, 19.5ms inference, 1.0ms postprocess per image at shape (1, 3, 640, 640)\n",
      "Results saved to \u001b[1minference/Combined_data_2024/count/xlarge\u001b[0m\n"
     ]
    }
   ],
   "source": [
    "!yolo predict model=runs/detect/train4/weights/best.pt source='/scratch/project_2006327/YOLOv8/datasets/2024_datasets/scenario_3/test_data/images/test' conf=0.25 iou=0.5 project=inference/Combined_data_2024/count name=xlarge show_labels=False line_width=1"
   ]
  },
  {
   "cell_type": "code",
   "execution_count": null,
   "id": "713e8afa-0035-4958-8f71-1fa743978d98",
   "metadata": {},
   "outputs": [],
   "source": []
  }
 ],
 "metadata": {
  "kernelspec": {
   "display_name": "Python 3 (ipykernel)",
   "language": "python",
   "name": "python3"
  },
  "language_info": {
   "codemirror_mode": {
    "name": "ipython",
    "version": 3
   },
   "file_extension": ".py",
   "mimetype": "text/x-python",
   "name": "python",
   "nbconvert_exporter": "python",
   "pygments_lexer": "ipython3",
   "version": "3.10.13"
  }
 },
 "nbformat": 4,
 "nbformat_minor": 5
}
